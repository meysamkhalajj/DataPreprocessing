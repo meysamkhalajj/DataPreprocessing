{
 "cells": [
  {
   "cell_type": "code",
   "execution_count": 153,
   "id": "initial_id",
   "metadata": {
    "collapsed": true,
    "ExecuteTime": {
     "end_time": "2024-01-01T17:01:35.037173500Z",
     "start_time": "2024-01-01T17:01:35.005925600Z"
    }
   },
   "outputs": [],
   "source": [
    "import os\n",
    "import shutil\n",
    "import pandas as pd\n",
    "import pyreadstat\n",
    "import numpy as np"
   ]
  },
  {
   "cell_type": "code",
   "execution_count": 154,
   "outputs": [],
   "source": [
    "data, meta = pyreadstat.read_sav('Dr.miratashi_3 copy.sav')"
   ],
   "metadata": {
    "collapsed": false,
    "ExecuteTime": {
     "end_time": "2024-01-01T17:01:35.254310900Z",
     "start_time": "2024-01-01T17:01:35.243990300Z"
    }
   },
   "id": "81a82c0a5d7bfb0a"
  },
  {
   "cell_type": "code",
   "execution_count": 155,
   "outputs": [],
   "source": [
    "def move_folders(folder_list, source_directory, destination_directory):\n",
    "    for folder_name in folder_list:\n",
    "        source_path = os.path.join(source_directory, folder_name)\n",
    "        destination_path = os.path.join(destination_directory, folder_name)\n",
    "        shutil.move(source_path, destination_path)\n",
    "        print(f\"Moved folder '{folder_name}' from '{source_directory}' to '{destination_directory}'\")"
   ],
   "metadata": {
    "collapsed": false,
    "ExecuteTime": {
     "end_time": "2024-01-01T17:01:35.460716600Z",
     "start_time": "2024-01-01T17:01:35.431608100Z"
    }
   },
   "id": "f1dfca7c2c9b73f3"
  },
  {
   "cell_type": "code",
   "execution_count": 156,
   "outputs": [],
   "source": [
    "def create_pid_folder(parent_directory, pid):\n",
    "    for folder_name in pid:\n",
    "        folder_path = os.path.join(parent_directory, str(folder_name))\n",
    "        os.makedirs(folder_path, exist_ok=True)\n",
    "\n",
    "        # Create the \"FGT\" and \"BPE\" sub folders within each folder\n",
    "        fgt_folder_path = os.path.join(folder_path, 'FGT')\n",
    "        bpe_folder_path = os.path.join(folder_path, 'BPE')\n",
    "        os.makedirs(fgt_folder_path, exist_ok=True)\n",
    "        os.makedirs(bpe_folder_path, exist_ok=True)"
   ],
   "metadata": {
    "collapsed": false,
    "ExecuteTime": {
     "end_time": "2024-01-01T17:01:35.651389400Z",
     "start_time": "2024-01-01T17:01:35.605290400Z"
    }
   },
   "id": "e0aaf0300051162c"
  },
  {
   "cell_type": "code",
   "execution_count": 157,
   "outputs": [],
   "source": [
    "def automated_copy(origin_directory, destination_directory, pid, fgt_idx, bpe_idx):\n",
    "    img_folder_names = []\n",
    "    for patient_id in pid:\n",
    "        dcm_directory = origin_directory + str(patient_id) + '/IMAGE/DCM/'\n",
    "        for i, (root, dirs, files) in enumerate(os.walk(dcm_directory)):\n",
    "            if i == 0:\n",
    "                img_folder_names.append(dcm_directory + str(dirs[i]))\n",
    "            \n",
    "    for i, patient_id in enumerate(pid):\n",
    "        start_fgt, end_fgt = fgt_idx[i]\n",
    "        start_bpe, end_bpe = bpe_idx[i]\n",
    "        destination_fgt_folder = destination_directory + str(patient_id) + '/FGT'\n",
    "        destination_bpe_folder = destination_directory + str(patient_id) + '/BPE'\n",
    "        for j in range(start_fgt, end_fgt+1):\n",
    "            if len(str(j)) == 4:\n",
    "                fgt_img_directory = img_folder_names[i] + '/I000' + str(j)\n",
    "            else:\n",
    "                fgt_img_directory = img_folder_names[i] + '/I0000' + str(j)\n",
    "            shutil.copy(fgt_img_directory, destination_fgt_folder)\n",
    "            \n",
    "        for j in range(start_bpe, end_bpe+1):\n",
    "            if len(str(j)) == 4:\n",
    "                bpe_img_directory = img_folder_names[i] + '/I000' + str(j)\n",
    "            else:\n",
    "                bpe_img_directory = img_folder_names[i] + '/I0000' + str(j)\n",
    "            shutil.copy(bpe_img_directory, destination_bpe_folder)"
   ],
   "metadata": {
    "collapsed": false,
    "ExecuteTime": {
     "end_time": "2024-01-01T17:01:35.828896100Z",
     "start_time": "2024-01-01T17:01:35.797637300Z"
    }
   },
   "id": "b3c92313820b328c"
  },
  {
   "cell_type": "code",
   "execution_count": 158,
   "outputs": [],
   "source": [
    "\n",
    "def get_folder_names(path, folders):\n",
    "    for entry in os.scandir(path):\n",
    "        if entry.is_dir():\n",
    "            folders.append(entry.name)\n",
    "    return folders\n",
    "\n"
   ],
   "metadata": {
    "collapsed": false,
    "ExecuteTime": {
     "end_time": "2024-01-01T17:01:36.168051100Z",
     "start_time": "2024-01-01T17:01:36.129889200Z"
    }
   },
   "id": "17b792ac5d4014e3"
  },
  {
   "cell_type": "markdown",
   "source": [
    "# Data Preprocessing\n",
    "## Step 1\n",
    "### At this step, we get the unique patient IDs and remove data with multiple diagnosis."
   ],
   "metadata": {
    "collapsed": false
   },
   "id": "bec405a5da641e0d"
  },
  {
   "cell_type": "code",
   "execution_count": 159,
   "outputs": [],
   "source": [
    "folder_names = []\n",
    "\n",
    "mpath = 'E:/Breast Data/Breast/'\n",
    "folder_names = get_folder_names(mpath, folder_names)\n",
    "\n",
    "mpath = 'E:/Breast Data/breast newNAC'\n",
    "folder_names = get_folder_names(mpath, folder_names)\n",
    "\n",
    "mpath = 'H:/Breast MRI/01/sps'\n",
    "folder_names = get_folder_names(mpath, folder_names)\n",
    "\n",
    "mpath = 'H:/Breast MRI/02/sps'\n",
    "folder_names = get_folder_names(mpath, folder_names)\n",
    "\n",
    "mpath = 'H:/Breast MRI/03/breast new'\n",
    "folder_names = get_folder_names(mpath, folder_names)\n",
    "\n",
    "mpath = 'H:/Breast MRI/03/breast new 2'\n",
    "folder_names = get_folder_names(mpath, folder_names)\n",
    "\n",
    "mpath = 'H:/Breast MRI/03/nac'\n",
    "folder_names = get_folder_names(mpath, folder_names)\n",
    "\n",
    "mpath = 'H:/Breast MRI/03/sps'\n",
    "folder_names = get_folder_names(mpath, folder_names)\n",
    "\n",
    "mpath = 'G:/Breast Data/nac'\n",
    "folder_names = get_folder_names(mpath, folder_names)\n",
    "\n",
    "mpath = 'G:/Breast Data/sps'\n",
    "folder_names = get_folder_names(mpath, folder_names)\n"
   ],
   "metadata": {
    "collapsed": false,
    "ExecuteTime": {
     "end_time": "2024-01-01T17:01:40.478096600Z",
     "start_time": "2024-01-01T17:01:36.932840600Z"
    }
   },
   "id": "a2bd7b3aa7b7f533"
  },
  {
   "cell_type": "code",
   "execution_count": 160,
   "outputs": [],
   "source": [
    "folder_names = np.array(folder_names)"
   ],
   "metadata": {
    "collapsed": false,
    "ExecuteTime": {
     "end_time": "2024-01-01T17:01:40.494007800Z",
     "start_time": "2024-01-01T17:01:40.478096600Z"
    }
   },
   "id": "657c92de5f37174"
  },
  {
   "cell_type": "code",
   "execution_count": 161,
   "outputs": [],
   "source": [
    "folder_names_unique = np.unique(folder_names)"
   ],
   "metadata": {
    "collapsed": false,
    "ExecuteTime": {
     "end_time": "2024-01-01T17:01:40.557868800Z",
     "start_time": "2024-01-01T17:01:40.498028500Z"
    }
   },
   "id": "1d93d1f3a3b3311b"
  },
  {
   "cell_type": "code",
   "execution_count": 162,
   "outputs": [],
   "source": [
    "data_codes = np.array(data.code)\n",
    "data_codes_unique = np.unique(data_codes)"
   ],
   "metadata": {
    "collapsed": false,
    "ExecuteTime": {
     "end_time": "2024-01-01T17:01:40.557868800Z",
     "start_time": "2024-01-01T17:01:40.510062400Z"
    }
   },
   "id": "5723b805ae0df294"
  },
  {
   "cell_type": "code",
   "execution_count": 163,
   "outputs": [],
   "source": [
    "same_codes_unique = []\n",
    "for i in folder_names_unique:\n",
    "    if i in data_codes_unique:\n",
    "        same_codes_unique.append(i)\n",
    "        \n",
    "same_codes_unique = np.array(same_codes_unique)"
   ],
   "metadata": {
    "collapsed": false,
    "ExecuteTime": {
     "end_time": "2024-01-01T17:01:40.557868800Z",
     "start_time": "2024-01-01T17:01:40.528202600Z"
    }
   },
   "id": "c0eb0a1434b60506"
  },
  {
   "cell_type": "code",
   "execution_count": 164,
   "outputs": [],
   "source": [
    "not_in_dataset = []\n",
    "for i in data_codes_unique:\n",
    "    if i not in same_codes_unique:\n",
    "        not_in_dataset.append(i)\n",
    "\n",
    "not_in_dataset_unique = np.unique(np.array(not_in_dataset))"
   ],
   "metadata": {
    "collapsed": false,
    "ExecuteTime": {
     "end_time": "2024-01-01T17:01:40.605256500Z",
     "start_time": "2024-01-01T17:01:40.543754100Z"
    }
   },
   "id": "2856d69c16837c23"
  },
  {
   "cell_type": "code",
   "execution_count": 165,
   "outputs": [],
   "source": [
    "same_codes_unique_mdd_removed = []\n",
    "for i in same_codes_unique:\n",
    "    if np.array(data[data.code == i].FG).shape[0] > 1:\n",
    "        fg_i = np.array(data[data.code == i].FG)\n",
    "        bpe_i = np.array(data[data.code == i].BPE)\n",
    "        if np.all(fg_i==fg_i[0]) and np.all(bpe_i==bpe_i[0]):\n",
    "            same_codes_unique_mdd_removed.append(i)\n",
    "    else:\n",
    "        same_codes_unique_mdd_removed.append(i)"
   ],
   "metadata": {
    "collapsed": false,
    "ExecuteTime": {
     "end_time": "2024-01-01T17:01:40.683413500Z",
     "start_time": "2024-01-01T17:01:40.557868800Z"
    }
   },
   "id": "caadb43a2071fb3d"
  },
  {
   "cell_type": "code",
   "execution_count": 166,
   "outputs": [],
   "source": [
    "not_in_dataset_unique_mdd_removed = []\n",
    "for i in not_in_dataset_unique:\n",
    "    if np.array(data[data.code == i].FG).shape[0] > 1:\n",
    "        fg_i = np.array(data[data.code == i].FG)\n",
    "        bpe_i = np.array(data[data.code == i].BPE)\n",
    "        if np.all(fg_i==fg_i[0]) and np.all(bpe_i==bpe_i[0]):\n",
    "            not_in_dataset_unique_mdd_removed.append(i)\n",
    "    else:\n",
    "        not_in_dataset_unique_mdd_removed.append(i)\n",
    "        "
   ],
   "metadata": {
    "collapsed": false,
    "ExecuteTime": {
     "end_time": "2024-01-01T17:01:40.903996900Z",
     "start_time": "2024-01-01T17:01:40.683413500Z"
    }
   },
   "id": "a3dd3c158469a49a"
  },
  {
   "cell_type": "code",
   "execution_count": 167,
   "outputs": [],
   "source": [
    "all_ok_data = same_codes_unique_mdd_removed + not_in_dataset_unique_mdd_removed"
   ],
   "metadata": {
    "collapsed": false,
    "ExecuteTime": {
     "end_time": "2024-01-01T17:01:40.920093800Z",
     "start_time": "2024-01-01T17:01:40.903996900Z"
    }
   },
   "id": "56186240dbf4c6dc"
  },
  {
   "cell_type": "code",
   "execution_count": 168,
   "outputs": [
    {
     "data": {
      "text/plain": "1146"
     },
     "execution_count": 168,
     "metadata": {},
     "output_type": "execute_result"
    }
   ],
   "source": [
    "len(all_ok_data)"
   ],
   "metadata": {
    "collapsed": false,
    "ExecuteTime": {
     "end_time": "2024-01-01T17:01:41.046020700Z",
     "start_time": "2024-01-01T17:01:40.920093800Z"
    }
   },
   "id": "29ec7ac755b2bcec"
  },
  {
   "cell_type": "markdown",
   "source": [
    "# Part 1"
   ],
   "metadata": {
    "collapsed": false
   },
   "id": "905b64073df0943d"
  },
  {
   "cell_type": "code",
   "execution_count": 169,
   "outputs": [],
   "source": [
    "mpath = 'H:/Breast MRI/01/sps'\n",
    "folder_names_part1 = []\n",
    "folder_names_part1 = get_folder_names(mpath, folder_names_part1)"
   ],
   "metadata": {
    "collapsed": false,
    "ExecuteTime": {
     "end_time": "2024-01-01T17:01:41.046020700Z",
     "start_time": "2024-01-01T17:01:40.936082100Z"
    }
   },
   "id": "4fb8a431cc68c4a1"
  },
  {
   "cell_type": "code",
   "execution_count": 170,
   "outputs": [],
   "source": [
    "for name in folder_names_part1:\n",
    "    if name not in all_ok_data:\n",
    "        print(name)"
   ],
   "metadata": {
    "collapsed": false,
    "ExecuteTime": {
     "end_time": "2024-01-01T17:01:41.061657900Z",
     "start_time": "2024-01-01T17:01:40.951714700Z"
    }
   },
   "id": "4fdc2837b03bf201"
  },
  {
   "cell_type": "code",
   "execution_count": 171,
   "outputs": [],
   "source": [
    "no_data_cases = ['9222704', '9999465', '8881092', '11258955', '11843612']"
   ],
   "metadata": {
    "collapsed": false,
    "ExecuteTime": {
     "end_time": "2024-01-01T17:01:41.077281600Z",
     "start_time": "2024-01-01T17:01:40.972451600Z"
    }
   },
   "id": "5da90887b38a1c7"
  },
  {
   "cell_type": "code",
   "execution_count": 172,
   "outputs": [
    {
     "data": {
      "text/plain": "1146"
     },
     "execution_count": 172,
     "metadata": {},
     "output_type": "execute_result"
    }
   ],
   "source": [
    "len(all_ok_data)"
   ],
   "metadata": {
    "collapsed": false,
    "ExecuteTime": {
     "end_time": "2024-01-01T17:01:41.077281600Z",
     "start_time": "2024-01-01T17:01:40.988624700Z"
    }
   },
   "id": "a814f78e85789e4f"
  },
  {
   "cell_type": "code",
   "execution_count": 173,
   "outputs": [],
   "source": [
    "for pid in no_data_cases:\n",
    "    if pid in all_ok_data:\n",
    "        all_ok_data.remove(pid)"
   ],
   "metadata": {
    "collapsed": false,
    "ExecuteTime": {
     "end_time": "2024-01-01T17:01:41.234434900Z",
     "start_time": "2024-01-01T17:01:41.171616100Z"
    }
   },
   "id": "251b549d430d09f6"
  },
  {
   "cell_type": "code",
   "execution_count": 174,
   "outputs": [
    {
     "data": {
      "text/plain": "1142"
     },
     "execution_count": 174,
     "metadata": {},
     "output_type": "execute_result"
    }
   ],
   "source": [
    "len(all_ok_data)"
   ],
   "metadata": {
    "collapsed": false,
    "ExecuteTime": {
     "end_time": "2024-01-01T17:01:41.359734100Z",
     "start_time": "2024-01-01T17:01:41.299844Z"
    }
   },
   "id": "8353b875528a5e60"
  },
  {
   "cell_type": "code",
   "execution_count": 175,
   "outputs": [],
   "source": [
    "# Origin and destination directory\n",
    "d_directory = 'E:/Selected Data/'\n",
    "o_directory = 'H:/Breast MRI/01/sps'"
   ],
   "metadata": {
    "collapsed": false,
    "ExecuteTime": {
     "end_time": "2024-01-01T17:01:41.611167600Z",
     "start_time": "2024-01-01T17:01:41.581436500Z"
    }
   },
   "id": "2be5b8c04f7e55d"
  },
  {
   "cell_type": "code",
   "execution_count": 176,
   "outputs": [],
   "source": [
    "patients_ids_1 = [8860408, 8861603, 8861971, 8866708, 8889836, 8915593, 8915632, 8926218, 8934757, 8935156, 8939476, 8977117,\n",
    "                  9008081, 9017845, 9108321, 9162757, 9170060, 9173422, 9174037, 9182263, 9221819, 9239385, 9246035, 9354593,\n",
    "                  9362401, 9363679, 9410575, 9459081, 9459302, 9459663, 9471658, 9471667, 9471756, 9471997, 9474758, 9484852,\n",
    "                  9484938, 9486031, 9486352, 9492065, 9512135, 9535197, 9535278, 9535434, 9559948, 9571865, 9577964, 9578077,\n",
    "                  9638156, 9638749, 9646672, 9647040, 9649691, 9658124, 9661700, 9670311, 9670327, 9673120, 9673179, 9673778,\n",
    "                  9674633, 9680775, 9680867, 9700791, 9701051, 9718836, 9726839, 9727663, 9739752, 9757971, 9773985, 9852342,\n",
    "                  9900364, 9906687, 9906752, 9910509, 9918129, 9918268, 9918324, 9920466, 9924862, 9926215, 9929361, 9929533,\n",
    "                  9930243, 9953872, 9953955, 9954110, 9966610, 9970531, 9971081, 9975377, 9975397, 9985427, 9991646, 9994490,\n",
    "                  9997801, 9997958, 9998057, 10006533, 10007023, 10007991, 10010860, 10018165, 10030277, 10032605, 10032779,\n",
    "                  10045260, 11201493, 11201533, 11205832, 11208303, 11211696, 11218656, 11224788, 11231020, 11237684, 11239822,\n",
    "                  11244816, 11247503, 11254075, 11256378, 11264398, 11272908, 11273475, 11286927, 11290544, 11299936, 11301332,\n",
    "                  11306141, 11331505, 11333648, 11333741, 11338126, 11338192, 11342837, 11344516, 11348359, 11348891, 11351690,\n",
    "                  11352729, 11355812, 11356851, 11358818, 11366628, 11366836, 11367575, 11369417, 11369686, 11371493, 11372703,\n",
    "                  11375497, 11377087, 11379700, 11384586, 11385160, 11387992, 11388246, 11389044, 11390408, 11391724, 11393372,\n",
    "                  11396654, 11572209, 11573971, 11582084, 11582317, 11585576, 11589250, 11840108, 11842798, 11842875, 11846812,\n",
    "                  11850448, 11851264, 11863836, 11879754, 11881596, 11884718, 11885867, 11887918, 11894552, 11899869, 11900471,\n",
    "                  11900937, 11903746, 11913796, 11913939, 11915334, 11917076, 11917317]"
   ],
   "metadata": {
    "collapsed": false,
    "ExecuteTime": {
     "end_time": "2024-01-01T17:01:41.930351700Z",
     "start_time": "2024-01-01T17:01:41.885055600Z"
    }
   },
   "id": "7992eb96137a4a90"
  },
  {
   "cell_type": "code",
   "execution_count": 177,
   "outputs": [],
   "source": [
    "fgt_1 = [(300, 451), (373, 458), (558, 685), (396, 481), (536, 621), (379, 550), (434, 517), (335, 478), (582, 661), (587, 662),\n",
    "         (303, 454), (348, 523), (533, 618), (365, 440), (514, 599), (335, 510), (405, 548), (589, 674), (505, 590), (348, 499),\n",
    "         (521, 606), (387, 542), (407, 492), (554, 639), (365, 450), (365, 450), (432, 513), (490, 567), (371, 442), (464, 549),\n",
    "         (365, 524), (365, 528), (422, 573), (338, 485), (591, 676), (493, 668), (393, 560), (432, 587), (595, 758), (325, 448),\n",
    "         (365, 528), (365, 438), (302, 367), (365, 430), (365, 438), (501, 586), (569, 654), (529, 614), (277, 356), (277, 352),\n",
    "         (281, 366), (249, 314), (490, 575), (420, 505), (277, 352), (536, 679), (277, 352), (421, 506), (474, 559), (439, 524), \n",
    "         (441, 526), (471, 560), (315, 406), (449, 536), (421, 510), (466, 551), (332, 499), (269, 354), (483, 518), (479, 650), \n",
    "         (461, 546), (435, 520), (552, 735), (431, 518), (443, 530), (423, 586), (402, 545), (485, 628), (380, 523), (430, 515), \n",
    "         (496, 671), (597, 800), (385, 464), (451, 540), (299, 384), (313, 404), (315, 402), (317, 404), (435, 520), (448, 639), \n",
    "         (612, 771), (439, 526), (517, 602), (500, 585), (405, 490), (555, 640), (426, 513), (297, 382), (277, 350), (506, 649), \n",
    "         (464, 549), (454, 539), (455, 598), (471, 556), (435, 598), (407, 554), (426, 577), (299, 384), (467, 662), (421, 612), \n",
    "         (376, 551), (258, 343), (275, 450), (429, 620), (337, 512), (500, 675), (350, 525), (396, 575), (406, 581), (405, 490), \n",
    "         (380, 555), (413, 604), (393, 568), (417, 592), (383, 558), (423, 508), (404, 579), (417, 640), (461, 604), (402, 577), \n",
    "         (286, 461), (359, 534), (587, 762), (399, 574), (385, 560), (420, 607), (370, 545), (417, 502), (405, 490), (395, 570), \n",
    "         (552, 727), (363, 538), (567, 718), (369, 544), (407, 582), (415, 602), (393, 568), (426, 601), (385, 560), (389, 564), \n",
    "         (344, 519), (355, 530), (428, 619), (561, 756), (397, 572), (670, 857), (402, 577), (356, 519), (412, 591), (366, 541),\n",
    "         (366, 541), (343, 518), (383, 554), (394, 585), (414, 593), (412, 587), (423, 618), (453, 628), (359, 534), (451, 626),\n",
    "         (390, 565), (439, 614), (385, 576), (312, 475), (497, 672), (434, 625), (410, 585), (946, 1145), (904, 1095), (868, 1059),\n",
    "         (347, 522), (314, 489), (387, 562), (395, 570), (348, 523), (396, 587), (380, 559), (588, 803), (301, 460), (593, 772),\n",
    "         (384, 559)]"
   ],
   "metadata": {
    "collapsed": false,
    "ExecuteTime": {
     "end_time": "2024-01-01T17:01:42.266071200Z",
     "start_time": "2024-01-01T17:01:42.218724Z"
    }
   },
   "id": "438f0eb238a3205f"
  },
  {
   "cell_type": "code",
   "execution_count": 178,
   "outputs": [],
   "source": [
    "bpe_1 = [(1060, 1211), (920, 1005), (2589, 2716), (914, 999), (1162, 1247), (1615, 1786), (1042, 1125), (1235, 1378), (1054, 1133),\n",
    "         (1035, 1110), (1243, 1394), (1408, 1583), (1071, 1156), (813, 888), (1022, 1107), (1395, 1570), (1349, 1492), (1157, 1242),\n",
    "         (1061, 1146), (1288, 1439), (1047, 1132), (1323, 1478), (925, 1010), (1080, 1165), (886, 971), (915, 1000), (928, 1009),\n",
    "         (978, 1055), (820, 891), (980, 1065), (1233, 1392), (1253, 1416), (1252, 1403), (1146, 1293), (1141, 1226), (1441, 1616),\n",
    "         (1301, 1468), (1280, 1435), (1699, 1862), (1225, 1348), (1253, 1416), (803, 876), (700, 765), (763, 828), (803, 876),\n",
    "         (1007, 1092), (1107, 1192), (1063, 1148), (769, 848), (749, 824), (803, 888), (671, 736), (1032, 1117), (954, 1039),\n",
    "         (749, 824), (2267, 2410), (749, 824), (959, 1044), (1012, 1097), (977, 1062), (979, 1064), (1025, 1114), (889, 980), \n",
    "         (1002, 1089), (978, 1067), (1015, 1100), (1238, 1405), (783, 868), (1203, 1288), (2382, 2553), (1126, 1211), (969, 1054), \n",
    "         (1872, 2055), (984, 1071), (990, 1077), (1423, 1586), (1278, 1421), (1373, 1516), (1256, 1399), (1228, 1313), (1768, 1943), \n",
    "         (2001, 2204), (869, 948), (1011, 1100), (849, 934), (880, 971), (868, 955), (871, 958), (957, 1042), (1816, 2007), \n",
    "         (2760, 2919), (971, 1058), (1150, 1235), (1155, 1240), (927, 1012), (1227, 1312), (1065, 1152), (834, 919), (754, 827), \n",
    "         (1226, 1369), (1161, 1246), (1107, 1192), (1487, 1630), (1108, 1193), (1411, 1574), (1303, 1450), (1342, 1493), (845, 930), \n",
    "         (1859, 2054), (1813, 2004), (1648, 1823), (792, 877), (1511, 1686), (1833, 2024), (1579, 1754), (1736, 1911), (1610, 1785), \n",
    "         (1716, 1895), (1646, 1821), (936, 1021), (1616, 1791), (1793, 1984), (1635, 1810), (1725, 1900), (1643, 1818), (957, 1042), \n",
    "         (1820, 1995), (2723, 2946), (1337, 1480), (1746, 1921), (1522, 1697), (1667, 1842), (1859, 2034), (1671, 1846), (1657, 1832), \n",
    "         (1788, 1975), (1610, 1785), (948, 1033), (939, 1024), (1631, 1806), (1788, 1963), (1683, 1858), (1327, 1478), (1605, 1780), \n",
    "         (1651, 1826), (1731, 1918), (1635, 1810), (1914, 2089), (1657, 1832), (1673, 1848), (1580, 1755), (1651, 1826), (1820, 2011),\n",
    "         (1977, 2172), (1653, 1828), (2640, 2827), (1638, 1813), (1520, 1683), (1708, 1887), (1602, 1777), (1602, 1777), (1603, 1778),\n",
    "         (1595, 1766), (1762, 1953), (1746, 1925), (1684, 1859), (1803, 1998), (1689, 1864), (1667, 1842), (1687, 1862), (1630, 1805),\n",
    "         (1681, 1856), (1753, 1944), (1464, 1627), (1733, 1908), (1814, 2005), (1652, 1827), (2580, 2779), (2464, 2655), (2408, 2599),\n",
    "         (1583, 1758), (1370, 1545), (1631, 1806), (1639, 1814), (1590, 1765), (1752, 1943), (2290, 2469), (2842, 3057), (1441, 1600),\n",
    "         (1861, 2040), (1626, 1801)]"
   ],
   "metadata": {
    "collapsed": false,
    "ExecuteTime": {
     "end_time": "2024-01-01T17:01:42.590576100Z",
     "start_time": "2024-01-01T17:01:42.543594100Z"
    }
   },
   "id": "410c08141963bf9a"
  },
  {
   "cell_type": "code",
   "execution_count": 179,
   "outputs": [],
   "source": [
    "# create_pid_folder(d_directory, patients_ids_1)"
   ],
   "metadata": {
    "collapsed": false,
    "ExecuteTime": {
     "end_time": "2024-01-01T17:01:42.803094Z",
     "start_time": "2024-01-01T17:01:42.782955200Z"
    }
   },
   "id": "33faacfbd79fb18"
  },
  {
   "cell_type": "code",
   "execution_count": 180,
   "outputs": [],
   "source": [
    "# automated_copy(o_directory, d_directory, patients_ids_1, fgt_1, bpe_1)"
   ],
   "metadata": {
    "collapsed": false,
    "ExecuteTime": {
     "end_time": "2024-01-01T17:01:43.161785600Z",
     "start_time": "2024-01-01T17:01:43.114900600Z"
    }
   },
   "id": "3b2d41434d5d6b1c"
  },
  {
   "cell_type": "markdown",
   "source": [
    "# Part 2"
   ],
   "metadata": {
    "collapsed": false
   },
   "id": "a59f899f36f1a42c"
  },
  {
   "cell_type": "code",
   "execution_count": 181,
   "outputs": [],
   "source": [
    "mpath = 'H:/Breast MRI/02/sps'\n",
    "folder_names_part2 = []\n",
    "folder_names_part2 = get_folder_names(mpath, folder_names_part2)"
   ],
   "metadata": {
    "collapsed": false,
    "ExecuteTime": {
     "end_time": "2024-01-01T17:01:43.628071400Z",
     "start_time": "2024-01-01T17:01:43.619241500Z"
    }
   },
   "id": "fc6ee1c6aea660e9"
  },
  {
   "cell_type": "code",
   "execution_count": 182,
   "outputs": [],
   "source": [
    "for name in folder_names_part2:\n",
    "    if name not in all_ok_data:\n",
    "        print(name)"
   ],
   "metadata": {
    "collapsed": false,
    "ExecuteTime": {
     "end_time": "2024-01-01T17:01:43.919407Z",
     "start_time": "2024-01-01T17:01:43.856018400Z"
    }
   },
   "id": "530079b08755575"
  },
  {
   "cell_type": "code",
   "execution_count": 183,
   "outputs": [],
   "source": [
    "no_data_cases = ['1191379', '8368349', '8832712', '8145891', '8302127', '8305735', '8414121', '8675439', '8675610', '8682515']"
   ],
   "metadata": {
    "collapsed": false,
    "ExecuteTime": {
     "end_time": "2024-01-01T17:01:44.142239500Z",
     "start_time": "2024-01-01T17:01:44.090848600Z"
    }
   },
   "id": "b221377d332609cf"
  },
  {
   "cell_type": "code",
   "execution_count": 184,
   "outputs": [
    {
     "data": {
      "text/plain": "1142"
     },
     "execution_count": 184,
     "metadata": {},
     "output_type": "execute_result"
    }
   ],
   "source": [
    "len(all_ok_data)"
   ],
   "metadata": {
    "collapsed": false,
    "ExecuteTime": {
     "end_time": "2024-01-01T17:01:44.267993500Z",
     "start_time": "2024-01-01T17:01:44.242355200Z"
    }
   },
   "id": "a7b279812a62e763"
  },
  {
   "cell_type": "code",
   "execution_count": 185,
   "outputs": [],
   "source": [
    "for pid in no_data_cases:\n",
    "    if pid in all_ok_data:\n",
    "        all_ok_data.remove(pid)"
   ],
   "metadata": {
    "collapsed": false,
    "ExecuteTime": {
     "end_time": "2024-01-01T17:01:44.461615400Z",
     "start_time": "2024-01-01T17:01:44.439473800Z"
    }
   },
   "id": "eb8ea3f9925d1a9f"
  },
  {
   "cell_type": "code",
   "execution_count": 186,
   "outputs": [
    {
     "data": {
      "text/plain": "1135"
     },
     "execution_count": 186,
     "metadata": {},
     "output_type": "execute_result"
    }
   ],
   "source": [
    "len(all_ok_data)"
   ],
   "metadata": {
    "collapsed": false,
    "ExecuteTime": {
     "end_time": "2024-01-01T17:01:44.700481600Z",
     "start_time": "2024-01-01T17:01:44.669117300Z"
    }
   },
   "id": "580b5d3df0435f0a"
  },
  {
   "cell_type": "code",
   "execution_count": 187,
   "outputs": [],
   "source": [
    "# Origin and destination directory\n",
    "d_directory = 'E:/Selected Data/'\n",
    "o_directory = 'H:/Breast MRI/02/sps'"
   ],
   "metadata": {
    "collapsed": false,
    "ExecuteTime": {
     "end_time": "2024-01-01T17:01:44.942412800Z",
     "start_time": "2024-01-01T17:01:44.926764Z"
    }
   },
   "id": "3bc74445e4743cde"
  },
  {
   "cell_type": "code",
   "execution_count": 188,
   "outputs": [],
   "source": [
    "patients_ids_2 = [969995, 1568016, 8647484, 8668594, 8668972, 8838792, 8844951, 8845106, 8859611]"
   ],
   "metadata": {
    "collapsed": false,
    "ExecuteTime": {
     "end_time": "2024-01-01T17:01:45.144875Z",
     "start_time": "2024-01-01T17:01:45.137261700Z"
    }
   },
   "id": "d3de6b666ebb84cd"
  },
  {
   "cell_type": "code",
   "execution_count": 189,
   "outputs": [],
   "source": [
    "fgt_2 = [(413, 498), (405, 490), (315, 478), (374, 549), (348, 523), (382, 533), (385, 560), (303, 466), (481, 566)]"
   ],
   "metadata": {
    "collapsed": false,
    "ExecuteTime": {
     "end_time": "2024-01-01T17:01:45.348714400Z",
     "start_time": "2024-01-01T17:01:45.322468700Z"
    }
   },
   "id": "dcca052a79cd64e4"
  },
  {
   "cell_type": "code",
   "execution_count": 190,
   "outputs": [],
   "source": [
    "bpe_2 = [(953, 1038), (957, 1042), (1135, 1298), (1434, 1609), (1408, 1583), (1322, 1473), (1445, 1620), (1303, 1466), (1123, 1208)]"
   ],
   "metadata": {
    "collapsed": false,
    "ExecuteTime": {
     "end_time": "2024-01-01T17:01:45.554565800Z",
     "start_time": "2024-01-01T17:01:45.523202800Z"
    }
   },
   "id": "9a4a66056f686717"
  },
  {
   "cell_type": "code",
   "execution_count": 191,
   "outputs": [],
   "source": [
    "# create_pid_folder(d_directory, patients_ids_2)"
   ],
   "metadata": {
    "collapsed": false,
    "ExecuteTime": {
     "end_time": "2024-01-01T17:01:45.740102500Z",
     "start_time": "2024-01-01T17:01:45.723822100Z"
    }
   },
   "id": "4d64c2d12b31cb5"
  },
  {
   "cell_type": "code",
   "execution_count": 192,
   "outputs": [],
   "source": [
    "# automated_copy(o_directory, d_directory, patients_ids_2, fgt_2, bpe_2)"
   ],
   "metadata": {
    "collapsed": false,
    "ExecuteTime": {
     "end_time": "2024-01-01T17:01:45.986819Z",
     "start_time": "2024-01-01T17:01:45.925790400Z"
    }
   },
   "id": "3827b11d96af4cf9"
  },
  {
   "cell_type": "markdown",
   "source": [
    "# Part 3"
   ],
   "metadata": {
    "collapsed": false
   },
   "id": "c9899c9d18bc8eba"
  },
  {
   "cell_type": "code",
   "execution_count": 193,
   "outputs": [],
   "source": [
    "mpath = 'H:/Breast MRI/03/breast new'\n",
    "folder_names_part3 = []\n",
    "folder_names_part3 = get_folder_names(mpath, folder_names_part3)"
   ],
   "metadata": {
    "collapsed": false,
    "ExecuteTime": {
     "end_time": "2024-01-01T17:01:46.309311100Z",
     "start_time": "2024-01-01T17:01:46.271591500Z"
    }
   },
   "id": "b935210b20429ecd"
  },
  {
   "cell_type": "code",
   "execution_count": 194,
   "outputs": [],
   "source": [
    "for name in folder_names_part3:\n",
    "    if name not in all_ok_data:\n",
    "        print(name)"
   ],
   "metadata": {
    "collapsed": false,
    "ExecuteTime": {
     "end_time": "2024-01-01T17:01:46.482921700Z",
     "start_time": "2024-01-01T17:01:46.453674900Z"
    }
   },
   "id": "5523be3b9a34f0e5"
  },
  {
   "cell_type": "code",
   "execution_count": 195,
   "outputs": [],
   "source": [
    "no_data_cases = []"
   ],
   "metadata": {
    "collapsed": false,
    "ExecuteTime": {
     "end_time": "2024-01-01T17:01:46.691684400Z",
     "start_time": "2024-01-01T17:01:46.663481600Z"
    }
   },
   "id": "492ab73de4c93fd3"
  },
  {
   "cell_type": "code",
   "execution_count": 196,
   "outputs": [
    {
     "data": {
      "text/plain": "1135"
     },
     "execution_count": 196,
     "metadata": {},
     "output_type": "execute_result"
    }
   ],
   "source": [
    "len(all_ok_data)"
   ],
   "metadata": {
    "collapsed": false,
    "ExecuteTime": {
     "end_time": "2024-01-01T17:01:46.926787200Z",
     "start_time": "2024-01-01T17:01:46.848129700Z"
    }
   },
   "id": "32c67eead5c53698"
  },
  {
   "cell_type": "code",
   "execution_count": 197,
   "outputs": [],
   "source": [
    "for pid in no_data_cases:\n",
    "    if pid in all_ok_data:\n",
    "        all_ok_data.remove(pid)"
   ],
   "metadata": {
    "collapsed": false,
    "ExecuteTime": {
     "end_time": "2024-01-01T17:01:47.036536500Z",
     "start_time": "2024-01-01T17:01:47.013886800Z"
    }
   },
   "id": "c57df039747f047"
  },
  {
   "cell_type": "code",
   "execution_count": 198,
   "outputs": [
    {
     "data": {
      "text/plain": "1135"
     },
     "execution_count": 198,
     "metadata": {},
     "output_type": "execute_result"
    }
   ],
   "source": [
    "len(all_ok_data)"
   ],
   "metadata": {
    "collapsed": false,
    "ExecuteTime": {
     "end_time": "2024-01-01T17:01:47.216013500Z",
     "start_time": "2024-01-01T17:01:47.184377900Z"
    }
   },
   "id": "7d82ee2c23359931"
  },
  {
   "cell_type": "code",
   "execution_count": 199,
   "outputs": [],
   "source": [
    "# Origin and destination directory\n",
    "d_directory = 'E:/Selected Data/'\n",
    "o_directory = 'H:/Breast MRI/03/breast new'"
   ],
   "metadata": {
    "collapsed": false,
    "ExecuteTime": {
     "end_time": "2024-01-01T17:01:47.436413100Z",
     "start_time": "2024-01-01T17:01:47.389141800Z"
    }
   },
   "id": "d7888f235b484f49"
  },
  {
   "cell_type": "code",
   "execution_count": 200,
   "outputs": [],
   "source": [
    "patients_ids_3 = [9947622, 9971081, 10006533, 10500639, 10506817, 10507162, 10509355, 10520523, 10532430, 10540595,\n",
    "                  10553401, 10554186, 10561171, 10581017, 10591458, 10632327, 10716690, 10718503, 10723940, 10738155,\n",
    "                  10743894, 10756274, 10773065, 10791568, 10812027]"
   ],
   "metadata": {
    "collapsed": false,
    "ExecuteTime": {
     "end_time": "2024-01-01T17:01:47.594241700Z",
     "start_time": "2024-01-01T17:01:47.574680600Z"
    }
   },
   "id": "81d6c290da940c0d"
  },
  {
   "cell_type": "code",
   "execution_count": 201,
   "outputs": [],
   "source": [
    "fgt_3 = [(333, 500), (612, 771), (506, 649), (881, 1072), (982, 1173), (1287, 1478), (1017, 1208), (1190, 1389), (1033, 1224), (991, 1182), \n",
    "         (1052, 1243), (1160, 1351), (978, 1169), (879, 1038), (1027, 1218), (1224, 1415), (974, 1153), (1694, 1885), (498, 641), (1134, 1325), \n",
    "         (1155, 1346), (1174, 1365), (1174, 1365), (1250, 1441), (1181, 1372)]"
   ],
   "metadata": {
    "collapsed": false,
    "ExecuteTime": {
     "end_time": "2024-01-01T17:01:47.784065700Z",
     "start_time": "2024-01-01T17:01:47.756924500Z"
    }
   },
   "id": "313403339b7b95c8"
  },
  {
   "cell_type": "code",
   "execution_count": 202,
   "outputs": [],
   "source": [
    "bpe_3 = [(1999, 2166), (2760, 2919), (1226, 1369), (2225, 2416), (2356, 2547), (3133, 3324), (2391, 2582), (3269, 3468), (2577, 2768), \n",
    "         (2941, 3132), (2558, 2749), (2688, 2879), (2928, 3119), (2687, 2846), (2571, 2762), (2776, 2967), (2430, 2609), (3250, 3441), \n",
    "         (2396, 2539), (2688, 2879), (2567, 2758), (2718, 2909), (2729, 2920), (2824, 3015), (2785, 2976)]"
   ],
   "metadata": {
    "collapsed": false,
    "ExecuteTime": {
     "end_time": "2024-01-01T17:01:47.966978Z",
     "start_time": "2024-01-01T17:01:47.935720900Z"
    }
   },
   "id": "c57b0df818283ea9"
  },
  {
   "cell_type": "code",
   "execution_count": 203,
   "outputs": [],
   "source": [
    "# create_pid_folder(d_directory, patients_ids_3)"
   ],
   "metadata": {
    "collapsed": false,
    "ExecuteTime": {
     "end_time": "2024-01-01T17:01:48.157844100Z",
     "start_time": "2024-01-01T17:01:48.126478900Z"
    }
   },
   "id": "224c14cb68849e20"
  },
  {
   "cell_type": "code",
   "execution_count": 204,
   "outputs": [],
   "source": [
    "# automated_copy(o_directory, d_directory, patients_ids_3, fgt_3, bpe_3)"
   ],
   "metadata": {
    "collapsed": false,
    "ExecuteTime": {
     "end_time": "2024-01-01T17:01:48.340007800Z",
     "start_time": "2024-01-01T17:01:48.319267100Z"
    }
   },
   "id": "917acbb17b833066"
  },
  {
   "cell_type": "markdown",
   "source": [
    "# Part 4"
   ],
   "metadata": {
    "collapsed": false
   },
   "id": "f267fccf43b1377a"
  },
  {
   "cell_type": "code",
   "execution_count": 205,
   "outputs": [],
   "source": [
    "mpath = 'H:/Breast MRI/03/breast new 2'\n",
    "folder_names_part4 = []\n",
    "folder_names_part4 = get_folder_names(mpath, folder_names_part4)"
   ],
   "metadata": {
    "collapsed": false,
    "ExecuteTime": {
     "end_time": "2024-01-01T17:01:48.676100200Z",
     "start_time": "2024-01-01T17:01:48.641305Z"
    }
   },
   "id": "584f4d8950c41df8"
  },
  {
   "cell_type": "code",
   "execution_count": 206,
   "outputs": [],
   "source": [
    "folder_list = []\n",
    "for name in folder_names_part4:\n",
    "    if name not in all_ok_data:\n",
    "        print(name)\n",
    "        folder_list.append(name)"
   ],
   "metadata": {
    "collapsed": false,
    "ExecuteTime": {
     "end_time": "2024-01-01T17:01:48.865308300Z",
     "start_time": "2024-01-01T17:01:48.833572500Z"
    }
   },
   "id": "de4d5ba727bf30c"
  },
  {
   "cell_type": "code",
   "execution_count": 207,
   "outputs": [
    {
     "data": {
      "text/plain": "0"
     },
     "execution_count": 207,
     "metadata": {},
     "output_type": "execute_result"
    }
   ],
   "source": [
    "len(folder_list)"
   ],
   "metadata": {
    "collapsed": false,
    "ExecuteTime": {
     "end_time": "2024-01-01T17:01:49.054993200Z",
     "start_time": "2024-01-01T17:01:49.029102700Z"
    }
   },
   "id": "52c2f7b244f42966"
  },
  {
   "cell_type": "code",
   "execution_count": 208,
   "outputs": [],
   "source": [
    "# source_directory = mpath\n",
    "# destination_directory = \"H:/Breast MRI/03/NotOkData/breast new 2\"  # Replace with the actual destination directory\n",
    "# move_folders(folder_list, source_directory, destination_directory)"
   ],
   "metadata": {
    "collapsed": false,
    "ExecuteTime": {
     "end_time": "2024-01-01T17:01:49.228003300Z",
     "start_time": "2024-01-01T17:01:49.196372400Z"
    }
   },
   "id": "5b3e343bf3d6b9ff"
  },
  {
   "cell_type": "code",
   "execution_count": 209,
   "outputs": [],
   "source": [
    "no_data_cases = ['10937977']"
   ],
   "metadata": {
    "collapsed": false,
    "ExecuteTime": {
     "end_time": "2024-01-01T17:01:49.413670900Z",
     "start_time": "2024-01-01T17:01:49.374591600Z"
    }
   },
   "id": "fde00bec8c36368e"
  },
  {
   "cell_type": "code",
   "execution_count": 210,
   "outputs": [
    {
     "data": {
      "text/plain": "1135"
     },
     "execution_count": 210,
     "metadata": {},
     "output_type": "execute_result"
    }
   ],
   "source": [
    "len(all_ok_data)"
   ],
   "metadata": {
    "collapsed": false,
    "ExecuteTime": {
     "end_time": "2024-01-01T17:01:49.642226300Z",
     "start_time": "2024-01-01T17:01:49.593938Z"
    }
   },
   "id": "8ffd544f5373a696"
  },
  {
   "cell_type": "code",
   "execution_count": 211,
   "outputs": [],
   "source": [
    "for pid in no_data_cases:\n",
    "    if pid in all_ok_data:\n",
    "        all_ok_data.remove(pid)"
   ],
   "metadata": {
    "collapsed": false,
    "ExecuteTime": {
     "end_time": "2024-01-01T17:01:49.767725Z",
     "start_time": "2024-01-01T17:01:49.736474700Z"
    }
   },
   "id": "55b97091586d9539"
  },
  {
   "cell_type": "code",
   "execution_count": 212,
   "outputs": [
    {
     "data": {
      "text/plain": "1134"
     },
     "execution_count": 212,
     "metadata": {},
     "output_type": "execute_result"
    }
   ],
   "source": [
    "len(all_ok_data)"
   ],
   "metadata": {
    "collapsed": false,
    "ExecuteTime": {
     "end_time": "2024-01-01T17:01:49.956940400Z",
     "start_time": "2024-01-01T17:01:49.927100200Z"
    }
   },
   "id": "e23c8ec9a987fe9b"
  },
  {
   "cell_type": "code",
   "execution_count": 213,
   "outputs": [],
   "source": [
    "# Origin and destination directory\n",
    "d_directory = 'E:/Selected Data/'\n",
    "o_directory = 'H:/Breast MRI/03/breast new 2'"
   ],
   "metadata": {
    "collapsed": false,
    "ExecuteTime": {
     "end_time": "2024-01-01T17:01:50.130762300Z",
     "start_time": "2024-01-01T17:01:50.087293200Z"
    }
   },
   "id": "609fa387ae7589fc"
  },
  {
   "cell_type": "code",
   "execution_count": 214,
   "outputs": [],
   "source": [
    "patients_ids_4 = [10942269, 10983337, 11032357, 11034705, 11075626, 11076778, 11086355, 11180494, 11183489, 11216685, 11275661, \n",
    "                  11346010, 11405138, 11597250, 11610585, 11618270, 11627699, 11757932, 11758205, 11785907, 11789411, 11800353,\n",
    "                  11801650, 11821274, 11863126, 11863650, 11879076, 11881596, 11884718, 11885867, 11913084, 12047098, 12086263]"
   ],
   "metadata": {
    "collapsed": false,
    "ExecuteTime": {
     "end_time": "2024-01-01T17:01:50.382744Z",
     "start_time": "2024-01-01T17:01:50.319735Z"
    }
   },
   "id": "7beec318e597fca0"
  },
  {
   "cell_type": "code",
   "execution_count": 215,
   "outputs": [],
   "source": [
    "fgt_4 = [(1263, 1454), (1141, 1332), (2281, 2484), (1865, 2068), (867, 1006), (1204, 1395), (1246, 1437), (1177, 1380), (998, 1189),\n",
    "         (1178, 1389), (916, 1107), (1397, 1576), (1320, 1503), (861, 1012), (790, 965), (1229, 1444), (896, 1087), (769, 940),\n",
    "         (755, 906), (841, 1004), (979, 1170), (1226, 1417), (1362, 1553), (1054, 1245), (514, 669), (700, 867), (1050, 1241),\n",
    "         (946, 1145), (904, 1095), (868, 1059), (400, 547), (1124, 1303), (592, 787)]"
   ],
   "metadata": {
    "collapsed": false,
    "ExecuteTime": {
     "end_time": "2024-01-01T17:01:50.527028600Z",
     "start_time": "2024-01-01T17:01:50.504492300Z"
    }
   },
   "id": "faf1e0277f571d25"
  },
  {
   "cell_type": "code",
   "execution_count": 216,
   "outputs": [],
   "source": [
    "bpe_4 = [(2813, 3004), (3200, 3391), (4025, 4228), (3648, 3851), (2033, 2172), (2768, 2959), (2796, 2987), (2810, 3013), (2542, 2733),\n",
    "         (2881, 3092), (2460, 2651), (2849, 3028), (2810, 2993), (2133, 2284), (3467, 3642), (2967, 3182), (2440, 2631), (2173, 2344),\n",
    "         (2021, 2172), (2219, 2382), (2556, 2747), (2770, 2961), (2900, 3091), (2628, 2819), (2628, 2819), (2168, 2323), (2490, 2657),\n",
    "         (3962, 4153), (2580, 2779), (2464, 2655), (2408, 2599), (1946, 2093), (2598, 2777), (2638, 2833)]"
   ],
   "metadata": {
    "collapsed": false,
    "ExecuteTime": {
     "end_time": "2024-01-01T17:01:50.716503300Z",
     "start_time": "2024-01-01T17:01:50.683238700Z"
    }
   },
   "id": "e42816f59953630a"
  },
  {
   "cell_type": "code",
   "execution_count": 217,
   "outputs": [],
   "source": [
    "# create_pid_folder(d_directory, patients_ids_4)"
   ],
   "metadata": {
    "collapsed": false,
    "ExecuteTime": {
     "end_time": "2024-01-01T17:01:50.907534500Z",
     "start_time": "2024-01-01T17:01:50.876277400Z"
    }
   },
   "id": "d75a25387ed29a3f"
  },
  {
   "cell_type": "code",
   "execution_count": 305,
   "outputs": [],
   "source": [
    "# automated_copy(o_directory, d_directory, patients_ids_4, fgt_4, bpe_4)"
   ],
   "metadata": {
    "collapsed": false,
    "ExecuteTime": {
     "end_time": "2024-01-01T17:03:39.432143Z",
     "start_time": "2024-01-01T17:03:39.402249400Z"
    }
   },
   "id": "a23f67f61d8917dd"
  },
  {
   "cell_type": "markdown",
   "source": [
    "# Part 5"
   ],
   "metadata": {
    "collapsed": false
   },
   "id": "2a31b961cec82ebf"
  },
  {
   "cell_type": "code",
   "execution_count": 220,
   "outputs": [],
   "source": [
    "mpath = 'H:/Breast MRI/03/nac'\n",
    "folder_names_part5 = []\n",
    "folder_names_part5 = get_folder_names(mpath, folder_names_part5)"
   ],
   "metadata": {
    "collapsed": false,
    "ExecuteTime": {
     "end_time": "2024-01-01T17:01:51.664386400Z",
     "start_time": "2024-01-01T17:01:51.600821Z"
    }
   },
   "id": "876474e5d71de5c1"
  },
  {
   "cell_type": "code",
   "execution_count": 221,
   "outputs": [
    {
     "name": "stdout",
     "output_type": "stream",
     "text": [
      "10937977\n"
     ]
    }
   ],
   "source": [
    "folder_list = []\n",
    "for name in folder_names_part5:\n",
    "    if name not in all_ok_data:\n",
    "        print(name)\n",
    "        folder_list.append(name)"
   ],
   "metadata": {
    "collapsed": false,
    "ExecuteTime": {
     "end_time": "2024-01-01T17:01:52.488280700Z",
     "start_time": "2024-01-01T17:01:52.438574Z"
    }
   },
   "id": "a3e096189d89efa"
  },
  {
   "cell_type": "code",
   "execution_count": 222,
   "outputs": [
    {
     "data": {
      "text/plain": "1"
     },
     "execution_count": 222,
     "metadata": {},
     "output_type": "execute_result"
    }
   ],
   "source": [
    "len(folder_list)"
   ],
   "metadata": {
    "collapsed": false,
    "ExecuteTime": {
     "end_time": "2024-01-01T17:01:52.551289300Z",
     "start_time": "2024-01-01T17:01:52.445954Z"
    }
   },
   "id": "121813f7c73c10e6"
  },
  {
   "cell_type": "code",
   "execution_count": 223,
   "outputs": [],
   "source": [
    "# source_directory = mpath\n",
    "# destination_directory = \"H:/Breast MRI/03/NotOkData/nac\"  # Replace with the actual destination directory\n",
    "# move_folders(folder_list, source_directory, destination_directory)"
   ],
   "metadata": {
    "collapsed": false,
    "ExecuteTime": {
     "end_time": "2024-01-01T17:01:52.820828400Z",
     "start_time": "2024-01-01T17:01:52.804809Z"
    }
   },
   "id": "8962ea82ecd5f1e0"
  },
  {
   "cell_type": "code",
   "execution_count": 224,
   "outputs": [],
   "source": [
    "no_data_cases = []"
   ],
   "metadata": {
    "collapsed": false,
    "ExecuteTime": {
     "end_time": "2024-01-01T17:01:52.994456400Z",
     "start_time": "2024-01-01T17:01:52.963206100Z"
    }
   },
   "id": "29b534e75e6f934f"
  },
  {
   "cell_type": "code",
   "execution_count": 225,
   "outputs": [
    {
     "data": {
      "text/plain": "1134"
     },
     "execution_count": 225,
     "metadata": {},
     "output_type": "execute_result"
    }
   ],
   "source": [
    "len(all_ok_data)"
   ],
   "metadata": {
    "collapsed": false,
    "ExecuteTime": {
     "end_time": "2024-01-01T17:01:53.248519400Z",
     "start_time": "2024-01-01T17:01:53.216875300Z"
    }
   },
   "id": "aa31a633635ddd5a"
  },
  {
   "cell_type": "code",
   "execution_count": 226,
   "outputs": [],
   "source": [
    "for pid in no_data_cases:\n",
    "    if pid in all_ok_data:\n",
    "        all_ok_data.remove(pid)"
   ],
   "metadata": {
    "collapsed": false,
    "ExecuteTime": {
     "end_time": "2024-01-01T17:01:53.438281200Z",
     "start_time": "2024-01-01T17:01:53.392011Z"
    }
   },
   "id": "9d81a72f1d094a6"
  },
  {
   "cell_type": "code",
   "execution_count": 227,
   "outputs": [
    {
     "data": {
      "text/plain": "1134"
     },
     "execution_count": 227,
     "metadata": {},
     "output_type": "execute_result"
    }
   ],
   "source": [
    "len(all_ok_data)"
   ],
   "metadata": {
    "collapsed": false,
    "ExecuteTime": {
     "end_time": "2024-01-01T17:01:53.611062900Z",
     "start_time": "2024-01-01T17:01:53.579805100Z"
    }
   },
   "id": "19f49a3621494ff7"
  },
  {
   "cell_type": "code",
   "execution_count": 228,
   "outputs": [],
   "source": [
    "# Origin and destination directory\n",
    "d_directory = 'E:/Selected Data/'\n",
    "o_directory = 'H:/Breast MRI/02/sps'"
   ],
   "metadata": {
    "collapsed": false,
    "ExecuteTime": {
     "end_time": "2024-01-01T17:01:53.789630500Z",
     "start_time": "2024-01-01T17:01:53.759468800Z"
    }
   },
   "id": "6a74b2ee115e6258"
  },
  {
   "cell_type": "code",
   "execution_count": 229,
   "outputs": [],
   "source": [
    "patients_ids_5 = []"
   ],
   "metadata": {
    "collapsed": false,
    "ExecuteTime": {
     "end_time": "2024-01-01T17:01:53.976081200Z",
     "start_time": "2024-01-01T17:01:53.944447500Z"
    }
   },
   "id": "2095720be93558c9"
  },
  {
   "cell_type": "code",
   "execution_count": 230,
   "outputs": [],
   "source": [
    "fgt_5 = []"
   ],
   "metadata": {
    "collapsed": false,
    "ExecuteTime": {
     "end_time": "2024-01-01T17:01:54.165229200Z",
     "start_time": "2024-01-01T17:01:54.133819300Z"
    }
   },
   "id": "aab347673d05086e"
  },
  {
   "cell_type": "code",
   "execution_count": 231,
   "outputs": [],
   "source": [
    "bpe_5 = []"
   ],
   "metadata": {
    "collapsed": false,
    "ExecuteTime": {
     "end_time": "2024-01-01T17:01:54.322933100Z",
     "start_time": "2024-01-01T17:01:54.294407500Z"
    }
   },
   "id": "68e52fec4a3cc4d5"
  },
  {
   "cell_type": "code",
   "execution_count": 232,
   "outputs": [],
   "source": [
    "# create_pid_folder(d_directory, patients_ids_5)"
   ],
   "metadata": {
    "collapsed": false,
    "ExecuteTime": {
     "end_time": "2024-01-01T17:01:54.527852400Z",
     "start_time": "2024-01-01T17:01:54.507955300Z"
    }
   },
   "id": "368c1a03ece72de8"
  },
  {
   "cell_type": "code",
   "execution_count": 233,
   "outputs": [],
   "source": [
    "# automated_copy(o_directory, d_directory, patients_ids_5, fgt_5, bpe_5)"
   ],
   "metadata": {
    "collapsed": false,
    "ExecuteTime": {
     "end_time": "2024-01-01T17:01:54.685275500Z",
     "start_time": "2024-01-01T17:01:54.642626400Z"
    }
   },
   "id": "991c0c7f42ffb696"
  },
  {
   "cell_type": "markdown",
   "source": [
    "# Part 6"
   ],
   "metadata": {
    "collapsed": false
   },
   "id": "eaef76535c476bdf"
  },
  {
   "cell_type": "code",
   "execution_count": 234,
   "outputs": [],
   "source": [
    "mpath = 'H:/Breast MRI/03/sps'\n",
    "folder_names_part6 = []\n",
    "folder_names_part6 = get_folder_names(mpath, folder_names_part6)"
   ],
   "metadata": {
    "collapsed": false,
    "ExecuteTime": {
     "end_time": "2024-01-01T17:01:55.202302700Z",
     "start_time": "2024-01-01T17:01:55.175828900Z"
    }
   },
   "id": "eee940ee23a09e1f"
  },
  {
   "cell_type": "code",
   "execution_count": 235,
   "outputs": [],
   "source": [
    "folder_list = []\n",
    "for name in folder_names_part6:\n",
    "    if name not in all_ok_data:\n",
    "        print(name)\n",
    "        folder_list.append(name)"
   ],
   "metadata": {
    "collapsed": false,
    "ExecuteTime": {
     "end_time": "2024-01-01T17:01:55.391615200Z",
     "start_time": "2024-01-01T17:01:55.360270500Z"
    }
   },
   "id": "c1984eeae2f7c24f"
  },
  {
   "cell_type": "code",
   "execution_count": 236,
   "outputs": [
    {
     "data": {
      "text/plain": "0"
     },
     "execution_count": 236,
     "metadata": {},
     "output_type": "execute_result"
    }
   ],
   "source": [
    "len(folder_list)"
   ],
   "metadata": {
    "collapsed": false,
    "ExecuteTime": {
     "end_time": "2024-01-01T17:01:55.593398600Z",
     "start_time": "2024-01-01T17:01:55.558142400Z"
    }
   },
   "id": "2f208c6a54a80c4f"
  },
  {
   "cell_type": "code",
   "execution_count": 237,
   "outputs": [],
   "source": [
    "# source_directory = mpath\n",
    "# destination_directory = \"H:/Breast MRI/03/NotOkData/sps\"  # Replace with the actual destination directory\n",
    "# move_folders(folder_list, source_directory, destination_directory)"
   ],
   "metadata": {
    "collapsed": false,
    "ExecuteTime": {
     "end_time": "2024-01-01T17:01:55.767481700Z",
     "start_time": "2024-01-01T17:01:55.737343Z"
    }
   },
   "id": "883862bbc988d7b7"
  },
  {
   "cell_type": "code",
   "execution_count": 238,
   "outputs": [],
   "source": [
    "no_data_cases = ['8390792', '8564813', '8613792', '8756913']"
   ],
   "metadata": {
    "collapsed": false,
    "ExecuteTime": {
     "end_time": "2024-01-01T17:01:55.956511500Z",
     "start_time": "2024-01-01T17:01:55.926765300Z"
    }
   },
   "id": "cf699b752f1174c6"
  },
  {
   "cell_type": "code",
   "execution_count": 239,
   "outputs": [
    {
     "data": {
      "text/plain": "1134"
     },
     "execution_count": 239,
     "metadata": {},
     "output_type": "execute_result"
    }
   ],
   "source": [
    "len(all_ok_data)"
   ],
   "metadata": {
    "collapsed": false,
    "ExecuteTime": {
     "end_time": "2024-01-01T17:01:56.148844Z",
     "start_time": "2024-01-01T17:01:56.117045600Z"
    }
   },
   "id": "7a96eee7843a7144"
  },
  {
   "cell_type": "code",
   "execution_count": 240,
   "outputs": [],
   "source": [
    "for pid in no_data_cases:\n",
    "    if pid in all_ok_data:\n",
    "        all_ok_data.remove(pid)"
   ],
   "metadata": {
    "collapsed": false,
    "ExecuteTime": {
     "end_time": "2024-01-01T17:01:56.427402200Z",
     "start_time": "2024-01-01T17:01:56.368749100Z"
    }
   },
   "id": "7273d33c0f52ec65"
  },
  {
   "cell_type": "code",
   "execution_count": 241,
   "outputs": [
    {
     "data": {
      "text/plain": "1130"
     },
     "execution_count": 241,
     "metadata": {},
     "output_type": "execute_result"
    }
   ],
   "source": [
    "len(all_ok_data)"
   ],
   "metadata": {
    "collapsed": false,
    "ExecuteTime": {
     "end_time": "2024-01-01T17:01:56.708458500Z",
     "start_time": "2024-01-01T17:01:56.662692100Z"
    }
   },
   "id": "68d451e50a2ed953"
  },
  {
   "cell_type": "code",
   "execution_count": 242,
   "outputs": [],
   "source": [
    "# Origin and destination directory\n",
    "d_directory = 'E:/Selected Data/'\n",
    "o_directory = 'H:/Breast MRI/02/sps'"
   ],
   "metadata": {
    "collapsed": false,
    "ExecuteTime": {
     "end_time": "2024-01-01T17:01:56.865628500Z",
     "start_time": "2024-01-01T17:01:56.846865200Z"
    }
   },
   "id": "88e97ec6e72b64e9"
  },
  {
   "cell_type": "code",
   "execution_count": 243,
   "outputs": [],
   "source": [
    "patients_ids_6 = []"
   ],
   "metadata": {
    "collapsed": false,
    "ExecuteTime": {
     "end_time": "2024-01-01T17:01:57.057366400Z",
     "start_time": "2024-01-01T17:01:57.028712200Z"
    }
   },
   "id": "b6682367aa848185"
  },
  {
   "cell_type": "code",
   "execution_count": 244,
   "outputs": [],
   "source": [
    "fgt_6 = []"
   ],
   "metadata": {
    "collapsed": false,
    "ExecuteTime": {
     "end_time": "2024-01-01T17:01:57.370465200Z",
     "start_time": "2024-01-01T17:01:57.341327800Z"
    }
   },
   "id": "e3972b871fc2315a"
  },
  {
   "cell_type": "code",
   "execution_count": 245,
   "outputs": [],
   "source": [
    "bpe_6 = []"
   ],
   "metadata": {
    "collapsed": false,
    "ExecuteTime": {
     "end_time": "2024-01-01T17:01:57.731352700Z",
     "start_time": "2024-01-01T17:01:57.649502100Z"
    }
   },
   "id": "d5bd67005bda5324"
  },
  {
   "cell_type": "code",
   "execution_count": 246,
   "outputs": [],
   "source": [
    "# create_pid_folder(d_directory, patients_ids_1)"
   ],
   "metadata": {
    "collapsed": false,
    "ExecuteTime": {
     "end_time": "2024-01-01T17:01:57.852997800Z",
     "start_time": "2024-01-01T17:01:57.822257700Z"
    }
   },
   "id": "9c7b59d466049d69"
  },
  {
   "cell_type": "code",
   "execution_count": 247,
   "outputs": [],
   "source": [
    "# automated_copy(o_directory, d_directory, patients_ids_6, fgt_6, bpe_6)"
   ],
   "metadata": {
    "collapsed": false,
    "ExecuteTime": {
     "end_time": "2024-01-01T17:01:58.057669300Z",
     "start_time": "2024-01-01T17:01:58.032015800Z"
    }
   },
   "id": "4444162b71cc57c5"
  },
  {
   "cell_type": "markdown",
   "source": [
    "# Part 7"
   ],
   "metadata": {
    "collapsed": false
   },
   "id": "fd0b8d3eb6f8889f"
  },
  {
   "cell_type": "code",
   "execution_count": 248,
   "outputs": [],
   "source": [
    "mpath = \"E:/Breast Data/Breast\"\n",
    "folder_names_part7 = []\n",
    "folder_names_part7 = get_folder_names(mpath, folder_names_part7)"
   ],
   "metadata": {
    "collapsed": false,
    "ExecuteTime": {
     "end_time": "2024-01-01T17:01:58.453967200Z",
     "start_time": "2024-01-01T17:01:58.421817300Z"
    }
   },
   "id": "2556e7fb7f35f07d"
  },
  {
   "cell_type": "code",
   "execution_count": 249,
   "outputs": [
    {
     "name": "stdout",
     "output_type": "stream",
     "text": [
      "10937977\n"
     ]
    }
   ],
   "source": [
    "folder_list = []\n",
    "for name in folder_names_part7:\n",
    "    if name not in all_ok_data:\n",
    "        print(name)\n",
    "        folder_list.append(name)"
   ],
   "metadata": {
    "collapsed": false,
    "ExecuteTime": {
     "end_time": "2024-01-01T17:01:58.618216200Z",
     "start_time": "2024-01-01T17:01:58.602582900Z"
    }
   },
   "id": "6a1baa57bf75c3c0"
  },
  {
   "cell_type": "code",
   "execution_count": 250,
   "outputs": [
    {
     "data": {
      "text/plain": "1"
     },
     "execution_count": 250,
     "metadata": {},
     "output_type": "execute_result"
    }
   ],
   "source": [
    "len(folder_list)"
   ],
   "metadata": {
    "collapsed": false,
    "ExecuteTime": {
     "end_time": "2024-01-01T17:01:58.839391600Z",
     "start_time": "2024-01-01T17:01:58.809888200Z"
    }
   },
   "id": "10597b12bc469c24"
  },
  {
   "cell_type": "code",
   "execution_count": 251,
   "outputs": [],
   "source": [
    "# source_directory = mpath\n",
    "# destination_directory = \"E:/Breast Data/NotOkData/Breast\"  # Replace with the actual destination directory\n",
    "# move_folders(folder_list, source_directory, destination_directory)"
   ],
   "metadata": {
    "collapsed": false,
    "ExecuteTime": {
     "end_time": "2024-01-01T17:01:59.016612Z",
     "start_time": "2024-01-01T17:01:58.983346Z"
    }
   },
   "id": "3d071f80862dbef9"
  },
  {
   "cell_type": "code",
   "execution_count": 252,
   "outputs": [],
   "source": [
    "no_data_cases = []"
   ],
   "metadata": {
    "collapsed": false,
    "ExecuteTime": {
     "end_time": "2024-01-01T17:01:59.198838400Z",
     "start_time": "2024-01-01T17:01:59.167096600Z"
    }
   },
   "id": "d854140b4c3caa71"
  },
  {
   "cell_type": "code",
   "execution_count": 253,
   "outputs": [
    {
     "data": {
      "text/plain": "1130"
     },
     "execution_count": 253,
     "metadata": {},
     "output_type": "execute_result"
    }
   ],
   "source": [
    "len(all_ok_data)"
   ],
   "metadata": {
    "collapsed": false,
    "ExecuteTime": {
     "end_time": "2024-01-01T17:01:59.373612600Z",
     "start_time": "2024-01-01T17:01:59.342353400Z"
    }
   },
   "id": "c23073f55e7c7c1"
  },
  {
   "cell_type": "code",
   "execution_count": 254,
   "outputs": [],
   "source": [
    "for pid in no_data_cases:\n",
    "    if pid in all_ok_data:\n",
    "        all_ok_data.remove(pid)"
   ],
   "metadata": {
    "collapsed": false,
    "ExecuteTime": {
     "end_time": "2024-01-01T17:01:59.547556400Z",
     "start_time": "2024-01-01T17:01:59.516451400Z"
    }
   },
   "id": "284401055707a565"
  },
  {
   "cell_type": "code",
   "execution_count": 255,
   "outputs": [
    {
     "data": {
      "text/plain": "1130"
     },
     "execution_count": 255,
     "metadata": {},
     "output_type": "execute_result"
    }
   ],
   "source": [
    "len(all_ok_data)"
   ],
   "metadata": {
    "collapsed": false,
    "ExecuteTime": {
     "end_time": "2024-01-01T17:01:59.738365900Z",
     "start_time": "2024-01-01T17:01:59.693210300Z"
    }
   },
   "id": "255087af0e84a6f"
  },
  {
   "cell_type": "code",
   "execution_count": 256,
   "outputs": [],
   "source": [
    "# Origin and destination directory\n",
    "d_directory = 'E:/Selected Data/'\n",
    "o_directory = 'H:/Breast MRI/02/sps'"
   ],
   "metadata": {
    "collapsed": false,
    "ExecuteTime": {
     "end_time": "2024-01-01T17:01:59.911084800Z",
     "start_time": "2024-01-01T17:01:59.870440300Z"
    }
   },
   "id": "7e491169c068dbcc"
  },
  {
   "cell_type": "code",
   "execution_count": 257,
   "outputs": [],
   "source": [
    "patients_ids_7 = []"
   ],
   "metadata": {
    "collapsed": false,
    "ExecuteTime": {
     "end_time": "2024-01-01T17:02:00.085111200Z",
     "start_time": "2024-01-01T17:02:00.052364200Z"
    }
   },
   "id": "d636c884c2f0d6ec"
  },
  {
   "cell_type": "code",
   "execution_count": 258,
   "outputs": [],
   "source": [
    "fgt_7 = []"
   ],
   "metadata": {
    "collapsed": false,
    "ExecuteTime": {
     "end_time": "2024-01-01T17:02:00.277316800Z",
     "start_time": "2024-01-01T17:02:00.239067500Z"
    }
   },
   "id": "7ab0f472850245e3"
  },
  {
   "cell_type": "code",
   "execution_count": 259,
   "outputs": [],
   "source": [
    "bpe_7 = []"
   ],
   "metadata": {
    "collapsed": false,
    "ExecuteTime": {
     "end_time": "2024-01-01T17:02:00.467325900Z",
     "start_time": "2024-01-01T17:02:00.420356700Z"
    }
   },
   "id": "581d56fc374159fa"
  },
  {
   "cell_type": "code",
   "execution_count": 260,
   "outputs": [],
   "source": [
    "# create_pid_folder(d_directory, patients_ids_7)"
   ],
   "metadata": {
    "collapsed": false,
    "ExecuteTime": {
     "end_time": "2024-01-01T17:02:00.642607800Z",
     "start_time": "2024-01-01T17:02:00.581641800Z"
    }
   },
   "id": "f0c7ea21983eca36"
  },
  {
   "cell_type": "code",
   "execution_count": 261,
   "outputs": [],
   "source": [
    "# automated_copy(o_directory, d_directory, patients_ids_7, fgt_7, bpe_7)"
   ],
   "metadata": {
    "collapsed": false,
    "ExecuteTime": {
     "end_time": "2024-01-01T17:02:00.832091200Z",
     "start_time": "2024-01-01T17:02:00.775240900Z"
    }
   },
   "id": "a59aea113bf3bdc1"
  },
  {
   "cell_type": "markdown",
   "source": [
    "# Part 8"
   ],
   "metadata": {
    "collapsed": false
   },
   "id": "50eabbd72536335c"
  },
  {
   "cell_type": "code",
   "execution_count": 262,
   "outputs": [],
   "source": [
    "mpath = \"E:/Breast Data/breast newNAC\"\n",
    "folder_names_part8 = []\n",
    "folder_names_part8 = get_folder_names(mpath, folder_names_part8)"
   ],
   "metadata": {
    "collapsed": false,
    "ExecuteTime": {
     "end_time": "2024-01-01T17:02:01.183901400Z",
     "start_time": "2024-01-01T17:02:01.129287700Z"
    }
   },
   "id": "e15b9015e49e50c6"
  },
  {
   "cell_type": "code",
   "execution_count": 263,
   "outputs": [],
   "source": [
    "folder_list = []\n",
    "for name in folder_names_part8:\n",
    "    if name not in all_ok_data:\n",
    "        print(name)\n",
    "        folder_list.append(name)"
   ],
   "metadata": {
    "collapsed": false,
    "ExecuteTime": {
     "end_time": "2024-01-01T17:02:01.357230600Z",
     "start_time": "2024-01-01T17:02:01.325321100Z"
    }
   },
   "id": "1c1f90a7dc2b6a99"
  },
  {
   "cell_type": "code",
   "execution_count": 264,
   "outputs": [
    {
     "data": {
      "text/plain": "0"
     },
     "execution_count": 264,
     "metadata": {},
     "output_type": "execute_result"
    }
   ],
   "source": [
    "len(folder_list)"
   ],
   "metadata": {
    "collapsed": false,
    "ExecuteTime": {
     "end_time": "2024-01-01T17:02:01.533735100Z",
     "start_time": "2024-01-01T17:02:01.507921800Z"
    }
   },
   "id": "fa5dd5900c5f2994"
  },
  {
   "cell_type": "code",
   "execution_count": 265,
   "outputs": [],
   "source": [
    "# source_directory = mpath\n",
    "# destination_directory = \"E:/Breast Data/NotOkData/breast newNAC\"  # Replace with the actual destination directory\n",
    "# move_folders(folder_list, source_directory, destination_directory)"
   ],
   "metadata": {
    "collapsed": false,
    "ExecuteTime": {
     "end_time": "2024-01-01T17:02:01.767636400Z",
     "start_time": "2024-01-01T17:02:01.723538400Z"
    }
   },
   "id": "d9dfb807f3fdfb67"
  },
  {
   "cell_type": "code",
   "execution_count": 266,
   "outputs": [],
   "source": [
    "no_data_cases = ['10905568']"
   ],
   "metadata": {
    "collapsed": false,
    "ExecuteTime": {
     "end_time": "2024-01-01T17:02:01.905034200Z",
     "start_time": "2024-01-01T17:02:01.879078100Z"
    }
   },
   "id": "a197b50ef104149f"
  },
  {
   "cell_type": "code",
   "execution_count": 267,
   "outputs": [
    {
     "data": {
      "text/plain": "1130"
     },
     "execution_count": 267,
     "metadata": {},
     "output_type": "execute_result"
    }
   ],
   "source": [
    "len(all_ok_data)"
   ],
   "metadata": {
    "collapsed": false,
    "ExecuteTime": {
     "end_time": "2024-01-01T17:02:02.095678Z",
     "start_time": "2024-01-01T17:02:02.063681500Z"
    }
   },
   "id": "c389aa2245d6a4d9"
  },
  {
   "cell_type": "code",
   "execution_count": 268,
   "outputs": [],
   "source": [
    "for pid in no_data_cases:\n",
    "    if pid in all_ok_data:\n",
    "        all_ok_data.remove(pid)"
   ],
   "metadata": {
    "collapsed": false,
    "ExecuteTime": {
     "end_time": "2024-01-01T17:02:02.284642700Z",
     "start_time": "2024-01-01T17:02:02.249977300Z"
    }
   },
   "id": "d50691da8bdfffba"
  },
  {
   "cell_type": "code",
   "execution_count": 269,
   "outputs": [
    {
     "data": {
      "text/plain": "1129"
     },
     "execution_count": 269,
     "metadata": {},
     "output_type": "execute_result"
    }
   ],
   "source": [
    "len(all_ok_data)"
   ],
   "metadata": {
    "collapsed": false,
    "ExecuteTime": {
     "end_time": "2024-01-01T17:02:02.462404400Z",
     "start_time": "2024-01-01T17:02:02.432946400Z"
    }
   },
   "id": "2adb448a15eccf97"
  },
  {
   "cell_type": "code",
   "execution_count": 270,
   "outputs": [],
   "source": [
    "# Origin and destination directory\n",
    "d_directory = 'E:/Selected Data/'\n",
    "o_directory = 'H:/Breast MRI/02/sps'"
   ],
   "metadata": {
    "collapsed": false,
    "ExecuteTime": {
     "end_time": "2024-01-01T17:02:02.648925400Z",
     "start_time": "2024-01-01T17:02:02.600710Z"
    }
   },
   "id": "62c01aa9bea4a7b2"
  },
  {
   "cell_type": "code",
   "execution_count": 271,
   "outputs": [],
   "source": [
    "patients_ids_8 = []"
   ],
   "metadata": {
    "collapsed": false,
    "ExecuteTime": {
     "end_time": "2024-01-01T17:02:02.821362800Z",
     "start_time": "2024-01-01T17:02:02.791226100Z"
    }
   },
   "id": "fc59402738b39ba5"
  },
  {
   "cell_type": "code",
   "execution_count": 272,
   "outputs": [],
   "source": [
    "fgt_8 = []"
   ],
   "metadata": {
    "collapsed": false,
    "ExecuteTime": {
     "end_time": "2024-01-01T17:02:02.994804400Z",
     "start_time": "2024-01-01T17:02:02.965991500Z"
    }
   },
   "id": "451fbbe2ec5240d6"
  },
  {
   "cell_type": "code",
   "execution_count": 273,
   "outputs": [],
   "source": [
    "bpe_8 = []"
   ],
   "metadata": {
    "collapsed": false,
    "ExecuteTime": {
     "end_time": "2024-01-01T17:02:03.252261700Z",
     "start_time": "2024-01-01T17:02:03.172977100Z"
    }
   },
   "id": "35cdfc3795390364"
  },
  {
   "cell_type": "code",
   "execution_count": 274,
   "outputs": [],
   "source": [
    "# create_pid_folder(d_directory, patients_ids_1)"
   ],
   "metadata": {
    "collapsed": false,
    "ExecuteTime": {
     "end_time": "2024-01-01T17:02:03.377720Z",
     "start_time": "2024-01-01T17:02:03.346463100Z"
    }
   },
   "id": "85f76f3bf3dcd60c"
  },
  {
   "cell_type": "code",
   "execution_count": 275,
   "outputs": [],
   "source": [
    "# automated_copy(o_directory, d_directory, patients_ids_1, fgt_1, bpe_1)"
   ],
   "metadata": {
    "collapsed": false,
    "ExecuteTime": {
     "end_time": "2024-01-01T17:02:03.597952300Z",
     "start_time": "2024-01-01T17:02:03.548239900Z"
    }
   },
   "id": "35788571eacba94"
  },
  {
   "cell_type": "markdown",
   "source": [
    "# Part 9"
   ],
   "metadata": {
    "collapsed": false
   },
   "id": "3dba98c7477dd260"
  },
  {
   "cell_type": "code",
   "execution_count": 276,
   "outputs": [],
   "source": [
    "mpath = \"G:/Breast Data/nac\"\n",
    "folder_names_part9 = []\n",
    "folder_names_part9 = get_folder_names(mpath, folder_names_part9)"
   ],
   "metadata": {
    "collapsed": false,
    "ExecuteTime": {
     "end_time": "2024-01-01T17:02:03.929368500Z",
     "start_time": "2024-01-01T17:02:03.894847500Z"
    }
   },
   "id": "d81632e886141ca7"
  },
  {
   "cell_type": "code",
   "execution_count": 277,
   "outputs": [],
   "source": [
    "folder_list = []\n",
    "for name in folder_names_part9:\n",
    "    if name not in all_ok_data:\n",
    "        print(name)\n",
    "        folder_list.append(name)"
   ],
   "metadata": {
    "collapsed": false,
    "ExecuteTime": {
     "end_time": "2024-01-01T17:02:04.118468500Z",
     "start_time": "2024-01-01T17:02:04.089691400Z"
    }
   },
   "id": "505e9f9de1c460ac"
  },
  {
   "cell_type": "code",
   "execution_count": 278,
   "outputs": [
    {
     "data": {
      "text/plain": "0"
     },
     "execution_count": 278,
     "metadata": {},
     "output_type": "execute_result"
    }
   ],
   "source": [
    "len(folder_list)"
   ],
   "metadata": {
    "collapsed": false,
    "ExecuteTime": {
     "end_time": "2024-01-01T17:02:04.325919200Z",
     "start_time": "2024-01-01T17:02:04.294547100Z"
    }
   },
   "id": "8f5085f71ca7364f"
  },
  {
   "cell_type": "code",
   "execution_count": 279,
   "outputs": [],
   "source": [
    "# source_directory = mpath\n",
    "# destination_directory = \"G:/Breast Data/NotOkData/nac\"  # Replace with the actual destination directory\n",
    "# move_folders(folder_list, source_directory, destination_directory)"
   ],
   "metadata": {
    "collapsed": false,
    "ExecuteTime": {
     "end_time": "2024-01-01T17:02:04.515071100Z",
     "start_time": "2024-01-01T17:02:04.483814100Z"
    }
   },
   "id": "a05f446630b405d4"
  },
  {
   "cell_type": "code",
   "execution_count": 280,
   "outputs": [],
   "source": [
    "no_data_cases = []"
   ],
   "metadata": {
    "collapsed": false,
    "ExecuteTime": {
     "end_time": "2024-01-01T17:02:04.719970100Z",
     "start_time": "2024-01-01T17:02:04.675434500Z"
    }
   },
   "id": "4ab014abe6e38f40"
  },
  {
   "cell_type": "code",
   "execution_count": 281,
   "outputs": [
    {
     "data": {
      "text/plain": "1129"
     },
     "execution_count": 281,
     "metadata": {},
     "output_type": "execute_result"
    }
   ],
   "source": [
    "len(all_ok_data)"
   ],
   "metadata": {
    "collapsed": false,
    "ExecuteTime": {
     "end_time": "2024-01-01T17:02:04.878958800Z",
     "start_time": "2024-01-01T17:02:04.847686500Z"
    }
   },
   "id": "9f95fe134f3a8689"
  },
  {
   "cell_type": "code",
   "execution_count": 282,
   "outputs": [],
   "source": [
    "for pid in no_data_cases:\n",
    "    if pid in all_ok_data:\n",
    "        all_ok_data.remove(pid)"
   ],
   "metadata": {
    "collapsed": false,
    "ExecuteTime": {
     "end_time": "2024-01-01T17:02:05.095575800Z",
     "start_time": "2024-01-01T17:02:05.053719800Z"
    }
   },
   "id": "95ba2d282bfd46b8"
  },
  {
   "cell_type": "code",
   "execution_count": 283,
   "outputs": [
    {
     "data": {
      "text/plain": "1129"
     },
     "execution_count": 283,
     "metadata": {},
     "output_type": "execute_result"
    }
   ],
   "source": [
    "len(all_ok_data)"
   ],
   "metadata": {
    "collapsed": false,
    "ExecuteTime": {
     "end_time": "2024-01-01T17:02:05.277577900Z",
     "start_time": "2024-01-01T17:02:05.255233600Z"
    }
   },
   "id": "a0cba876e57cca46"
  },
  {
   "cell_type": "code",
   "execution_count": 284,
   "outputs": [],
   "source": [
    "# Origin and destination directory\n",
    "d_directory = 'E:/Selected Data/'\n",
    "o_directory = 'H:/Breast MRI/02/sps'"
   ],
   "metadata": {
    "collapsed": false,
    "ExecuteTime": {
     "end_time": "2024-01-01T17:02:05.466702200Z",
     "start_time": "2024-01-01T17:02:05.431517400Z"
    }
   },
   "id": "ef97efd2780012a8"
  },
  {
   "cell_type": "code",
   "execution_count": 285,
   "outputs": [],
   "source": [
    "patients_ids_9 = []"
   ],
   "metadata": {
    "collapsed": false,
    "ExecuteTime": {
     "end_time": "2024-01-01T17:02:05.658020500Z",
     "start_time": "2024-01-01T17:02:05.625970200Z"
    }
   },
   "id": "62a350f60bd26df1"
  },
  {
   "cell_type": "code",
   "execution_count": 286,
   "outputs": [],
   "source": [
    "fgt_9 = []"
   ],
   "metadata": {
    "collapsed": false,
    "ExecuteTime": {
     "end_time": "2024-01-01T17:02:05.846089800Z",
     "start_time": "2024-01-01T17:02:05.799180800Z"
    }
   },
   "id": "71fc01a71ab0afef"
  },
  {
   "cell_type": "code",
   "execution_count": 287,
   "outputs": [],
   "source": [
    "bpe_9 = []"
   ],
   "metadata": {
    "collapsed": false,
    "ExecuteTime": {
     "end_time": "2024-01-01T17:02:06.002572400Z",
     "start_time": "2024-01-01T17:02:05.980206400Z"
    }
   },
   "id": "21d4aa80c0b341f0"
  },
  {
   "cell_type": "code",
   "execution_count": 288,
   "outputs": [],
   "source": [
    "# create_pid_folder(d_directory, patients_ids_9)"
   ],
   "metadata": {
    "collapsed": false,
    "ExecuteTime": {
     "end_time": "2024-01-01T17:02:06.201849200Z",
     "start_time": "2024-01-01T17:02:06.180502500Z"
    }
   },
   "id": "268f90c29fe23a1e"
  },
  {
   "cell_type": "code",
   "execution_count": 289,
   "outputs": [],
   "source": [
    "# automated_copy(o_directory, d_directory, patients_ids_9, fgt_9, bpe_9)"
   ],
   "metadata": {
    "collapsed": false,
    "ExecuteTime": {
     "end_time": "2024-01-01T17:02:06.426571500Z",
     "start_time": "2024-01-01T17:02:06.379678800Z"
    }
   },
   "id": "31f6d209eab9cf5f"
  },
  {
   "cell_type": "markdown",
   "source": [
    "# Part 10"
   ],
   "metadata": {
    "collapsed": false
   },
   "id": "9d8d3a300794893a"
  },
  {
   "cell_type": "code",
   "execution_count": 290,
   "outputs": [],
   "source": [
    "mpath = \"G:/Breast Data/sps\"\n",
    "folder_names_part10 = []\n",
    "folder_names_part10 = get_folder_names(mpath, folder_names_part10)"
   ],
   "metadata": {
    "collapsed": false,
    "ExecuteTime": {
     "end_time": "2024-01-01T17:02:06.805200900Z",
     "start_time": "2024-01-01T17:02:06.775439700Z"
    }
   },
   "id": "20993da662df4865"
  },
  {
   "cell_type": "code",
   "execution_count": 291,
   "outputs": [],
   "source": [
    "folder_list = []\n",
    "for name in folder_names_part10:\n",
    "    if name not in all_ok_data:\n",
    "        print(name)\n",
    "        folder_list.append(name)"
   ],
   "metadata": {
    "collapsed": false,
    "ExecuteTime": {
     "end_time": "2024-01-01T17:02:07.008932Z",
     "start_time": "2024-01-01T17:02:06.978642700Z"
    }
   },
   "id": "c7c5fbc5175114ef"
  },
  {
   "cell_type": "code",
   "execution_count": 292,
   "outputs": [
    {
     "data": {
      "text/plain": "0"
     },
     "execution_count": 292,
     "metadata": {},
     "output_type": "execute_result"
    }
   ],
   "source": [
    "len(folder_list)"
   ],
   "metadata": {
    "collapsed": false,
    "ExecuteTime": {
     "end_time": "2024-01-01T17:02:07.223426100Z",
     "start_time": "2024-01-01T17:02:07.209098900Z"
    }
   },
   "id": "e2a7a55130b8684"
  },
  {
   "cell_type": "code",
   "execution_count": 293,
   "outputs": [],
   "source": [
    "# source_directory = mpath\n",
    "# destination_directory = \"G:/Breast Data/NotOkData/sps\"  # Replace with the actual destination directory\n",
    "# move_folders(folder_list, source_directory, destination_directory)"
   ],
   "metadata": {
    "collapsed": false,
    "ExecuteTime": {
     "end_time": "2024-01-01T17:02:07.450906600Z",
     "start_time": "2024-01-01T17:02:07.415757800Z"
    }
   },
   "id": "4cea008715fb9dc0"
  },
  {
   "cell_type": "code",
   "execution_count": 294,
   "outputs": [],
   "source": [
    "no_data_cases = ['8867592']"
   ],
   "metadata": {
    "collapsed": false,
    "ExecuteTime": {
     "end_time": "2024-01-01T17:02:07.622868900Z",
     "start_time": "2024-01-01T17:02:07.607638200Z"
    }
   },
   "id": "2ce09b8173210fd0"
  },
  {
   "cell_type": "code",
   "execution_count": 295,
   "outputs": [
    {
     "data": {
      "text/plain": "1129"
     },
     "execution_count": 295,
     "metadata": {},
     "output_type": "execute_result"
    }
   ],
   "source": [
    "len(all_ok_data)"
   ],
   "metadata": {
    "collapsed": false,
    "ExecuteTime": {
     "end_time": "2024-01-01T17:02:07.851504400Z",
     "start_time": "2024-01-01T17:02:07.814235800Z"
    }
   },
   "id": "9e539290775357a3"
  },
  {
   "cell_type": "code",
   "execution_count": 296,
   "outputs": [],
   "source": [
    "for pid in no_data_cases:\n",
    "    if pid in all_ok_data:\n",
    "        all_ok_data.remove(pid)"
   ],
   "metadata": {
    "collapsed": false,
    "ExecuteTime": {
     "end_time": "2024-01-01T17:02:08.051983900Z",
     "start_time": "2024-01-01T17:02:08.015033400Z"
    }
   },
   "id": "e9e1d196252c5c50"
  },
  {
   "cell_type": "code",
   "execution_count": 297,
   "outputs": [
    {
     "data": {
      "text/plain": "1128"
     },
     "execution_count": 297,
     "metadata": {},
     "output_type": "execute_result"
    }
   ],
   "source": [
    "len(all_ok_data)"
   ],
   "metadata": {
    "collapsed": false,
    "ExecuteTime": {
     "end_time": "2024-01-01T17:02:08.291616900Z",
     "start_time": "2024-01-01T17:02:08.259404800Z"
    }
   },
   "id": "ff3f921539d857d8"
  },
  {
   "cell_type": "code",
   "execution_count": 298,
   "outputs": [],
   "source": [
    "# Origin and destination directory\n",
    "d_directory = 'E:/Selected Data/'\n",
    "o_directory = 'H:/Breast MRI/02/sps'"
   ],
   "metadata": {
    "collapsed": false,
    "ExecuteTime": {
     "end_time": "2024-01-01T17:02:08.496460300Z",
     "start_time": "2024-01-01T17:02:08.454939100Z"
    }
   },
   "id": "b9f840e50cc220b3"
  },
  {
   "cell_type": "code",
   "execution_count": 299,
   "outputs": [],
   "source": [
    "patients_ids_10 = []"
   ],
   "metadata": {
    "collapsed": false,
    "ExecuteTime": {
     "end_time": "2024-01-01T17:02:08.661384400Z",
     "start_time": "2024-01-01T17:02:08.641809900Z"
    }
   },
   "id": "903b6b4c5b648015"
  },
  {
   "cell_type": "code",
   "execution_count": 300,
   "outputs": [],
   "source": [
    "fgt_10 = []"
   ],
   "metadata": {
    "collapsed": false,
    "ExecuteTime": {
     "end_time": "2024-01-01T17:02:08.853890600Z",
     "start_time": "2024-01-01T17:02:08.830626800Z"
    }
   },
   "id": "63777c6f1ab67a1c"
  },
  {
   "cell_type": "code",
   "execution_count": 301,
   "outputs": [],
   "source": [
    "bpe_10 = []"
   ],
   "metadata": {
    "collapsed": false,
    "ExecuteTime": {
     "end_time": "2024-01-01T17:02:09.310040700Z",
     "start_time": "2024-01-01T17:02:09.231453100Z"
    }
   },
   "id": "3f445f12d238d8dc"
  },
  {
   "cell_type": "code",
   "execution_count": 302,
   "outputs": [],
   "source": [
    "# create_pid_folder(d_directory, patients_ids_10)"
   ],
   "metadata": {
    "collapsed": false,
    "ExecuteTime": {
     "end_time": "2024-01-01T17:02:09.530931500Z",
     "start_time": "2024-01-01T17:02:09.499314600Z"
    }
   },
   "id": "e403e398ad83717e"
  },
  {
   "cell_type": "code",
   "execution_count": 303,
   "outputs": [],
   "source": [
    "# automated_copy(o_directory, d_directory, patients_ids_10, fgt_10, bpe_10)"
   ],
   "metadata": {
    "collapsed": false,
    "ExecuteTime": {
     "end_time": "2024-01-01T17:02:10.485081200Z",
     "start_time": "2024-01-01T17:02:10.390059Z"
    }
   },
   "id": "37ba20fc65095d6a"
  },
  {
   "cell_type": "code",
   "execution_count": null,
   "outputs": [],
   "source": [],
   "metadata": {
    "collapsed": false
   },
   "id": "de17be12afa45ab0"
  }
 ],
 "metadata": {
  "kernelspec": {
   "display_name": "Python 3",
   "language": "python",
   "name": "python3"
  },
  "language_info": {
   "codemirror_mode": {
    "name": "ipython",
    "version": 2
   },
   "file_extension": ".py",
   "mimetype": "text/x-python",
   "name": "python",
   "nbconvert_exporter": "python",
   "pygments_lexer": "ipython2",
   "version": "2.7.6"
  }
 },
 "nbformat": 4,
 "nbformat_minor": 5
}
