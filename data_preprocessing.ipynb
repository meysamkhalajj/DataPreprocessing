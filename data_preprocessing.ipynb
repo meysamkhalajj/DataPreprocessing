{
 "cells": [
  {
   "cell_type": "code",
   "execution_count": 7,
   "id": "initial_id",
   "metadata": {
    "ExecuteTime": {
     "end_time": "2023-12-15T05:35:30.951741500Z",
     "start_time": "2023-12-15T05:35:30.919975Z"
    },
    "collapsed": true
   },
   "outputs": [],
   "source": [
    "import os\n",
    "import shutil\n",
    "import pandas as pd\n",
    "import pyreadstat\n",
    "import numpy as np"
   ]
  },
  {
   "cell_type": "code",
   "execution_count": 8,
   "id": "81a82c0a5d7bfb0a",
   "metadata": {
    "ExecuteTime": {
     "end_time": "2023-12-15T05:35:31.511653800Z",
     "start_time": "2023-12-15T05:35:31.476665700Z"
    },
    "collapsed": false
   },
   "outputs": [],
   "source": [
    "data, meta = pyreadstat.read_sav('Dr.miratashi_3 copy.sav')"
   ]
  },
  {
   "cell_type": "code",
   "execution_count": 9,
   "id": "f1dfca7c2c9b73f3",
   "metadata": {
    "ExecuteTime": {
     "end_time": "2023-12-15T05:35:31.883496900Z",
     "start_time": "2023-12-15T05:35:31.836057600Z"
    },
    "collapsed": false
   },
   "outputs": [],
   "source": [
    "def move_folders(folder_list, source_directory, destination_directory):\n",
    "    for folder_name in folder_list:\n",
    "        source_path = os.path.join(source_directory, folder_name)\n",
    "        destination_path = os.path.join(destination_directory, folder_name)\n",
    "        shutil.move(source_path, destination_path)\n",
    "        print(f\"Moved folder '{folder_name}' from '{source_directory}' to '{destination_directory}'\")"
   ]
  },
  {
   "cell_type": "code",
   "execution_count": 10,
   "id": "e0aaf0300051162c",
   "metadata": {
    "ExecuteTime": {
     "end_time": "2023-12-15T05:35:32.444923800Z",
     "start_time": "2023-12-15T05:35:32.433369900Z"
    },
    "collapsed": false
   },
   "outputs": [],
   "source": [
    "def create_pid_folder(parent_directory, pid):\n",
    "    for folder_name in pid:\n",
    "        folder_path = os.path.join(parent_directory, str(folder_name))\n",
    "        os.makedirs(folder_path, exist_ok=True)\n",
    "\n",
    "        # Create the \"FGT\" and \"BPE\" sub folders within each folder\n",
    "        fgt_folder_path = os.path.join(folder_path, 'FGT')\n",
    "        bpe_folder_path = os.path.join(folder_path, 'BPE')\n",
    "        os.makedirs(fgt_folder_path, exist_ok=True)\n",
    "        os.makedirs(bpe_folder_path, exist_ok=True)"
   ]
  },
  {
   "cell_type": "code",
   "execution_count": 11,
   "id": "b3c92313820b328c",
   "metadata": {
    "ExecuteTime": {
     "end_time": "2023-12-15T05:35:34.060275800Z",
     "start_time": "2023-12-15T05:35:34.031143900Z"
    },
    "collapsed": false
   },
   "outputs": [],
   "source": [
    "def automated_copy(origin_directory, destination_directory, pid, fgt_idx, bpe_idx):\n",
    "    img_folder_names = []\n",
    "    for patient_id in pid:\n",
    "        dcm_directory = origin_directory + str(patient_id) + '/IMAGE/DCM/'\n",
    "        for i, (root, dirs, files) in enumerate(os.walk(dcm_directory)):\n",
    "            if i == 0:\n",
    "                img_folder_names.append(dcm_directory + str(dirs[i]))\n",
    "            \n",
    "    for i, patient_id in enumerate(pid):\n",
    "        start_fgt, end_fgt = fgt_idx[i]\n",
    "        start_bpe, end_bpe = bpe_idx[i]\n",
    "        destination_fgt_folder = destination_directory + str(patient_id) + '/FGT'\n",
    "        destination_bpe_folder = destination_directory + str(patient_id) + '/BPE'\n",
    "        for j in range(start_fgt, end_fgt+1):\n",
    "            if len(str(j)) == 4:\n",
    "                fgt_img_directory = img_folder_names[i] + '/I000' + str(j)\n",
    "            else:\n",
    "                fgt_img_directory = img_folder_names[i] + '/I0000' + str(j)\n",
    "            shutil.copy(fgt_img_directory, destination_fgt_folder)\n",
    "            \n",
    "        for j in range(start_bpe, end_bpe+1):\n",
    "            if len(str(j)) == 4:\n",
    "                bpe_img_directory = img_folder_names[i] + '/I000' + str(j)\n",
    "            else:\n",
    "                bpe_img_directory = img_folder_names[i] + '/I0000' + str(j)\n",
    "            shutil.copy(bpe_img_directory, destination_bpe_folder)"
   ]
  },
  {
   "cell_type": "code",
   "execution_count": 12,
   "id": "17b792ac5d4014e3",
   "metadata": {
    "ExecuteTime": {
     "end_time": "2023-12-15T05:35:34.622807800Z",
     "start_time": "2023-12-15T05:35:34.589904700Z"
    },
    "collapsed": false
   },
   "outputs": [],
   "source": [
    "\n",
    "def get_folder_names(path, folders):\n",
    "    for entry in os.scandir(path):\n",
    "        if entry.is_dir():\n",
    "            folders.append(entry.name)\n",
    "    return folders\n",
    "\n"
   ]
  },
  {
   "cell_type": "markdown",
   "id": "bec405a5da641e0d",
   "metadata": {
    "collapsed": false
   },
   "source": [
    "# Data Preprocessing\n",
    "\n",
    "## Step 1\n",
    "\n",
    "### At this step, we get the unique patient IDs and remove data with multiple diagnosis.\n"
   ]
  },
  {
   "cell_type": "code",
   "execution_count": 13,
   "id": "a2bd7b3aa7b7f533",
   "metadata": {
    "ExecuteTime": {
     "end_time": "2023-12-15T05:35:36.194288800Z",
     "start_time": "2023-12-15T05:35:35.538803300Z"
    },
    "collapsed": false
   },
   "outputs": [],
   "source": [
    "folder_names = []\n",
    "\n",
    "mpath = 'E:/Breast Data/Breast/'\n",
    "folder_names = get_folder_names(mpath, folder_names)\n",
    "\n",
    "mpath = 'E:/Breast Data/breast newNAC'\n",
    "folder_names = get_folder_names(mpath, folder_names)\n",
    "\n",
    "mpath = 'H:/Breast MRI/01/sps'\n",
    "folder_names = get_folder_names(mpath, folder_names)\n",
    "\n",
    "mpath = 'H:/Breast MRI/02/sps'\n",
    "folder_names = get_folder_names(mpath, folder_names)\n",
    "\n",
    "mpath = 'H:/Breast MRI/03/breast new'\n",
    "folder_names = get_folder_names(mpath, folder_names)\n",
    "\n",
    "mpath = 'H:/Breast MRI/03/breast new 2'\n",
    "folder_names = get_folder_names(mpath, folder_names)\n",
    "\n",
    "mpath = 'H:/Breast MRI/03/nac'\n",
    "folder_names = get_folder_names(mpath, folder_names)\n",
    "\n",
    "mpath = 'H:/Breast MRI/03/sps'\n",
    "folder_names = get_folder_names(mpath, folder_names)\n",
    "\n",
    "mpath = 'G:/Breast Data/nac'\n",
    "folder_names = get_folder_names(mpath, folder_names)\n",
    "\n",
    "mpath = 'G:/Breast Data/sps'\n",
    "folder_names = get_folder_names(mpath, folder_names)\n"
   ]
  },
  {
   "cell_type": "code",
   "execution_count": 14,
   "id": "657c92de5f37174",
   "metadata": {
    "ExecuteTime": {
     "end_time": "2023-12-15T05:35:36.194288800Z",
     "start_time": "2023-12-15T05:35:36.171295Z"
    },
    "collapsed": false
   },
   "outputs": [],
   "source": [
    "folder_names = np.array(folder_names)"
   ]
  },
  {
   "cell_type": "code",
   "execution_count": 15,
   "id": "1d93d1f3a3b3311b",
   "metadata": {
    "ExecuteTime": {
     "end_time": "2023-12-15T05:35:36.194288800Z",
     "start_time": "2023-12-15T05:35:36.178205Z"
    },
    "collapsed": false
   },
   "outputs": [],
   "source": [
    "folder_names_unique = np.unique(folder_names)"
   ]
  },
  {
   "cell_type": "code",
   "execution_count": 16,
   "id": "5723b805ae0df294",
   "metadata": {
    "ExecuteTime": {
     "end_time": "2023-12-15T05:35:36.320038600Z",
     "start_time": "2023-12-15T05:35:36.304634300Z"
    },
    "collapsed": false
   },
   "outputs": [],
   "source": [
    "data_codes = np.array(data.code)\n",
    "data_codes_unique = np.unique(data_codes)"
   ]
  },
  {
   "cell_type": "code",
   "execution_count": 17,
   "id": "c0eb0a1434b60506",
   "metadata": {
    "ExecuteTime": {
     "end_time": "2023-12-15T05:35:36.540665200Z",
     "start_time": "2023-12-15T05:35:36.493382100Z"
    },
    "collapsed": false
   },
   "outputs": [],
   "source": [
    "same_codes_unique = []\n",
    "for i in folder_names_unique:\n",
    "    if i in data_codes_unique:\n",
    "        same_codes_unique.append(i)\n",
    "        \n",
    "same_codes_unique = np.array(same_codes_unique)"
   ]
  },
  {
   "cell_type": "code",
   "execution_count": 18,
   "id": "2856d69c16837c23",
   "metadata": {
    "ExecuteTime": {
     "end_time": "2023-12-15T05:35:36.746159500Z",
     "start_time": "2023-12-15T05:35:36.717345600Z"
    },
    "collapsed": false
   },
   "outputs": [],
   "source": [
    "not_in_dataset = []\n",
    "for i in data_codes_unique:\n",
    "    if i not in same_codes_unique:\n",
    "        not_in_dataset.append(i)\n",
    "\n",
    "not_in_dataset_unique = np.unique(np.array(not_in_dataset))"
   ]
  },
  {
   "cell_type": "code",
   "execution_count": 19,
   "id": "caadb43a2071fb3d",
   "metadata": {
    "ExecuteTime": {
     "end_time": "2023-12-15T05:35:37.006062900Z",
     "start_time": "2023-12-15T05:35:36.895902300Z"
    },
    "collapsed": false
   },
   "outputs": [],
   "source": [
    "same_codes_unique_mdd_removed = []\n",
    "for i in same_codes_unique:\n",
    "    if np.array(data[data.code == i].FG).shape[0] > 1:\n",
    "        fg_i = np.array(data[data.code == i].FG)\n",
    "        bpe_i = np.array(data[data.code == i].BPE)\n",
    "        if np.all(fg_i==fg_i[0]) and np.all(bpe_i==bpe_i[0]):\n",
    "            same_codes_unique_mdd_removed.append(i)\n",
    "    else:\n",
    "        same_codes_unique_mdd_removed.append(i)"
   ]
  },
  {
   "cell_type": "code",
   "execution_count": 20,
   "id": "a3dd3c158469a49a",
   "metadata": {
    "ExecuteTime": {
     "end_time": "2023-12-15T05:35:37.931191900Z",
     "start_time": "2023-12-15T05:35:37.790903900Z"
    },
    "collapsed": false
   },
   "outputs": [],
   "source": [
    "not_in_dataset_unique_mdd_removed = []\n",
    "for i in not_in_dataset_unique:\n",
    "    if np.array(data[data.code == i].FG).shape[0] > 1:\n",
    "        fg_i = np.array(data[data.code == i].FG)\n",
    "        bpe_i = np.array(data[data.code == i].BPE)\n",
    "        if np.all(fg_i==fg_i[0]) and np.all(bpe_i==bpe_i[0]):\n",
    "            not_in_dataset_unique_mdd_removed.append(i)\n",
    "    else:\n",
    "        not_in_dataset_unique_mdd_removed.append(i)\n",
    "        "
   ]
  },
  {
   "cell_type": "code",
   "execution_count": 21,
   "id": "56186240dbf4c6dc",
   "metadata": {
    "ExecuteTime": {
     "end_time": "2023-12-15T05:35:38.032436300Z",
     "start_time": "2023-12-15T05:35:37.995924500Z"
    },
    "collapsed": false
   },
   "outputs": [],
   "source": [
    "all_ok_data = same_codes_unique_mdd_removed + not_in_dataset_unique_mdd_removed"
   ]
  },
  {
   "cell_type": "code",
   "execution_count": 22,
   "id": "29ec7ac755b2bcec",
   "metadata": {
    "ExecuteTime": {
     "end_time": "2023-12-15T05:35:38.205446700Z",
     "start_time": "2023-12-15T05:35:38.142682100Z"
    },
    "collapsed": false
   },
   "outputs": [
    {
     "data": {
      "text/plain": [
       "1146"
      ]
     },
     "execution_count": 22,
     "metadata": {},
     "output_type": "execute_result"
    }
   ],
   "source": [
    "len(all_ok_data)"
   ]
  },
  {
   "cell_type": "markdown",
   "id": "905b64073df0943d",
   "metadata": {
    "collapsed": false
   },
   "source": [
    "# Part 1\n"
   ]
  },
  {
   "cell_type": "code",
   "execution_count": 23,
   "id": "4fb8a431cc68c4a1",
   "metadata": {
    "ExecuteTime": {
     "end_time": "2023-12-15T05:35:38.514273800Z",
     "start_time": "2023-12-15T05:35:38.482851600Z"
    },
    "collapsed": false
   },
   "outputs": [],
   "source": [
    "mpath = 'H:/Breast MRI/01/sps'\n",
    "folder_names_part1 = []\n",
    "folder_names_part1 = get_folder_names(mpath, folder_names_part1)"
   ]
  },
  {
   "cell_type": "code",
   "execution_count": 24,
   "id": "4fdc2837b03bf201",
   "metadata": {
    "ExecuteTime": {
     "end_time": "2023-12-15T05:35:38.656168500Z",
     "start_time": "2023-12-15T05:35:38.629447800Z"
    },
    "collapsed": false
   },
   "outputs": [],
   "source": [
    "for name in folder_names_part1:\n",
    "    if name not in all_ok_data:\n",
    "        print(name)"
   ]
  },
  {
   "cell_type": "code",
   "execution_count": 25,
   "id": "5da90887b38a1c7",
   "metadata": {
    "ExecuteTime": {
     "end_time": "2023-12-15T05:35:38.877226500Z",
     "start_time": "2023-12-15T05:35:38.831052700Z"
    },
    "collapsed": false
   },
   "outputs": [],
   "source": [
    "no_data_cases = ['9222704', '9999465', '8881092', '11258955', '11843612']"
   ]
  },
  {
   "cell_type": "code",
   "execution_count": 26,
   "id": "a814f78e85789e4f",
   "metadata": {
    "ExecuteTime": {
     "end_time": "2023-12-15T05:35:39.081595100Z",
     "start_time": "2023-12-15T05:35:39.050036900Z"
    },
    "collapsed": false
   },
   "outputs": [
    {
     "data": {
      "text/plain": [
       "1146"
      ]
     },
     "execution_count": 26,
     "metadata": {},
     "output_type": "execute_result"
    }
   ],
   "source": [
    "len(all_ok_data)"
   ]
  },
  {
   "cell_type": "code",
   "execution_count": 27,
   "id": "251b549d430d09f6",
   "metadata": {
    "ExecuteTime": {
     "end_time": "2023-12-15T05:35:39.280617600Z",
     "start_time": "2023-12-15T05:35:39.242942900Z"
    },
    "collapsed": false
   },
   "outputs": [],
   "source": [
    "for pid in no_data_cases:\n",
    "    if pid in all_ok_data:\n",
    "        all_ok_data.remove(pid)"
   ]
  },
  {
   "cell_type": "code",
   "execution_count": 28,
   "id": "8353b875528a5e60",
   "metadata": {
    "ExecuteTime": {
     "end_time": "2023-12-15T05:35:39.408389200Z",
     "start_time": "2023-12-15T05:35:39.361329Z"
    },
    "collapsed": false
   },
   "outputs": [
    {
     "data": {
      "text/plain": [
       "1142"
      ]
     },
     "execution_count": 28,
     "metadata": {},
     "output_type": "execute_result"
    }
   ],
   "source": [
    "len(all_ok_data)"
   ]
  },
  {
   "cell_type": "code",
   "execution_count": 29,
   "id": "2be5b8c04f7e55d",
   "metadata": {
    "ExecuteTime": {
     "end_time": "2023-12-15T05:35:39.915107900Z",
     "start_time": "2023-12-15T05:35:39.876423100Z"
    },
    "collapsed": false
   },
   "outputs": [],
   "source": [
    "# Origin and destination directory\n",
    "d_directory = 'E:/Selected Data/'\n",
    "o_directory = 'H:/Breast MRI/01/sps'"
   ]
  },
  {
   "cell_type": "code",
   "execution_count": 30,
   "id": "7992eb96137a4a90",
   "metadata": {
    "ExecuteTime": {
     "end_time": "2023-12-15T05:35:40.109432900Z",
     "start_time": "2023-12-15T05:35:40.061798100Z"
    },
    "collapsed": false
   },
   "outputs": [],
   "source": [
    "patients_ids_1 = [8860408, 8861603, 8861971, 8866708, 8889836, 8915593, 8915632, 8926218, 8934757, 8935156, 8939476, 8977117,\n",
    "                  9008081, 9017845, 9108321, 9162757, 9170060, 9173422, 9174037, 9182263, 9221819, 9239385, 9246035, 9354593,\n",
    "                  9362401, 9363679, 9410575, 9459081, 9459302, 9459663, 9471658, 9471667, 9471756, 9471997, 9474758, 9484852,\n",
    "                  9484938, 9486031, 9486352, 9492065, 9512135, 9535197, 9535278, 9535434, 9559948, 9571865, 9577964, 9578077,\n",
    "                  9638156, 9638749, 9646672, 9647040, 9649691, 9658124, 9661700, 9670311, 9670327, 9673120, 9673179, 9673778,\n",
    "                  9674663, 9680775, 9680867, 9700791, 9701051, 9718836, 9726839, 9727663, 9739752, 9757971, 9773985, 9852342,\n",
    "                  9900364, 9906687, 9906752, 9910509, 9918129, 9918268, 9918324, 9920466, 9924862, 9926215, 9929361, 9929533,\n",
    "                  9930243, 9953872, 9953955, 9954110, 9966610, 9970531, 9971081, 9975377, 9975397, 9985427, 9991646, 9994490,\n",
    "                  9997801, 9997958, 9998057, 10006533, 10007023, 10007991, 10010860, 10018165, 10030277, 10032605, 10032779,\n",
    "                  10045260, 11201493, 11201533, 11205832, 11208303, 11211696, 11218656, 11224788, 11231020, 11237684, 11239822,\n",
    "                  11244816, 11247503, 11254075, 11256378, 11264398, 11272908, 11273475, 11286927, 11290544, 11299936, 11301332,\n",
    "                  11306141, 11331505, 11333648, 11333741, 11338126, 11338192, 11342837, 11344516, 11348359, 11348891, 11351690,\n",
    "                  11352729, 11355812, 11356851, 11358818, 11366628, 11366836, 11367575, 11369417, 11369686, 11371493, 11372703,\n",
    "                  11375497, 11377087, 11379700]"
   ]
  },
  {
   "cell_type": "code",
   "execution_count": 31,
   "id": "438f0eb238a3205f",
   "metadata": {
    "ExecuteTime": {
     "end_time": "2023-12-15T05:35:40.294732300Z",
     "start_time": "2023-12-15T05:35:40.266375800Z"
    },
    "collapsed": false
   },
   "outputs": [],
   "source": [
    "fgt_1 = [(300, 451), (373, 458), (558, 685), (396, 481), (536, 621), (379, 550), (434, 517), (335, 478), (582, 661), (587, 662),\n",
    "         (303, 454), (348, 523), (533, 618), (365, 440), (514, 599), (335, 510), (405, 548), (589, 674), (505, 590), (348, 499),\n",
    "         (521, 606), (387, 542), (407, 492), (554, 639), (365, 450), (365, 450), (432, 513), (490, 567), (371, 442), (464, 549),\n",
    "         (365, 524), (365, 528), (422, 573), (338, 485), (591, 676), (493, 668), (393, 560), (432, 587), (595, 758), (325, 448),\n",
    "         (365, 528), (365, 438), (302, 367), (365, 430), (365, 438), (501, 586), (569, 654), (529, 614), (277, 356), (277, 352),\n",
    "         (281, 366), (249, 314), (490, 575), (420, 505), (277, 352), (536, 679), (277, 352), (421, 506), (474, 559), (439, 524), \n",
    "         (441, 526), (471, 560), (315, 406), (449, 536), (421, 510), (466, 551), (332, 499), (269, 354), (483, 518), (479, 650), \n",
    "         (461, 546), (435, 520), (552, 735), (431, 518), (443, 530), (423, 586), (402, 545), (485, 628), (380, 523), (430, 515), \n",
    "         (496, 671), (597, 800), (385, 464), (451, 540), (299, 384), (313, 404), (315, 402), (317, 404), (435, 520), (448, 639), \n",
    "         (612, 771), (439, 526), (517, 602), (500, 585), (405, 490), (555, 640), (426, 513), (297, 382), (277, 350), (506, 649), \n",
    "         (464, 549), (454, 539), (455, 598), (471, 556), (435, 598), (407, 554), (426, 577), (299, 384), (467, 662), (421, 612), \n",
    "         (376, 551), (258, 343), (275, 450), (429, 620), (337, 512), (500, 675), (350, 525), (396, 575), (406, 581), (405, 490), \n",
    "         (380, 555), (413, 604), (393, 568), (417, 592), (383, 558), (423, 508), (404, 579), (417, 640), (461, 604), (402, 577), \n",
    "         (286, 461), (359, 534), (587, 762), (399, 574), (385, 560), (420, 607), (370, 545), (417, 502), (405, 490), (395, 570), \n",
    "         (552, 727), (363, 538), (567, 718), (369, 544), (407, 582), (415, 602), (393, 568), (426, 601), (385, 560), (389, 564), \n",
    "         (344, 519), (355, 530), (428, 619), (561, 756)]"
   ]
  },
  {
   "cell_type": "code",
   "execution_count": 32,
   "id": "410c08141963bf9a",
   "metadata": {
    "ExecuteTime": {
     "end_time": "2023-12-15T05:35:40.462709600Z",
     "start_time": "2023-12-15T05:35:40.456093400Z"
    },
    "collapsed": false
   },
   "outputs": [],
   "source": [
    "bpe_1 = [(1060, 1211), (920, 1005), (2589, 2716), (914, 999), (1162, 1247), (1615, 1786), (1042, 1125), (1235, 1378), (1054, 1133),\n",
    "         (1035, 1110), (1243, 1394), (1408, 1583), (1071, 1156), (813, 888), (1022, 1107), (1395, 1570), (1349, 1492), (1157, 1242),\n",
    "         (1061, 1146), (1288, 1439), (1047, 1132), (1323, 1478), (925, 1010), (1080, 1165), (886, 971), (915, 1000), (928, 1009),\n",
    "         (978, 1055), (820, 891), (980, 1065), (1233, 1392), (1253, 1416), (1252, 1403), (1146, 1293), (1141, 1226), (1441, 1616),\n",
    "         (1301, 1468), (1280, 1435), (1699, 1862), (1225, 1348), (1253, 1416), (803, 876), (700, 765), (763, 828), (803, 876),\n",
    "         (1007, 1092), (1107, 1192), (1063, 1148), (769, 848), (749, 824), (803, 888), (671, 736), (1032, 1117), (954, 1039),\n",
    "         (749, 824), (2267, 2410), (749, 824), (959, 1044), (1012, 1097), (977, 1062), (979, 1064), (1025, 1114), (889, 980), \n",
    "         (1002, 1089), (978, 1067), (1015, 1100), (1238, 1405), (783, 868), (1203, 1288), (2382, 2553), (1126, 1211), (969, 1054), \n",
    "         (1872, 2055), (984, 1071), (990, 1077), (1423, 1586), (1278, 1421), (1373, 1516), (1256, 1399), (1228, 1313), (1768, 1943), \n",
    "         (2001, 2204), (869, 948), (1011, 1100), (849, 934), (880, 971), (868, 955), (871, 958), (957, 1042), (1816, 2007), \n",
    "         (2760, 2919), (971, 1058), (1150, 1235), (1155, 1240), (927, 1012), (1227, 1312), (1065, 1152), (834, 919), (754, 827), \n",
    "         (1226, 1369), (1161, 1246), (1107, 1192), (1487, 1630), (1108, 1193), (1411, 1574), (1303, 1450), (1342, 1493), (845, 930), \n",
    "         (1859, 2054), (1813, 2004), (1648, 1823), (792, 877), (1511, 1686), (1833, 2024), (1579, 1754), (1736, 1911), (1610, 1785), \n",
    "         (1716, 1895), (1646, 1821), (936, 1021), (1616, 1791), (1793, 1984), (1635, 1810), (1725, 1900), (1643, 1818), (957, 1042), \n",
    "         (1820, 1995), (2723, 2946), (1337, 1480), (1746, 1921), (1522, 1697), (1667, 1842), (1859, 2034), (1671, 1846), (1657, 1832), \n",
    "         (1788, 1975), (1610, 1785), (948, 1033), (939, 1024), (1631, 1806), (1788, 1963), (1683, 1858), (1327, 1478), (1605, 1780), \n",
    "         (1651, 1826), (1731, 1918), (1635, 1810), (1914, 2089), (1657, 1832), (1673, 1848), (1580, 1755), (1651, 1826), (1820, 2011),\n",
    "         (1977, 2172)]"
   ]
  },
  {
   "cell_type": "code",
   "execution_count": 33,
   "id": "33faacfbd79fb18",
   "metadata": {
    "ExecuteTime": {
     "end_time": "2023-12-15T05:35:40.654492Z",
     "start_time": "2023-12-15T05:35:40.626180Z"
    },
    "collapsed": false
   },
   "outputs": [],
   "source": [
    "# create_pid_folder(d_directory, patients_ids_1)"
   ]
  },
  {
   "cell_type": "code",
   "execution_count": 34,
   "id": "3b2d41434d5d6b1c",
   "metadata": {
    "ExecuteTime": {
     "end_time": "2023-12-15T05:35:40.842780Z",
     "start_time": "2023-12-15T05:35:40.810836600Z"
    },
    "collapsed": false
   },
   "outputs": [],
   "source": [
    "# automated_copy(o_directory, d_directory, patients_ids_1, fgt_1, bpe_1)"
   ]
  },
  {
   "cell_type": "markdown",
   "id": "a59f899f36f1a42c",
   "metadata": {
    "collapsed": false
   },
   "source": [
    "# Part 2\n"
   ]
  },
  {
   "cell_type": "code",
   "execution_count": 35,
   "id": "fc6ee1c6aea660e9",
   "metadata": {
    "ExecuteTime": {
     "end_time": "2023-12-15T05:35:41.591124600Z",
     "start_time": "2023-12-15T05:35:41.511491600Z"
    },
    "collapsed": false
   },
   "outputs": [],
   "source": [
    "mpath = 'H:/Breast MRI/02/sps'\n",
    "folder_names_part2 = []\n",
    "folder_names_part2 = get_folder_names(mpath, folder_names_part2)"
   ]
  },
  {
   "cell_type": "code",
   "execution_count": 36,
   "id": "530079b08755575",
   "metadata": {
    "ExecuteTime": {
     "end_time": "2023-12-15T05:35:41.701525900Z",
     "start_time": "2023-12-15T05:35:41.566502500Z"
    },
    "collapsed": false
   },
   "outputs": [],
   "source": [
    "for name in folder_names_part2:\n",
    "    if name not in all_ok_data:\n",
    "        print(name)"
   ]
  },
  {
   "cell_type": "code",
   "execution_count": 37,
   "id": "b221377d332609cf",
   "metadata": {
    "ExecuteTime": {
     "end_time": "2023-12-15T05:35:41.813425800Z",
     "start_time": "2023-12-15T05:35:41.612745200Z"
    },
    "collapsed": false
   },
   "outputs": [],
   "source": [
    "no_data_cases = ['1191379', '8368349', '8832712', '8145891', '8302127', '8305735', '8414121', '8675439', '8675610', '8682515']"
   ]
  },
  {
   "cell_type": "code",
   "execution_count": 38,
   "id": "a7b279812a62e763",
   "metadata": {
    "ExecuteTime": {
     "end_time": "2023-12-15T05:35:41.892844300Z",
     "start_time": "2023-12-15T05:35:41.638409300Z"
    },
    "collapsed": false
   },
   "outputs": [
    {
     "data": {
      "text/plain": [
       "1142"
      ]
     },
     "execution_count": 38,
     "metadata": {},
     "output_type": "execute_result"
    }
   ],
   "source": [
    "len(all_ok_data)"
   ]
  },
  {
   "cell_type": "code",
   "execution_count": 39,
   "id": "eb8ea3f9925d1a9f",
   "metadata": {
    "ExecuteTime": {
     "end_time": "2023-12-15T05:35:42.097721700Z",
     "start_time": "2023-12-15T05:35:41.685758800Z"
    },
    "collapsed": false
   },
   "outputs": [],
   "source": [
    "for pid in no_data_cases:\n",
    "    if pid in all_ok_data:\n",
    "        all_ok_data.remove(pid)"
   ]
  },
  {
   "cell_type": "code",
   "execution_count": 40,
   "id": "580b5d3df0435f0a",
   "metadata": {
    "ExecuteTime": {
     "end_time": "2023-12-15T05:35:42.192358900Z",
     "start_time": "2023-12-15T05:35:41.717304100Z"
    },
    "collapsed": false
   },
   "outputs": [
    {
     "data": {
      "text/plain": [
       "1135"
      ]
     },
     "execution_count": 40,
     "metadata": {},
     "output_type": "execute_result"
    }
   ],
   "source": [
    "len(all_ok_data)"
   ]
  },
  {
   "cell_type": "code",
   "execution_count": 41,
   "id": "3bc74445e4743cde",
   "metadata": {
    "ExecuteTime": {
     "end_time": "2023-12-15T05:35:42.258310Z",
     "start_time": "2023-12-15T05:35:41.733433100Z"
    },
    "collapsed": false
   },
   "outputs": [],
   "source": [
    "# Origin and destination directory\n",
    "d_directory = 'E:/Selected Data/'\n",
    "o_directory = 'H:/Breast MRI/02/sps'"
   ]
  },
  {
   "cell_type": "code",
   "execution_count": 42,
   "id": "d3de6b666ebb84cd",
   "metadata": {
    "ExecuteTime": {
     "end_time": "2023-12-15T05:35:42.321703400Z",
     "start_time": "2023-12-15T05:35:41.765588100Z"
    },
    "collapsed": false
   },
   "outputs": [],
   "source": [
    "patients_ids_2 = []"
   ]
  },
  {
   "cell_type": "code",
   "execution_count": 43,
   "id": "dcca052a79cd64e4",
   "metadata": {
    "ExecuteTime": {
     "end_time": "2023-12-15T05:35:42.385185700Z",
     "start_time": "2023-12-15T05:35:41.781726300Z"
    },
    "collapsed": false
   },
   "outputs": [],
   "source": [
    "fgt_2 = []"
   ]
  },
  {
   "cell_type": "code",
   "execution_count": 44,
   "id": "9a4a66056f686717",
   "metadata": {
    "ExecuteTime": {
     "end_time": "2023-12-15T05:35:42.526522300Z",
     "start_time": "2023-12-15T05:35:41.829106900Z"
    },
    "collapsed": false
   },
   "outputs": [],
   "source": [
    "bpe_2 = []"
   ]
  },
  {
   "cell_type": "code",
   "execution_count": 45,
   "id": "4d64c2d12b31cb5",
   "metadata": {
    "ExecuteTime": {
     "end_time": "2023-12-15T05:35:42.557945400Z",
     "start_time": "2023-12-15T05:35:41.861039200Z"
    },
    "collapsed": false
   },
   "outputs": [],
   "source": [
    "# create_pid_folder(d_directory, patients_ids_2)"
   ]
  },
  {
   "cell_type": "code",
   "execution_count": 46,
   "id": "3827b11d96af4cf9",
   "metadata": {
    "ExecuteTime": {
     "end_time": "2023-12-15T05:35:42.573700300Z",
     "start_time": "2023-12-15T05:35:41.880799400Z"
    },
    "collapsed": false
   },
   "outputs": [],
   "source": [
    "# automated_copy(o_directory, d_directory, patients_ids_2, fgt_2, bpe_2)"
   ]
  },
  {
   "cell_type": "markdown",
   "id": "c9899c9d18bc8eba",
   "metadata": {
    "collapsed": false
   },
   "source": [
    "# Part 3\n"
   ]
  },
  {
   "cell_type": "code",
   "execution_count": 47,
   "id": "b935210b20429ecd",
   "metadata": {
    "ExecuteTime": {
     "end_time": "2023-12-15T05:35:42.793556100Z",
     "start_time": "2023-12-15T05:35:42.018091800Z"
    },
    "collapsed": false
   },
   "outputs": [],
   "source": [
    "mpath = 'H:/Breast MRI/03/breast new'\n",
    "folder_names_part3 = []\n",
    "folder_names_part3 = get_folder_names(mpath, folder_names_part3)"
   ]
  },
  {
   "cell_type": "code",
   "execution_count": 48,
   "id": "5523be3b9a34f0e5",
   "metadata": {
    "ExecuteTime": {
     "end_time": "2023-12-15T05:35:42.793556100Z",
     "start_time": "2023-12-15T05:35:42.035071300Z"
    },
    "collapsed": false
   },
   "outputs": [],
   "source": [
    "for name in folder_names_part3:\n",
    "    if name not in all_ok_data:\n",
    "        print(name)"
   ]
  },
  {
   "cell_type": "code",
   "execution_count": 49,
   "id": "492ab73de4c93fd3",
   "metadata": {
    "ExecuteTime": {
     "end_time": "2023-12-15T05:35:42.840532900Z",
     "start_time": "2023-12-15T05:35:42.066360600Z"
    },
    "collapsed": false
   },
   "outputs": [],
   "source": [
    "no_data_cases = []"
   ]
  },
  {
   "cell_type": "code",
   "execution_count": 50,
   "id": "32c67eead5c53698",
   "metadata": {
    "ExecuteTime": {
     "end_time": "2023-12-15T05:35:42.856206600Z",
     "start_time": "2023-12-15T05:35:42.071709100Z"
    },
    "collapsed": false
   },
   "outputs": [
    {
     "data": {
      "text/plain": [
       "1135"
      ]
     },
     "execution_count": 50,
     "metadata": {},
     "output_type": "execute_result"
    }
   ],
   "source": [
    "len(all_ok_data)"
   ]
  },
  {
   "cell_type": "code",
   "execution_count": 51,
   "id": "c57df039747f047",
   "metadata": {
    "ExecuteTime": {
     "end_time": "2023-12-15T05:35:42.887601500Z",
     "start_time": "2023-12-15T05:35:42.122375Z"
    },
    "collapsed": false
   },
   "outputs": [],
   "source": [
    "for pid in no_data_cases:\n",
    "    if pid in all_ok_data:\n",
    "        all_ok_data.remove(pid)"
   ]
  },
  {
   "cell_type": "code",
   "execution_count": 52,
   "id": "7d82ee2c23359931",
   "metadata": {
    "ExecuteTime": {
     "end_time": "2023-12-15T05:35:42.918848700Z",
     "start_time": "2023-12-15T05:35:42.152515600Z"
    },
    "collapsed": false
   },
   "outputs": [
    {
     "data": {
      "text/plain": [
       "1135"
      ]
     },
     "execution_count": 52,
     "metadata": {},
     "output_type": "execute_result"
    }
   ],
   "source": [
    "len(all_ok_data)"
   ]
  },
  {
   "cell_type": "code",
   "execution_count": 53,
   "id": "d7888f235b484f49",
   "metadata": {
    "ExecuteTime": {
     "end_time": "2023-12-15T05:35:42.934469600Z",
     "start_time": "2023-12-15T05:35:42.182270900Z"
    },
    "collapsed": false
   },
   "outputs": [],
   "source": [
    "# Origin and destination directory\n",
    "d_directory = 'E:/Selected Data/'\n",
    "o_directory = 'H:/Breast MRI/02/sps'"
   ]
  },
  {
   "cell_type": "code",
   "execution_count": 54,
   "id": "81d6c290da940c0d",
   "metadata": {
    "ExecuteTime": {
     "end_time": "2023-12-15T05:35:42.965842500Z",
     "start_time": "2023-12-15T05:35:42.204280400Z"
    },
    "collapsed": false
   },
   "outputs": [],
   "source": [
    "patients_ids_3 = []"
   ]
  },
  {
   "cell_type": "code",
   "execution_count": 55,
   "id": "313403339b7b95c8",
   "metadata": {
    "ExecuteTime": {
     "end_time": "2023-12-15T05:35:42.981597800Z",
     "start_time": "2023-12-15T05:35:42.226413400Z"
    },
    "collapsed": false
   },
   "outputs": [],
   "source": [
    "fgt_3 = []"
   ]
  },
  {
   "cell_type": "code",
   "execution_count": 56,
   "id": "c57b0df818283ea9",
   "metadata": {
    "ExecuteTime": {
     "end_time": "2023-12-15T05:35:42.997225300Z",
     "start_time": "2023-12-15T05:35:42.242530600Z"
    },
    "collapsed": false
   },
   "outputs": [],
   "source": [
    "bpe_3 = []"
   ]
  },
  {
   "cell_type": "code",
   "execution_count": 57,
   "id": "224c14cb68849e20",
   "metadata": {
    "ExecuteTime": {
     "end_time": "2023-12-15T05:35:43.028481100Z",
     "start_time": "2023-12-15T05:35:42.283720100Z"
    },
    "collapsed": false
   },
   "outputs": [],
   "source": [
    "# create_pid_folder(d_directory, patients_ids_3)"
   ]
  },
  {
   "cell_type": "code",
   "execution_count": 58,
   "id": "917acbb17b833066",
   "metadata": {
    "ExecuteTime": {
     "end_time": "2023-12-15T05:35:43.059890800Z",
     "start_time": "2023-12-15T05:35:42.329642700Z"
    },
    "collapsed": false
   },
   "outputs": [],
   "source": [
    "# automated_copy(o_directory, d_directory, patients_ids_3, fgt_3, bpe_3)"
   ]
  },
  {
   "cell_type": "markdown",
   "id": "f267fccf43b1377a",
   "metadata": {
    "collapsed": false
   },
   "source": [
    "# Part 4\n"
   ]
  },
  {
   "cell_type": "code",
   "execution_count": 59,
   "id": "584f4d8950c41df8",
   "metadata": {
    "ExecuteTime": {
     "end_time": "2023-12-15T05:35:43.138314500Z",
     "start_time": "2023-12-15T05:35:42.451399500Z"
    },
    "collapsed": false
   },
   "outputs": [],
   "source": [
    "mpath = 'H:/Breast MRI/03/breast new 2'\n",
    "folder_names_part4 = []\n",
    "folder_names_part4 = get_folder_names(mpath, folder_names_part4)"
   ]
  },
  {
   "cell_type": "code",
   "execution_count": 60,
   "id": "de4d5ba727bf30c",
   "metadata": {
    "ExecuteTime": {
     "end_time": "2023-12-15T05:35:43.169848Z",
     "start_time": "2023-12-15T05:35:42.479944100Z"
    },
    "collapsed": false
   },
   "outputs": [],
   "source": [
    "folder_list = []\n",
    "for name in folder_names_part4:\n",
    "    if name not in all_ok_data:\n",
    "        print(name)\n",
    "        folder_list.append(name)"
   ]
  },
  {
   "cell_type": "code",
   "execution_count": 61,
   "id": "52c2f7b244f42966",
   "metadata": {
    "ExecuteTime": {
     "end_time": "2023-12-15T05:35:43.185459700Z",
     "start_time": "2023-12-15T05:35:42.516281700Z"
    },
    "collapsed": false
   },
   "outputs": [
    {
     "data": {
      "text/plain": [
       "0"
      ]
     },
     "execution_count": 61,
     "metadata": {},
     "output_type": "execute_result"
    }
   ],
   "source": [
    "len(folder_list)"
   ]
  },
  {
   "cell_type": "code",
   "execution_count": 62,
   "id": "5b3e343bf3d6b9ff",
   "metadata": {
    "ExecuteTime": {
     "end_time": "2023-12-15T05:35:43.468174300Z",
     "start_time": "2023-12-15T05:35:43.112743200Z"
    },
    "collapsed": false
   },
   "outputs": [],
   "source": [
    "# source_directory = mpath\n",
    "# destination_directory = \"H:/Breast MRI/03/NotOkData/breast new 2\"  # Replace with the actual destination directory\n",
    "# move_folders(folder_list, source_directory, destination_directory)"
   ]
  },
  {
   "cell_type": "code",
   "execution_count": 63,
   "id": "fde00bec8c36368e",
   "metadata": {
    "ExecuteTime": {
     "end_time": "2023-12-15T05:35:43.515187900Z",
     "start_time": "2023-12-15T05:35:43.367876Z"
    },
    "collapsed": false
   },
   "outputs": [],
   "source": [
    "no_data_cases = ['10942269']"
   ]
  },
  {
   "cell_type": "code",
   "execution_count": 64,
   "id": "8ffd544f5373a696",
   "metadata": {
    "ExecuteTime": {
     "end_time": "2023-12-15T05:35:43.899093500Z",
     "start_time": "2023-12-15T05:35:43.855032900Z"
    },
    "collapsed": false
   },
   "outputs": [
    {
     "data": {
      "text/plain": [
       "1135"
      ]
     },
     "execution_count": 64,
     "metadata": {},
     "output_type": "execute_result"
    }
   ],
   "source": [
    "len(all_ok_data)"
   ]
  },
  {
   "cell_type": "code",
   "execution_count": 65,
   "id": "55b97091586d9539",
   "metadata": {
    "ExecuteTime": {
     "end_time": "2023-12-15T05:35:43.993315700Z",
     "start_time": "2023-12-15T05:35:43.883414100Z"
    },
    "collapsed": false
   },
   "outputs": [],
   "source": [
    "for pid in no_data_cases:\n",
    "    if pid in all_ok_data:\n",
    "        all_ok_data.remove(pid)"
   ]
  },
  {
   "cell_type": "code",
   "execution_count": 66,
   "id": "e23c8ec9a987fe9b",
   "metadata": {
    "ExecuteTime": {
     "end_time": "2023-12-15T05:35:44.136687400Z",
     "start_time": "2023-12-15T05:35:43.933443600Z"
    },
    "collapsed": false
   },
   "outputs": [
    {
     "data": {
      "text/plain": [
       "1134"
      ]
     },
     "execution_count": 66,
     "metadata": {},
     "output_type": "execute_result"
    }
   ],
   "source": [
    "len(all_ok_data)"
   ]
  },
  {
   "cell_type": "code",
   "execution_count": 67,
   "id": "609fa387ae7589fc",
   "metadata": {
    "ExecuteTime": {
     "end_time": "2023-12-15T05:35:44.310372600Z",
     "start_time": "2023-12-15T05:35:43.962068800Z"
    },
    "collapsed": false
   },
   "outputs": [],
   "source": [
    "# Origin and destination directory\n",
    "d_directory = 'E:/Selected Data/'\n",
    "o_directory = 'H:/Breast MRI/02/sps'"
   ]
  },
  {
   "cell_type": "code",
   "execution_count": 68,
   "id": "7beec318e597fca0",
   "metadata": {
    "ExecuteTime": {
     "end_time": "2023-12-15T05:35:44.424796700Z",
     "start_time": "2023-12-15T05:35:44.005029400Z"
    },
    "collapsed": false
   },
   "outputs": [],
   "source": [
    "patients_ids_4 = []"
   ]
  },
  {
   "cell_type": "code",
   "execution_count": 69,
   "id": "faf1e0277f571d25",
   "metadata": {
    "ExecuteTime": {
     "end_time": "2023-12-15T05:35:44.488231400Z",
     "start_time": "2023-12-15T05:35:44.025021400Z"
    },
    "collapsed": false
   },
   "outputs": [],
   "source": [
    "fgt_4 = []"
   ]
  },
  {
   "cell_type": "code",
   "execution_count": 70,
   "id": "e42816f59953630a",
   "metadata": {
    "ExecuteTime": {
     "end_time": "2023-12-15T05:35:44.574726800Z",
     "start_time": "2023-12-15T05:35:44.041069Z"
    },
    "collapsed": false
   },
   "outputs": [],
   "source": [
    "bpe_4 = []"
   ]
  },
  {
   "cell_type": "code",
   "execution_count": 71,
   "id": "d75a25387ed29a3f",
   "metadata": {
    "ExecuteTime": {
     "end_time": "2023-12-15T05:35:44.639904300Z",
     "start_time": "2023-12-15T05:35:44.081502700Z"
    },
    "collapsed": false
   },
   "outputs": [],
   "source": [
    "# create_pid_folder(d_directory, patients_ids_4)"
   ]
  },
  {
   "cell_type": "code",
   "execution_count": 72,
   "id": "a23f67f61d8917dd",
   "metadata": {
    "ExecuteTime": {
     "end_time": "2023-12-15T05:35:44.820095900Z",
     "start_time": "2023-12-15T05:35:44.120470200Z"
    },
    "collapsed": false
   },
   "outputs": [],
   "source": [
    "# automated_copy(o_directory, d_directory, patients_ids_4, fgt_4, bpe_4)"
   ]
  },
  {
   "cell_type": "markdown",
   "id": "2a31b961cec82ebf",
   "metadata": {
    "collapsed": false
   },
   "source": [
    "# Part 5\n"
   ]
  },
  {
   "cell_type": "code",
   "execution_count": 73,
   "id": "876474e5d71de5c1",
   "metadata": {
    "ExecuteTime": {
     "end_time": "2023-12-15T05:35:44.978375300Z",
     "start_time": "2023-12-15T05:35:44.230989600Z"
    },
    "collapsed": false
   },
   "outputs": [],
   "source": [
    "mpath = 'H:/Breast MRI/03/nac'\n",
    "folder_names_part5 = []\n",
    "folder_names_part5 = get_folder_names(mpath, folder_names_part5)"
   ]
  },
  {
   "cell_type": "code",
   "execution_count": 74,
   "id": "a3e096189d89efa",
   "metadata": {
    "ExecuteTime": {
     "end_time": "2023-12-15T05:35:45.160760400Z",
     "start_time": "2023-12-15T05:35:44.264992500Z"
    },
    "collapsed": false
   },
   "outputs": [],
   "source": [
    "folder_list = []\n",
    "for name in folder_names_part5:\n",
    "    if name not in all_ok_data:\n",
    "        print(name)\n",
    "        folder_list.append(name)"
   ]
  },
  {
   "cell_type": "code",
   "execution_count": 75,
   "id": "121813f7c73c10e6",
   "metadata": {
    "ExecuteTime": {
     "end_time": "2023-12-15T05:35:45.372715500Z",
     "start_time": "2023-12-15T05:35:44.267993400Z"
    },
    "collapsed": false
   },
   "outputs": [
    {
     "data": {
      "text/plain": [
       "0"
      ]
     },
     "execution_count": 75,
     "metadata": {},
     "output_type": "execute_result"
    }
   ],
   "source": [
    "len(folder_list)"
   ]
  },
  {
   "cell_type": "code",
   "execution_count": 76,
   "id": "8962ea82ecd5f1e0",
   "metadata": {
    "ExecuteTime": {
     "end_time": "2023-12-15T05:35:45.504778400Z",
     "start_time": "2023-12-15T05:35:44.320366100Z"
    },
    "collapsed": false
   },
   "outputs": [],
   "source": [
    "# source_directory = mpath\n",
    "# destination_directory = \"H:/Breast MRI/03/NotOkData/nac\"  # Replace with the actual destination directory\n",
    "# move_folders(folder_list, source_directory, destination_directory)"
   ]
  },
  {
   "cell_type": "code",
   "execution_count": 77,
   "id": "29b534e75e6f934f",
   "metadata": {
    "ExecuteTime": {
     "end_time": "2023-12-15T05:35:45.531235600Z",
     "start_time": "2023-12-15T05:35:44.346799Z"
    },
    "collapsed": false
   },
   "outputs": [],
   "source": [
    "no_data_cases = []"
   ]
  },
  {
   "cell_type": "code",
   "execution_count": 78,
   "id": "aa31a633635ddd5a",
   "metadata": {
    "ExecuteTime": {
     "end_time": "2023-12-15T05:35:45.546997Z",
     "start_time": "2023-12-15T05:35:44.357953Z"
    },
    "collapsed": false
   },
   "outputs": [
    {
     "data": {
      "text/plain": [
       "1134"
      ]
     },
     "execution_count": 78,
     "metadata": {},
     "output_type": "execute_result"
    }
   ],
   "source": [
    "len(all_ok_data)"
   ]
  },
  {
   "cell_type": "code",
   "execution_count": 79,
   "id": "9d81a72f1d094a6",
   "metadata": {
    "ExecuteTime": {
     "end_time": "2023-12-15T05:35:45.562764700Z",
     "start_time": "2023-12-15T05:35:44.401506400Z"
    },
    "collapsed": false
   },
   "outputs": [],
   "source": [
    "for pid in no_data_cases:\n",
    "    if pid in all_ok_data:\n",
    "        all_ok_data.remove(pid)"
   ]
  },
  {
   "cell_type": "code",
   "execution_count": 80,
   "id": "19f49a3621494ff7",
   "metadata": {
    "ExecuteTime": {
     "end_time": "2023-12-15T05:35:45.594144200Z",
     "start_time": "2023-12-15T05:35:44.443034400Z"
    },
    "collapsed": false
   },
   "outputs": [
    {
     "data": {
      "text/plain": [
       "1134"
      ]
     },
     "execution_count": 80,
     "metadata": {},
     "output_type": "execute_result"
    }
   ],
   "source": [
    "len(all_ok_data)"
   ]
  },
  {
   "cell_type": "code",
   "execution_count": 81,
   "id": "6a74b2ee115e6258",
   "metadata": {
    "ExecuteTime": {
     "end_time": "2023-12-15T05:35:45.609774400Z",
     "start_time": "2023-12-15T05:35:44.456323500Z"
    },
    "collapsed": false
   },
   "outputs": [],
   "source": [
    "# Origin and destination directory\n",
    "d_directory = 'E:/Selected Data/'\n",
    "o_directory = 'H:/Breast MRI/02/sps'"
   ]
  },
  {
   "cell_type": "code",
   "execution_count": 1,
   "id": "2095720be93558c9",
   "metadata": {
    "ExecuteTime": {
     "end_time": "2023-12-15T05:35:45.641023300Z",
     "start_time": "2023-12-15T05:35:44.485652800Z"
    },
    "collapsed": false
   },
   "outputs": [],
   "source": [
    "patients_ids_5 = [10500639, 10506817, 10507162, 10509355, 10520523, 10532430, 10540595, 10553401, 10554186, 10561171, 10581017, 10591458, \n",
    "                10632327, 10716690, 10718503, 10738155, 10743894, 10756274, 10773065, 10791568, 10795621, 10812027, 10879476, 10905568, \n",
    "                10916400, 10937977, 10959273, 10983337, 11032357, 11034705, 11075626, 11076778, 11086355, 11180494, 11183489, 11216685,\n",
    "                11275661, 11346010, 11627699]"
   ]
  },
  {
   "cell_type": "code",
   "execution_count": 83,
   "id": "aab347673d05086e",
   "metadata": {
    "ExecuteTime": {
     "end_time": "2023-12-15T05:35:45.659276200Z",
     "start_time": "2023-12-15T05:35:44.514383900Z"
    },
    "collapsed": false
   },
   "outputs": [],
   "source": [
    "fgt_5 = [(941,1132), (982,1173), (1287,1478), (1017,1208), (1190,1389), (1033,1224),\n",
    " (991,1182), (1052,1243), (1160,1351), (978,1169),(879,1038), (1027,1218), (1224,1415), (974,1153), (1694,1885),\n",
    " (1134,1325), (1155,1346), (1174,1365), (1174,1365), (1250,1441), (405,490), (1181,1372), (1038,1229), (1007,1194),\n",
    " (631,806), (963,1154), (536,679), (1141,1332), (2281,2484), (1865,2068), (867,1006), (1204,1395), (1246,1437),\n",
    " (1177,1380), (998,1189), (916,1107), (1397,1576), (896,1087)\n",
    " ]"
   ]
  },
  {
   "cell_type": "code",
   "execution_count": 84,
   "id": "68e52fec4a3cc4d5",
   "metadata": {
    "ExecuteTime": {
     "end_time": "2023-12-15T05:35:45.688044100Z",
     "start_time": "2023-12-15T05:35:44.535757100Z"
    },
    "collapsed": false
   },
   "outputs": [],
   "source": [
    "bpe_5 = [(2285,2479), (2416,2607), (3199,3390), (2451,2642), (3269,3468), (2577,2768), (2941,3132), (2558,2749), (2688,2879), (2928,3119), (2687,2846), \n",
    "(2571,2762), (2776,2967), (2430,2609), (3250,3441), (2688,2879),(2567,2758), (2718,2909), (2729,2920), (2824,3015), (957,1042), (2785,2976), (2582,2773),\n",
    "(2523,2710), (1915,2090), (2507,2698), (2116,2259), (3200,3391), (4025,4228), (3648,3851), (2033,2172), (2768,2959), (2796,2987), (2810,3013), (2542,2733),\n",
    "(2881,3092), (2460,2651), (2849,3028), (2440,2631)\n",
    "]"
   ]
  },
  {
   "cell_type": "code",
   "execution_count": 85,
   "id": "368c1a03ece72de8",
   "metadata": {
    "ExecuteTime": {
     "end_time": "2023-12-15T05:35:45.703734600Z",
     "start_time": "2023-12-15T05:35:44.567706Z"
    },
    "collapsed": false
   },
   "outputs": [],
   "source": [
    "# create_pid_folder(d_directory, patients_ids_5)"
   ]
  },
  {
   "cell_type": "code",
   "execution_count": 86,
   "id": "991c0c7f42ffb696",
   "metadata": {
    "ExecuteTime": {
     "end_time": "2023-12-15T05:35:45.734922700Z",
     "start_time": "2023-12-15T05:35:44.599524800Z"
    },
    "collapsed": false
   },
   "outputs": [],
   "source": [
    "# automated_copy(o_directory, d_directory, patients_ids_5, fgt_5, bpe_5)"
   ]
  },
  {
   "cell_type": "markdown",
   "id": "eaef76535c476bdf",
   "metadata": {
    "collapsed": false
   },
   "source": [
    "# Part 6\n"
   ]
  },
  {
   "cell_type": "code",
   "execution_count": 87,
   "id": "eee940ee23a09e1f",
   "metadata": {
    "ExecuteTime": {
     "end_time": "2023-12-15T05:35:45.859637100Z",
     "start_time": "2023-12-15T05:35:44.741749200Z"
    },
    "collapsed": false
   },
   "outputs": [],
   "source": [
    "mpath = 'H:/Breast MRI/03/sps'\n",
    "folder_names_part6 = []\n",
    "folder_names_part6 = get_folder_names(mpath, folder_names_part6)"
   ]
  },
  {
   "cell_type": "code",
   "execution_count": 88,
   "id": "c1984eeae2f7c24f",
   "metadata": {
    "ExecuteTime": {
     "end_time": "2023-12-15T05:35:45.860780700Z",
     "start_time": "2023-12-15T05:35:44.768361600Z"
    },
    "collapsed": false
   },
   "outputs": [],
   "source": [
    "folder_list = []\n",
    "for name in folder_names_part6:\n",
    "    if name not in all_ok_data:\n",
    "        print(name)\n",
    "        folder_list.append(name)"
   ]
  },
  {
   "cell_type": "code",
   "execution_count": 89,
   "id": "2f208c6a54a80c4f",
   "metadata": {
    "ExecuteTime": {
     "end_time": "2023-12-15T05:35:45.876537300Z",
     "start_time": "2023-12-15T05:35:44.788509800Z"
    },
    "collapsed": false
   },
   "outputs": [
    {
     "data": {
      "text/plain": [
       "0"
      ]
     },
     "execution_count": 89,
     "metadata": {},
     "output_type": "execute_result"
    }
   ],
   "source": [
    "len(folder_list)"
   ]
  },
  {
   "cell_type": "code",
   "execution_count": 90,
   "id": "883862bbc988d7b7",
   "metadata": {
    "ExecuteTime": {
     "end_time": "2023-12-15T05:35:45.907786Z",
     "start_time": "2023-12-15T05:35:44.820095900Z"
    },
    "collapsed": false
   },
   "outputs": [],
   "source": [
    "# source_directory = mpath\n",
    "# destination_directory = \"H:/Breast MRI/03/NotOkData/sps\"  # Replace with the actual destination directory\n",
    "# move_folders(folder_list, source_directory, destination_directory)"
   ]
  },
  {
   "cell_type": "code",
   "execution_count": 91,
   "id": "cf699b752f1174c6",
   "metadata": {
    "ExecuteTime": {
     "end_time": "2023-12-15T05:35:45.923413700Z",
     "start_time": "2023-12-15T05:35:44.859638Z"
    },
    "collapsed": false
   },
   "outputs": [],
   "source": [
    "no_data_cases = ['8390792', '8564813', '8613792', '8756913']"
   ]
  },
  {
   "cell_type": "code",
   "execution_count": 92,
   "id": "7a96eee7843a7144",
   "metadata": {
    "ExecuteTime": {
     "end_time": "2023-12-15T05:35:45.959801300Z",
     "start_time": "2023-12-15T05:35:44.885062Z"
    },
    "collapsed": false
   },
   "outputs": [
    {
     "data": {
      "text/plain": [
       "1134"
      ]
     },
     "execution_count": 92,
     "metadata": {},
     "output_type": "execute_result"
    }
   ],
   "source": [
    "len(all_ok_data)"
   ]
  },
  {
   "cell_type": "code",
   "execution_count": 93,
   "id": "7273d33c0f52ec65",
   "metadata": {
    "ExecuteTime": {
     "end_time": "2023-12-15T05:35:45.970424100Z",
     "start_time": "2023-12-15T05:35:44.925894200Z"
    },
    "collapsed": false
   },
   "outputs": [],
   "source": [
    "for pid in no_data_cases:\n",
    "    if pid in all_ok_data:\n",
    "        all_ok_data.remove(pid)"
   ]
  },
  {
   "cell_type": "code",
   "execution_count": 94,
   "id": "68d451e50a2ed953",
   "metadata": {
    "ExecuteTime": {
     "end_time": "2023-12-15T05:35:46.001811800Z",
     "start_time": "2023-12-15T05:35:44.958032100Z"
    },
    "collapsed": false
   },
   "outputs": [
    {
     "data": {
      "text/plain": [
       "1130"
      ]
     },
     "execution_count": 94,
     "metadata": {},
     "output_type": "execute_result"
    }
   ],
   "source": [
    "len(all_ok_data)"
   ]
  },
  {
   "cell_type": "code",
   "execution_count": 95,
   "id": "88e97ec6e72b64e9",
   "metadata": {
    "ExecuteTime": {
     "end_time": "2023-12-15T05:35:46.017434400Z",
     "start_time": "2023-12-15T05:35:44.994031Z"
    },
    "collapsed": false
   },
   "outputs": [],
   "source": [
    "# Origin and destination directory\n",
    "d_directory = 'E:/Selected Data/'\n",
    "o_directory = 'H:/Breast MRI/02/sps'"
   ]
  },
  {
   "cell_type": "code",
   "execution_count": 96,
   "id": "b6682367aa848185",
   "metadata": {
    "ExecuteTime": {
     "end_time": "2023-12-15T05:35:46.044509500Z",
     "start_time": "2023-12-15T05:35:45.010099300Z"
    },
    "collapsed": false
   },
   "outputs": [],
   "source": [
    "patients_ids_6 = [8308544, 8320097, 8644677, 8654723, 8668965, 8693340, 8845788, 8846009, 8943630, 8980696, 8987973, 8994596, 8995280, 9002280, 9010579, 9010854, 9011738, 9012992, 9013052, 9017038, 9021496, 9024061, 9024191, 9024288, 9024861, 9064702,\n",
    "9066182, 9072270, 9075718, 9075921, 9082292, 9099448, 9099484, 9099535, 9102847, 9103559, 9103635, 9124636, 9132962, 9135746, 9137960, 9178082, 9186604, 9187014, 9211330, 9221344, 9246145, 9250562,\n",
    "9250859, 9251259, 9257467, 9260607, 9278242, 9278242, 9278286, 9278507, 9280993, 9282859, 9297184, 9300041, 9303450, 9303958, 9306355, 9314842, 9314854, 9329696, 9329801, 9338697, 9338721, 9350416, 9354498, 9374330, 9374338, 9374628,\n",
    "9376635, 9378242, 9380740, 9385156, 9385880, 9397693, 9397802, 9398002, 9400054, 9401113, 9403123, 9407013, 9408592, 9409404, 9433277, 9433866, 9434346, 9446950, 9447103, 9449885, 9452045, 9456472, 9456991, 9555999, 9571196, 9590052,\n",
    "9613321, 9613957, 9634850, 9657991, 9670407, 9679589, 9683733, 9692694, 9692981, 9730700, 9749506\n",
    "]"
   ]
  },
  {
   "cell_type": "code",
   "execution_count": 97,
   "id": "e3972b871fc2315a",
   "metadata": {
    "ExecuteTime": {
     "end_time": "2023-12-15T05:35:46.092005200Z",
     "start_time": "2023-12-15T05:35:45.048409700Z"
    },
    "collapsed": false
   },
   "outputs": [],
   "source": [
    "fgt_6 = [(364,515), (658,833), (356,413), (321,472), (536,679), (536,623), (348,523), (345,512), (356,531), (518,615), (348,523), (387,472), (396,481), (338,501), (605,690), (622,707), (340,423), (431,516), (365,450), (387,472), (269,354), (365,450), (509,594), (365,450), (505,590), (454,625),\n",
    "(335,502), (348,523), (549,634), (525,610), (545,688), (509,594), (378,463), (482,653), (625,710), (521,606), (580,665), (529,614), (320,471), (430,561), (344,479), (427,512), (365,442), (378,453), (350,517), (509,594), (421,506), (394,479),\n",
    "(397,482), (403,488), (661,746), (409,494), (332,475), (397,540), (371,522), (411,562), (568,653), (335,498), (421,506), (393,536), (368,511), (809,894), (393,478), (467,556), (551,694), (365,430), (439,524), (450,535), (365,450), (451,536), (537,622), (427,512), (365,450), (330,481),\n",
    "(549,634), (529,614), (375,550), (365,430), (387,474), (399,542), (413,572), (391,460), (541,626), (597,682), (521,606), (373,458), (365,432), (401,486), (517,602), (521,606), (633,718), (377,528), (348,503), (554,639), (574,659), (417,502), (411,496), (509,594), (489,574), (396,481), \n",
    "(403,472), (275,350), (301,394), (405,470), (277,352), (273,348), (415,504), (459,544), (505,590), (519,604), (279,344)\n",
    "]"
   ]
  },
  {
   "cell_type": "code",
   "execution_count": 98,
   "id": "d5bd67005bda5324",
   "metadata": {
    "ExecuteTime": {
     "end_time": "2023-12-15T05:35:46.092005200Z",
     "start_time": "2023-12-15T05:35:45.151733700Z"
    },
    "collapsed": false
   },
   "outputs": [],
   "source": [
    "bpe_6 = [ (1124,1275), (1606,1781), (782,839), (1081,1232), (2092,2235), (1056,1143), (1408,1583), (1245,1412), (1416,1591), (1206,1303), (1408,1583), (885,970), (894,979), (1338,1501), (1103,1188), (1124,1209), (848,931), (1317,1402), (1262,1347), (971,1056), (699,784), (1247,1332), (1458,1543), (1126,1211), (1015,1100), (1554,1725),\n",
    "(1523,1690), (1408,1583), (1150,1235), (1081,1166), (1601,1744), (1151,1236), (876,961), (1410,1581), (1205,1290), (1083,1168), (1198,1283), (1105,1190), (1236,1387), (1402,1533), (1340,1475), (1102,1187), (823,900), (826,901), (1370,1537), (1023,1108), (939,1024), (1123,1208),\n",
    "(1202,1287), (1244,1239), (1211,1296), (951,1036), (1208,1351), (1273,1416), (1287,1438), (1375,1526), (1106,1191), (1335,1498), (1101,1186), (1269,1412), (1244,1387), (1515,1600), (904,989), (1228,1317), (1427,1570), (763,828), (981,1066), (948,1033), (1101,1186), (1209,1294), (1079,1164), (925,1010), (863,948), (1270,1421),\n",
    "(1111,1196), (1063,1148), (1435,1610), (1089,1154), (908,995), (1275,1418), (1369,1528), (809,878), (1087,1172), (1135,1220), (1047,1132), (807,992), (1126,1193), (914,999), (1039,1124), (1047,1132), (1179,1264), (1293,1444), (1308,1463), (1080,1165), (1120,1205), (943,1028), (933,1018), (1242,1327), (1256,1341), (937,1022),\n",
    "(845,914), (747,822), (863,956), (842,907), (749,824), (745,820), (969,1058), (1136,1221), (1170,1255), (1073,1158), (725,796)\n",
    "]"
   ]
  },
  {
   "cell_type": "code",
   "execution_count": 99,
   "id": "9c7b59d466049d69",
   "metadata": {
    "ExecuteTime": {
     "end_time": "2023-12-15T05:35:46.295632400Z",
     "start_time": "2023-12-15T05:35:45.186936800Z"
    },
    "collapsed": false
   },
   "outputs": [],
   "source": [
    "# create_pid_folder(d_directory, patients_ids_1)"
   ]
  },
  {
   "cell_type": "code",
   "execution_count": 100,
   "id": "4444162b71cc57c5",
   "metadata": {
    "ExecuteTime": {
     "end_time": "2023-12-15T05:35:46.359090800Z",
     "start_time": "2023-12-15T05:35:45.187481900Z"
    },
    "collapsed": false
   },
   "outputs": [],
   "source": [
    "# automated_copy(o_directory, d_directory, patients_ids_6, fgt_6, bpe_6)"
   ]
  },
  {
   "cell_type": "markdown",
   "id": "fd0b8d3eb6f8889f",
   "metadata": {
    "collapsed": false
   },
   "source": [
    "# Part 7\n"
   ]
  },
  {
   "cell_type": "code",
   "execution_count": 101,
   "id": "2556e7fb7f35f07d",
   "metadata": {
    "ExecuteTime": {
     "end_time": "2023-12-15T05:35:46.421890600Z",
     "start_time": "2023-12-15T05:35:45.316087900Z"
    },
    "collapsed": false
   },
   "outputs": [],
   "source": [
    "mpath = \"E:/Breast Data/Breast\"\n",
    "folder_names_part7 = []\n",
    "folder_names_part7 = get_folder_names(mpath, folder_names_part7)"
   ]
  },
  {
   "cell_type": "code",
   "execution_count": 102,
   "id": "6a1baa57bf75c3c0",
   "metadata": {
    "ExecuteTime": {
     "end_time": "2023-12-15T05:35:46.421890600Z",
     "start_time": "2023-12-15T05:35:45.344547300Z"
    },
    "collapsed": false
   },
   "outputs": [],
   "source": [
    "folder_list = []\n",
    "for name in folder_names_part7:\n",
    "    if name not in all_ok_data:\n",
    "        print(name)\n",
    "        folder_list.append(name)"
   ]
  },
  {
   "cell_type": "code",
   "execution_count": 103,
   "id": "10597b12bc469c24",
   "metadata": {
    "ExecuteTime": {
     "end_time": "2023-12-15T05:35:46.468906900Z",
     "start_time": "2023-12-15T05:35:45.356614Z"
    },
    "collapsed": false
   },
   "outputs": [
    {
     "data": {
      "text/plain": [
       "0"
      ]
     },
     "execution_count": 103,
     "metadata": {},
     "output_type": "execute_result"
    }
   ],
   "source": [
    "len(folder_list)"
   ]
  },
  {
   "cell_type": "code",
   "execution_count": 104,
   "id": "3d071f80862dbef9",
   "metadata": {
    "ExecuteTime": {
     "end_time": "2023-12-15T05:35:46.501221200Z",
     "start_time": "2023-12-15T05:35:45.379319500Z"
    },
    "collapsed": false
   },
   "outputs": [],
   "source": [
    "# source_directory = mpath\n",
    "# destination_directory = \"E:/Breast Data/NotOkData/Breast\"  # Replace with the actual destination directory\n",
    "# move_folders(folder_list, source_directory, destination_directory)"
   ]
  },
  {
   "cell_type": "code",
   "execution_count": 105,
   "id": "d854140b4c3caa71",
   "metadata": {
    "ExecuteTime": {
     "end_time": "2023-12-15T05:35:46.501221200Z",
     "start_time": "2023-12-15T05:35:45.407993400Z"
    },
    "collapsed": false
   },
   "outputs": [],
   "source": [
    "no_data_cases = ['11821274']"
   ]
  },
  {
   "cell_type": "code",
   "execution_count": 106,
   "id": "c23073f55e7c7c1",
   "metadata": {
    "ExecuteTime": {
     "end_time": "2023-12-15T05:35:46.547742Z",
     "start_time": "2023-12-15T05:35:45.420660300Z"
    },
    "collapsed": false
   },
   "outputs": [
    {
     "data": {
      "text/plain": [
       "1130"
      ]
     },
     "execution_count": 106,
     "metadata": {},
     "output_type": "execute_result"
    }
   ],
   "source": [
    "len(all_ok_data)"
   ]
  },
  {
   "cell_type": "code",
   "execution_count": 107,
   "id": "284401055707a565",
   "metadata": {
    "ExecuteTime": {
     "end_time": "2023-12-15T05:35:46.563506500Z",
     "start_time": "2023-12-15T05:35:45.472152800Z"
    },
    "collapsed": false
   },
   "outputs": [],
   "source": [
    "for pid in no_data_cases:\n",
    "    if pid in all_ok_data:\n",
    "        all_ok_data.remove(pid)"
   ]
  },
  {
   "cell_type": "code",
   "execution_count": 108,
   "id": "255087af0e84a6f",
   "metadata": {
    "ExecuteTime": {
     "end_time": "2023-12-15T05:35:46.579266800Z",
     "start_time": "2023-12-15T05:35:45.499650900Z"
    },
    "collapsed": false
   },
   "outputs": [
    {
     "data": {
      "text/plain": [
       "1129"
      ]
     },
     "execution_count": 108,
     "metadata": {},
     "output_type": "execute_result"
    }
   ],
   "source": [
    "len(all_ok_data)"
   ]
  },
  {
   "cell_type": "code",
   "execution_count": 109,
   "id": "7e491169c068dbcc",
   "metadata": {
    "ExecuteTime": {
     "end_time": "2023-12-15T05:35:46.816188400Z",
     "start_time": "2023-12-15T05:35:46.067426300Z"
    },
    "collapsed": false
   },
   "outputs": [],
   "source": [
    "# Origin and destination directory\n",
    "d_directory = 'E:/Selected Data/'\n",
    "o_directory = 'H:/Breast MRI/02/sps'"
   ]
  },
  {
   "cell_type": "code",
   "execution_count": 110,
   "id": "d636c884c2f0d6ec",
   "metadata": {
    "ExecuteTime": {
     "end_time": "2023-12-15T05:35:46.879218100Z",
     "start_time": "2023-12-15T05:35:46.311596500Z"
    },
    "collapsed": false
   },
   "outputs": [],
   "source": [
    "patients_ids_7 = []"
   ]
  },
  {
   "cell_type": "code",
   "execution_count": 111,
   "id": "7ab0f472850245e3",
   "metadata": {
    "ExecuteTime": {
     "end_time": "2023-12-15T05:35:47.114894600Z",
     "start_time": "2023-12-15T05:35:46.626143300Z"
    },
    "collapsed": false
   },
   "outputs": [],
   "source": [
    "fgt_7 = []"
   ]
  },
  {
   "cell_type": "code",
   "execution_count": 112,
   "id": "581d56fc374159fa",
   "metadata": {
    "ExecuteTime": {
     "end_time": "2023-12-15T05:35:47.162427800Z",
     "start_time": "2023-12-15T05:35:47.009891500Z"
    },
    "collapsed": false
   },
   "outputs": [],
   "source": [
    "bpe_7 = []"
   ]
  },
  {
   "cell_type": "code",
   "execution_count": 113,
   "id": "f0c7ea21983eca36",
   "metadata": {
    "ExecuteTime": {
     "end_time": "2023-12-15T05:35:47.256973300Z",
     "start_time": "2023-12-15T05:35:47.193753500Z"
    },
    "collapsed": false
   },
   "outputs": [],
   "source": [
    "# create_pid_folder(d_directory, patients_ids_7)"
   ]
  },
  {
   "cell_type": "code",
   "execution_count": 114,
   "id": "a59aea113bf3bdc1",
   "metadata": {
    "ExecuteTime": {
     "end_time": "2023-12-15T05:35:47.403784700Z",
     "start_time": "2023-12-15T05:35:47.357072700Z"
    },
    "collapsed": false
   },
   "outputs": [],
   "source": [
    "# automated_copy(o_directory, d_directory, patients_ids_7, fgt_7, bpe_7)"
   ]
  },
  {
   "cell_type": "markdown",
   "id": "50eabbd72536335c",
   "metadata": {
    "collapsed": false
   },
   "source": [
    "# Part 8\n"
   ]
  },
  {
   "cell_type": "code",
   "execution_count": 115,
   "id": "e15b9015e49e50c6",
   "metadata": {
    "ExecuteTime": {
     "end_time": "2023-12-15T05:35:48.354739200Z",
     "start_time": "2023-12-15T05:35:48.312981100Z"
    },
    "collapsed": false
   },
   "outputs": [],
   "source": [
    "mpath = \"E:/Breast Data/breast newNAC\"\n",
    "folder_names_part8 = []\n",
    "folder_names_part8 = get_folder_names(mpath, folder_names_part8)"
   ]
  },
  {
   "cell_type": "code",
   "execution_count": 116,
   "id": "1c1f90a7dc2b6a99",
   "metadata": {
    "ExecuteTime": {
     "end_time": "2023-12-15T05:35:48.831074400Z",
     "start_time": "2023-12-15T05:35:48.768080300Z"
    },
    "collapsed": false
   },
   "outputs": [],
   "source": [
    "folder_list = []\n",
    "for name in folder_names_part8:\n",
    "    if name not in all_ok_data:\n",
    "        print(name)\n",
    "        folder_list.append(name)"
   ]
  },
  {
   "cell_type": "code",
   "execution_count": 117,
   "id": "fa5dd5900c5f2994",
   "metadata": {
    "ExecuteTime": {
     "end_time": "2023-12-15T05:35:49.068586600Z",
     "start_time": "2023-12-15T05:35:49.036264400Z"
    },
    "collapsed": false
   },
   "outputs": [
    {
     "data": {
      "text/plain": [
       "0"
      ]
     },
     "execution_count": 117,
     "metadata": {},
     "output_type": "execute_result"
    }
   ],
   "source": [
    "len(folder_list)"
   ]
  },
  {
   "cell_type": "code",
   "execution_count": 118,
   "id": "d9dfb807f3fdfb67",
   "metadata": {
    "ExecuteTime": {
     "end_time": "2023-12-15T05:35:49.468416500Z",
     "start_time": "2023-12-15T05:35:49.436504200Z"
    },
    "collapsed": false
   },
   "outputs": [],
   "source": [
    "# source_directory = mpath\n",
    "# destination_directory = \"E:/Breast Data/NotOkData/breast newNAC\"  # Replace with the actual destination directory\n",
    "# move_folders(folder_list, source_directory, destination_directory)"
   ]
  },
  {
   "cell_type": "code",
   "execution_count": 119,
   "id": "a197b50ef104149f",
   "metadata": {
    "ExecuteTime": {
     "end_time": "2023-12-15T05:35:50.542760600Z",
     "start_time": "2023-12-15T05:35:50.510792400Z"
    },
    "collapsed": false
   },
   "outputs": [],
   "source": [
    "no_data_cases = ['10905568', '10937977']"
   ]
  },
  {
   "cell_type": "code",
   "execution_count": 120,
   "id": "c389aa2245d6a4d9",
   "metadata": {
    "ExecuteTime": {
     "end_time": "2023-12-15T05:35:51.087880600Z",
     "start_time": "2023-12-15T05:35:51.056281900Z"
    },
    "collapsed": false
   },
   "outputs": [
    {
     "data": {
      "text/plain": [
       "1129"
      ]
     },
     "execution_count": 120,
     "metadata": {},
     "output_type": "execute_result"
    }
   ],
   "source": [
    "len(all_ok_data)"
   ]
  },
  {
   "cell_type": "code",
   "execution_count": 121,
   "id": "d50691da8bdfffba",
   "metadata": {
    "ExecuteTime": {
     "end_time": "2023-12-15T05:35:51.726092800Z",
     "start_time": "2023-12-15T05:35:51.694146700Z"
    },
    "collapsed": false
   },
   "outputs": [],
   "source": [
    "for pid in no_data_cases:\n",
    "    if pid in all_ok_data:\n",
    "        all_ok_data.remove(pid)"
   ]
  },
  {
   "cell_type": "code",
   "execution_count": 122,
   "id": "2adb448a15eccf97",
   "metadata": {
    "ExecuteTime": {
     "end_time": "2023-12-15T05:35:51.948570600Z",
     "start_time": "2023-12-15T05:35:51.916635900Z"
    },
    "collapsed": false
   },
   "outputs": [
    {
     "data": {
      "text/plain": [
       "1127"
      ]
     },
     "execution_count": 122,
     "metadata": {},
     "output_type": "execute_result"
    }
   ],
   "source": [
    "len(all_ok_data)"
   ]
  },
  {
   "cell_type": "code",
   "execution_count": 123,
   "id": "62c01aa9bea4a7b2",
   "metadata": {
    "ExecuteTime": {
     "end_time": "2023-12-15T05:35:52.123374900Z",
     "start_time": "2023-12-15T05:35:52.092144900Z"
    },
    "collapsed": false
   },
   "outputs": [],
   "source": [
    "# Origin and destination directory\n",
    "d_directory = 'E:/Selected Data/'\n",
    "o_directory = 'H:/Breast MRI/02/sps'"
   ]
  },
  {
   "cell_type": "code",
   "execution_count": 124,
   "id": "fc59402738b39ba5",
   "metadata": {
    "ExecuteTime": {
     "end_time": "2023-12-15T05:35:52.341711100Z",
     "start_time": "2023-12-15T05:35:52.299542Z"
    },
    "collapsed": false
   },
   "outputs": [],
   "source": [
    "patients_ids_8 = []"
   ]
  },
  {
   "cell_type": "code",
   "execution_count": 125,
   "id": "451fbbe2ec5240d6",
   "metadata": {
    "ExecuteTime": {
     "end_time": "2023-12-15T05:35:52.866061400Z",
     "start_time": "2023-12-15T05:35:52.830602200Z"
    },
    "collapsed": false
   },
   "outputs": [],
   "source": [
    "fgt_8 = []"
   ]
  },
  {
   "cell_type": "code",
   "execution_count": 126,
   "id": "35cdfc3795390364",
   "metadata": {
    "ExecuteTime": {
     "end_time": "2023-12-15T05:35:53.070746700Z",
     "start_time": "2023-12-15T05:35:53.039056400Z"
    },
    "collapsed": false
   },
   "outputs": [],
   "source": [
    "bpe_8 = []"
   ]
  },
  {
   "cell_type": "code",
   "execution_count": 127,
   "id": "85f76f3bf3dcd60c",
   "metadata": {
    "ExecuteTime": {
     "end_time": "2023-12-15T05:35:53.266182100Z",
     "start_time": "2023-12-15T05:35:53.218799800Z"
    },
    "collapsed": false
   },
   "outputs": [],
   "source": [
    "# create_pid_folder(d_directory, patients_ids_1)"
   ]
  },
  {
   "cell_type": "code",
   "execution_count": 128,
   "id": "35788571eacba94",
   "metadata": {
    "ExecuteTime": {
     "end_time": "2023-12-15T05:35:53.440085500Z",
     "start_time": "2023-12-15T05:35:53.408286100Z"
    },
    "collapsed": false
   },
   "outputs": [],
   "source": [
    "# automated_copy(o_directory, d_directory, patients_ids_1, fgt_1, bpe_1)"
   ]
  },
  {
   "cell_type": "markdown",
   "id": "3dba98c7477dd260",
   "metadata": {
    "collapsed": false
   },
   "source": [
    "# Part 9\n"
   ]
  },
  {
   "cell_type": "code",
   "execution_count": 129,
   "id": "d81632e886141ca7",
   "metadata": {
    "ExecuteTime": {
     "end_time": "2023-12-15T05:35:54.873370200Z",
     "start_time": "2023-12-15T05:35:54.841904600Z"
    },
    "collapsed": false
   },
   "outputs": [],
   "source": [
    "mpath = \"G:/Breast Data/nac\"\n",
    "folder_names_part9 = []\n",
    "folder_names_part9 = get_folder_names(mpath, folder_names_part9)"
   ]
  },
  {
   "cell_type": "code",
   "execution_count": 130,
   "id": "505e9f9de1c460ac",
   "metadata": {
    "ExecuteTime": {
     "end_time": "2023-12-15T05:35:55.275685400Z",
     "start_time": "2023-12-15T05:35:55.243670200Z"
    },
    "collapsed": false
   },
   "outputs": [],
   "source": [
    "folder_list = []\n",
    "for name in folder_names_part9:\n",
    "    if name not in all_ok_data:\n",
    "        print(name)\n",
    "        folder_list.append(name)"
   ]
  },
  {
   "cell_type": "code",
   "execution_count": 131,
   "id": "8f5085f71ca7364f",
   "metadata": {
    "ExecuteTime": {
     "end_time": "2023-12-15T05:35:56.181774900Z",
     "start_time": "2023-12-15T05:35:56.151495600Z"
    },
    "collapsed": false
   },
   "outputs": [
    {
     "data": {
      "text/plain": [
       "0"
      ]
     },
     "execution_count": 131,
     "metadata": {},
     "output_type": "execute_result"
    }
   ],
   "source": [
    "len(folder_list)"
   ]
  },
  {
   "cell_type": "code",
   "execution_count": 132,
   "id": "a05f446630b405d4",
   "metadata": {
    "ExecuteTime": {
     "end_time": "2023-12-15T05:39:01.373886500Z",
     "start_time": "2023-12-15T05:39:01.328000100Z"
    },
    "collapsed": false
   },
   "outputs": [],
   "source": [
    "# source_directory = mpath\n",
    "# destination_directory = \"G:/Breast Data/NotOkData/nac\"  # Replace with the actual destination directory\n",
    "# move_folders(folder_list, source_directory, destination_directory)"
   ]
  },
  {
   "cell_type": "code",
   "execution_count": 133,
   "id": "4ab014abe6e38f40",
   "metadata": {
    "ExecuteTime": {
     "end_time": "2023-12-15T05:39:01.596764100Z",
     "start_time": "2023-12-15T05:39:01.562650300Z"
    },
    "collapsed": false
   },
   "outputs": [],
   "source": [
    "no_data_cases = []"
   ]
  },
  {
   "cell_type": "code",
   "execution_count": 134,
   "id": "9f95fe134f3a8689",
   "metadata": {
    "ExecuteTime": {
     "end_time": "2023-12-15T05:39:01.796858500Z",
     "start_time": "2023-12-15T05:39:01.765744600Z"
    },
    "collapsed": false
   },
   "outputs": [
    {
     "data": {
      "text/plain": [
       "1127"
      ]
     },
     "execution_count": 134,
     "metadata": {},
     "output_type": "execute_result"
    }
   ],
   "source": [
    "len(all_ok_data)"
   ]
  },
  {
   "cell_type": "code",
   "execution_count": 135,
   "id": "95ba2d282bfd46b8",
   "metadata": {
    "ExecuteTime": {
     "end_time": "2023-12-15T05:39:02.211876Z",
     "start_time": "2023-12-15T05:39:02.202100800Z"
    },
    "collapsed": false
   },
   "outputs": [],
   "source": [
    "for pid in no_data_cases:\n",
    "    if pid in all_ok_data:\n",
    "        all_ok_data.remove(pid)"
   ]
  },
  {
   "cell_type": "code",
   "execution_count": 136,
   "id": "a0cba876e57cca46",
   "metadata": {
    "ExecuteTime": {
     "end_time": "2023-12-15T05:39:03.485961700Z",
     "start_time": "2023-12-15T05:39:03.454497900Z"
    },
    "collapsed": false
   },
   "outputs": [
    {
     "data": {
      "text/plain": [
       "1127"
      ]
     },
     "execution_count": 136,
     "metadata": {},
     "output_type": "execute_result"
    }
   ],
   "source": [
    "len(all_ok_data)"
   ]
  },
  {
   "cell_type": "code",
   "execution_count": 137,
   "id": "ef97efd2780012a8",
   "metadata": {
    "ExecuteTime": {
     "end_time": "2023-12-15T05:39:03.724324200Z",
     "start_time": "2023-12-15T05:39:03.698361100Z"
    },
    "collapsed": false
   },
   "outputs": [],
   "source": [
    "# Origin and destination directory\n",
    "d_directory = 'E:/Selected Data/'\n",
    "o_directory = 'H:/Breast MRI/02/sps'"
   ]
  },
  {
   "cell_type": "code",
   "execution_count": 138,
   "id": "62a350f60bd26df1",
   "metadata": {
    "ExecuteTime": {
     "end_time": "2023-12-15T05:39:04.011946300Z",
     "start_time": "2023-12-15T05:39:03.980231900Z"
    },
    "collapsed": false
   },
   "outputs": [],
   "source": [
    "patients_ids_9 = []"
   ]
  },
  {
   "cell_type": "code",
   "execution_count": 139,
   "id": "71fc01a71ab0afef",
   "metadata": {
    "ExecuteTime": {
     "end_time": "2023-12-15T05:39:04.293339Z",
     "start_time": "2023-12-15T05:39:04.270583100Z"
    },
    "collapsed": false
   },
   "outputs": [],
   "source": [
    "fgt_9 = []"
   ]
  },
  {
   "cell_type": "code",
   "execution_count": 140,
   "id": "21d4aa80c0b341f0",
   "metadata": {
    "ExecuteTime": {
     "end_time": "2023-12-15T05:39:04.767635600Z",
     "start_time": "2023-12-15T05:39:04.751566200Z"
    },
    "collapsed": false
   },
   "outputs": [],
   "source": [
    "bpe_9 = []"
   ]
  },
  {
   "cell_type": "code",
   "execution_count": 141,
   "id": "268f90c29fe23a1e",
   "metadata": {
    "ExecuteTime": {
     "end_time": "2023-12-15T05:39:07.412871500Z",
     "start_time": "2023-12-15T05:39:07.380946Z"
    },
    "collapsed": false
   },
   "outputs": [],
   "source": [
    "# create_pid_folder(d_directory, patients_ids_9)"
   ]
  },
  {
   "cell_type": "code",
   "execution_count": 142,
   "id": "31f6d209eab9cf5f",
   "metadata": {
    "ExecuteTime": {
     "end_time": "2023-12-15T05:39:07.664013400Z",
     "start_time": "2023-12-15T05:39:07.653568200Z"
    },
    "collapsed": false
   },
   "outputs": [],
   "source": [
    "# automated_copy(o_directory, d_directory, patients_ids_9, fgt_9, bpe_9)"
   ]
  },
  {
   "cell_type": "markdown",
   "id": "9d8d3a300794893a",
   "metadata": {
    "collapsed": false
   },
   "source": [
    "# Part 10\n"
   ]
  },
  {
   "cell_type": "code",
   "execution_count": 156,
   "id": "20993da662df4865",
   "metadata": {
    "ExecuteTime": {
     "end_time": "2023-12-15T06:57:14.954023700Z",
     "start_time": "2023-12-15T06:57:14.892005200Z"
    },
    "collapsed": false
   },
   "outputs": [],
   "source": [
    "mpath = \"G:/Breast Data/sps\"\n",
    "folder_names_part10 = []\n",
    "folder_names_part10 = get_folder_names(mpath, folder_names_part10)"
   ]
  },
  {
   "cell_type": "code",
   "execution_count": 157,
   "id": "c7c5fbc5175114ef",
   "metadata": {
    "ExecuteTime": {
     "end_time": "2023-12-15T06:57:15.131803600Z",
     "start_time": "2023-12-15T06:57:15.100395Z"
    },
    "collapsed": false
   },
   "outputs": [],
   "source": [
    "folder_list = []\n",
    "for name in folder_names_part10:\n",
    "    if name not in all_ok_data:\n",
    "        print(name)\n",
    "        folder_list.append(name)"
   ]
  },
  {
   "cell_type": "code",
   "execution_count": 158,
   "id": "e2a7a55130b8684",
   "metadata": {
    "ExecuteTime": {
     "end_time": "2023-12-15T06:57:15.814667100Z",
     "start_time": "2023-12-15T06:57:15.755601700Z"
    },
    "collapsed": false
   },
   "outputs": [
    {
     "data": {
      "text/plain": [
       "0"
      ]
     },
     "execution_count": 158,
     "metadata": {},
     "output_type": "execute_result"
    }
   ],
   "source": [
    "len(folder_list)"
   ]
  },
  {
   "cell_type": "code",
   "execution_count": 159,
   "id": "4cea008715fb9dc0",
   "metadata": {
    "ExecuteTime": {
     "end_time": "2023-12-15T06:57:16.348315100Z",
     "start_time": "2023-12-15T06:57:16.285327500Z"
    },
    "collapsed": false
   },
   "outputs": [],
   "source": [
    "# source_directory = mpath\n",
    "# destination_directory = \"G:/Breast Data/NotOkData/sps\"  # Replace with the actual destination directory\n",
    "# move_folders(folder_list, source_directory, destination_directory)"
   ]
  },
  {
   "cell_type": "code",
   "execution_count": 160,
   "id": "2ce09b8173210fd0",
   "metadata": {
    "ExecuteTime": {
     "end_time": "2023-12-15T06:57:16.723169900Z",
     "start_time": "2023-12-15T06:57:16.676404300Z"
    },
    "collapsed": false
   },
   "outputs": [],
   "source": [
    "no_data_cases = ['8867592']"
   ]
  },
  {
   "cell_type": "code",
   "execution_count": 161,
   "id": "9e539290775357a3",
   "metadata": {
    "ExecuteTime": {
     "end_time": "2023-12-15T06:57:17.849101200Z",
     "start_time": "2023-12-15T06:57:17.802131200Z"
    },
    "collapsed": false
   },
   "outputs": [
    {
     "data": {
      "text/plain": [
       "1127"
      ]
     },
     "execution_count": 161,
     "metadata": {},
     "output_type": "execute_result"
    }
   ],
   "source": [
    "len(all_ok_data)"
   ]
  },
  {
   "cell_type": "code",
   "execution_count": 162,
   "id": "e9e1d196252c5c50",
   "metadata": {
    "ExecuteTime": {
     "end_time": "2023-12-15T06:57:19.003724800Z",
     "start_time": "2023-12-15T06:57:18.970449900Z"
    },
    "collapsed": false
   },
   "outputs": [],
   "source": [
    "for pid in no_data_cases:\n",
    "    if pid in all_ok_data:\n",
    "        all_ok_data.remove(pid)"
   ]
  },
  {
   "cell_type": "code",
   "execution_count": 163,
   "id": "ff3f921539d857d8",
   "metadata": {
    "ExecuteTime": {
     "end_time": "2023-12-15T06:57:19.332845700Z",
     "start_time": "2023-12-15T06:57:19.301330900Z"
    },
    "collapsed": false
   },
   "outputs": [
    {
     "data": {
      "text/plain": [
       "1126"
      ]
     },
     "execution_count": 163,
     "metadata": {},
     "output_type": "execute_result"
    }
   ],
   "source": [
    "len(all_ok_data)"
   ]
  },
  {
   "cell_type": "code",
   "execution_count": 137,
   "id": "b9f840e50cc220b3",
   "metadata": {
    "collapsed": false
   },
   "outputs": [],
   "source": [
    "# Origin and destination directory\n",
    "d_directory = 'E:/Selected Data/'\n",
    "o_directory = 'H:/Breast MRI/02/sps'"
   ]
  },
  {
   "cell_type": "code",
   "execution_count": 138,
   "id": "903b6b4c5b648015",
   "metadata": {
    "collapsed": false
   },
   "outputs": [],
   "source": [
    "patients_ids_10 = []"
   ]
  },
  {
   "cell_type": "code",
   "execution_count": 139,
   "id": "63777c6f1ab67a1c",
   "metadata": {
    "collapsed": false
   },
   "outputs": [],
   "source": [
    "fgt_10 = []"
   ]
  },
  {
   "cell_type": "code",
   "execution_count": 140,
   "id": "3f445f12d238d8dc",
   "metadata": {
    "collapsed": false
   },
   "outputs": [],
   "source": [
    "bpe_10 = []"
   ]
  },
  {
   "cell_type": "code",
   "execution_count": 141,
   "id": "e403e398ad83717e",
   "metadata": {
    "collapsed": false
   },
   "outputs": [],
   "source": [
    "# create_pid_folder(d_directory, patients_ids_10)"
   ]
  },
  {
   "cell_type": "code",
   "execution_count": 142,
   "id": "37ba20fc65095d6a",
   "metadata": {
    "collapsed": false
   },
   "outputs": [],
   "source": [
    "# automated_copy(o_directory, d_directory, patients_ids_10, fgt_10, bpe_10)"
   ]
  }
 ],
 "metadata": {
  "kernelspec": {
   "display_name": "Python 3",
   "language": "python",
   "name": "python3"
  },
  "language_info": {
   "codemirror_mode": {
    "name": "ipython",
    "version": 3
   },
   "file_extension": ".py",
   "mimetype": "text/x-python",
   "name": "python",
   "nbconvert_exporter": "python",
   "pygments_lexer": "ipython3",
   "version": "3.9.7"
  }
 },
 "nbformat": 4,
 "nbformat_minor": 5
}
