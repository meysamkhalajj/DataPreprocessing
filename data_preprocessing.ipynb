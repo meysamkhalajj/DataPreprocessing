{
 "cells": [
  {
   "cell_type": "code",
   "execution_count": 1,
   "id": "initial_id",
   "metadata": {
    "collapsed": true,
    "ExecuteTime": {
     "end_time": "2024-01-16T09:20:04.035497500Z",
     "start_time": "2024-01-16T09:20:02.530430800Z"
    }
   },
   "outputs": [],
   "source": [
    "import os\n",
    "import shutil\n",
    "import pandas as pd\n",
    "import pyreadstat\n",
    "import numpy as np\n",
    "from PIL import Image\n",
    "import pydicom\n",
    "import matplotlib.pyplot as plt\n",
    "import cv2"
   ]
  },
  {
   "cell_type": "code",
   "execution_count": 2,
   "outputs": [],
   "source": [
    "data, meta = pyreadstat.read_sav('Dr.miratashi_3 copy.sav')"
   ],
   "metadata": {
    "collapsed": false,
    "ExecuteTime": {
     "end_time": "2024-01-16T09:20:04.042849300Z",
     "start_time": "2024-01-16T09:20:04.003792200Z"
    }
   },
   "id": "81a82c0a5d7bfb0a"
  },
  {
   "cell_type": "code",
   "execution_count": 3,
   "outputs": [],
   "source": [
    "def move_folders(folder_list, source_directory, destination_directory):\n",
    "    for folder_name in folder_list:\n",
    "        source_path = os.path.join(source_directory, folder_name)\n",
    "        destination_path = os.path.join(destination_directory, folder_name)\n",
    "        shutil.move(source_path, destination_path)\n",
    "        print(f\"Moved folder '{folder_name}' from '{source_directory}' to '{destination_directory}'\")"
   ],
   "metadata": {
    "collapsed": false,
    "ExecuteTime": {
     "end_time": "2024-01-16T09:20:04.058556100Z",
     "start_time": "2024-01-16T09:20:04.019446800Z"
    }
   },
   "id": "f1dfca7c2c9b73f3"
  },
  {
   "cell_type": "code",
   "execution_count": 4,
   "outputs": [],
   "source": [
    "def create_pid_folder(parent_directory, pid1):\n",
    "    for folder_name in pid1:\n",
    "        if type(folder_name) == str:\n",
    "            folder_path = os.path.join(parent_directory, folder_name)\n",
    "        else:\n",
    "            folder_path = os.path.join(parent_directory, str(folder_name))\n",
    "            \n",
    "        os.makedirs(folder_path, exist_ok=True)\n",
    "\n",
    "        # Create the \"FGT\" and \"BPE\" sub folders within each folder\n",
    "        fgt_folder_path = os.path.join(folder_path, 'FGT')\n",
    "        bpe_folder_path = os.path.join(folder_path, 'BPE')\n",
    "        os.makedirs(fgt_folder_path, exist_ok=True)\n",
    "        os.makedirs(bpe_folder_path, exist_ok=True)"
   ],
   "metadata": {
    "collapsed": false,
    "ExecuteTime": {
     "end_time": "2024-01-16T09:20:04.074151800Z",
     "start_time": "2024-01-16T09:20:04.035497500Z"
    }
   },
   "id": "e0aaf0300051162c"
  },
  {
   "cell_type": "code",
   "execution_count": 5,
   "outputs": [],
   "source": [
    "def automated_copy(origin_directory, destination_directory, pid2, fgt_idx, bpe_idx):\n",
    "    present_data = []\n",
    "    present_data = get_folder_names(destination_directory, present_data)\n",
    "    create_pid_folder(destination_directory, pid2)\n",
    "    unique_idx = []\n",
    "    img_folder_names = []\n",
    "    for idx3, patient_id in enumerate(pid2):\n",
    "        if str(patient_id) in present_data:\n",
    "            continue\n",
    "        else:\n",
    "            unique_idx.append(idx3)\n",
    "            dcm_directory = origin_directory + str(patient_id) + '/IMAGE/DCM/'\n",
    "            for k, (root, dirs, files) in enumerate(os.walk(dcm_directory)):\n",
    "                if k == 0:\n",
    "                    img_folder_names.append(dcm_directory + str(dirs[k]))\n",
    "\n",
    "    c = 0           \n",
    "    for idx1, patient_id in enumerate(pid2):\n",
    "        print(f\"i={idx1} | pid={patient_id}\")\n",
    "        if idx1 not in unique_idx:\n",
    "            print(f\"{idx1} is not in the unique idx\")\n",
    "            continue\n",
    "        else:\n",
    "            start_fgt, end_fgt = fgt_idx[idx1]\n",
    "            start_bpe, end_bpe = bpe_idx[idx1]\n",
    "            \n",
    "            difference_fgt = end_fgt - start_fgt\n",
    "            difference_bpe = end_bpe - start_bpe\n",
    "            if difference_fgt != difference_bpe:\n",
    "                print(\"Slice Number is Different for FGT and BPE\")\n",
    "                break\n",
    "            destination_fgt_folder = destination_directory + str(patient_id) + '/FGT'\n",
    "            destination_bpe_folder = destination_directory + str(patient_id) + '/BPE'\n",
    "            for j1 in range(start_fgt, end_fgt+1):\n",
    "                if len(str(j1)) == 4:\n",
    "                    fgt_img_directory = img_folder_names[c] + '/I000' + str(j1)\n",
    "                else:\n",
    "                    fgt_img_directory = img_folder_names[c] + '/I0000' + str(j1)\n",
    "                shutil.copy(fgt_img_directory, destination_fgt_folder)\n",
    "                \n",
    "            for j2 in range(start_bpe, end_bpe+1):\n",
    "                if len(str(j2)) == 4:\n",
    "                    bpe_img_directory = img_folder_names[c] + '/I000' + str(j2)\n",
    "                else:\n",
    "                    bpe_img_directory = img_folder_names[c] + '/I0000' + str(j2)\n",
    "                shutil.copy(bpe_img_directory, destination_bpe_folder)\n",
    "            c += 1"
   ],
   "metadata": {
    "collapsed": false,
    "ExecuteTime": {
     "end_time": "2024-01-16T09:20:04.105400700Z",
     "start_time": "2024-01-16T09:20:04.042849300Z"
    }
   },
   "id": "b3c92313820b328c"
  },
  {
   "cell_type": "code",
   "execution_count": 6,
   "outputs": [],
   "source": [
    "def get_folder_names(path, folders):\n",
    "    for entry in os.scandir(path):\n",
    "        if entry.is_dir():\n",
    "            folders.append(entry.name)\n",
    "    return folders"
   ],
   "metadata": {
    "collapsed": false,
    "ExecuteTime": {
     "end_time": "2024-01-16T09:20:04.105400700Z",
     "start_time": "2024-01-16T09:20:04.058556100Z"
    }
   },
   "id": "17b792ac5d4014e3"
  },
  {
   "cell_type": "code",
   "execution_count": 7,
   "outputs": [],
   "source": [
    "def get_file_names(files_path):\n",
    "    files_names = os.listdir(files_path)\n",
    "    return files_names"
   ],
   "metadata": {
    "collapsed": false,
    "ExecuteTime": {
     "end_time": "2024-01-16T09:20:04.126896100Z",
     "start_time": "2024-01-16T09:20:04.074151800Z"
    }
   },
   "id": "d26c081ebb95936b"
  },
  {
   "cell_type": "code",
   "execution_count": 8,
   "outputs": [],
   "source": [
    "def normalize_array(array):\n",
    "    # Normalize the array to the range [0, 255]\n",
    "    min_val = np.min(array)\n",
    "    max_val = np.max(array)\n",
    "    normalized_array = (array - min_val) * (255.0 / (max_val - min_val))\n",
    "\n",
    "    # Convert the array to uint8 data type\n",
    "    normalized_array = normalized_array.astype(np.uint8)\n",
    "\n",
    "    return normalized_array"
   ],
   "metadata": {
    "collapsed": false,
    "ExecuteTime": {
     "end_time": "2024-01-16T09:20:04.136932300Z",
     "start_time": "2024-01-16T09:20:04.089776200Z"
    }
   },
   "id": "6e374a2b2e2d215e"
  },
  {
   "cell_type": "code",
   "execution_count": 9,
   "outputs": [],
   "source": [
    "def slice_checker(fgt_list, bpe_list, pid_list):\n",
    "    for i in range(len(fgt_list)):\n",
    "        start_fgt, end_fgt = fgt_list[i]\n",
    "        start_bpe, end_bpe = bpe_list[i]\n",
    "        \n",
    "        difference_fgt = end_fgt - start_fgt\n",
    "        difference_bpe = end_bpe - start_bpe\n",
    "        if difference_fgt != difference_bpe:\n",
    "            print(f\"Slice Number is Different for FGT and BPE of {pid_list[i]}\")"
   ],
   "metadata": {
    "collapsed": false,
    "ExecuteTime": {
     "end_time": "2024-01-16T09:20:04.168193700Z",
     "start_time": "2024-01-16T09:20:04.105400700Z"
    }
   },
   "id": "41daba5ae10d3d14"
  },
  {
   "cell_type": "code",
   "execution_count": 10,
   "outputs": [],
   "source": [
    "def img_preprocess(dicom_img_path, t_percentage, margin_value, output_shape=None):\n",
    "    ds = pydicom.dcmread(dicom_img_path)\n",
    "    pixel_array = ds.pixel_array\n",
    "    \n",
    "    img_max = np.max(pixel_array)\n",
    "    t = np.round(t_percentage/100 * img_max)\n",
    "    pixel_array[pixel_array<t] = 0\n",
    "    \n",
    "    pixel_array = normalize_array(pixel_array)\n",
    "    pixel_array = np.rot90(pixel_array, k=2)\n",
    "    \n",
    "    img_row, img_column = pixel_array.shape\n",
    "    \n",
    "    # Find P1\n",
    "    p1 = [0, 0]\n",
    "    flag = False\n",
    "    for row in range(img_row):\n",
    "        if flag:\n",
    "            break\n",
    "            \n",
    "        for column in range(img_column//2):\n",
    "            if pixel_array[row, column] != 0:\n",
    "                p1 = [row, column]\n",
    "                flag = True\n",
    "                break\n",
    "            \n",
    "    # Find P2\n",
    "    p2 = [0, 0]\n",
    "    flag = False\n",
    "    for row in range(img_row):\n",
    "        if flag:\n",
    "            break\n",
    "    \n",
    "        for column in range(img_column-1, img_column//2, -1):\n",
    "            if pixel_array[row, column] != 0:\n",
    "                p2 = [row, column]\n",
    "                flag = True\n",
    "                break\n",
    "            \n",
    "    # Find P3\n",
    "    p3_column = (p1[1] + p2[1])//2\n",
    "    p3 = [0, 0]\n",
    "    for row in range(165, img_row):\n",
    "        if pixel_array[row, p3_column] != 0:\n",
    "            p3 = [row, p3_column]\n",
    "            break\n",
    "            \n",
    "    img_upper = pixel_array[1:(p3[0]+margin_value),:]\n",
    "    img_lower = pixel_array[(p3[0]+1):img_row,:]\n",
    "\n",
    "    final_image = np.zeros((img_row, img_column), dtype=np.uint8)\n",
    "    final_image[1:(p3[0]+margin_value), :] = img_upper\n",
    "    \n",
    "    if output_shape != None:\n",
    "        final_image = cv2.resize(src=final_image, dsize=output_shape, interpolation=cv2.INTER_CUBIC)\n",
    "    \n",
    "    return final_image, p3"
   ],
   "metadata": {
    "collapsed": false,
    "ExecuteTime": {
     "end_time": "2024-01-16T09:20:04.199813500Z",
     "start_time": "2024-01-16T09:20:04.126896100Z"
    }
   },
   "id": "93d729ed9cb0a2a0"
  },
  {
   "cell_type": "code",
   "execution_count": 11,
   "outputs": [],
   "source": [
    "def bpe_process(dicom_img_path, t_percentage, margin_value, p3, output_shape=None):\n",
    "    ds = pydicom.dcmread(dicom_img_path)\n",
    "    pixel_array = ds.pixel_array\n",
    "    \n",
    "    # img_max = np.max(pixel_array)\n",
    "    # t = np.round(t_percentage/100 * img_max)\n",
    "    # pixel_array[pixel_array<t] = 0\n",
    "    \n",
    "    pixel_array = normalize_array(pixel_array)\n",
    "    pixel_array = np.rot90(pixel_array, k=2)\n",
    "    \n",
    "    img_row, img_column = pixel_array.shape\n",
    "    \n",
    "    img_upper = pixel_array[1:(p3[0]+margin_value),:]\n",
    "    img_lower = pixel_array[(p3[0]+1):img_row,:]\n",
    "\n",
    "    final_image = np.zeros((img_row, img_column), dtype=np.uint8)\n",
    "    final_image[1:(p3[0]+margin_value), :] = img_upper\n",
    "    \n",
    "    if output_shape != None:\n",
    "        final_image = cv2.resize(src=final_image, dsize=output_shape, interpolation=cv2.INTER_CUBIC)\n",
    "        \n",
    "    return final_image"
   ],
   "metadata": {
    "collapsed": false,
    "ExecuteTime": {
     "end_time": "2024-01-16T09:20:04.231458200Z",
     "start_time": "2024-01-16T09:20:04.136932300Z"
    }
   },
   "id": "fd159f2090f9e7bc"
  },
  {
   "cell_type": "code",
   "execution_count": 12,
   "outputs": [],
   "source": [
    "def save_array_as_image(array, file_path, file_format='PNG'):\n",
    "    # Convert the NumPy array to PIL image\n",
    "    image = Image.fromarray(array)\n",
    "    # Save the image file\n",
    "    image.save(file_path, format=file_format)"
   ],
   "metadata": {
    "collapsed": false,
    "ExecuteTime": {
     "end_time": "2024-01-16T09:20:04.231458200Z",
     "start_time": "2024-01-16T09:20:04.152569500Z"
    }
   },
   "id": "b36b4ed95fde8b7b"
  },
  {
   "cell_type": "code",
   "execution_count": 13,
   "outputs": [],
   "source": [
    "def dicom_to_png(files_path, destination_path, slice_number=None, out_shape=None):\n",
    "    final_folder_names = []\n",
    "    final_folder_names = get_folder_names(files_path, final_folder_names)  # Folder names have str data type\n",
    "    final_folder_names.sort()\n",
    "    \n",
    "    create_pid_folder(destination_path, final_folder_names)\n",
    "    \n",
    "    for p_idx, pid in enumerate(final_folder_names):\n",
    "        print(f\"index: {p_idx}  |  pid: {pid}\")\n",
    "        fgt_path = files_path + pid + '/FGT/'\n",
    "        bpe_path = files_path + pid + '/BPE/'\n",
    "        \n",
    "        fgt_dicom_names = get_file_names(fgt_path)  # File names have str data type\n",
    "        bpe_dicom_names = get_file_names(bpe_path)  # File names have str data type\n",
    "        fgt_dicom_names.sort()\n",
    "        bpe_dicom_names.sort()\n",
    "        \n",
    "        center_index = len(fgt_dicom_names)//2\n",
    "        \n",
    "        if slice_number == None:\n",
    "            index_range = np.arange(center_index-center_index, center_index+center_index)\n",
    "        else:\n",
    "            index_range = np.arange(center_index-slice_number//2, center_index+slice_number//2)\n",
    "            \n",
    "        for idx, data_index in enumerate(index_range):\n",
    "            fgt_file_path = fgt_path + fgt_dicom_names[data_index]\n",
    "            fgt_destination_path = destination_path + pid + '/FGT/' + str(idx) + '.png'\n",
    "            img, p3 = img_preprocess(dicom_img_path=fgt_file_path, t_percentage=10, margin_value=15, output_shape=out_shape)\n",
    "            save_array_as_image(img, fgt_destination_path, file_format='PNG')\n",
    "            \n",
    "            bpe_file_path = bpe_path + bpe_dicom_names[data_index]\n",
    "            bpe_destination_path = destination_path + pid + '/BPE/' + str(idx) + '.png'\n",
    "            img = bpe_process(dicom_img_path=bpe_file_path, t_percentage=10, margin_value=15, p3=p3, output_shape=out_shape)\n",
    "            save_array_as_image(img, bpe_destination_path, file_format='PNG')"
   ],
   "metadata": {
    "collapsed": false,
    "ExecuteTime": {
     "end_time": "2024-01-16T09:20:04.451932600Z",
     "start_time": "2024-01-16T09:20:04.293964600Z"
    }
   },
   "id": "bd622fbd8189342e"
  },
  {
   "cell_type": "markdown",
   "source": [
    "# Data Preprocessing\n",
    "## Step 1\n",
    "### At this step, we get the unique patient IDs and remove data with multiple diagnosis."
   ],
   "metadata": {
    "collapsed": false
   },
   "id": "bec405a5da641e0d"
  },
  {
   "cell_type": "code",
   "execution_count": 44,
   "outputs": [],
   "source": [
    "folder_names = []\n",
    "\n",
    "mpath = 'E:/Breast Data/Breast/'\n",
    "folder_names = get_folder_names(mpath, folder_names)\n",
    "\n",
    "mpath = 'E:/Breast Data/breast newNAC'\n",
    "folder_names = get_folder_names(mpath, folder_names)\n",
    "\n",
    "mpath = 'H:/Breast MRI/01/sps'\n",
    "folder_names = get_folder_names(mpath, folder_names)\n",
    "\n",
    "mpath = 'H:/Breast MRI/02/sps'\n",
    "folder_names = get_folder_names(mpath, folder_names)\n",
    "\n",
    "mpath = 'H:/Breast MRI/03/breast new'\n",
    "folder_names = get_folder_names(mpath, folder_names)\n",
    "\n",
    "mpath = 'H:/Breast MRI/03/breast new 2'\n",
    "folder_names = get_folder_names(mpath, folder_names)\n",
    "\n",
    "mpath = 'H:/Breast MRI/03/nac'\n",
    "folder_names = get_folder_names(mpath, folder_names)\n",
    "\n",
    "mpath = 'H:/Breast MRI/03/sps'\n",
    "folder_names = get_folder_names(mpath, folder_names)\n",
    "\n",
    "mpath = 'G:/Breast Data/nac'\n",
    "folder_names = get_folder_names(mpath, folder_names)\n",
    "\n",
    "mpath = 'G:/Breast Data/sps'\n",
    "folder_names = get_folder_names(mpath, folder_names)\n"
   ],
   "metadata": {
    "collapsed": false,
    "ExecuteTime": {
     "end_time": "2024-01-07T10:58:05.581125700Z",
     "start_time": "2024-01-07T10:58:04.499501200Z"
    }
   },
   "id": "a2bd7b3aa7b7f533"
  },
  {
   "cell_type": "code",
   "execution_count": 381,
   "outputs": [],
   "source": [
    "folder_names = np.array(folder_names)"
   ],
   "metadata": {
    "collapsed": false,
    "ExecuteTime": {
     "end_time": "2024-01-03T17:00:50.486202300Z",
     "start_time": "2024-01-03T17:00:47.668790500Z"
    }
   },
   "id": "657c92de5f37174"
  },
  {
   "cell_type": "code",
   "execution_count": 382,
   "outputs": [],
   "source": [
    "folder_names_unique = np.unique(folder_names)"
   ],
   "metadata": {
    "collapsed": false,
    "ExecuteTime": {
     "end_time": "2024-01-03T17:00:50.784083400Z",
     "start_time": "2024-01-03T17:00:47.684593300Z"
    }
   },
   "id": "1d93d1f3a3b3311b"
  },
  {
   "cell_type": "code",
   "execution_count": 383,
   "outputs": [],
   "source": [
    "data_codes = np.array(data.code)\n",
    "data_codes_unique = np.unique(data_codes)"
   ],
   "metadata": {
    "collapsed": false,
    "ExecuteTime": {
     "end_time": "2024-01-03T17:00:51.115767600Z",
     "start_time": "2024-01-03T17:00:47.700380500Z"
    }
   },
   "id": "5723b805ae0df294"
  },
  {
   "cell_type": "code",
   "execution_count": 384,
   "outputs": [],
   "source": [
    "same_codes_unique = []\n",
    "for i in folder_names_unique:\n",
    "    if i in data_codes_unique:\n",
    "        same_codes_unique.append(i)\n",
    "        \n",
    "same_codes_unique = np.array(same_codes_unique)"
   ],
   "metadata": {
    "collapsed": false,
    "ExecuteTime": {
     "end_time": "2024-01-03T17:00:51.816428100Z",
     "start_time": "2024-01-03T17:00:47.716024300Z"
    }
   },
   "id": "c0eb0a1434b60506"
  },
  {
   "cell_type": "code",
   "execution_count": 385,
   "outputs": [],
   "source": [
    "not_in_dataset = []\n",
    "for i in data_codes_unique:\n",
    "    if i not in same_codes_unique:\n",
    "        not_in_dataset.append(i)\n",
    "\n",
    "not_in_dataset_unique = np.unique(np.array(not_in_dataset))"
   ],
   "metadata": {
    "collapsed": false,
    "ExecuteTime": {
     "end_time": "2024-01-03T17:00:51.834916400Z",
     "start_time": "2024-01-03T17:00:47.731859300Z"
    }
   },
   "id": "2856d69c16837c23"
  },
  {
   "cell_type": "code",
   "execution_count": 386,
   "outputs": [],
   "source": [
    "same_codes_unique_mdd_removed = []\n",
    "for i in same_codes_unique:\n",
    "    if np.array(data[data.code == i].FG).shape[0] > 1:\n",
    "        fg_i = np.array(data[data.code == i].FG)\n",
    "        bpe_i = np.array(data[data.code == i].BPE)\n",
    "        if np.all(fg_i==fg_i[0]) and np.all(bpe_i==bpe_i[0]):\n",
    "            same_codes_unique_mdd_removed.append(i)\n",
    "    else:\n",
    "        same_codes_unique_mdd_removed.append(i)"
   ],
   "metadata": {
    "collapsed": false,
    "ExecuteTime": {
     "end_time": "2024-01-03T17:00:51.856327500Z",
     "start_time": "2024-01-03T17:00:47.747882400Z"
    }
   },
   "id": "caadb43a2071fb3d"
  },
  {
   "cell_type": "code",
   "execution_count": 387,
   "outputs": [],
   "source": [
    "not_in_dataset_unique_mdd_removed = []\n",
    "for i in not_in_dataset_unique:\n",
    "    if np.array(data[data.code == i].FG).shape[0] > 1:\n",
    "        fg_i = np.array(data[data.code == i].FG)\n",
    "        bpe_i = np.array(data[data.code == i].BPE)\n",
    "        if np.all(fg_i==fg_i[0]) and np.all(bpe_i==bpe_i[0]):\n",
    "            not_in_dataset_unique_mdd_removed.append(i)\n",
    "    else:\n",
    "        not_in_dataset_unique_mdd_removed.append(i)\n",
    "        "
   ],
   "metadata": {
    "collapsed": false,
    "ExecuteTime": {
     "end_time": "2024-01-03T17:00:51.856327500Z",
     "start_time": "2024-01-03T17:00:47.857684500Z"
    }
   },
   "id": "a3dd3c158469a49a"
  },
  {
   "cell_type": "code",
   "execution_count": 388,
   "outputs": [],
   "source": [
    "all_ok_data = same_codes_unique_mdd_removed + not_in_dataset_unique_mdd_removed"
   ],
   "metadata": {
    "collapsed": false,
    "ExecuteTime": {
     "end_time": "2024-01-03T17:00:51.856327500Z",
     "start_time": "2024-01-03T17:00:48.015544800Z"
    }
   },
   "id": "56186240dbf4c6dc"
  },
  {
   "cell_type": "code",
   "execution_count": 389,
   "outputs": [
    {
     "data": {
      "text/plain": "1146"
     },
     "execution_count": 389,
     "metadata": {},
     "output_type": "execute_result"
    }
   ],
   "source": [
    "len(all_ok_data)"
   ],
   "metadata": {
    "collapsed": false,
    "ExecuteTime": {
     "end_time": "2024-01-03T17:00:51.856327500Z",
     "start_time": "2024-01-03T17:00:48.031468900Z"
    }
   },
   "id": "29ec7ac755b2bcec"
  },
  {
   "cell_type": "markdown",
   "source": [
    "# Part 1"
   ],
   "metadata": {
    "collapsed": false
   },
   "id": "905b64073df0943d"
  },
  {
   "cell_type": "code",
   "execution_count": 390,
   "outputs": [],
   "source": [
    "mpath = 'H:/Breast MRI/01/sps'\n",
    "folder_names_part1 = []\n",
    "folder_names_part1 = get_folder_names(mpath, folder_names_part1)"
   ],
   "metadata": {
    "collapsed": false,
    "ExecuteTime": {
     "end_time": "2024-01-03T17:00:51.856327500Z",
     "start_time": "2024-01-03T17:00:48.047328800Z"
    }
   },
   "id": "4fb8a431cc68c4a1"
  },
  {
   "cell_type": "code",
   "execution_count": 391,
   "outputs": [],
   "source": [
    "for name in folder_names_part1:\n",
    "    if name not in all_ok_data:\n",
    "        print(name)"
   ],
   "metadata": {
    "collapsed": false,
    "ExecuteTime": {
     "end_time": "2024-01-03T17:00:51.856327500Z",
     "start_time": "2024-01-03T17:00:48.063827900Z"
    }
   },
   "id": "4fdc2837b03bf201"
  },
  {
   "cell_type": "code",
   "execution_count": 392,
   "outputs": [],
   "source": [
    "no_data_cases = ['9222704', '9999465', '8881092', '11258955', '11843612']"
   ],
   "metadata": {
    "collapsed": false,
    "ExecuteTime": {
     "end_time": "2024-01-03T17:00:51.856327500Z",
     "start_time": "2024-01-03T17:00:48.079726100Z"
    }
   },
   "id": "5da90887b38a1c7"
  },
  {
   "cell_type": "code",
   "execution_count": 393,
   "outputs": [
    {
     "data": {
      "text/plain": "1146"
     },
     "execution_count": 393,
     "metadata": {},
     "output_type": "execute_result"
    }
   ],
   "source": [
    "len(all_ok_data)"
   ],
   "metadata": {
    "collapsed": false,
    "ExecuteTime": {
     "end_time": "2024-01-03T17:00:51.856327500Z",
     "start_time": "2024-01-03T17:00:48.097344500Z"
    }
   },
   "id": "a814f78e85789e4f"
  },
  {
   "cell_type": "code",
   "execution_count": 394,
   "outputs": [],
   "source": [
    "for pid in no_data_cases:\n",
    "    if pid in all_ok_data:\n",
    "        all_ok_data.remove(pid)"
   ],
   "metadata": {
    "collapsed": false,
    "ExecuteTime": {
     "end_time": "2024-01-03T17:00:51.856327500Z",
     "start_time": "2024-01-03T17:00:48.111819200Z"
    }
   },
   "id": "251b549d430d09f6"
  },
  {
   "cell_type": "code",
   "execution_count": 395,
   "outputs": [
    {
     "data": {
      "text/plain": "1142"
     },
     "execution_count": 395,
     "metadata": {},
     "output_type": "execute_result"
    }
   ],
   "source": [
    "len(all_ok_data)"
   ],
   "metadata": {
    "collapsed": false,
    "ExecuteTime": {
     "end_time": "2024-01-03T17:00:51.856327500Z",
     "start_time": "2024-01-03T17:00:48.125688500Z"
    }
   },
   "id": "8353b875528a5e60"
  },
  {
   "cell_type": "code",
   "execution_count": 45,
   "outputs": [],
   "source": [
    "# Origin and destination directory\n",
    "d_directory = 'E:/Selected Data/'\n",
    "o_directory = 'H:/Breast MRI/01/sps/'"
   ],
   "metadata": {
    "collapsed": false,
    "ExecuteTime": {
     "end_time": "2024-01-07T10:58:17.073104900Z",
     "start_time": "2024-01-07T10:58:17.026213100Z"
    }
   },
   "id": "2be5b8c04f7e55d"
  },
  {
   "cell_type": "code",
   "execution_count": 46,
   "outputs": [],
   "source": [
    "patients_ids_1 = [8860408, 8861603, 8861971, 8866708, 8889836, 8915593, 8915632, 8926218, 8934757, 8935156, 8939476, 8977117,\n",
    "                  9008081, 9017845, 9108321, 9162757, 9170060, 9173422, 9174037, 9182263, 9221819, 9239385, 9246035, 9354593,\n",
    "                  9362401, 9363679, 9410575, 9459081, 9459302, 9459663, 9471658, 9471667, 9471756, 9471997, 9474758, 9484852,\n",
    "                  9484938, 9486031, 9486352, 9492065, 9512135, 9535197, 9535278, 9535434, 9559948, 9571865, 9577964, 9578077,\n",
    "                  9638156, 9638749, 9646672, 9647040, 9649691, 9658124, 9661700, 9670311, 9670327, 9673120, 9673179, 9673778,\n",
    "                  9674633, 9680775, 9680867, 9700791, 9701051, 9718836, 9726839, 9727663, 9739752, 9757971, 9773985, 9852342,\n",
    "                  9900364, 9906687, 9906752, 9910509, 9918129, 9918268, 9918324, 9920466, 9924862, 9926215, 9929361, 9929533,\n",
    "                  9930243, 9953872, 9953955, 9954110, 9966610, 9970531, 9971081, 9975377, 9975397, 9985427, 9991646, 9994490,\n",
    "                  9997801, 9997958, 9998057, 10006533, 10007023, 10007991, 10010860, 10018165, 10030277, 10032605, 10032779,\n",
    "                  10045260, 11201493, 11201533, 11205832, 11208303, 11211696, 11218656, 11224788, 11231020, 11237684, 11239822,\n",
    "                  11244816, 11247503, 11254075, 11256378, 11264398, 11272908, 11273475, 11286927, 11290544, 11299936, 11301332,\n",
    "                  11306141, 11331505, 11333648, 11333741, 11338126, 11338192, 11342837, 11344516, 11348359, 11348891, 11351690,\n",
    "                  11352729, 11355812, 11356851, 11358818, 11366628, 11366836, 11367575, 11369417, 11369686, 11371493, 11372703,\n",
    "                  11375497, 11377087, 11379700, 11384586, 11385160, 11387992, 11388246, 11389044, 11390408, 11391724, 11393372,\n",
    "                  11396654, 11572209, 11573971, 11582084, 11582317, 11585576, 11589250, 11840108, 11842798, 11842875, 11846812,\n",
    "                  11850448, 11851264, 11863836, 11879754, 11881596, 11884718, 11885867, 11887918, 11894552, 11899869, 11900471,\n",
    "                  11900937, 11903746, 11913796, 11913939, 11915334, 11917076, 11917317]"
   ],
   "metadata": {
    "collapsed": false,
    "ExecuteTime": {
     "end_time": "2024-01-07T10:58:17.552144700Z",
     "start_time": "2024-01-07T10:58:17.497433700Z"
    }
   },
   "id": "7992eb96137a4a90"
  },
  {
   "cell_type": "code",
   "execution_count": 47,
   "outputs": [],
   "source": [
    "fgt_1 = [(300, 451), (373, 458), (558, 685), (396, 481), (536, 621), (379, 550), (434, 517), (335, 478), (582, 661), (587, 662),\n",
    "         (303, 454), (348, 523), (533, 618), (365, 440), (514, 599), (335, 510), (405, 548), (589, 674), (505, 590), (348, 499),\n",
    "         (521, 606), (387, 542), (407, 492), (554, 639), (365, 450), (365, 450), (432, 513), (490, 567), (371, 442), (464, 549),\n",
    "         (365, 524), (365, 528), (422, 573), (338, 485), (591, 676), (493, 668), (393, 560), (432, 587), (595, 758), (325, 448),\n",
    "         (365, 528), (365, 438), (302, 367), (365, 430), (365, 438), (501, 586), (569, 654), (529, 614), (277, 356), (277, 352),\n",
    "         (281, 366), (249, 314), (490, 575), (420, 505), (277, 352), (536, 679), (277, 352), (421, 506), (474, 559), (439, 524), \n",
    "         (441, 526), (471, 560), (315, 406), (449, 536), (421, 510), (466, 551), (332, 499), (269, 354), (433, 518), (479, 650), \n",
    "         (461, 546), (435, 520), (552, 735), (431, 518), (443, 530), (423, 586), (402, 545), (485, 628), (380, 523), (430, 515), \n",
    "         (496, 671), (597, 800), (385, 464), (451, 540), (299, 384), (313, 404), (315, 402), (317, 404), (435, 520), (448, 639), \n",
    "         (612, 771), (439, 526), (517, 602), (500, 585), (405, 490), (555, 640), (426, 513), (297, 382), (277, 350), (506, 649), \n",
    "         (464, 549), (454, 539), (455, 598), (471, 556), (435, 598), (407, 554), (426, 577), (299, 384), (467, 662), (421, 612), \n",
    "         (376, 551), (258, 343), (275, 450), (429, 620), (337, 512), (500, 675), (350, 525), (396, 575), (406, 581), (405, 490), \n",
    "         (380, 555), (413, 604), (393, 568), (417, 592), (383, 558), (423, 508), (404, 579), (417, 640), (461, 604), (402, 577), \n",
    "         (286, 461), (359, 534), (587, 762), (399, 574), (385, 560), (420, 607), (370, 545), (417, 502), (405, 490), (395, 570), \n",
    "         (552, 727), (363, 538), (567, 718), (369, 544), (407, 582), (415, 602), (393, 568), (426, 601), (385, 560), (389, 564), \n",
    "         (344, 519), (355, 530), (428, 619), (561, 756), (397, 572), (670, 857), (402, 577), (356, 519), (412, 591), (366, 541),\n",
    "         (366, 541), (343, 518), (383, 554), (394, 585), (414, 593), (412, 587), (423, 618), (453, 628), (359, 534), (451, 626),\n",
    "         (390, 565), (439, 614), (385, 576), (312, 475), (497, 672), (434, 625), (410, 585), (946, 1145), (904, 1095), (868, 1059),\n",
    "         (347, 522), (314, 489), (387, 562), (395, 570), (348, 523), (396, 587), (380, 559), (588, 803), (301, 460), (593, 772),\n",
    "         (384, 559)]"
   ],
   "metadata": {
    "collapsed": false,
    "ExecuteTime": {
     "end_time": "2024-01-07T10:58:18.574775500Z",
     "start_time": "2024-01-07T10:58:18.559184900Z"
    }
   },
   "id": "438f0eb238a3205f"
  },
  {
   "cell_type": "code",
   "execution_count": 48,
   "outputs": [],
   "source": [
    "bpe_1 = [(1060, 1211), (920, 1005), (2589, 2716), (914, 999), (1162, 1247), (1615, 1786), (1042, 1125), (1235, 1378), (1054, 1133),\n",
    "         (1035, 1110), (1243, 1394), (1408, 1583), (1071, 1156), (813, 888), (1022, 1107), (1395, 1570), (1349, 1492), (1157, 1242),\n",
    "         (1061, 1146), (1288, 1439), (1047, 1132), (1323, 1478), (925, 1010), (1080, 1165), (886, 971), (915, 1000), (928, 1009),\n",
    "         (978, 1055), (820, 891), (980, 1065), (1233, 1392), (1253, 1416), (1252, 1403), (1146, 1293), (1141, 1226), (1441, 1616),\n",
    "         (1301, 1468), (1280, 1435), (1699, 1862), (1225, 1348), (1253, 1416), (803, 876), (700, 765), (763, 828), (803, 876),\n",
    "         (1007, 1092), (1107, 1192), (1063, 1148), (769, 848), (749, 824), (803, 888), (671, 736), (1032, 1117), (954, 1039),\n",
    "         (749, 824), (2267, 2410), (749, 824), (959, 1044), (1012, 1097), (977, 1062), (979, 1064), (1025, 1114), (889, 980), \n",
    "         (1002, 1089), (978, 1067), (1015, 1100), (1238, 1405), (783, 868), (1203, 1288), (2382, 2553), (1126, 1211), (969, 1054), \n",
    "         (1872, 2055), (984, 1071), (990, 1077), (1423, 1586), (1278, 1421), (1373, 1516), (1256, 1399), (1228, 1313), (1768, 1943), \n",
    "         (2001, 2204), (869, 948), (1011, 1100), (849, 934), (880, 971), (868, 955), (871, 958), (957, 1042), (1816, 2007), \n",
    "         (2760, 2919), (971, 1058), (1150, 1235), (1155, 1240), (927, 1012), (1227, 1312), (1065, 1152), (834, 919), (754, 827), \n",
    "         (1226, 1369), (1161, 1246), (1107, 1192), (1487, 1630), (1108, 1193), (1411, 1574), (1303, 1450), (1342, 1493), (845, 930), \n",
    "         (1859, 2054), (1813, 2004), (1648, 1823), (792, 877), (1511, 1686), (1833, 2024), (1579, 1754), (1736, 1911), (1610, 1785), \n",
    "         (1716, 1895), (1646, 1821), (936, 1021), (1616, 1791), (1793, 1984), (1635, 1810), (1725, 1900), (1643, 1818), (957, 1042), \n",
    "         (1820, 1995), (2723, 2946), (1337, 1480), (1746, 1921), (1522, 1697), (1667, 1842), (1859, 2034), (1671, 1846), (1657, 1832), \n",
    "         (1788, 1975), (1610, 1785), (948, 1033), (939, 1024), (1631, 1806), (1788, 1963), (1683, 1858), (1327, 1478), (1605, 1780), \n",
    "         (1651, 1826), (1731, 1918), (1635, 1810), (1914, 2089), (1657, 1832), (1673, 1848), (1580, 1755), (1651, 1826), (1820, 2011),\n",
    "         (1977, 2172), (1653, 1828), (2640, 2827), (1638, 1813), (1520, 1683), (1708, 1887), (1602, 1777), (1602, 1777), (1603, 1778),\n",
    "         (1595, 1766), (1762, 1953), (1746, 1925), (1684, 1859), (1803, 1998), (1689, 1864), (1667, 1842), (1687, 1862), (1630, 1805),\n",
    "         (1681, 1856), (1753, 1944), (1464, 1627), (1733, 1908), (1814, 2005), (1652, 1827), (2580, 2779), (2464, 2655), (2408, 2599),\n",
    "         (1583, 1758), (1370, 1545), (1631, 1806), (1639, 1814), (1590, 1765), (1752, 1943), (2290, 2469), (2842, 3057), (1441, 1600),\n",
    "         (1861, 2040), (1626, 1801)]"
   ],
   "metadata": {
    "collapsed": false,
    "ExecuteTime": {
     "end_time": "2024-01-07T10:58:19.670097400Z",
     "start_time": "2024-01-07T10:58:19.501379700Z"
    }
   },
   "id": "410c08141963bf9a"
  },
  {
   "cell_type": "code",
   "execution_count": 49,
   "outputs": [],
   "source": [
    "# slice_checker(fgt_1, bpe_1, patients_ids_1)"
   ],
   "metadata": {
    "collapsed": false,
    "ExecuteTime": {
     "end_time": "2024-01-07T10:58:22.860235700Z",
     "start_time": "2024-01-07T10:58:22.750312500Z"
    }
   },
   "id": "253208422d570c33"
  },
  {
   "cell_type": "code",
   "execution_count": 50,
   "outputs": [
    {
     "name": "stdout",
     "output_type": "stream",
     "text": [
      "i=0 | pid=8860408\n",
      "i=1 | pid=8861603\n",
      "i=2 | pid=8861971\n",
      "i=3 | pid=8866708\n",
      "i=4 | pid=8889836\n",
      "i=5 | pid=8915593\n",
      "i=6 | pid=8915632\n",
      "i=7 | pid=8926218\n",
      "i=8 | pid=8934757\n",
      "i=9 | pid=8935156\n",
      "i=10 | pid=8939476\n",
      "i=11 | pid=8977117\n",
      "i=12 | pid=9008081\n",
      "i=13 | pid=9017845\n",
      "i=14 | pid=9108321\n",
      "i=15 | pid=9162757\n",
      "i=16 | pid=9170060\n",
      "i=17 | pid=9173422\n",
      "i=18 | pid=9174037\n",
      "i=19 | pid=9182263\n",
      "i=20 | pid=9221819\n",
      "i=21 | pid=9239385\n",
      "i=22 | pid=9246035\n",
      "i=23 | pid=9354593\n",
      "i=24 | pid=9362401\n",
      "i=25 | pid=9363679\n",
      "i=26 | pid=9410575\n",
      "i=27 | pid=9459081\n",
      "i=28 | pid=9459302\n",
      "i=29 | pid=9459663\n",
      "i=30 | pid=9471658\n",
      "i=31 | pid=9471667\n",
      "i=32 | pid=9471756\n",
      "i=33 | pid=9471997\n",
      "i=34 | pid=9474758\n",
      "i=35 | pid=9484852\n",
      "i=36 | pid=9484938\n",
      "i=37 | pid=9486031\n",
      "i=38 | pid=9486352\n",
      "i=39 | pid=9492065\n",
      "i=40 | pid=9512135\n",
      "i=41 | pid=9535197\n",
      "i=42 | pid=9535278\n",
      "i=43 | pid=9535434\n",
      "i=44 | pid=9559948\n",
      "i=45 | pid=9571865\n",
      "i=46 | pid=9577964\n",
      "i=47 | pid=9578077\n",
      "i=48 | pid=9638156\n",
      "i=49 | pid=9638749\n",
      "i=50 | pid=9646672\n",
      "i=51 | pid=9647040\n",
      "i=52 | pid=9649691\n",
      "i=53 | pid=9658124\n",
      "i=54 | pid=9661700\n",
      "i=55 | pid=9670311\n",
      "i=56 | pid=9670327\n",
      "i=57 | pid=9673120\n",
      "i=58 | pid=9673179\n",
      "i=59 | pid=9673778\n",
      "i=60 | pid=9674633\n",
      "i=61 | pid=9680775\n",
      "i=62 | pid=9680867\n",
      "i=63 | pid=9700791\n",
      "i=64 | pid=9701051\n",
      "i=65 | pid=9718836\n",
      "i=66 | pid=9726839\n",
      "i=67 | pid=9727663\n",
      "i=68 | pid=9739752\n",
      "i=69 | pid=9757971\n",
      "i=70 | pid=9773985\n",
      "i=71 | pid=9852342\n",
      "i=72 | pid=9900364\n",
      "i=73 | pid=9906687\n",
      "i=74 | pid=9906752\n",
      "i=75 | pid=9910509\n",
      "i=76 | pid=9918129\n",
      "i=77 | pid=9918268\n",
      "i=78 | pid=9918324\n",
      "i=79 | pid=9920466\n",
      "i=80 | pid=9924862\n",
      "i=81 | pid=9926215\n",
      "i=82 | pid=9929361\n",
      "i=83 | pid=9929533\n",
      "i=84 | pid=9930243\n",
      "i=85 | pid=9953872\n",
      "i=86 | pid=9953955\n",
      "i=87 | pid=9954110\n",
      "i=88 | pid=9966610\n",
      "i=89 | pid=9970531\n",
      "i=90 | pid=9971081\n",
      "i=91 | pid=9975377\n",
      "i=92 | pid=9975397\n",
      "i=93 | pid=9985427\n",
      "i=94 | pid=9991646\n",
      "i=95 | pid=9994490\n",
      "i=96 | pid=9997801\n",
      "i=97 | pid=9997958\n",
      "i=98 | pid=9998057\n",
      "i=99 | pid=10006533\n",
      "i=100 | pid=10007023\n",
      "i=101 | pid=10007991\n",
      "i=102 | pid=10010860\n",
      "i=103 | pid=10018165\n",
      "i=104 | pid=10030277\n",
      "i=105 | pid=10032605\n",
      "i=106 | pid=10032779\n",
      "i=107 | pid=10045260\n",
      "i=108 | pid=11201493\n",
      "i=109 | pid=11201533\n",
      "i=110 | pid=11205832\n",
      "i=111 | pid=11208303\n",
      "i=112 | pid=11211696\n",
      "i=113 | pid=11218656\n",
      "i=114 | pid=11224788\n",
      "i=115 | pid=11231020\n",
      "i=116 | pid=11237684\n",
      "i=117 | pid=11239822\n",
      "i=118 | pid=11244816\n",
      "i=119 | pid=11247503\n",
      "i=120 | pid=11254075\n",
      "i=121 | pid=11256378\n",
      "i=122 | pid=11264398\n",
      "i=123 | pid=11272908\n",
      "i=124 | pid=11273475\n",
      "i=125 | pid=11286927\n",
      "i=126 | pid=11290544\n",
      "i=127 | pid=11299936\n",
      "i=128 | pid=11301332\n",
      "i=129 | pid=11306141\n",
      "i=130 | pid=11331505\n",
      "i=131 | pid=11333648\n",
      "i=132 | pid=11333741\n",
      "i=133 | pid=11338126\n",
      "i=134 | pid=11338192\n",
      "i=135 | pid=11342837\n",
      "i=136 | pid=11344516\n",
      "i=137 | pid=11348359\n",
      "i=138 | pid=11348891\n",
      "i=139 | pid=11351690\n",
      "i=140 | pid=11352729\n",
      "i=141 | pid=11355812\n",
      "i=142 | pid=11356851\n",
      "i=143 | pid=11358818\n",
      "i=144 | pid=11366628\n",
      "i=145 | pid=11366836\n",
      "i=146 | pid=11367575\n",
      "i=147 | pid=11369417\n",
      "i=148 | pid=11369686\n",
      "i=149 | pid=11371493\n",
      "i=150 | pid=11372703\n",
      "i=151 | pid=11375497\n",
      "i=152 | pid=11377087\n",
      "i=153 | pid=11379700\n",
      "i=154 | pid=11384586\n",
      "i=155 | pid=11385160\n",
      "i=156 | pid=11387992\n",
      "i=157 | pid=11388246\n",
      "i=158 | pid=11389044\n",
      "i=159 | pid=11390408\n",
      "i=160 | pid=11391724\n",
      "i=161 | pid=11393372\n",
      "i=162 | pid=11396654\n",
      "i=163 | pid=11572209\n",
      "i=164 | pid=11573971\n",
      "i=165 | pid=11582084\n",
      "i=166 | pid=11582317\n",
      "i=167 | pid=11585576\n",
      "i=168 | pid=11589250\n",
      "i=169 | pid=11840108\n",
      "i=170 | pid=11842798\n",
      "i=171 | pid=11842875\n",
      "i=172 | pid=11846812\n",
      "i=173 | pid=11850448\n",
      "i=174 | pid=11851264\n",
      "i=175 | pid=11863836\n",
      "i=176 | pid=11879754\n",
      "i=177 | pid=11881596\n",
      "i=178 | pid=11884718\n",
      "i=179 | pid=11885867\n",
      "i=180 | pid=11887918\n",
      "i=181 | pid=11894552\n",
      "i=182 | pid=11899869\n",
      "i=183 | pid=11900471\n",
      "i=184 | pid=11900937\n",
      "i=185 | pid=11903746\n",
      "i=186 | pid=11913796\n",
      "i=187 | pid=11913939\n",
      "i=188 | pid=11915334\n",
      "i=189 | pid=11917076\n",
      "i=190 | pid=11917317\n"
     ]
    }
   ],
   "source": [
    "# automated_copy(o_directory, d_directory, patients_ids_1, fgt_1, bpe_1)"
   ],
   "metadata": {
    "collapsed": false,
    "ExecuteTime": {
     "end_time": "2024-01-07T11:06:53.245946200Z",
     "start_time": "2024-01-07T10:58:26.103008200Z"
    }
   },
   "id": "3b2d41434d5d6b1c"
  },
  {
   "cell_type": "markdown",
   "source": [
    "# Part 2"
   ],
   "metadata": {
    "collapsed": false
   },
   "id": "a59f899f36f1a42c"
  },
  {
   "cell_type": "code",
   "execution_count": 830,
   "outputs": [],
   "source": [
    "mpath = 'H:/Breast MRI/02/sps'\n",
    "folder_names_part2 = []\n",
    "folder_names_part2 = get_folder_names(mpath, folder_names_part2)"
   ],
   "metadata": {
    "collapsed": false,
    "ExecuteTime": {
     "end_time": "2024-01-03T20:47:11.080433200Z",
     "start_time": "2024-01-03T20:47:07.983642200Z"
    }
   },
   "id": "fc6ee1c6aea660e9"
  },
  {
   "cell_type": "code",
   "execution_count": 403,
   "outputs": [],
   "source": [
    "for name in folder_names_part2:\n",
    "    if name not in all_ok_data:\n",
    "        print(name)"
   ],
   "metadata": {
    "collapsed": false,
    "ExecuteTime": {
     "end_time": "2024-01-03T17:00:51.872394900Z",
     "start_time": "2024-01-03T17:00:48.269491600Z"
    }
   },
   "id": "530079b08755575"
  },
  {
   "cell_type": "code",
   "execution_count": 404,
   "outputs": [],
   "source": [
    "no_data_cases = ['1191379', '8368349', '8832712', '8145891', '8302127', '8305735', '8414121', '8675439', '8675610', '8682515']"
   ],
   "metadata": {
    "collapsed": false,
    "ExecuteTime": {
     "end_time": "2024-01-03T17:00:51.983114900Z",
     "start_time": "2024-01-03T17:00:48.285126800Z"
    }
   },
   "id": "b221377d332609cf"
  },
  {
   "cell_type": "code",
   "execution_count": 405,
   "outputs": [
    {
     "data": {
      "text/plain": "1142"
     },
     "execution_count": 405,
     "metadata": {},
     "output_type": "execute_result"
    }
   ],
   "source": [
    "len(all_ok_data)"
   ],
   "metadata": {
    "collapsed": false,
    "ExecuteTime": {
     "end_time": "2024-01-03T17:00:51.983114900Z",
     "start_time": "2024-01-03T17:00:48.301156700Z"
    }
   },
   "id": "a7b279812a62e763"
  },
  {
   "cell_type": "code",
   "execution_count": 406,
   "outputs": [],
   "source": [
    "for pid in no_data_cases:\n",
    "    if pid in all_ok_data:\n",
    "        all_ok_data.remove(pid)"
   ],
   "metadata": {
    "collapsed": false,
    "ExecuteTime": {
     "end_time": "2024-01-03T17:00:51.983114900Z",
     "start_time": "2024-01-03T17:00:48.319028900Z"
    }
   },
   "id": "eb8ea3f9925d1a9f"
  },
  {
   "cell_type": "code",
   "execution_count": 407,
   "outputs": [
    {
     "data": {
      "text/plain": "1135"
     },
     "execution_count": 407,
     "metadata": {},
     "output_type": "execute_result"
    }
   ],
   "source": [
    "len(all_ok_data)"
   ],
   "metadata": {
    "collapsed": false,
    "ExecuteTime": {
     "end_time": "2024-01-03T17:00:51.983114900Z",
     "start_time": "2024-01-03T17:00:48.333168600Z"
    }
   },
   "id": "580b5d3df0435f0a"
  },
  {
   "cell_type": "code",
   "execution_count": 51,
   "outputs": [],
   "source": [
    "# Origin and destination directory\n",
    "d_directory = 'E:/Selected Data/'\n",
    "o_directory = 'H:/Breast MRI/02/sps/'"
   ],
   "metadata": {
    "collapsed": false,
    "ExecuteTime": {
     "end_time": "2024-01-07T11:09:00.480833600Z",
     "start_time": "2024-01-07T11:09:00.398103800Z"
    }
   },
   "id": "3bc74445e4743cde"
  },
  {
   "cell_type": "code",
   "execution_count": 52,
   "outputs": [],
   "source": [
    "patients_ids_2 = [969995, 1568016, 8647484, 8668594, 8668972, 8838792, 8844951, 8845106, 8859611]"
   ],
   "metadata": {
    "collapsed": false,
    "ExecuteTime": {
     "end_time": "2024-01-07T11:09:01.145577400Z",
     "start_time": "2024-01-07T11:09:01.098118400Z"
    }
   },
   "id": "d3de6b666ebb84cd"
  },
  {
   "cell_type": "code",
   "execution_count": 53,
   "outputs": [],
   "source": [
    "fgt_2 = [(413, 498), (405, 490), (315, 478), (374, 549), (348, 523), (382, 533), (385, 560), (303, 466), (481, 566)]"
   ],
   "metadata": {
    "collapsed": false,
    "ExecuteTime": {
     "end_time": "2024-01-07T11:09:02.116007400Z",
     "start_time": "2024-01-07T11:09:02.068700700Z"
    }
   },
   "id": "dcca052a79cd64e4"
  },
  {
   "cell_type": "code",
   "execution_count": 54,
   "outputs": [],
   "source": [
    "bpe_2 = [(953, 1038), (957, 1042), (1135, 1298), (1434, 1609), (1408, 1583), (1322, 1473), (1445, 1620), (1303, 1466), (1123, 1208)]"
   ],
   "metadata": {
    "collapsed": false,
    "ExecuteTime": {
     "end_time": "2024-01-07T11:09:06.979264400Z",
     "start_time": "2024-01-07T11:09:06.947816500Z"
    }
   },
   "id": "9a4a66056f686717"
  },
  {
   "cell_type": "code",
   "execution_count": 55,
   "outputs": [],
   "source": [
    "# slice_checker(fgt_2, bpe_2, patients_ids_2)"
   ],
   "metadata": {
    "collapsed": false,
    "ExecuteTime": {
     "end_time": "2024-01-07T11:09:11.222144300Z",
     "start_time": "2024-01-07T11:09:11.174873700Z"
    }
   },
   "id": "b98f5d5621e23b21"
  },
  {
   "cell_type": "code",
   "execution_count": 56,
   "outputs": [
    {
     "name": "stdout",
     "output_type": "stream",
     "text": [
      "i=0 | pid=969995\n",
      "i=1 | pid=1568016\n",
      "i=2 | pid=8647484\n",
      "i=3 | pid=8668594\n",
      "i=4 | pid=8668972\n",
      "i=5 | pid=8838792\n",
      "i=6 | pid=8844951\n",
      "i=7 | pid=8845106\n",
      "i=8 | pid=8859611\n"
     ]
    }
   ],
   "source": [
    "# automated_copy(o_directory, d_directory, patients_ids_2, fgt_2, bpe_2)"
   ],
   "metadata": {
    "collapsed": false,
    "ExecuteTime": {
     "end_time": "2024-01-07T11:09:32.897879900Z",
     "start_time": "2024-01-07T11:09:13.513380900Z"
    }
   },
   "id": "3827b11d96af4cf9"
  },
  {
   "cell_type": "markdown",
   "source": [
    "# Part 3"
   ],
   "metadata": {
    "collapsed": false
   },
   "id": "c9899c9d18bc8eba"
  },
  {
   "cell_type": "code",
   "execution_count": 813,
   "outputs": [],
   "source": [
    "mpath = 'H:/Breast MRI/03/breast new'\n",
    "folder_names_part3 = []\n",
    "folder_names_part3 = get_folder_names(mpath, folder_names_part3)"
   ],
   "metadata": {
    "collapsed": false,
    "ExecuteTime": {
     "end_time": "2024-01-03T20:25:47.490687700Z",
     "start_time": "2024-01-03T20:25:47.398355500Z"
    }
   },
   "id": "b935210b20429ecd"
  },
  {
   "cell_type": "code",
   "execution_count": 415,
   "outputs": [],
   "source": [
    "for name in folder_names_part3:\n",
    "    if name not in all_ok_data:\n",
    "        print(name)"
   ],
   "metadata": {
    "collapsed": false,
    "ExecuteTime": {
     "end_time": "2024-01-03T17:00:51.983114900Z",
     "start_time": "2024-01-03T17:00:48.459988600Z"
    }
   },
   "id": "5523be3b9a34f0e5"
  },
  {
   "cell_type": "code",
   "execution_count": 416,
   "outputs": [],
   "source": [
    "no_data_cases = []"
   ],
   "metadata": {
    "collapsed": false,
    "ExecuteTime": {
     "end_time": "2024-01-03T17:00:51.983114900Z",
     "start_time": "2024-01-03T17:00:48.475694800Z"
    }
   },
   "id": "492ab73de4c93fd3"
  },
  {
   "cell_type": "code",
   "execution_count": 417,
   "outputs": [
    {
     "data": {
      "text/plain": "1135"
     },
     "execution_count": 417,
     "metadata": {},
     "output_type": "execute_result"
    }
   ],
   "source": [
    "len(all_ok_data)"
   ],
   "metadata": {
    "collapsed": false,
    "ExecuteTime": {
     "end_time": "2024-01-03T17:00:51.983114900Z",
     "start_time": "2024-01-03T17:00:48.494310400Z"
    }
   },
   "id": "32c67eead5c53698"
  },
  {
   "cell_type": "code",
   "execution_count": 418,
   "outputs": [],
   "source": [
    "for pid in no_data_cases:\n",
    "    if pid in all_ok_data:\n",
    "        all_ok_data.remove(pid)"
   ],
   "metadata": {
    "collapsed": false,
    "ExecuteTime": {
     "end_time": "2024-01-03T17:00:51.983114900Z",
     "start_time": "2024-01-03T17:00:48.507896200Z"
    }
   },
   "id": "c57df039747f047"
  },
  {
   "cell_type": "code",
   "execution_count": 419,
   "outputs": [
    {
     "data": {
      "text/plain": "1135"
     },
     "execution_count": 419,
     "metadata": {},
     "output_type": "execute_result"
    }
   ],
   "source": [
    "len(all_ok_data)"
   ],
   "metadata": {
    "collapsed": false,
    "ExecuteTime": {
     "end_time": "2024-01-03T17:00:51.983114900Z",
     "start_time": "2024-01-03T17:00:48.527004400Z"
    }
   },
   "id": "7d82ee2c23359931"
  },
  {
   "cell_type": "code",
   "execution_count": 57,
   "outputs": [],
   "source": [
    "# Origin and destination directory\n",
    "d_directory = 'E:/Selected Data/'\n",
    "o_directory = 'H:/Breast MRI/03/breast new/'"
   ],
   "metadata": {
    "collapsed": false,
    "ExecuteTime": {
     "end_time": "2024-01-07T11:10:34.082432900Z",
     "start_time": "2024-01-07T11:10:34.035352600Z"
    }
   },
   "id": "d7888f235b484f49"
  },
  {
   "cell_type": "code",
   "execution_count": 58,
   "outputs": [],
   "source": [
    "patients_ids_3 = [9947622, 9971081, 10006533, 10500639, 10506817, 10507162, 10509355, 10520523, 10532430, 10540595,\n",
    "                  10553401, 10554186, 10561171, 10581017, 10591458, 10632327, 10716690, 10718503, 10723940, 10738155,\n",
    "                  10743894, 10756274, 10773065, 10791568, 10812027]"
   ],
   "metadata": {
    "collapsed": false,
    "ExecuteTime": {
     "end_time": "2024-01-07T11:10:34.603862800Z",
     "start_time": "2024-01-07T11:10:34.545120200Z"
    }
   },
   "id": "81d6c290da940c0d"
  },
  {
   "cell_type": "code",
   "execution_count": 59,
   "outputs": [],
   "source": [
    "fgt_3 = [(333, 500), (612, 771), (506, 649), (881, 1072), (982, 1173), (1287, 1478), (1017, 1208), (1190, 1389), (1033, 1224), (991, 1182), \n",
    "         (1052, 1243), (1160, 1351), (978, 1169), (879, 1038), (1027, 1218), (1224, 1415), (974, 1153), (1694, 1885), (498, 641), (1134, 1325), \n",
    "         (1155, 1346), (1174, 1365), (1174, 1365), (1250, 1441), (1181, 1372)]"
   ],
   "metadata": {
    "collapsed": false,
    "ExecuteTime": {
     "end_time": "2024-01-07T11:10:34.964958600Z",
     "start_time": "2024-01-07T11:10:34.917883Z"
    }
   },
   "id": "313403339b7b95c8"
  },
  {
   "cell_type": "code",
   "execution_count": 60,
   "outputs": [],
   "source": [
    "bpe_3 = [(1999, 2166), (2760, 2919), (1226, 1369), (2225, 2416), (2356, 2547), (3133, 3324), (2391, 2582), (3269, 3468), (2577, 2768), \n",
    "         (2941, 3132), (2558, 2749), (2688, 2879), (2928, 3119), (2687, 2846), (2571, 2762), (2776, 2967), (2430, 2609), (3250, 3441), \n",
    "         (2396, 2539), (2688, 2879), (2567, 2758), (2718, 2909), (2729, 2920), (2824, 3015), (2785, 2976)]"
   ],
   "metadata": {
    "collapsed": false,
    "ExecuteTime": {
     "end_time": "2024-01-07T11:10:35.367972200Z",
     "start_time": "2024-01-07T11:10:35.320980900Z"
    }
   },
   "id": "c57b0df818283ea9"
  },
  {
   "cell_type": "code",
   "execution_count": 61,
   "outputs": [],
   "source": [
    "# slice_checker(fgt_3, bpe_3, patients_ids_3)"
   ],
   "metadata": {
    "collapsed": false,
    "ExecuteTime": {
     "end_time": "2024-01-07T11:10:37.190817Z",
     "start_time": "2024-01-07T11:10:37.159478700Z"
    }
   },
   "id": "4551d7db5a1ae745"
  },
  {
   "cell_type": "code",
   "execution_count": 62,
   "outputs": [
    {
     "name": "stdout",
     "output_type": "stream",
     "text": [
      "i=0 | pid=9947622\n",
      "i=1 | pid=9971081\n",
      "1 is not in the unique idx\n",
      "i=2 | pid=10006533\n",
      "2 is not in the unique idx\n",
      "i=3 | pid=10500639\n",
      "i=4 | pid=10506817\n",
      "i=5 | pid=10507162\n",
      "i=6 | pid=10509355\n",
      "i=7 | pid=10520523\n",
      "i=8 | pid=10532430\n",
      "i=9 | pid=10540595\n",
      "i=10 | pid=10553401\n",
      "i=11 | pid=10554186\n",
      "i=12 | pid=10561171\n",
      "i=13 | pid=10581017\n",
      "i=14 | pid=10591458\n",
      "i=15 | pid=10632327\n",
      "i=16 | pid=10716690\n",
      "i=17 | pid=10718503\n",
      "i=18 | pid=10723940\n",
      "i=19 | pid=10738155\n",
      "i=20 | pid=10743894\n",
      "i=21 | pid=10756274\n",
      "i=22 | pid=10773065\n",
      "i=23 | pid=10791568\n",
      "i=24 | pid=10812027\n"
     ]
    }
   ],
   "source": [
    "# automated_copy(o_directory, d_directory, patients_ids_3, fgt_3, bpe_3)"
   ],
   "metadata": {
    "collapsed": false,
    "ExecuteTime": {
     "end_time": "2024-01-07T11:12:06.409910Z",
     "start_time": "2024-01-07T11:10:39.486637200Z"
    }
   },
   "id": "917acbb17b833066"
  },
  {
   "cell_type": "markdown",
   "source": [
    "# Part 4"
   ],
   "metadata": {
    "collapsed": false
   },
   "id": "f267fccf43b1377a"
  },
  {
   "cell_type": "code",
   "execution_count": 426,
   "outputs": [],
   "source": [
    "mpath = 'H:/Breast MRI/03/breast new 2'\n",
    "folder_names_part4 = []\n",
    "folder_names_part4 = get_folder_names(mpath, folder_names_part4)"
   ],
   "metadata": {
    "collapsed": false,
    "ExecuteTime": {
     "end_time": "2024-01-03T17:00:51.983114900Z",
     "start_time": "2024-01-03T17:00:48.635285300Z"
    }
   },
   "id": "584f4d8950c41df8"
  },
  {
   "cell_type": "code",
   "execution_count": 427,
   "outputs": [],
   "source": [
    "folder_list = []\n",
    "for name in folder_names_part4:\n",
    "    if name not in all_ok_data:\n",
    "        print(name)\n",
    "        folder_list.append(name)"
   ],
   "metadata": {
    "collapsed": false,
    "ExecuteTime": {
     "end_time": "2024-01-03T17:00:51.983114900Z",
     "start_time": "2024-01-03T17:00:48.654444300Z"
    }
   },
   "id": "de4d5ba727bf30c"
  },
  {
   "cell_type": "code",
   "execution_count": 428,
   "outputs": [
    {
     "data": {
      "text/plain": "0"
     },
     "execution_count": 428,
     "metadata": {},
     "output_type": "execute_result"
    }
   ],
   "source": [
    "len(folder_list)"
   ],
   "metadata": {
    "collapsed": false,
    "ExecuteTime": {
     "end_time": "2024-01-03T17:00:51.983114900Z",
     "start_time": "2024-01-03T17:00:48.668970Z"
    }
   },
   "id": "52c2f7b244f42966"
  },
  {
   "cell_type": "code",
   "execution_count": 429,
   "outputs": [],
   "source": [
    "# source_directory = mpath\n",
    "# destination_directory = \"H:/Breast MRI/03/NotOkData/breast new 2\"  # Replace with the actual destination directory\n",
    "# move_folders(folder_list, source_directory, destination_directory)"
   ],
   "metadata": {
    "collapsed": false,
    "ExecuteTime": {
     "end_time": "2024-01-03T17:00:51.983114900Z",
     "start_time": "2024-01-03T17:00:48.683538500Z"
    }
   },
   "id": "5b3e343bf3d6b9ff"
  },
  {
   "cell_type": "code",
   "execution_count": 430,
   "outputs": [],
   "source": [
    "no_data_cases = []"
   ],
   "metadata": {
    "collapsed": false,
    "ExecuteTime": {
     "end_time": "2024-01-03T17:00:51.983114900Z",
     "start_time": "2024-01-03T17:00:48.699591300Z"
    }
   },
   "id": "fde00bec8c36368e"
  },
  {
   "cell_type": "code",
   "execution_count": 431,
   "outputs": [
    {
     "data": {
      "text/plain": "1135"
     },
     "execution_count": 431,
     "metadata": {},
     "output_type": "execute_result"
    }
   ],
   "source": [
    "len(all_ok_data)"
   ],
   "metadata": {
    "collapsed": false,
    "ExecuteTime": {
     "end_time": "2024-01-03T17:00:51.983114900Z",
     "start_time": "2024-01-03T17:00:48.715548400Z"
    }
   },
   "id": "8ffd544f5373a696"
  },
  {
   "cell_type": "code",
   "execution_count": 432,
   "outputs": [],
   "source": [
    "for pid in no_data_cases:\n",
    "    if pid in all_ok_data:\n",
    "        all_ok_data.remove(pid)"
   ],
   "metadata": {
    "collapsed": false,
    "ExecuteTime": {
     "end_time": "2024-01-03T17:00:51.983114900Z",
     "start_time": "2024-01-03T17:00:48.731346Z"
    }
   },
   "id": "55b97091586d9539"
  },
  {
   "cell_type": "code",
   "execution_count": 433,
   "outputs": [
    {
     "data": {
      "text/plain": "1135"
     },
     "execution_count": 433,
     "metadata": {},
     "output_type": "execute_result"
    }
   ],
   "source": [
    "len(all_ok_data)"
   ],
   "metadata": {
    "collapsed": false,
    "ExecuteTime": {
     "end_time": "2024-01-03T17:00:51.983114900Z",
     "start_time": "2024-01-03T17:00:48.747267800Z"
    }
   },
   "id": "e23c8ec9a987fe9b"
  },
  {
   "cell_type": "code",
   "execution_count": 63,
   "outputs": [],
   "source": [
    "# Origin and destination directory\n",
    "d_directory = 'E:/Selected Data/'\n",
    "o_directory = 'H:/Breast MRI/03/breast new 2/'"
   ],
   "metadata": {
    "collapsed": false,
    "ExecuteTime": {
     "end_time": "2024-01-07T11:13:28.475504400Z",
     "start_time": "2024-01-07T11:13:28.434059800Z"
    }
   },
   "id": "609fa387ae7589fc"
  },
  {
   "cell_type": "code",
   "execution_count": 64,
   "outputs": [],
   "source": [
    "patients_ids_4 = [10942269, 10983337, 11032357, 11034705, 11075626, 11076778, 11086355, 11180494, 11183489, 11216685, 11275661, \n",
    "                  11346010, 11405138, 11597250, 11610585, 11618270, 11627699, 11757932, 11758205, 11785907, 11789411, 11800353,\n",
    "                  11801650, 11821274, 11863126, 11863650, 11879076, 11881596, 11884718, 11885867, 11913084, 12047098, 12086263]"
   ],
   "metadata": {
    "collapsed": false,
    "ExecuteTime": {
     "end_time": "2024-01-07T11:13:28.970270100Z",
     "start_time": "2024-01-07T11:13:28.874259600Z"
    }
   },
   "id": "7beec318e597fca0"
  },
  {
   "cell_type": "code",
   "execution_count": 65,
   "outputs": [],
   "source": [
    "fgt_4 = [(1263, 1454), (1141, 1332), (2281, 2484), (1865, 2068), (867, 1006), (1204, 1395), (1246, 1437), (1177, 1380), (998, 1189),\n",
    "         (1178, 1389), (916, 1107), (1397, 1576), (1320, 1503), (861, 1012), (790, 965), (1229, 1444), (896, 1087), (769, 940),\n",
    "         (755, 906), (841, 1004), (979, 1170), (1226, 1417), (1362, 1553), (1054, 1245), (514, 669), (700, 867), (1050, 1241),\n",
    "         (946, 1145), (904, 1095), (868, 1059), (400, 547), (1124, 1303), (592, 787)]"
   ],
   "metadata": {
    "collapsed": false,
    "ExecuteTime": {
     "end_time": "2024-01-07T11:13:29.320327100Z",
     "start_time": "2024-01-07T11:13:29.254218100Z"
    }
   },
   "id": "faf1e0277f571d25"
  },
  {
   "cell_type": "code",
   "execution_count": 66,
   "outputs": [],
   "source": [
    "bpe_4 = [(2813, 3004), (3200, 3391), (4025, 4228), (3648, 3851), (2033, 2172), (2768, 2959), (2796, 2987), (2810, 3013), (2542, 2733),\n",
    "         (2881, 3092), (2460, 2651), (2849, 3028), (2810, 2993), (2133, 2284), (3467, 3642), (2967, 3182), (2440, 2631), (2173, 2344),\n",
    "         (2021, 2172), (2219, 2382), (2556, 2747), (2770, 2961), (2900, 3091), (2628, 2819), (2168, 2323), (2490, 2657),\n",
    "         (3962, 4153), (2580, 2779), (2464, 2655), (2408, 2599), (1946, 2093), (2598, 2777), (2638, 2833)]"
   ],
   "metadata": {
    "collapsed": false,
    "ExecuteTime": {
     "end_time": "2024-01-07T11:13:29.691840300Z",
     "start_time": "2024-01-07T11:13:29.644789Z"
    }
   },
   "id": "e42816f59953630a"
  },
  {
   "cell_type": "code",
   "execution_count": 67,
   "outputs": [],
   "source": [
    "# slice_checker(fgt_4, bpe_4, patients_ids_4)"
   ],
   "metadata": {
    "collapsed": false,
    "ExecuteTime": {
     "end_time": "2024-01-07T11:13:31.508260200Z",
     "start_time": "2024-01-07T11:13:31.461210Z"
    }
   },
   "id": "7571e64b0b9c7f80"
  },
  {
   "cell_type": "code",
   "execution_count": 68,
   "outputs": [
    {
     "name": "stdout",
     "output_type": "stream",
     "text": [
      "i=0 | pid=10942269\n",
      "i=1 | pid=10983337\n",
      "i=2 | pid=11032357\n",
      "i=3 | pid=11034705\n",
      "i=4 | pid=11075626\n",
      "i=5 | pid=11076778\n",
      "i=6 | pid=11086355\n",
      "i=7 | pid=11180494\n",
      "i=8 | pid=11183489\n",
      "i=9 | pid=11216685\n",
      "i=10 | pid=11275661\n",
      "i=11 | pid=11346010\n",
      "i=12 | pid=11405138\n",
      "i=13 | pid=11597250\n",
      "i=14 | pid=11610585\n",
      "i=15 | pid=11618270\n",
      "i=16 | pid=11627699\n",
      "i=17 | pid=11757932\n",
      "i=18 | pid=11758205\n",
      "i=19 | pid=11785907\n",
      "i=20 | pid=11789411\n",
      "i=21 | pid=11800353\n",
      "i=22 | pid=11801650\n",
      "i=23 | pid=11821274\n",
      "i=24 | pid=11863126\n",
      "i=25 | pid=11863650\n",
      "i=26 | pid=11879076\n",
      "i=27 | pid=11881596\n",
      "27 is not in the unique idx\n",
      "i=28 | pid=11884718\n",
      "28 is not in the unique idx\n",
      "i=29 | pid=11885867\n",
      "29 is not in the unique idx\n",
      "i=30 | pid=11913084\n",
      "i=31 | pid=12047098\n",
      "i=32 | pid=12086263\n"
     ]
    }
   ],
   "source": [
    "# automated_copy(o_directory, d_directory, patients_ids_4, fgt_4, bpe_4)"
   ],
   "metadata": {
    "collapsed": false,
    "ExecuteTime": {
     "end_time": "2024-01-07T11:15:14.945871800Z",
     "start_time": "2024-01-07T11:13:33.248104700Z"
    }
   },
   "id": "a23f67f61d8917dd"
  },
  {
   "cell_type": "markdown",
   "source": [
    "# Part 5"
   ],
   "metadata": {
    "collapsed": false
   },
   "id": "2a31b961cec82ebf"
  },
  {
   "cell_type": "code",
   "execution_count": 440,
   "outputs": [],
   "source": [
    "mpath = 'H:/Breast MRI/03/nac'\n",
    "folder_names_part5 = []\n",
    "folder_names_part5 = get_folder_names(mpath, folder_names_part5)"
   ],
   "metadata": {
    "collapsed": false,
    "ExecuteTime": {
     "end_time": "2024-01-03T17:00:52.014253200Z",
     "start_time": "2024-01-03T17:00:48.858261800Z"
    }
   },
   "id": "876474e5d71de5c1"
  },
  {
   "cell_type": "code",
   "execution_count": 441,
   "outputs": [],
   "source": [
    "folder_list = []\n",
    "for name in folder_names_part5:\n",
    "    if name not in all_ok_data:\n",
    "        print(name)\n",
    "        folder_list.append(name)"
   ],
   "metadata": {
    "collapsed": false,
    "ExecuteTime": {
     "end_time": "2024-01-03T17:00:52.014253200Z",
     "start_time": "2024-01-03T17:00:48.876867700Z"
    }
   },
   "id": "a3e096189d89efa"
  },
  {
   "cell_type": "code",
   "execution_count": 442,
   "outputs": [
    {
     "data": {
      "text/plain": "0"
     },
     "execution_count": 442,
     "metadata": {},
     "output_type": "execute_result"
    }
   ],
   "source": [
    "len(folder_list)"
   ],
   "metadata": {
    "collapsed": false,
    "ExecuteTime": {
     "end_time": "2024-01-03T17:00:52.014253200Z",
     "start_time": "2024-01-03T17:00:48.890366700Z"
    }
   },
   "id": "121813f7c73c10e6"
  },
  {
   "cell_type": "code",
   "execution_count": 443,
   "outputs": [],
   "source": [
    "# source_directory = mpath\n",
    "# destination_directory = \"H:/Breast MRI/03/NotOkData/nac\"  # Replace with the actual destination directory\n",
    "# move_folders(folder_list, source_directory, destination_directory)"
   ],
   "metadata": {
    "collapsed": false,
    "ExecuteTime": {
     "end_time": "2024-01-03T17:00:52.014253200Z",
     "start_time": "2024-01-03T17:00:48.906194200Z"
    }
   },
   "id": "8962ea82ecd5f1e0"
  },
  {
   "cell_type": "code",
   "execution_count": 444,
   "outputs": [],
   "source": [
    "no_data_cases = []"
   ],
   "metadata": {
    "collapsed": false,
    "ExecuteTime": {
     "end_time": "2024-01-03T17:00:52.014253200Z",
     "start_time": "2024-01-03T17:00:48.921897300Z"
    }
   },
   "id": "29b534e75e6f934f"
  },
  {
   "cell_type": "code",
   "execution_count": 445,
   "outputs": [
    {
     "data": {
      "text/plain": "1135"
     },
     "execution_count": 445,
     "metadata": {},
     "output_type": "execute_result"
    }
   ],
   "source": [
    "len(all_ok_data)"
   ],
   "metadata": {
    "collapsed": false,
    "ExecuteTime": {
     "end_time": "2024-01-03T17:00:52.014253200Z",
     "start_time": "2024-01-03T17:00:48.937839500Z"
    }
   },
   "id": "aa31a633635ddd5a"
  },
  {
   "cell_type": "code",
   "execution_count": 446,
   "outputs": [],
   "source": [
    "for pid in no_data_cases:\n",
    "    if pid in all_ok_data:\n",
    "        all_ok_data.remove(pid)"
   ],
   "metadata": {
    "collapsed": false,
    "ExecuteTime": {
     "end_time": "2024-01-03T17:00:52.014253200Z",
     "start_time": "2024-01-03T17:00:48.957213600Z"
    }
   },
   "id": "9d81a72f1d094a6"
  },
  {
   "cell_type": "code",
   "execution_count": 447,
   "outputs": [
    {
     "data": {
      "text/plain": "1135"
     },
     "execution_count": 447,
     "metadata": {},
     "output_type": "execute_result"
    }
   ],
   "source": [
    "len(all_ok_data)"
   ],
   "metadata": {
    "collapsed": false,
    "ExecuteTime": {
     "end_time": "2024-01-03T17:00:52.014253200Z",
     "start_time": "2024-01-03T17:00:48.969936900Z"
    }
   },
   "id": "19f49a3621494ff7"
  },
  {
   "cell_type": "code",
   "execution_count": 69,
   "outputs": [],
   "source": [
    "# Origin and destination directory\n",
    "d_directory = 'E:/Selected Data/'\n",
    "o_directory = 'H:/Breast MRI/03/nac/'"
   ],
   "metadata": {
    "collapsed": false,
    "ExecuteTime": {
     "end_time": "2024-01-07T11:16:34.977956600Z",
     "start_time": "2024-01-07T11:16:34.925979700Z"
    }
   },
   "id": "6a74b2ee115e6258"
  },
  {
   "cell_type": "code",
   "execution_count": 70,
   "outputs": [],
   "source": [
    "patients_ids_5 = [10500639, 10506817, 10507162, 10509355, 10520523, 10532430, 10540595, 10553401, 10554186, 10561171, 10581017, 10591458, \n",
    "                10632327, 10716690, 10718503, 10738155, 10743894, 10756274, 10773065, 10791568, 10795621, 10812027, 10879476, 10905568, \n",
    "                10916400, 10937977, 10959273, 10983337, 11032357, 11034705, 11075626, 11076778, 11086355, 11180494, 11183489, 11216685,\n",
    "                11275661, 11346010, 11627699]"
   ],
   "metadata": {
    "collapsed": false,
    "ExecuteTime": {
     "end_time": "2024-01-07T11:16:35.574021900Z",
     "start_time": "2024-01-07T11:16:35.526582500Z"
    }
   },
   "id": "2095720be93558c9"
  },
  {
   "cell_type": "code",
   "execution_count": 71,
   "outputs": [],
   "source": [
    "fgt_5 = [(941,1132), (982,1173), (1287,1478), (1017,1208), (1190,1389), (1033,1224),\n",
    " (991,1182), (1052,1243), (1160,1351), (978,1169),(879,1038), (1027,1218), (1224,1415), (974,1153), (1694,1885),\n",
    " (1134,1325), (1155,1346), (1174,1365), (1174,1365), (1250,1441), (405,490), (1181,1372), (1038,1229), (1007,1194),\n",
    " (631,806), (963,1154), (536,679), (1141,1332), (2281,2484), (1865,2068), (867,1006), (1204,1395), (1246,1437),\n",
    " (1177,1380), (998,1189), (1178,1389), (916,1107), (1397,1576), (896,1087)\n",
    " ]"
   ],
   "metadata": {
    "collapsed": false,
    "ExecuteTime": {
     "end_time": "2024-01-07T11:16:36.502705100Z",
     "start_time": "2024-01-07T11:16:36.440665100Z"
    }
   },
   "id": "aab347673d05086e"
  },
  {
   "cell_type": "code",
   "execution_count": 72,
   "outputs": [],
   "source": [
    "bpe_5 = [(2285,2476), (2416,2607), (3199,3390), (2451,2642), (3269,3468), (2577,2768), (2941,3132), (2558,2749), (2688,2879), (2928,3119), (2687,2846), \n",
    "(2571,2762), (2776,2967), (2430,2609), (3250,3441), (2688,2879),(2567,2758), (2718,2909), (2729,2920), (2824,3015), (957,1042), (2785,2976), (2582,2773),\n",
    "(2523,2710), (1915,2090), (2507,2698), (2116,2259), (3200,3391), (4025,4228), (3648,3851), (2033,2172), (2768,2959), (2796,2987), (2810,3013), (2542,2733),\n",
    "(2881,3092), (2460,2651), (2849,3028), (2440,2631)\n",
    "]"
   ],
   "metadata": {
    "collapsed": false,
    "ExecuteTime": {
     "end_time": "2024-01-07T11:16:37.252447400Z",
     "start_time": "2024-01-07T11:16:37.191015200Z"
    }
   },
   "id": "68e52fec4a3cc4d5"
  },
  {
   "cell_type": "code",
   "execution_count": 73,
   "outputs": [],
   "source": [
    "# slice_checker(fgt_5, bpe_5, patients_ids_5)"
   ],
   "metadata": {
    "collapsed": false,
    "ExecuteTime": {
     "end_time": "2024-01-07T11:16:40.546991300Z",
     "start_time": "2024-01-07T11:16:40.458061Z"
    }
   },
   "id": "3cad8da61457e0fc"
  },
  {
   "cell_type": "code",
   "execution_count": 74,
   "outputs": [
    {
     "name": "stdout",
     "output_type": "stream",
     "text": [
      "i=0 | pid=10500639\n",
      "0 is not in the unique idx\n",
      "i=1 | pid=10506817\n",
      "1 is not in the unique idx\n",
      "i=2 | pid=10507162\n",
      "2 is not in the unique idx\n",
      "i=3 | pid=10509355\n",
      "3 is not in the unique idx\n",
      "i=4 | pid=10520523\n",
      "4 is not in the unique idx\n",
      "i=5 | pid=10532430\n",
      "5 is not in the unique idx\n",
      "i=6 | pid=10540595\n",
      "6 is not in the unique idx\n",
      "i=7 | pid=10553401\n",
      "7 is not in the unique idx\n",
      "i=8 | pid=10554186\n",
      "8 is not in the unique idx\n",
      "i=9 | pid=10561171\n",
      "9 is not in the unique idx\n",
      "i=10 | pid=10581017\n",
      "10 is not in the unique idx\n",
      "i=11 | pid=10591458\n",
      "11 is not in the unique idx\n",
      "i=12 | pid=10632327\n",
      "12 is not in the unique idx\n",
      "i=13 | pid=10716690\n",
      "13 is not in the unique idx\n",
      "i=14 | pid=10718503\n",
      "14 is not in the unique idx\n",
      "i=15 | pid=10738155\n",
      "15 is not in the unique idx\n",
      "i=16 | pid=10743894\n",
      "16 is not in the unique idx\n",
      "i=17 | pid=10756274\n",
      "17 is not in the unique idx\n",
      "i=18 | pid=10773065\n",
      "18 is not in the unique idx\n",
      "i=19 | pid=10791568\n",
      "19 is not in the unique idx\n",
      "i=20 | pid=10795621\n",
      "i=21 | pid=10812027\n",
      "21 is not in the unique idx\n",
      "i=22 | pid=10879476\n",
      "i=23 | pid=10905568\n",
      "i=24 | pid=10916400\n",
      "i=25 | pid=10937977\n",
      "i=26 | pid=10959273\n",
      "i=27 | pid=10983337\n",
      "27 is not in the unique idx\n",
      "i=28 | pid=11032357\n",
      "28 is not in the unique idx\n",
      "i=29 | pid=11034705\n",
      "29 is not in the unique idx\n",
      "i=30 | pid=11075626\n",
      "30 is not in the unique idx\n",
      "i=31 | pid=11076778\n",
      "31 is not in the unique idx\n",
      "i=32 | pid=11086355\n",
      "32 is not in the unique idx\n",
      "i=33 | pid=11180494\n",
      "33 is not in the unique idx\n",
      "i=34 | pid=11183489\n",
      "34 is not in the unique idx\n",
      "i=35 | pid=11216685\n",
      "35 is not in the unique idx\n",
      "i=36 | pid=11275661\n",
      "36 is not in the unique idx\n",
      "i=37 | pid=11346010\n",
      "37 is not in the unique idx\n",
      "i=38 | pid=11627699\n",
      "38 is not in the unique idx\n"
     ]
    }
   ],
   "source": [
    "# automated_copy(o_directory, d_directory, patients_ids_5, fgt_5, bpe_5)"
   ],
   "metadata": {
    "collapsed": false,
    "ExecuteTime": {
     "end_time": "2024-01-07T11:17:02.824823700Z",
     "start_time": "2024-01-07T11:16:42.055709400Z"
    }
   },
   "id": "991c0c7f42ffb696"
  },
  {
   "cell_type": "markdown",
   "source": [
    "# Part 6"
   ],
   "metadata": {
    "collapsed": false
   },
   "id": "eaef76535c476bdf"
  },
  {
   "cell_type": "code",
   "execution_count": 454,
   "outputs": [],
   "source": [
    "mpath = 'H:/Breast MRI/03/sps'\n",
    "folder_names_part6 = []\n",
    "folder_names_part6 = get_folder_names(mpath, folder_names_part6)"
   ],
   "metadata": {
    "collapsed": false,
    "ExecuteTime": {
     "end_time": "2024-01-03T17:00:52.014253200Z",
     "start_time": "2024-01-03T17:00:49.082191Z"
    }
   },
   "id": "eee940ee23a09e1f"
  },
  {
   "cell_type": "code",
   "execution_count": 455,
   "outputs": [],
   "source": [
    "folder_list = []\n",
    "for name in folder_names_part6:\n",
    "    if name not in all_ok_data:\n",
    "        print(name)\n",
    "        folder_list.append(name)"
   ],
   "metadata": {
    "collapsed": false,
    "ExecuteTime": {
     "end_time": "2024-01-03T17:00:52.014253200Z",
     "start_time": "2024-01-03T17:00:49.101426800Z"
    }
   },
   "id": "c1984eeae2f7c24f"
  },
  {
   "cell_type": "code",
   "execution_count": 456,
   "outputs": [
    {
     "data": {
      "text/plain": "0"
     },
     "execution_count": 456,
     "metadata": {},
     "output_type": "execute_result"
    }
   ],
   "source": [
    "len(folder_list)"
   ],
   "metadata": {
    "collapsed": false,
    "ExecuteTime": {
     "end_time": "2024-01-03T17:00:52.014253200Z",
     "start_time": "2024-01-03T17:00:49.114048400Z"
    }
   },
   "id": "2f208c6a54a80c4f"
  },
  {
   "cell_type": "code",
   "execution_count": 457,
   "outputs": [],
   "source": [
    "# source_directory = mpath\n",
    "# destination_directory = \"H:/Breast MRI/03/NotOkData/sps\"  # Replace with the actual destination directory\n",
    "# move_folders(folder_list, source_directory, destination_directory)"
   ],
   "metadata": {
    "collapsed": false,
    "ExecuteTime": {
     "end_time": "2024-01-03T17:00:52.014253200Z",
     "start_time": "2024-01-03T17:00:49.130184200Z"
    }
   },
   "id": "883862bbc988d7b7"
  },
  {
   "cell_type": "code",
   "execution_count": 458,
   "outputs": [],
   "source": [
    "no_data_cases = ['8390792', '8564813', '8613792', '8756913']"
   ],
   "metadata": {
    "collapsed": false,
    "ExecuteTime": {
     "end_time": "2024-01-03T17:00:52.014253200Z",
     "start_time": "2024-01-03T17:00:49.146242100Z"
    }
   },
   "id": "cf699b752f1174c6"
  },
  {
   "cell_type": "code",
   "execution_count": 459,
   "outputs": [
    {
     "data": {
      "text/plain": "1135"
     },
     "execution_count": 459,
     "metadata": {},
     "output_type": "execute_result"
    }
   ],
   "source": [
    "len(all_ok_data)"
   ],
   "metadata": {
    "collapsed": false,
    "ExecuteTime": {
     "end_time": "2024-01-03T17:00:52.014253200Z",
     "start_time": "2024-01-03T17:00:49.162025700Z"
    }
   },
   "id": "7a96eee7843a7144"
  },
  {
   "cell_type": "code",
   "execution_count": 460,
   "outputs": [],
   "source": [
    "for pid in no_data_cases:\n",
    "    if pid in all_ok_data:\n",
    "        all_ok_data.remove(pid)"
   ],
   "metadata": {
    "collapsed": false,
    "ExecuteTime": {
     "end_time": "2024-01-03T17:00:52.014253200Z",
     "start_time": "2024-01-03T17:00:49.178147200Z"
    }
   },
   "id": "7273d33c0f52ec65"
  },
  {
   "cell_type": "code",
   "execution_count": 461,
   "outputs": [
    {
     "data": {
      "text/plain": "1131"
     },
     "execution_count": 461,
     "metadata": {},
     "output_type": "execute_result"
    }
   ],
   "source": [
    "len(all_ok_data)"
   ],
   "metadata": {
    "collapsed": false,
    "ExecuteTime": {
     "end_time": "2024-01-03T17:00:52.014253200Z",
     "start_time": "2024-01-03T17:00:49.198322600Z"
    }
   },
   "id": "68d451e50a2ed953"
  },
  {
   "cell_type": "code",
   "execution_count": 75,
   "outputs": [],
   "source": [
    "# Origin and destination directory\n",
    "d_directory = 'E:/Selected Data/'\n",
    "o_directory = 'H:/Breast MRI/03/sps/'"
   ],
   "metadata": {
    "collapsed": false,
    "ExecuteTime": {
     "end_time": "2024-01-07T11:23:42.934613900Z",
     "start_time": "2024-01-07T11:23:42.871303500Z"
    }
   },
   "id": "88e97ec6e72b64e9"
  },
  {
   "cell_type": "code",
   "execution_count": 76,
   "outputs": [],
   "source": [
    "patients_ids_6 = [8308544, 8320097, 8644677, 8654723, 8668965, 8693340, 8845788, 8846009, 8943630, 8980696, 8987973, 8994596, 8995280,\n",
    "                  9002280, 9010579, 9010854, 9011738, 9012992, 9013052, 9017038, 9021496, 9024061, 9024191, 9024288, 9024861, 9064702,\n",
    "                  9066182, 9072270, 9075718, 9075921, 9082292, 9099448, 9099484, 9099535, 9102847, 9103559, 9103635, 9124636, 9132962,\n",
    "                  9135746, 9137960, 9178082, 9186604, 9187014, 9211330, 9221344, 9246145, 9250562, 9250859, 9251259, 9257467, 9260607,\n",
    "                  9278242, 9278286, 9278507, 9280993, 9282859, 9297184, 9300041, 9303450, 9303958, 9306355, 9314842, 9314854,\n",
    "                  9329696, 9329801, 9332914, 9338697, 9338721, 9350416, 9354498, 9374330, 9374338, 9374628, 9376635, 9378242, 9380740, 9385156,\n",
    "                  9385880, 9397693, 9397802, 9398002, 9400054, 9401113, 9403123, 9407013, 9408592, 9409404, 9433277, 9433866, 9434346,\n",
    "                  9446950, 9447103, 9449885, 9452045, 9456472, 9456991, 9555999, 9571196, 9590052, 9613321, 9613957, 9634850, 9657991,\n",
    "                  9670407, 9679589, 9683733, 9692694, 9692981, 9730700, 9749506]"
   ],
   "metadata": {
    "collapsed": false,
    "ExecuteTime": {
     "end_time": "2024-01-07T11:23:44.769041800Z",
     "start_time": "2024-01-07T11:23:44.721369300Z"
    }
   },
   "id": "b6682367aa848185"
  },
  {
   "cell_type": "code",
   "execution_count": 77,
   "outputs": [],
   "source": [
    "fgt_6 = [(364,515), (658,833), (356,413), (321,472), (536,679), (536,623), (348,523), (345,512), (356,531), (518,615), (348,523),\n",
    "         (387,472), (396,481), (338,501), (605,690), (622,707), (340,423), (431,516), (365,450), (387,472), (269,354), (365,450),\n",
    "         (509,594), (365,450), (505,590), (454,625), (335,502), (348,523), (549,634), (525,610), (545,688), (509,594), (378,463),\n",
    "         (482,653), (625,710), (521,606), (580,665), (529,614), (320,471), (430,561), (344,479), (427,512), (365,442), (378,453),\n",
    "         (350,517), (509,594), (421,506), (394,479), (397,482), (403,488), (661,746), (409,494), (332,475), (397,540), (371,522),\n",
    "         (411,562), (568,653), (335,498), (421,506), (393,536), (368,511), (809,894), (393,478), (467,556), (551,694), (365,430),\n",
    "         (439,524), (450,535), (365,450), (451,536), (537,622), (427,512), (365,450), (330,481), (549,634), (529,614), (375,550),\n",
    "         (365,430), (387,474), (399,542), (413,572), (391,460), (541,626), (597,682), (521,606), (373,458), (365,432), (401,486),\n",
    "         (517,602), (521,606), (633,718), (377,528), (348,503), (554,639), (574,659), (417,502), (411,496), (509,594), (489,574),\n",
    "         (396,481), (403,472), (275,350), (301,394), (405,470), (277,352), (273,348), (415,504), (459,544), (505,590), (519,604),\n",
    "         (273,344)]"
   ],
   "metadata": {
    "collapsed": false,
    "ExecuteTime": {
     "end_time": "2024-01-07T11:23:45.956237200Z",
     "start_time": "2024-01-07T11:23:45.909421Z"
    }
   },
   "id": "e3972b871fc2315a"
  },
  {
   "cell_type": "code",
   "execution_count": 78,
   "outputs": [],
   "source": [
    "bpe_6 = [(1124,1275), (1606,1781), (782,839), (1081,1232), (2092,2235), (1056,1143), (1408,1583), (1245,1412), (1416,1591),\n",
    "         (1206,1303), (1408,1583), (885,970), (894,979), (1338,1501), (1103,1188), (1124,1209), (848,931), (1317,1402), (1262,1347),\n",
    "         (971,1056), (699,784), (1247,1332), (1458,1543), (1126,1211), (1015,1100), (1554,1725), (1523,1690), (1408,1583), (1150,1235),\n",
    "         (1081,1166), (1601,1744), (1151,1236), (876,961), (1410,1581), (1205,1290), (1083,1168), (1198,1283), (1105,1190), (1236,1387),\n",
    "         (1402,1533), (1340,1475), (1102,1187), (823,900), (826,901), (1370,1537), (1023,1108), (939,1024), (1123,1208), (1202,1287),\n",
    "         (1244,1329), (1211,1296), (951,1036), (1208,1351), (1273,1416), (1287,1438), (1375,1526), (1106,1191), (1335,1498), (1101,1186),\n",
    "         (1269,1412), (1244,1387), (1515,1600), (904,989), (1228,1317), (1427,1570), (763,828), (981,1066), (948,1033), (1101,1186),\n",
    "         (1209,1294), (1079,1164), (925,1010), (863,948), (1270,1421), (1111,1196), (1063,1148), (1435,1610), (1089,1154), (908,995),\n",
    "         (1275,1418), (1369,1528), (809,878), (1087,1172), (1135,1220), (1047,1132), (907,992), (1126,1193), (914,999), (1039,1124),\n",
    "         (1047,1132), (1179,1264), (1293,1444), (1308,1463), (1080,1165), (1120,1205), (943,1028), (933,1018), (1242,1327), (1256,1341),\n",
    "         (937,1022), (845,914), (747,822), (863,956), (842,907), (749,824), (745,820), (969,1058), (1136,1221), (1170,1255), (1073,1158),\n",
    "         (725,796)]"
   ],
   "metadata": {
    "collapsed": false,
    "ExecuteTime": {
     "end_time": "2024-01-07T11:23:46.623247300Z",
     "start_time": "2024-01-07T11:23:46.560609500Z"
    }
   },
   "id": "d5bd67005bda5324"
  },
  {
   "cell_type": "code",
   "execution_count": 79,
   "outputs": [],
   "source": [
    "# slice_checker(fgt_6, bpe_6, patients_ids_6)"
   ],
   "metadata": {
    "collapsed": false,
    "ExecuteTime": {
     "end_time": "2024-01-07T11:23:48.325476Z",
     "start_time": "2024-01-07T11:23:48.262539500Z"
    }
   },
   "id": "b211cfe399bbda2"
  },
  {
   "cell_type": "code",
   "execution_count": 80,
   "outputs": [
    {
     "name": "stdout",
     "output_type": "stream",
     "text": [
      "i=0 | pid=8308544\n",
      "i=1 | pid=8320097\n",
      "i=2 | pid=8644677\n",
      "i=3 | pid=8654723\n",
      "i=4 | pid=8668965\n",
      "i=5 | pid=8693340\n",
      "i=6 | pid=8845788\n",
      "i=7 | pid=8846009\n",
      "i=8 | pid=8943630\n",
      "i=9 | pid=8980696\n",
      "i=10 | pid=8987973\n",
      "i=11 | pid=8994596\n",
      "i=12 | pid=8995280\n",
      "i=13 | pid=9002280\n",
      "i=14 | pid=9010579\n",
      "i=15 | pid=9010854\n",
      "i=16 | pid=9011738\n",
      "i=17 | pid=9012992\n",
      "i=18 | pid=9013052\n",
      "i=19 | pid=9017038\n",
      "i=20 | pid=9021496\n",
      "i=21 | pid=9024061\n",
      "i=22 | pid=9024191\n",
      "i=23 | pid=9024288\n",
      "i=24 | pid=9024861\n",
      "i=25 | pid=9064702\n",
      "i=26 | pid=9066182\n",
      "i=27 | pid=9072270\n",
      "i=28 | pid=9075718\n",
      "i=29 | pid=9075921\n",
      "i=30 | pid=9082292\n",
      "i=31 | pid=9099448\n",
      "i=32 | pid=9099484\n",
      "i=33 | pid=9099535\n",
      "i=34 | pid=9102847\n",
      "i=35 | pid=9103559\n",
      "i=36 | pid=9103635\n",
      "i=37 | pid=9124636\n",
      "i=38 | pid=9132962\n",
      "i=39 | pid=9135746\n",
      "i=40 | pid=9137960\n",
      "i=41 | pid=9178082\n",
      "i=42 | pid=9186604\n",
      "i=43 | pid=9187014\n",
      "i=44 | pid=9211330\n",
      "i=45 | pid=9221344\n",
      "i=46 | pid=9246145\n",
      "i=47 | pid=9250562\n",
      "i=48 | pid=9250859\n",
      "i=49 | pid=9251259\n",
      "i=50 | pid=9257467\n",
      "i=51 | pid=9260607\n",
      "i=52 | pid=9278242\n",
      "i=53 | pid=9278286\n",
      "i=54 | pid=9278507\n",
      "i=55 | pid=9280993\n",
      "i=56 | pid=9282859\n",
      "i=57 | pid=9297184\n",
      "i=58 | pid=9300041\n",
      "i=59 | pid=9303450\n",
      "i=60 | pid=9303958\n",
      "i=61 | pid=9306355\n",
      "i=62 | pid=9314842\n",
      "i=63 | pid=9314854\n",
      "i=64 | pid=9329696\n",
      "i=65 | pid=9329801\n",
      "i=66 | pid=9332914\n",
      "i=67 | pid=9338697\n",
      "i=68 | pid=9338721\n",
      "i=69 | pid=9350416\n",
      "i=70 | pid=9354498\n",
      "i=71 | pid=9374330\n",
      "i=72 | pid=9374338\n",
      "i=73 | pid=9374628\n",
      "i=74 | pid=9376635\n",
      "i=75 | pid=9378242\n",
      "i=76 | pid=9380740\n",
      "i=77 | pid=9385156\n",
      "i=78 | pid=9385880\n",
      "i=79 | pid=9397693\n",
      "i=80 | pid=9397802\n",
      "i=81 | pid=9398002\n",
      "i=82 | pid=9400054\n",
      "i=83 | pid=9401113\n",
      "i=84 | pid=9403123\n",
      "i=85 | pid=9407013\n",
      "i=86 | pid=9408592\n",
      "i=87 | pid=9409404\n",
      "i=88 | pid=9433277\n",
      "i=89 | pid=9433866\n",
      "i=90 | pid=9434346\n",
      "i=91 | pid=9446950\n",
      "i=92 | pid=9447103\n",
      "i=93 | pid=9449885\n",
      "i=94 | pid=9452045\n",
      "i=95 | pid=9456472\n",
      "i=96 | pid=9456991\n",
      "i=97 | pid=9555999\n",
      "i=98 | pid=9571196\n",
      "i=99 | pid=9590052\n",
      "i=100 | pid=9613321\n",
      "i=101 | pid=9613957\n",
      "i=102 | pid=9634850\n",
      "i=103 | pid=9657991\n",
      "i=104 | pid=9670407\n",
      "i=105 | pid=9679589\n",
      "i=106 | pid=9683733\n",
      "i=107 | pid=9692694\n",
      "i=108 | pid=9692981\n",
      "i=109 | pid=9730700\n",
      "i=110 | pid=9749506\n"
     ]
    }
   ],
   "source": [
    "# automated_copy(o_directory, d_directory, patients_ids_6, fgt_6, bpe_6)"
   ],
   "metadata": {
    "collapsed": false,
    "ExecuteTime": {
     "end_time": "2024-01-07T11:26:49.303455700Z",
     "start_time": "2024-01-07T11:23:50.337354900Z"
    }
   },
   "id": "4444162b71cc57c5"
  },
  {
   "cell_type": "markdown",
   "source": [
    "# Part 7"
   ],
   "metadata": {
    "collapsed": false
   },
   "id": "fd0b8d3eb6f8889f"
  },
  {
   "cell_type": "code",
   "execution_count": 468,
   "outputs": [],
   "source": [
    "mpath = \"E:/Breast Data/Breast\"\n",
    "folder_names_part7 = []\n",
    "folder_names_part7 = get_folder_names(mpath, folder_names_part7)"
   ],
   "metadata": {
    "collapsed": false,
    "ExecuteTime": {
     "end_time": "2024-01-03T17:00:52.014253200Z",
     "start_time": "2024-01-03T17:00:49.306351200Z"
    }
   },
   "id": "2556e7fb7f35f07d"
  },
  {
   "cell_type": "code",
   "execution_count": 469,
   "outputs": [],
   "source": [
    "folder_list = []\n",
    "for name in folder_names_part7:\n",
    "    if name not in all_ok_data:\n",
    "        print(name)\n",
    "        folder_list.append(name)"
   ],
   "metadata": {
    "collapsed": false,
    "ExecuteTime": {
     "end_time": "2024-01-03T17:00:52.014253200Z",
     "start_time": "2024-01-03T17:00:49.325316200Z"
    }
   },
   "id": "6a1baa57bf75c3c0"
  },
  {
   "cell_type": "code",
   "execution_count": 470,
   "outputs": [
    {
     "data": {
      "text/plain": "0"
     },
     "execution_count": 470,
     "metadata": {},
     "output_type": "execute_result"
    }
   ],
   "source": [
    "len(folder_list)"
   ],
   "metadata": {
    "collapsed": false,
    "ExecuteTime": {
     "end_time": "2024-01-03T17:00:52.014253200Z",
     "start_time": "2024-01-03T17:00:49.338058100Z"
    }
   },
   "id": "10597b12bc469c24"
  },
  {
   "cell_type": "code",
   "execution_count": 471,
   "outputs": [],
   "source": [
    "# source_directory = mpath\n",
    "# destination_directory = \"E:/Breast Data/NotOkData/Breast\"  # Replace with the actual destination directory\n",
    "# move_folders(folder_list, source_directory, destination_directory)"
   ],
   "metadata": {
    "collapsed": false,
    "ExecuteTime": {
     "end_time": "2024-01-03T17:00:52.014253200Z",
     "start_time": "2024-01-03T17:00:49.354035800Z"
    }
   },
   "id": "3d071f80862dbef9"
  },
  {
   "cell_type": "code",
   "execution_count": 472,
   "outputs": [],
   "source": [
    "no_data_cases = []"
   ],
   "metadata": {
    "collapsed": false,
    "ExecuteTime": {
     "end_time": "2024-01-03T17:00:52.014253200Z",
     "start_time": "2024-01-03T17:00:49.369803600Z"
    }
   },
   "id": "d854140b4c3caa71"
  },
  {
   "cell_type": "code",
   "execution_count": 473,
   "outputs": [
    {
     "data": {
      "text/plain": "1131"
     },
     "execution_count": 473,
     "metadata": {},
     "output_type": "execute_result"
    }
   ],
   "source": [
    "len(all_ok_data)"
   ],
   "metadata": {
    "collapsed": false,
    "ExecuteTime": {
     "end_time": "2024-01-03T17:00:52.014253200Z",
     "start_time": "2024-01-03T17:00:49.389408200Z"
    }
   },
   "id": "c23073f55e7c7c1"
  },
  {
   "cell_type": "code",
   "execution_count": 474,
   "outputs": [],
   "source": [
    "for pid in no_data_cases:\n",
    "    if pid in all_ok_data:\n",
    "        all_ok_data.remove(pid)"
   ],
   "metadata": {
    "collapsed": false,
    "ExecuteTime": {
     "end_time": "2024-01-03T17:00:52.014253200Z",
     "start_time": "2024-01-03T17:00:49.401739100Z"
    }
   },
   "id": "284401055707a565"
  },
  {
   "cell_type": "code",
   "execution_count": 475,
   "outputs": [
    {
     "data": {
      "text/plain": "1131"
     },
     "execution_count": 475,
     "metadata": {},
     "output_type": "execute_result"
    }
   ],
   "source": [
    "len(all_ok_data)"
   ],
   "metadata": {
    "collapsed": false,
    "ExecuteTime": {
     "end_time": "2024-01-03T17:00:52.014253200Z",
     "start_time": "2024-01-03T17:00:49.417704800Z"
    }
   },
   "id": "255087af0e84a6f"
  },
  {
   "cell_type": "code",
   "execution_count": 81,
   "outputs": [],
   "source": [
    "# Origin and destination directory\n",
    "d_directory = 'E:/Selected Data/'\n",
    "o_directory = 'E:/Breast Data/Breast/'"
   ],
   "metadata": {
    "collapsed": false,
    "ExecuteTime": {
     "end_time": "2024-01-07T11:29:22.059889100Z",
     "start_time": "2024-01-07T11:29:21.996812400Z"
    }
   },
   "id": "7e491169c068dbcc"
  },
  {
   "cell_type": "code",
   "execution_count": 82,
   "outputs": [],
   "source": [
    "patients_ids_7 = [10879476, 10905568, 10937977, 10983337, 11032357, 11034705, 11075626, 11076778, 11086355, 11180494, 11183489,\n",
    "11216685, 11275661, 11346010, 11405138, 11597250, 11610585, 11618270, 11627699, 11748892, 11757932, 11758205, 11785907, 11789411, 11800353, 11801650, 11863126, 11863650, 11879076]"
   ],
   "metadata": {
    "collapsed": false,
    "ExecuteTime": {
     "end_time": "2024-01-07T11:29:22.442616800Z",
     "start_time": "2024-01-07T11:29:22.395741400Z"
    }
   },
   "id": "d636c884c2f0d6ec"
  },
  {
   "cell_type": "code",
   "execution_count": 83,
   "outputs": [],
   "source": [
    "fgt_7 = [(1038,1229), (1007,1194), (963,1154), (1141,1332), (2281,2484), (1865,2068), (867,1006), (1204,1395), (1246,1437), (1177,1380), (998,1189), \n",
    "(1178,1389), (916,1107), (1397,1576), (1258,1441), (805,956), (736,911), (1155,1370), (832,1023), (812,1003), (721,892), (707,858), (783,946), (907,1098), (1146,1337), (1292,1483), (514,669), (700,867), (970,1161)]"
   ],
   "metadata": {
    "collapsed": false,
    "ExecuteTime": {
     "end_time": "2024-01-07T11:29:23.011474400Z",
     "start_time": "2024-01-07T11:29:22.917211400Z"
    }
   },
   "id": "7ab0f472850245e3"
  },
  {
   "cell_type": "code",
   "execution_count": 84,
   "outputs": [],
   "source": [
    "bpe_7 = [(2582,2773), (2523,2710), (2507,2698), (3200,3391), (4025,4228), (3648,3851), (2033,2172), (2768,2959), (2796,2987), (2810,3013), (2542,2733),\n",
    "(2881,3092), (2460,2651), (2849,3028), (2748,2931), (2077,2228), (3413,3588), (2893,3108), (2376,2567), (2360,2551), (2125,2296), (1973,2124), (2161,2324), (2484,2675), (2690,2881), (2830,3021), (2168,2323), (2490,2657), (3882,4073) ]"
   ],
   "metadata": {
    "collapsed": false,
    "ExecuteTime": {
     "end_time": "2024-01-07T11:29:23.945279Z",
     "start_time": "2024-01-07T11:29:23.914022100Z"
    }
   },
   "id": "581d56fc374159fa"
  },
  {
   "cell_type": "code",
   "execution_count": 85,
   "outputs": [],
   "source": [
    "# slice_checker(fgt_7, bpe_7, patients_ids_7)"
   ],
   "metadata": {
    "collapsed": false,
    "ExecuteTime": {
     "end_time": "2024-01-07T11:29:25.630058500Z",
     "start_time": "2024-01-07T11:29:25.551520100Z"
    }
   },
   "id": "6af74cbe97cca78d"
  },
  {
   "cell_type": "code",
   "execution_count": 86,
   "outputs": [
    {
     "name": "stdout",
     "output_type": "stream",
     "text": [
      "i=0 | pid=10879476\n",
      "0 is not in the unique idx\n",
      "i=1 | pid=10905568\n",
      "1 is not in the unique idx\n",
      "i=2 | pid=10937977\n",
      "2 is not in the unique idx\n",
      "i=3 | pid=10983337\n",
      "3 is not in the unique idx\n",
      "i=4 | pid=11032357\n",
      "4 is not in the unique idx\n",
      "i=5 | pid=11034705\n",
      "5 is not in the unique idx\n",
      "i=6 | pid=11075626\n",
      "6 is not in the unique idx\n",
      "i=7 | pid=11076778\n",
      "7 is not in the unique idx\n",
      "i=8 | pid=11086355\n",
      "8 is not in the unique idx\n",
      "i=9 | pid=11180494\n",
      "9 is not in the unique idx\n",
      "i=10 | pid=11183489\n",
      "10 is not in the unique idx\n",
      "i=11 | pid=11216685\n",
      "11 is not in the unique idx\n",
      "i=12 | pid=11275661\n",
      "12 is not in the unique idx\n",
      "i=13 | pid=11346010\n",
      "13 is not in the unique idx\n",
      "i=14 | pid=11405138\n",
      "14 is not in the unique idx\n",
      "i=15 | pid=11597250\n",
      "15 is not in the unique idx\n",
      "i=16 | pid=11610585\n",
      "16 is not in the unique idx\n",
      "i=17 | pid=11618270\n",
      "17 is not in the unique idx\n",
      "i=18 | pid=11627699\n",
      "18 is not in the unique idx\n",
      "i=19 | pid=11748892\n",
      "i=20 | pid=11757932\n",
      "20 is not in the unique idx\n",
      "i=21 | pid=11758205\n",
      "21 is not in the unique idx\n",
      "i=22 | pid=11785907\n",
      "22 is not in the unique idx\n",
      "i=23 | pid=11789411\n",
      "23 is not in the unique idx\n",
      "i=24 | pid=11800353\n",
      "24 is not in the unique idx\n",
      "i=25 | pid=11801650\n",
      "25 is not in the unique idx\n",
      "i=26 | pid=11863126\n",
      "26 is not in the unique idx\n",
      "i=27 | pid=11863650\n",
      "27 is not in the unique idx\n",
      "i=28 | pid=11879076\n",
      "28 is not in the unique idx\n"
     ]
    }
   ],
   "source": [
    "# automated_copy(o_directory, d_directory, patients_ids_7, fgt_7, bpe_7)"
   ],
   "metadata": {
    "collapsed": false,
    "ExecuteTime": {
     "end_time": "2024-01-07T11:29:29.663389500Z",
     "start_time": "2024-01-07T11:29:27.080445300Z"
    }
   },
   "id": "a59aea113bf3bdc1"
  },
  {
   "cell_type": "markdown",
   "source": [
    "# Part 8"
   ],
   "metadata": {
    "collapsed": false
   },
   "id": "50eabbd72536335c"
  },
  {
   "cell_type": "code",
   "execution_count": 482,
   "outputs": [],
   "source": [
    "mpath = \"E:/Breast Data/breast newNAC\"\n",
    "folder_names_part8 = []\n",
    "folder_names_part8 = get_folder_names(mpath, folder_names_part8)"
   ],
   "metadata": {
    "collapsed": false,
    "ExecuteTime": {
     "end_time": "2024-01-03T17:00:52.049911900Z",
     "start_time": "2024-01-03T17:00:49.529323400Z"
    }
   },
   "id": "e15b9015e49e50c6"
  },
  {
   "cell_type": "code",
   "execution_count": 483,
   "outputs": [],
   "source": [
    "folder_list = []\n",
    "for name in folder_names_part8:\n",
    "    if name not in all_ok_data:\n",
    "        print(name)\n",
    "        folder_list.append(name)"
   ],
   "metadata": {
    "collapsed": false,
    "ExecuteTime": {
     "end_time": "2024-01-03T17:00:52.049911900Z",
     "start_time": "2024-01-03T17:00:49.549373500Z"
    }
   },
   "id": "1c1f90a7dc2b6a99"
  },
  {
   "cell_type": "code",
   "execution_count": 484,
   "outputs": [
    {
     "data": {
      "text/plain": "0"
     },
     "execution_count": 484,
     "metadata": {},
     "output_type": "execute_result"
    }
   ],
   "source": [
    "len(folder_list)"
   ],
   "metadata": {
    "collapsed": false,
    "ExecuteTime": {
     "end_time": "2024-01-03T17:00:52.049911900Z",
     "start_time": "2024-01-03T17:00:49.561675500Z"
    }
   },
   "id": "fa5dd5900c5f2994"
  },
  {
   "cell_type": "code",
   "execution_count": 485,
   "outputs": [],
   "source": [
    "# source_directory = mpath\n",
    "# destination_directory = \"E:/Breast Data/NotOkData/breast newNAC\"  # Replace with the actual destination directory\n",
    "# move_folders(folder_list, source_directory, destination_directory)"
   ],
   "metadata": {
    "collapsed": false,
    "ExecuteTime": {
     "end_time": "2024-01-03T17:00:52.049911900Z",
     "start_time": "2024-01-03T17:00:49.577730800Z"
    }
   },
   "id": "d9dfb807f3fdfb67"
  },
  {
   "cell_type": "code",
   "execution_count": 486,
   "outputs": [],
   "source": [
    "no_data_cases = []"
   ],
   "metadata": {
    "collapsed": false,
    "ExecuteTime": {
     "end_time": "2024-01-03T17:00:52.049911900Z",
     "start_time": "2024-01-03T17:00:49.597097400Z"
    }
   },
   "id": "a197b50ef104149f"
  },
  {
   "cell_type": "code",
   "execution_count": 487,
   "outputs": [
    {
     "data": {
      "text/plain": "1131"
     },
     "execution_count": 487,
     "metadata": {},
     "output_type": "execute_result"
    }
   ],
   "source": [
    "len(all_ok_data)"
   ],
   "metadata": {
    "collapsed": false,
    "ExecuteTime": {
     "end_time": "2024-01-03T17:00:52.049911900Z",
     "start_time": "2024-01-03T17:00:49.613606600Z"
    }
   },
   "id": "c389aa2245d6a4d9"
  },
  {
   "cell_type": "code",
   "execution_count": 488,
   "outputs": [],
   "source": [
    "for pid in no_data_cases:\n",
    "    if pid in all_ok_data:\n",
    "        all_ok_data.remove(pid)"
   ],
   "metadata": {
    "collapsed": false,
    "ExecuteTime": {
     "end_time": "2024-01-03T17:00:52.049911900Z",
     "start_time": "2024-01-03T17:00:49.629546800Z"
    }
   },
   "id": "d50691da8bdfffba"
  },
  {
   "cell_type": "code",
   "execution_count": 489,
   "outputs": [
    {
     "data": {
      "text/plain": "1131"
     },
     "execution_count": 489,
     "metadata": {},
     "output_type": "execute_result"
    }
   ],
   "source": [
    "len(all_ok_data)"
   ],
   "metadata": {
    "collapsed": false,
    "ExecuteTime": {
     "end_time": "2024-01-03T17:00:52.049911900Z",
     "start_time": "2024-01-03T17:00:49.641310300Z"
    }
   },
   "id": "2adb448a15eccf97"
  },
  {
   "cell_type": "code",
   "execution_count": 87,
   "outputs": [],
   "source": [
    "# Origin and destination directory\n",
    "d_directory = 'E:/Selected Data/'\n",
    "o_directory = 'E:/Breast Data/breast newNAC/'"
   ],
   "metadata": {
    "collapsed": false,
    "ExecuteTime": {
     "end_time": "2024-01-07T11:30:01.233254400Z",
     "start_time": "2024-01-07T11:30:01.186370700Z"
    }
   },
   "id": "62c01aa9bea4a7b2"
  },
  {
   "cell_type": "code",
   "execution_count": 88,
   "outputs": [],
   "source": [
    "patients_ids_8 = [8308544, 8331255, 8356670, 8378220, 8379234, 8380175, 8380177, 8397654, 8420266, 8476139, 8502426, 8647484, 8647633, 8830555, 8860408, 8866532, 10812027, 10879476, 11748892, 11913796, 11913939]"
   ],
   "metadata": {
    "collapsed": false,
    "ExecuteTime": {
     "end_time": "2024-01-07T11:30:07.126166600Z",
     "start_time": "2024-01-07T11:30:07.046840400Z"
    }
   },
   "id": "fc59402738b39ba5"
  },
  {
   "cell_type": "code",
   "execution_count": 89,
   "outputs": [],
   "source": [
    "fgt_8 = [(364,515), (280,411), (300,451), (288,439), (304,467), (284,435), (290,421), (316,479), (300,451), (258,377), (329,500), (315,478), (348,531), (300,451), (300,451), (321,488), (1181,1372), (1038,1229), (876,1067), (380,559), (588,803)]"
   ],
   "metadata": {
    "collapsed": false,
    "ExecuteTime": {
     "end_time": "2024-01-07T11:30:07.708556400Z",
     "start_time": "2024-01-07T11:30:07.660739500Z"
    }
   },
   "id": "451fbbe2ec5240d6"
  },
  {
   "cell_type": "code",
   "execution_count": 90,
   "outputs": [],
   "source": [
    "bpe_8 = [(1124,1275), (940,1071), (1880,2031), (1081,1232), (1176,1339), (1088,1239), (950,1081), (1136,1299), (1060,1211), (858,977), (1189,1360), (1135,1298), (1268,1451), (1060,1211), (1060,1211), (1413,1580), (2785,2976), (2582,2773), (2424,2615), (2290,2469), (2842,3057) ]"
   ],
   "metadata": {
    "collapsed": false,
    "ExecuteTime": {
     "end_time": "2024-01-07T11:30:08.057386Z",
     "start_time": "2024-01-07T11:30:08.026034600Z"
    }
   },
   "id": "35cdfc3795390364"
  },
  {
   "cell_type": "code",
   "execution_count": 91,
   "outputs": [],
   "source": [
    "# slice_checker(fgt_8, bpe_8, patients_ids_8)"
   ],
   "metadata": {
    "collapsed": false,
    "ExecuteTime": {
     "end_time": "2024-01-07T11:30:09.882049600Z",
     "start_time": "2024-01-07T11:30:09.842582700Z"
    }
   },
   "id": "3b9c04d80eb4544b"
  },
  {
   "cell_type": "code",
   "execution_count": 92,
   "outputs": [
    {
     "name": "stdout",
     "output_type": "stream",
     "text": [
      "i=0 | pid=8308544\n",
      "0 is not in the unique idx\n",
      "i=1 | pid=8331255\n",
      "i=2 | pid=8356670\n",
      "i=3 | pid=8378220\n",
      "i=4 | pid=8379234\n",
      "i=5 | pid=8380175\n",
      "i=6 | pid=8380177\n",
      "i=7 | pid=8397654\n",
      "i=8 | pid=8420266\n",
      "i=9 | pid=8476139\n",
      "i=10 | pid=8502426\n",
      "i=11 | pid=8647484\n",
      "11 is not in the unique idx\n",
      "i=12 | pid=8647633\n",
      "i=13 | pid=8830555\n",
      "i=14 | pid=8860408\n",
      "14 is not in the unique idx\n",
      "i=15 | pid=8866532\n",
      "i=16 | pid=10812027\n",
      "16 is not in the unique idx\n",
      "i=17 | pid=10879476\n",
      "17 is not in the unique idx\n",
      "i=18 | pid=11748892\n",
      "18 is not in the unique idx\n",
      "i=19 | pid=11913796\n",
      "19 is not in the unique idx\n",
      "i=20 | pid=11913939\n",
      "20 is not in the unique idx\n"
     ]
    }
   ],
   "source": [
    "# automated_copy(o_directory, d_directory, patients_ids_8, fgt_8, bpe_8)"
   ],
   "metadata": {
    "collapsed": false,
    "ExecuteTime": {
     "end_time": "2024-01-07T11:30:32.109248200Z",
     "start_time": "2024-01-07T11:30:11.986303600Z"
    }
   },
   "id": "35788571eacba94"
  },
  {
   "cell_type": "markdown",
   "source": [
    "# Part 9"
   ],
   "metadata": {
    "collapsed": false
   },
   "id": "3dba98c7477dd260"
  },
  {
   "cell_type": "code",
   "execution_count": 496,
   "outputs": [],
   "source": [
    "mpath = \"G:/Breast Data/nac\"\n",
    "folder_names_part9 = []\n",
    "folder_names_part9 = get_folder_names(mpath, folder_names_part9)"
   ],
   "metadata": {
    "collapsed": false,
    "ExecuteTime": {
     "end_time": "2024-01-03T17:00:52.049911900Z",
     "start_time": "2024-01-03T17:00:49.755108100Z"
    }
   },
   "id": "d81632e886141ca7"
  },
  {
   "cell_type": "code",
   "execution_count": 497,
   "outputs": [],
   "source": [
    "folder_list = []\n",
    "for name in folder_names_part9:\n",
    "    if name not in all_ok_data:\n",
    "        print(name)\n",
    "        folder_list.append(name)"
   ],
   "metadata": {
    "collapsed": false,
    "ExecuteTime": {
     "end_time": "2024-01-03T17:00:52.049911900Z",
     "start_time": "2024-01-03T17:00:49.770267100Z"
    }
   },
   "id": "505e9f9de1c460ac"
  },
  {
   "cell_type": "code",
   "execution_count": 498,
   "outputs": [
    {
     "data": {
      "text/plain": "0"
     },
     "execution_count": 498,
     "metadata": {},
     "output_type": "execute_result"
    }
   ],
   "source": [
    "len(folder_list)"
   ],
   "metadata": {
    "collapsed": false,
    "ExecuteTime": {
     "end_time": "2024-01-03T17:00:52.049911900Z",
     "start_time": "2024-01-03T17:00:49.784531500Z"
    }
   },
   "id": "8f5085f71ca7364f"
  },
  {
   "cell_type": "code",
   "execution_count": 499,
   "outputs": [],
   "source": [
    "# source_directory = mpath\n",
    "# destination_directory = \"G:/Breast Data/NotOkData/nac\"  # Replace with the actual destination directory\n",
    "# move_folders(folder_list, source_directory, destination_directory)"
   ],
   "metadata": {
    "collapsed": false,
    "ExecuteTime": {
     "end_time": "2024-01-03T17:00:52.049911900Z",
     "start_time": "2024-01-03T17:00:49.800740400Z"
    }
   },
   "id": "a05f446630b405d4"
  },
  {
   "cell_type": "code",
   "execution_count": 500,
   "outputs": [],
   "source": [
    "no_data_cases = []"
   ],
   "metadata": {
    "collapsed": false,
    "ExecuteTime": {
     "end_time": "2024-01-03T17:00:52.049911900Z",
     "start_time": "2024-01-03T17:00:49.816633100Z"
    }
   },
   "id": "4ab014abe6e38f40"
  },
  {
   "cell_type": "code",
   "execution_count": 501,
   "outputs": [
    {
     "data": {
      "text/plain": "1131"
     },
     "execution_count": 501,
     "metadata": {},
     "output_type": "execute_result"
    }
   ],
   "source": [
    "len(all_ok_data)"
   ],
   "metadata": {
    "collapsed": false,
    "ExecuteTime": {
     "end_time": "2024-01-03T17:00:52.049911900Z",
     "start_time": "2024-01-03T17:00:49.832798900Z"
    }
   },
   "id": "9f95fe134f3a8689"
  },
  {
   "cell_type": "code",
   "execution_count": 502,
   "outputs": [],
   "source": [
    "for pid in no_data_cases:\n",
    "    if pid in all_ok_data:\n",
    "        all_ok_data.remove(pid)"
   ],
   "metadata": {
    "collapsed": false,
    "ExecuteTime": {
     "end_time": "2024-01-03T17:00:52.049911900Z",
     "start_time": "2024-01-03T17:00:49.848555700Z"
    }
   },
   "id": "95ba2d282bfd46b8"
  },
  {
   "cell_type": "code",
   "execution_count": 503,
   "outputs": [
    {
     "data": {
      "text/plain": "1131"
     },
     "execution_count": 503,
     "metadata": {},
     "output_type": "execute_result"
    }
   ],
   "source": [
    "len(all_ok_data)"
   ],
   "metadata": {
    "collapsed": false,
    "ExecuteTime": {
     "end_time": "2024-01-03T17:00:52.049911900Z",
     "start_time": "2024-01-03T17:00:49.868242200Z"
    }
   },
   "id": "a0cba876e57cca46"
  },
  {
   "cell_type": "code",
   "execution_count": 93,
   "outputs": [],
   "source": [
    "# Origin and destination directory\n",
    "d_directory = 'E:/Selected Data/'\n",
    "o_directory = 'G:/Breast Data/nac'"
   ],
   "metadata": {
    "collapsed": false,
    "ExecuteTime": {
     "end_time": "2024-01-07T11:32:24.388012100Z",
     "start_time": "2024-01-07T11:32:24.340303400Z"
    }
   },
   "id": "ef97efd2780012a8"
  },
  {
   "cell_type": "code",
   "execution_count": 94,
   "outputs": [],
   "source": [
    "patients_ids_9 = [11405138, 11597250, 11610585, 11618270, 11748892, 11757932, 11758205, 11785907, 11789411, 11800353, 11801650, 11879076, 11881596, 11885867]"
   ],
   "metadata": {
    "collapsed": false,
    "ExecuteTime": {
     "end_time": "2024-01-07T11:32:24.804769400Z",
     "start_time": "2024-01-07T11:32:24.759346Z"
    }
   },
   "id": "62a350f60bd26df1"
  },
  {
   "cell_type": "code",
   "execution_count": 95,
   "outputs": [],
   "source": [
    "fgt_9 = [(1019,1210), (861,1012), (790,965), (1229,1444), (876,1067), (769,940), (755,906), (841,1004), (979,1170), (1226,1417), (1362,1553), (1050,1241), (946,1145), (868,1059)]"
   ],
   "metadata": {
    "collapsed": false,
    "ExecuteTime": {
     "end_time": "2024-01-07T11:32:25.164370700Z",
     "start_time": "2024-01-07T11:32:25.116501200Z"
    }
   },
   "id": "71fc01a71ab0afef"
  },
  {
   "cell_type": "code",
   "execution_count": 96,
   "outputs": [],
   "source": [
    "bpe_9 = [(2567,2758), (2133,2284), (3467,3642), (2967,3182), (2424,2615), (2173,2344), (2021,2172), (2219,2382), (2556,2747), (2770,2961), (2900,3091), (3962,4153), (2580,2779), (2408,2599)]"
   ],
   "metadata": {
    "collapsed": false,
    "ExecuteTime": {
     "end_time": "2024-01-07T11:32:26.138642Z",
     "start_time": "2024-01-07T11:32:26.088247200Z"
    }
   },
   "id": "21d4aa80c0b341f0"
  },
  {
   "cell_type": "code",
   "execution_count": 97,
   "outputs": [],
   "source": [
    "# slice_checker(fgt_9, bpe_9, patients_ids_9)"
   ],
   "metadata": {
    "collapsed": false,
    "ExecuteTime": {
     "end_time": "2024-01-07T11:32:27.923453500Z",
     "start_time": "2024-01-07T11:32:27.845320900Z"
    }
   },
   "id": "2137847d6c0e1a60"
  },
  {
   "cell_type": "code",
   "execution_count": 98,
   "outputs": [
    {
     "name": "stdout",
     "output_type": "stream",
     "text": [
      "i=0 | pid=11405138\n",
      "0 is not in the unique idx\n",
      "i=1 | pid=11597250\n",
      "1 is not in the unique idx\n",
      "i=2 | pid=11610585\n",
      "2 is not in the unique idx\n",
      "i=3 | pid=11618270\n",
      "3 is not in the unique idx\n",
      "i=4 | pid=11748892\n",
      "4 is not in the unique idx\n",
      "i=5 | pid=11757932\n",
      "5 is not in the unique idx\n",
      "i=6 | pid=11758205\n",
      "6 is not in the unique idx\n",
      "i=7 | pid=11785907\n",
      "7 is not in the unique idx\n",
      "i=8 | pid=11789411\n",
      "8 is not in the unique idx\n",
      "i=9 | pid=11800353\n",
      "9 is not in the unique idx\n",
      "i=10 | pid=11801650\n",
      "10 is not in the unique idx\n",
      "i=11 | pid=11879076\n",
      "11 is not in the unique idx\n",
      "i=12 | pid=11881596\n",
      "12 is not in the unique idx\n",
      "i=13 | pid=11885867\n",
      "13 is not in the unique idx\n"
     ]
    }
   ],
   "source": [
    "# automated_copy(o_directory, d_directory, patients_ids_9, fgt_9, bpe_9)"
   ],
   "metadata": {
    "collapsed": false,
    "ExecuteTime": {
     "end_time": "2024-01-07T11:32:29.561275700Z",
     "start_time": "2024-01-07T11:32:29.482759200Z"
    }
   },
   "id": "31f6d209eab9cf5f"
  },
  {
   "cell_type": "markdown",
   "source": [
    "# Part 10"
   ],
   "metadata": {
    "collapsed": false
   },
   "id": "9d8d3a300794893a"
  },
  {
   "cell_type": "code",
   "execution_count": 510,
   "outputs": [],
   "source": [
    "mpath = \"G:/Breast Data/sps\"\n",
    "folder_names_part10 = []\n",
    "folder_names_part10 = get_folder_names(mpath, folder_names_part10)"
   ],
   "metadata": {
    "collapsed": false,
    "ExecuteTime": {
     "end_time": "2024-01-03T17:00:52.049911900Z",
     "start_time": "2024-01-03T17:00:49.975718500Z"
    }
   },
   "id": "20993da662df4865"
  },
  {
   "cell_type": "code",
   "execution_count": 511,
   "outputs": [],
   "source": [
    "folder_list = []\n",
    "for name in folder_names_part10:\n",
    "    if name not in all_ok_data:\n",
    "        print(name)\n",
    "        folder_list.append(name)"
   ],
   "metadata": {
    "collapsed": false,
    "ExecuteTime": {
     "end_time": "2024-01-03T17:00:52.049911900Z",
     "start_time": "2024-01-03T17:00:49.994795700Z"
    }
   },
   "id": "c7c5fbc5175114ef"
  },
  {
   "cell_type": "code",
   "execution_count": 512,
   "outputs": [
    {
     "data": {
      "text/plain": "0"
     },
     "execution_count": 512,
     "metadata": {},
     "output_type": "execute_result"
    }
   ],
   "source": [
    "len(folder_list)"
   ],
   "metadata": {
    "collapsed": false,
    "ExecuteTime": {
     "end_time": "2024-01-03T17:00:52.049911900Z",
     "start_time": "2024-01-03T17:00:50.011209800Z"
    }
   },
   "id": "e2a7a55130b8684"
  },
  {
   "cell_type": "code",
   "execution_count": 513,
   "outputs": [],
   "source": [
    "# source_directory = mpath\n",
    "# destination_directory = \"G:/Breast Data/NotOkData/sps\"  # Replace with the actual destination directory\n",
    "# move_folders(folder_list, source_directory, destination_directory)"
   ],
   "metadata": {
    "collapsed": false,
    "ExecuteTime": {
     "end_time": "2024-01-03T17:00:52.049911900Z",
     "start_time": "2024-01-03T17:00:50.023766900Z"
    }
   },
   "id": "4cea008715fb9dc0"
  },
  {
   "cell_type": "code",
   "execution_count": 514,
   "outputs": [],
   "source": [
    "no_data_cases = ['8867592']"
   ],
   "metadata": {
    "collapsed": false,
    "ExecuteTime": {
     "end_time": "2024-01-03T17:00:52.049911900Z",
     "start_time": "2024-01-03T17:00:50.039914700Z"
    }
   },
   "id": "2ce09b8173210fd0"
  },
  {
   "cell_type": "code",
   "execution_count": 515,
   "outputs": [
    {
     "data": {
      "text/plain": "1131"
     },
     "execution_count": 515,
     "metadata": {},
     "output_type": "execute_result"
    }
   ],
   "source": [
    "len(all_ok_data)"
   ],
   "metadata": {
    "collapsed": false,
    "ExecuteTime": {
     "end_time": "2024-01-03T17:00:52.049911900Z",
     "start_time": "2024-01-03T17:00:50.055700300Z"
    }
   },
   "id": "9e539290775357a3"
  },
  {
   "cell_type": "code",
   "execution_count": 516,
   "outputs": [],
   "source": [
    "for pid in no_data_cases:\n",
    "    if pid in all_ok_data:\n",
    "        all_ok_data.remove(pid)"
   ],
   "metadata": {
    "collapsed": false,
    "ExecuteTime": {
     "end_time": "2024-01-03T17:00:52.049911900Z",
     "start_time": "2024-01-03T17:00:50.071839600Z"
    }
   },
   "id": "e9e1d196252c5c50"
  },
  {
   "cell_type": "code",
   "execution_count": 517,
   "outputs": [
    {
     "data": {
      "text/plain": "1130"
     },
     "execution_count": 517,
     "metadata": {},
     "output_type": "execute_result"
    }
   ],
   "source": [
    "len(all_ok_data)"
   ],
   "metadata": {
    "collapsed": false,
    "ExecuteTime": {
     "end_time": "2024-01-03T17:00:52.049911900Z",
     "start_time": "2024-01-03T17:00:50.092943400Z"
    }
   },
   "id": "ff3f921539d857d8"
  },
  {
   "cell_type": "code",
   "execution_count": 99,
   "outputs": [],
   "source": [
    "# Origin and destination directory\n",
    "d_directory = 'E:/Selected Data/'\n",
    "o_directory = 'G:/Breast Data/sps/'"
   ],
   "metadata": {
    "collapsed": false,
    "ExecuteTime": {
     "end_time": "2024-01-07T11:32:50.170261900Z",
     "start_time": "2024-01-07T11:32:50.128125900Z"
    }
   },
   "id": "b9f840e50cc220b3"
  },
  {
   "cell_type": "code",
   "execution_count": 100,
   "outputs": [],
   "source": [
    "patients_ids_10 = [8343185, 8409056, 8416350, 8479601, 8534099, 8866532, 8873492, 8889724, 8915531, 8925092, 9014143, 9158896, 9290074, 9290715, 9306747, 9494072, 9495256, 9507637, 9511809, 9511838, 9513877, 9514578, 9516448, 9521942, 9522082, 9522435,\n",
    "9522620, 9821838, 9824657, 9833318, 9833973, 9834400, 9839404, 9839939, 9840299, 9845434, 9847483, 9847488, 9852399, 9961155, 10013259, 10014191, 10022835, 10023779, 10029875, 10029952, 10030148, 10532430, 10540595, 10553401, 10561171, 10609248,\n",
    "11195971, 11216300, 11227862, 11227939, 11251756, 11256225, 11265500, 11267809, 11269597, 11279181, 11279333, 11279953, 11282806, 11290557, 11295079, 11295090, 11297877, 11297940, 11299279, 11306332, 11309011, 11312299, 11312329, 11316461, 11316477,\n",
    "11319133, 11323537, 11331203, 11331360, 11334261, 11344443, 11348952, 11351904, 11355417, 11361965\n",
    "]"
   ],
   "metadata": {
    "collapsed": false,
    "ExecuteTime": {
     "end_time": "2024-01-07T11:32:50.604958Z",
     "start_time": "2024-01-07T11:32:50.557044700Z"
    }
   },
   "id": "903b6b4c5b648015"
  },
  {
   "cell_type": "code",
   "execution_count": 101,
   "outputs": [],
   "source": [
    "fgt_10 = [(368,511), (400,567), (753,920), (424,567), (442,585), (321,488), (486,561), (485,570), (425,604), (372,455), (417,494), (641,720), (396,483), (654,739), (525,610), (538,623), (552,637), (453,652), (365,532), (408,473), (521,606), (558,643), (550,635), (434,519), (499,560),  (493,564),\n",
    "(529,614), (277,362), (471,572), (405,490), (381,444), (405,490), (293,378), (310,387), (275,352), (396,481), (277,362), (277,362), (405,490), (419,504), (405,482), (465,554), (311,396), (405,490), (361,504), (430,593), (344,475), (639,782), (991,1182), (1052,1243), (978,1169), (304,415),\n",
    "(406,593), (395,574), (347,522), (347,522), (275,450), (427,618), (316,491), (395,578), (282,457), (532,699), (428,615), (414,605), (503,654), (325,500), (336,511), (377,552), (402,585), (396,595), (677,872), (323,462), (333,508), (393,568), (355,530), (360,535), (325,476), \n",
    "(336,503), (461,636), (333,508), (404,579), (384,559), (383,558), (405,490), (386,561), (407,582), (516,703)\n",
    "]"
   ],
   "metadata": {
    "collapsed": false,
    "ExecuteTime": {
     "end_time": "2024-01-07T11:32:51.323049600Z",
     "start_time": "2024-01-07T11:32:51.243471700Z"
    }
   },
   "id": "63777c6f1ab67a1c"
  },
  {
   "cell_type": "code",
   "execution_count": 102,
   "outputs": [],
   "source": [
    "bpe_10 = [(1930,2073), (1300,1467), (1653,1820), (2130,2273), (2301,2444), (1413,1580), (950,1025), (1090,1175), (1786,1965), (916,999), (1322,1399), (1144,1223), (938,1025), (1355,1440), (1055,1140), (1068,1153), (1078,1163), (1893,2092), (1273,1440), (806,871), (1069,1154), (1088,1173), (1092,1177), (946,1031), (901,962), (945,1016),\n",
    "(1448,1533), (799,884), (1101,1202), (951,1036), (813,876), (1082,1167), (1111,1196), (792,869), (757,834), (1078,1163), (799,884), (799,884), (927,1012), (977,1062), (887,964), (1035,1124), (854,939), (939,1024), (1237,1380), (1406,1569), (1160,1291), (2510,2653), (2941,3132), (2558,2749), (2928,3119), (864,975),\n",
    "(2392,2579), (1679,1858), (1619,1794), (1619,1794), (1511,1686), (1831,2022), (1552,1727), (1739,1922), (1518,1693), (1804,1971), (2434,2621), (1818,2009), (1419,1570), (1561,1736), (1608,1783), (1637,1812), (1734,1917), (2473,2672), (2105,2300), (1307,1446), (1569,1744), (1737,1912), (1651,1826), (1596,1771), (1417,1568), \n",
    "(2082,2249), (1706,1881), (1569,1744), (1640,1815), (2093,2268), (1635,1810), (939,1024), (1802,1977), (1739,1914), (1860,2047) \n",
    "]"
   ],
   "metadata": {
    "collapsed": false,
    "ExecuteTime": {
     "end_time": "2024-01-07T11:32:51.682058100Z",
     "start_time": "2024-01-07T11:32:51.619292Z"
    }
   },
   "id": "3f445f12d238d8dc"
  },
  {
   "cell_type": "code",
   "execution_count": 103,
   "outputs": [],
   "source": [
    "# slice_checker(fgt_10, bpe_10, patients_ids_10)"
   ],
   "metadata": {
    "collapsed": false,
    "ExecuteTime": {
     "end_time": "2024-01-07T11:32:53.975019500Z",
     "start_time": "2024-01-07T11:32:53.848916Z"
    }
   },
   "id": "fcce6092e8fc7d3e"
  },
  {
   "cell_type": "code",
   "execution_count": 104,
   "outputs": [
    {
     "name": "stdout",
     "output_type": "stream",
     "text": [
      "i=0 | pid=8343185\n",
      "i=1 | pid=8409056\n",
      "i=2 | pid=8416350\n",
      "i=3 | pid=8479601\n",
      "i=4 | pid=8534099\n",
      "i=5 | pid=8866532\n",
      "5 is not in the unique idx\n",
      "i=6 | pid=8873492\n",
      "i=7 | pid=8889724\n",
      "i=8 | pid=8915531\n",
      "i=9 | pid=8925092\n",
      "i=10 | pid=9014143\n",
      "i=11 | pid=9158896\n",
      "i=12 | pid=9290074\n",
      "i=13 | pid=9290715\n",
      "i=14 | pid=9306747\n",
      "i=15 | pid=9494072\n",
      "i=16 | pid=9495256\n",
      "i=17 | pid=9507637\n",
      "i=18 | pid=9511809\n",
      "i=19 | pid=9511838\n",
      "i=20 | pid=9513877\n",
      "i=21 | pid=9514578\n",
      "i=22 | pid=9516448\n",
      "i=23 | pid=9521942\n",
      "i=24 | pid=9522082\n",
      "i=25 | pid=9522435\n",
      "i=26 | pid=9522620\n",
      "i=27 | pid=9821838\n",
      "i=28 | pid=9824657\n",
      "i=29 | pid=9833318\n",
      "i=30 | pid=9833973\n",
      "i=31 | pid=9834400\n",
      "i=32 | pid=9839404\n",
      "i=33 | pid=9839939\n",
      "i=34 | pid=9840299\n",
      "i=35 | pid=9845434\n",
      "i=36 | pid=9847483\n",
      "i=37 | pid=9847488\n",
      "i=38 | pid=9852399\n",
      "i=39 | pid=9961155\n",
      "i=40 | pid=10013259\n",
      "i=41 | pid=10014191\n",
      "i=42 | pid=10022835\n",
      "i=43 | pid=10023779\n",
      "i=44 | pid=10029875\n",
      "i=45 | pid=10029952\n",
      "i=46 | pid=10030148\n",
      "i=47 | pid=10532430\n",
      "47 is not in the unique idx\n",
      "i=48 | pid=10540595\n",
      "48 is not in the unique idx\n",
      "i=49 | pid=10553401\n",
      "49 is not in the unique idx\n",
      "i=50 | pid=10561171\n",
      "50 is not in the unique idx\n",
      "i=51 | pid=10609248\n",
      "i=52 | pid=11195971\n",
      "i=53 | pid=11216300\n",
      "i=54 | pid=11227862\n",
      "i=55 | pid=11227939\n",
      "i=56 | pid=11251756\n",
      "i=57 | pid=11256225\n",
      "i=58 | pid=11265500\n",
      "i=59 | pid=11267809\n",
      "i=60 | pid=11269597\n",
      "i=61 | pid=11279181\n",
      "i=62 | pid=11279333\n",
      "i=63 | pid=11279953\n",
      "i=64 | pid=11282806\n",
      "i=65 | pid=11290557\n",
      "i=66 | pid=11295079\n",
      "i=67 | pid=11295090\n",
      "i=68 | pid=11297877\n",
      "i=69 | pid=11297940\n",
      "i=70 | pid=11299279\n",
      "i=71 | pid=11306332\n",
      "i=72 | pid=11309011\n",
      "i=73 | pid=11312299\n",
      "i=74 | pid=11312329\n",
      "i=75 | pid=11316461\n",
      "i=76 | pid=11316477\n",
      "i=77 | pid=11319133\n",
      "i=78 | pid=11323537\n",
      "i=79 | pid=11331203\n",
      "i=80 | pid=11331360\n",
      "i=81 | pid=11334261\n",
      "i=82 | pid=11344443\n",
      "i=83 | pid=11348952\n",
      "i=84 | pid=11351904\n",
      "i=85 | pid=11355417\n",
      "i=86 | pid=11361965\n"
     ]
    }
   ],
   "source": [
    "# automated_copy(o_directory, d_directory, patients_ids_10, fgt_10, bpe_10)"
   ],
   "metadata": {
    "collapsed": false,
    "ExecuteTime": {
     "end_time": "2024-01-07T11:34:38.524886900Z",
     "start_time": "2024-01-07T11:33:01.455101300Z"
    }
   },
   "id": "37ba20fc65095d6a"
  },
  {
   "cell_type": "markdown",
   "source": [
    "# DICOM to PNG File"
   ],
   "metadata": {
    "collapsed": false
   },
   "id": "d11f9e4d2382e18b"
  },
  {
   "cell_type": "code",
   "execution_count": 14,
   "outputs": [],
   "source": [
    "files_path = 'E:/Selected Data/'\n",
    "destination_path = 'E:/Selected Data 128/'"
   ],
   "metadata": {
    "collapsed": false,
    "ExecuteTime": {
     "end_time": "2024-01-16T09:20:24.361838400Z",
     "start_time": "2024-01-16T09:20:24.329036Z"
    }
   },
   "id": "8bc80523dc90cf6f"
  },
  {
   "cell_type": "code",
   "execution_count": 16,
   "outputs": [
    {
     "name": "stdout",
     "output_type": "stream",
     "text": [
      "index: 0  |  pid: 10006533\n",
      "index: 1  |  pid: 10007023\n",
      "index: 2  |  pid: 10007991\n",
      "index: 3  |  pid: 10010860\n",
      "index: 4  |  pid: 10013259\n",
      "index: 5  |  pid: 10014191\n",
      "index: 6  |  pid: 10018165\n",
      "index: 7  |  pid: 10022835\n",
      "index: 8  |  pid: 10023779\n",
      "index: 9  |  pid: 10029875\n",
      "index: 10  |  pid: 10029952\n",
      "index: 11  |  pid: 10030148\n",
      "index: 12  |  pid: 10030277\n",
      "index: 13  |  pid: 10032605\n",
      "index: 14  |  pid: 10032779\n",
      "index: 15  |  pid: 10045260\n",
      "index: 16  |  pid: 10500639\n",
      "index: 17  |  pid: 10506817\n",
      "index: 18  |  pid: 10507162\n",
      "index: 19  |  pid: 10509355\n",
      "index: 20  |  pid: 10520523\n",
      "index: 21  |  pid: 10532430\n",
      "index: 22  |  pid: 10540595\n",
      "index: 23  |  pid: 10553401\n",
      "index: 24  |  pid: 10554186\n",
      "index: 25  |  pid: 10561171\n",
      "index: 26  |  pid: 10581017\n",
      "index: 27  |  pid: 10591458\n",
      "index: 28  |  pid: 10609248\n",
      "index: 29  |  pid: 10632327\n",
      "index: 30  |  pid: 10716690\n",
      "index: 31  |  pid: 10718503\n",
      "index: 32  |  pid: 10723940\n",
      "index: 33  |  pid: 10738155\n",
      "index: 34  |  pid: 10743894\n",
      "index: 35  |  pid: 10756274\n",
      "index: 36  |  pid: 10773065\n",
      "index: 37  |  pid: 10791568\n",
      "index: 38  |  pid: 10795621\n",
      "index: 39  |  pid: 10812027\n",
      "index: 40  |  pid: 10879476\n",
      "index: 41  |  pid: 10905568\n",
      "index: 42  |  pid: 10916400\n",
      "index: 43  |  pid: 10937977\n",
      "index: 44  |  pid: 10942269\n",
      "index: 45  |  pid: 10959273\n",
      "index: 46  |  pid: 10983337\n",
      "index: 47  |  pid: 11032357\n",
      "index: 48  |  pid: 11034705\n",
      "index: 49  |  pid: 11075626\n",
      "index: 50  |  pid: 11076778\n",
      "index: 51  |  pid: 11086355\n",
      "index: 52  |  pid: 11180494\n",
      "index: 53  |  pid: 11183489\n",
      "index: 54  |  pid: 11195971\n",
      "index: 55  |  pid: 11201493\n",
      "index: 56  |  pid: 11201533\n",
      "index: 57  |  pid: 11205832\n",
      "index: 58  |  pid: 11208303\n",
      "index: 59  |  pid: 11211696\n",
      "index: 60  |  pid: 11216300\n",
      "index: 61  |  pid: 11216685\n",
      "index: 62  |  pid: 11218656\n",
      "index: 63  |  pid: 11224788\n",
      "index: 64  |  pid: 11227862\n",
      "index: 65  |  pid: 11227939\n",
      "index: 66  |  pid: 11231020\n",
      "index: 67  |  pid: 11237684\n",
      "index: 68  |  pid: 11239822\n",
      "index: 69  |  pid: 11244816\n",
      "index: 70  |  pid: 11247503\n",
      "index: 71  |  pid: 11251756\n",
      "index: 72  |  pid: 11254075\n",
      "index: 73  |  pid: 11256225\n",
      "index: 74  |  pid: 11256378\n",
      "index: 75  |  pid: 11264398\n",
      "index: 76  |  pid: 11265500\n",
      "index: 77  |  pid: 11267809\n",
      "index: 78  |  pid: 11269597\n",
      "index: 79  |  pid: 11272908\n",
      "index: 80  |  pid: 11273475\n",
      "index: 81  |  pid: 11275661\n",
      "index: 82  |  pid: 11279181\n",
      "index: 83  |  pid: 11279333\n",
      "index: 84  |  pid: 11279953\n",
      "index: 85  |  pid: 11282806\n",
      "index: 86  |  pid: 11286927\n",
      "index: 87  |  pid: 11290544\n",
      "index: 88  |  pid: 11290557\n",
      "index: 89  |  pid: 11295079\n",
      "index: 90  |  pid: 11295090\n",
      "index: 91  |  pid: 11297877\n",
      "index: 92  |  pid: 11297940\n",
      "index: 93  |  pid: 11299279\n",
      "index: 94  |  pid: 11299936\n",
      "index: 95  |  pid: 11301332\n",
      "index: 96  |  pid: 11306141\n",
      "index: 97  |  pid: 11306332\n",
      "index: 98  |  pid: 11309011\n",
      "index: 99  |  pid: 11312299\n",
      "index: 100  |  pid: 11312329\n",
      "index: 101  |  pid: 11316461\n",
      "index: 102  |  pid: 11316477\n",
      "index: 103  |  pid: 11319133\n",
      "index: 104  |  pid: 11323537\n",
      "index: 105  |  pid: 11331203\n",
      "index: 106  |  pid: 11331360\n",
      "index: 107  |  pid: 11331505\n",
      "index: 108  |  pid: 11333648\n",
      "index: 109  |  pid: 11333741\n",
      "index: 110  |  pid: 11334261\n",
      "index: 111  |  pid: 11338126\n",
      "index: 112  |  pid: 11338192\n",
      "index: 113  |  pid: 11342837\n",
      "index: 114  |  pid: 11344443\n",
      "index: 115  |  pid: 11344516\n",
      "index: 116  |  pid: 11346010\n",
      "index: 117  |  pid: 11348359\n",
      "index: 118  |  pid: 11348891\n",
      "index: 119  |  pid: 11348952\n",
      "index: 120  |  pid: 11351690\n",
      "index: 121  |  pid: 11351904\n",
      "index: 122  |  pid: 11352729\n",
      "index: 123  |  pid: 11355417\n",
      "index: 124  |  pid: 11355812\n",
      "index: 125  |  pid: 11356851\n",
      "index: 126  |  pid: 11358818\n",
      "index: 127  |  pid: 11361965\n",
      "index: 128  |  pid: 11366628\n",
      "index: 129  |  pid: 11366836\n",
      "index: 130  |  pid: 11367575\n",
      "index: 131  |  pid: 11369417\n",
      "index: 132  |  pid: 11369686\n",
      "index: 133  |  pid: 11371493\n",
      "index: 134  |  pid: 11372703\n",
      "index: 135  |  pid: 11375497\n",
      "index: 136  |  pid: 11377087\n",
      "index: 137  |  pid: 11379700\n",
      "index: 138  |  pid: 11384586\n",
      "index: 139  |  pid: 11385160\n",
      "index: 140  |  pid: 11387992\n",
      "index: 141  |  pid: 11388246\n",
      "index: 142  |  pid: 11389044\n",
      "index: 143  |  pid: 11390408\n",
      "index: 144  |  pid: 11391724\n",
      "index: 145  |  pid: 11393372\n",
      "index: 146  |  pid: 11396654\n",
      "index: 147  |  pid: 11405138\n",
      "index: 148  |  pid: 11572209\n",
      "index: 149  |  pid: 11573971\n",
      "index: 150  |  pid: 11582084\n",
      "index: 151  |  pid: 11582317\n",
      "index: 152  |  pid: 11585576\n",
      "index: 153  |  pid: 11589250\n",
      "index: 154  |  pid: 11597250\n",
      "index: 155  |  pid: 11610585\n",
      "index: 156  |  pid: 11618270\n",
      "index: 157  |  pid: 11627699\n",
      "index: 158  |  pid: 11748892\n",
      "index: 159  |  pid: 11757932\n",
      "index: 160  |  pid: 11758205\n",
      "index: 161  |  pid: 11785907\n",
      "index: 162  |  pid: 11789411\n",
      "index: 163  |  pid: 11800353\n",
      "index: 164  |  pid: 11801650\n",
      "index: 165  |  pid: 11821274\n",
      "index: 166  |  pid: 11840108\n",
      "index: 167  |  pid: 11842798\n",
      "index: 168  |  pid: 11842875\n",
      "index: 169  |  pid: 11846812\n",
      "index: 170  |  pid: 11850448\n",
      "index: 171  |  pid: 11851264\n",
      "index: 172  |  pid: 11863126\n",
      "index: 173  |  pid: 11863650\n",
      "index: 174  |  pid: 11863836\n",
      "index: 175  |  pid: 11879076\n",
      "index: 176  |  pid: 11879754\n",
      "index: 177  |  pid: 11881596\n",
      "index: 178  |  pid: 11884718\n",
      "index: 179  |  pid: 11885867\n",
      "index: 180  |  pid: 11887918\n",
      "index: 181  |  pid: 11894552\n",
      "index: 182  |  pid: 11899869\n",
      "index: 183  |  pid: 11900471\n",
      "index: 184  |  pid: 11900937\n",
      "index: 185  |  pid: 11903746\n",
      "index: 186  |  pid: 11913084\n",
      "index: 187  |  pid: 11913796\n",
      "index: 188  |  pid: 11913939\n",
      "index: 189  |  pid: 11915334\n",
      "index: 190  |  pid: 11917076\n",
      "index: 191  |  pid: 11917317\n",
      "index: 192  |  pid: 12047098\n",
      "index: 193  |  pid: 12086263\n",
      "index: 194  |  pid: 1568016\n",
      "index: 195  |  pid: 8308544\n",
      "index: 196  |  pid: 8320097\n",
      "index: 197  |  pid: 8331255\n",
      "index: 198  |  pid: 8343185\n",
      "index: 199  |  pid: 8356670\n",
      "index: 200  |  pid: 8378220\n",
      "index: 201  |  pid: 8379234\n",
      "index: 202  |  pid: 8380175\n",
      "index: 203  |  pid: 8380177\n",
      "index: 204  |  pid: 8397654\n",
      "index: 205  |  pid: 8409056\n",
      "index: 206  |  pid: 8416350\n",
      "index: 207  |  pid: 8420266\n",
      "index: 208  |  pid: 8476139\n",
      "index: 209  |  pid: 8479601\n",
      "index: 210  |  pid: 8502426\n",
      "index: 211  |  pid: 8534099\n",
      "index: 212  |  pid: 8644677\n",
      "index: 213  |  pid: 8647484\n",
      "index: 214  |  pid: 8647633\n",
      "index: 215  |  pid: 8654723\n",
      "index: 216  |  pid: 8668594\n",
      "index: 217  |  pid: 8668965\n",
      "index: 218  |  pid: 8668972\n",
      "index: 219  |  pid: 8693340\n",
      "index: 220  |  pid: 8830555\n",
      "index: 221  |  pid: 8838792\n",
      "index: 222  |  pid: 8844951\n",
      "index: 223  |  pid: 8845106\n",
      "index: 224  |  pid: 8845788\n",
      "index: 225  |  pid: 8846009\n",
      "index: 226  |  pid: 8859611\n",
      "index: 227  |  pid: 8860408\n",
      "index: 228  |  pid: 8861603\n",
      "index: 229  |  pid: 8861971\n",
      "index: 230  |  pid: 8866532\n",
      "index: 231  |  pid: 8866708\n",
      "index: 232  |  pid: 8873492\n",
      "index: 233  |  pid: 8889724\n",
      "index: 234  |  pid: 8889836\n",
      "index: 235  |  pid: 8915531\n",
      "index: 236  |  pid: 8915593\n",
      "index: 237  |  pid: 8915632\n",
      "index: 238  |  pid: 8925092\n",
      "index: 239  |  pid: 8926218\n",
      "index: 240  |  pid: 8934757\n",
      "index: 241  |  pid: 8935156\n",
      "index: 242  |  pid: 8939476\n",
      "index: 243  |  pid: 8943630\n",
      "index: 244  |  pid: 8977117\n",
      "index: 245  |  pid: 8980696\n",
      "index: 246  |  pid: 8987973\n",
      "index: 247  |  pid: 8994596\n",
      "index: 248  |  pid: 8995280\n",
      "index: 249  |  pid: 9002280\n",
      "index: 250  |  pid: 9008081\n",
      "index: 251  |  pid: 9010579\n",
      "index: 252  |  pid: 9010854\n",
      "index: 253  |  pid: 9011738\n",
      "index: 254  |  pid: 9012992\n",
      "index: 255  |  pid: 9013052\n",
      "index: 256  |  pid: 9014143\n",
      "index: 257  |  pid: 9017038\n",
      "index: 258  |  pid: 9017845\n",
      "index: 259  |  pid: 9021496\n",
      "index: 260  |  pid: 9024061\n",
      "index: 261  |  pid: 9024191\n",
      "index: 262  |  pid: 9024288\n",
      "index: 263  |  pid: 9024861\n",
      "index: 264  |  pid: 9064702\n",
      "index: 265  |  pid: 9066182\n",
      "index: 266  |  pid: 9072270\n",
      "index: 267  |  pid: 9075718\n",
      "index: 268  |  pid: 9075921\n",
      "index: 269  |  pid: 9082292\n",
      "index: 270  |  pid: 9099448\n",
      "index: 271  |  pid: 9099484\n",
      "index: 272  |  pid: 9099535\n",
      "index: 273  |  pid: 9102847\n",
      "index: 274  |  pid: 9103559\n",
      "index: 275  |  pid: 9103635\n",
      "index: 276  |  pid: 9108321\n",
      "index: 277  |  pid: 9124636\n",
      "index: 278  |  pid: 9132962\n",
      "index: 279  |  pid: 9135746\n",
      "index: 280  |  pid: 9137960\n",
      "index: 281  |  pid: 9158896\n",
      "index: 282  |  pid: 9162757\n",
      "index: 283  |  pid: 9170060\n",
      "index: 284  |  pid: 9173422\n",
      "index: 285  |  pid: 9174037\n",
      "index: 286  |  pid: 9178082\n",
      "index: 287  |  pid: 9182263\n",
      "index: 288  |  pid: 9186604\n",
      "index: 289  |  pid: 9187014\n",
      "index: 290  |  pid: 9211330\n",
      "index: 291  |  pid: 9221344\n",
      "index: 292  |  pid: 9221819\n",
      "index: 293  |  pid: 9239385\n",
      "index: 294  |  pid: 9246035\n",
      "index: 295  |  pid: 9246145\n",
      "index: 296  |  pid: 9250562\n",
      "index: 297  |  pid: 9250859\n",
      "index: 298  |  pid: 9251259\n",
      "index: 299  |  pid: 9257467\n",
      "index: 300  |  pid: 9260607\n",
      "index: 301  |  pid: 9278242\n",
      "index: 302  |  pid: 9278286\n",
      "index: 303  |  pid: 9278507\n",
      "index: 304  |  pid: 9280993\n",
      "index: 305  |  pid: 9282859\n",
      "index: 306  |  pid: 9290074\n",
      "index: 307  |  pid: 9290715\n",
      "index: 308  |  pid: 9297184\n",
      "index: 309  |  pid: 9300041\n",
      "index: 310  |  pid: 9303450\n",
      "index: 311  |  pid: 9303958\n",
      "index: 312  |  pid: 9306355\n",
      "index: 313  |  pid: 9306747\n",
      "index: 314  |  pid: 9314842\n",
      "index: 315  |  pid: 9314854\n",
      "index: 316  |  pid: 9329696\n",
      "index: 317  |  pid: 9329801\n",
      "index: 318  |  pid: 9332914\n",
      "index: 319  |  pid: 9338697\n",
      "index: 320  |  pid: 9338721\n",
      "index: 321  |  pid: 9350416\n",
      "index: 322  |  pid: 9354498\n",
      "index: 323  |  pid: 9354593\n",
      "index: 324  |  pid: 9362401\n",
      "index: 325  |  pid: 9363679\n",
      "index: 326  |  pid: 9374330\n",
      "index: 327  |  pid: 9374338\n",
      "index: 328  |  pid: 9374628\n",
      "index: 329  |  pid: 9376635\n",
      "index: 330  |  pid: 9378242\n",
      "index: 331  |  pid: 9380740\n",
      "index: 332  |  pid: 9385156\n",
      "index: 333  |  pid: 9385880\n",
      "index: 334  |  pid: 9397693\n",
      "index: 335  |  pid: 9397802\n",
      "index: 336  |  pid: 9398002\n",
      "index: 337  |  pid: 9400054\n",
      "index: 338  |  pid: 9401113\n",
      "index: 339  |  pid: 9403123\n",
      "index: 340  |  pid: 9407013\n",
      "index: 341  |  pid: 9408592\n",
      "index: 342  |  pid: 9409404\n",
      "index: 343  |  pid: 9410575\n",
      "index: 344  |  pid: 9433277\n",
      "index: 345  |  pid: 9433866\n",
      "index: 346  |  pid: 9434346\n",
      "index: 347  |  pid: 9446950\n",
      "index: 348  |  pid: 9447103\n",
      "index: 349  |  pid: 9449885\n",
      "index: 350  |  pid: 9452045\n",
      "index: 351  |  pid: 9456472\n",
      "index: 352  |  pid: 9456991\n",
      "index: 353  |  pid: 9459081\n",
      "index: 354  |  pid: 9459302\n",
      "index: 355  |  pid: 9459663\n",
      "index: 356  |  pid: 9471658\n",
      "index: 357  |  pid: 9471667\n",
      "index: 358  |  pid: 9471756\n",
      "index: 359  |  pid: 9471997\n",
      "index: 360  |  pid: 9474758\n",
      "index: 361  |  pid: 9484852\n",
      "index: 362  |  pid: 9484938\n",
      "index: 363  |  pid: 9486031\n",
      "index: 364  |  pid: 9486352\n",
      "index: 365  |  pid: 9492065\n",
      "index: 366  |  pid: 9494072\n",
      "index: 367  |  pid: 9495256\n",
      "index: 368  |  pid: 9507637\n",
      "index: 369  |  pid: 9511809\n",
      "index: 370  |  pid: 9511838\n",
      "index: 371  |  pid: 9512135\n",
      "index: 372  |  pid: 9513877\n",
      "index: 373  |  pid: 9514578\n",
      "index: 374  |  pid: 9516448\n",
      "index: 375  |  pid: 9521942\n",
      "index: 376  |  pid: 9522082\n",
      "index: 377  |  pid: 9522435\n",
      "index: 378  |  pid: 9522620\n",
      "index: 379  |  pid: 9535197\n",
      "index: 380  |  pid: 9535278\n",
      "index: 381  |  pid: 9535434\n",
      "index: 382  |  pid: 9555999\n",
      "index: 383  |  pid: 9559948\n",
      "index: 384  |  pid: 9571196\n",
      "index: 385  |  pid: 9571865\n",
      "index: 386  |  pid: 9577964\n",
      "index: 387  |  pid: 9578077\n",
      "index: 388  |  pid: 9590052\n",
      "index: 389  |  pid: 9613321\n",
      "index: 390  |  pid: 9613957\n",
      "index: 391  |  pid: 9634850\n",
      "index: 392  |  pid: 9638156\n",
      "index: 393  |  pid: 9638749\n",
      "index: 394  |  pid: 9646672\n",
      "index: 395  |  pid: 9647040\n",
      "index: 396  |  pid: 9649691\n",
      "index: 397  |  pid: 9657991\n",
      "index: 398  |  pid: 9658124\n",
      "index: 399  |  pid: 9661700\n",
      "index: 400  |  pid: 9670311\n",
      "index: 401  |  pid: 9670327\n",
      "index: 402  |  pid: 9670407\n",
      "index: 403  |  pid: 9673120\n",
      "index: 404  |  pid: 9673179\n",
      "index: 405  |  pid: 9673778\n",
      "index: 406  |  pid: 9674633\n",
      "index: 407  |  pid: 9679589\n",
      "index: 408  |  pid: 9680775\n",
      "index: 409  |  pid: 9680867\n",
      "index: 410  |  pid: 9683733\n",
      "index: 411  |  pid: 9692694\n",
      "index: 412  |  pid: 9692981\n",
      "index: 413  |  pid: 969995\n",
      "index: 414  |  pid: 9700791\n",
      "index: 415  |  pid: 9701051\n",
      "index: 416  |  pid: 9718836\n",
      "index: 417  |  pid: 9726839\n",
      "index: 418  |  pid: 9727663\n",
      "index: 419  |  pid: 9730700\n",
      "index: 420  |  pid: 9739752\n",
      "index: 421  |  pid: 9749506\n",
      "index: 422  |  pid: 9757971\n",
      "index: 423  |  pid: 9773985\n",
      "index: 424  |  pid: 9821838\n",
      "index: 425  |  pid: 9824657\n",
      "index: 426  |  pid: 9833318\n",
      "index: 427  |  pid: 9833973\n",
      "index: 428  |  pid: 9834400\n",
      "index: 429  |  pid: 9839404\n",
      "index: 430  |  pid: 9839939\n",
      "index: 431  |  pid: 9840299\n",
      "index: 432  |  pid: 9845434\n",
      "index: 433  |  pid: 9847483\n",
      "index: 434  |  pid: 9847488\n",
      "index: 435  |  pid: 9852342\n",
      "index: 436  |  pid: 9852399\n",
      "index: 437  |  pid: 9900364\n",
      "index: 438  |  pid: 9906687\n",
      "index: 439  |  pid: 9906752\n",
      "index: 440  |  pid: 9910509\n",
      "index: 441  |  pid: 9918129\n",
      "index: 442  |  pid: 9918268\n",
      "index: 443  |  pid: 9918324\n",
      "index: 444  |  pid: 9920466\n",
      "index: 445  |  pid: 9924862\n",
      "index: 446  |  pid: 9926215\n",
      "index: 447  |  pid: 9929361\n",
      "index: 448  |  pid: 9929533\n",
      "index: 449  |  pid: 9930243\n",
      "index: 450  |  pid: 9947622\n",
      "index: 451  |  pid: 9953872\n",
      "index: 452  |  pid: 9953955\n",
      "index: 453  |  pid: 9954110\n",
      "index: 454  |  pid: 9961155\n",
      "index: 455  |  pid: 9966610\n",
      "index: 456  |  pid: 9970531\n",
      "index: 457  |  pid: 9971081\n",
      "index: 458  |  pid: 9975377\n",
      "index: 459  |  pid: 9975397\n",
      "index: 460  |  pid: 9985427\n",
      "index: 461  |  pid: 9991646\n",
      "index: 462  |  pid: 9994490\n",
      "index: 463  |  pid: 9997801\n",
      "index: 464  |  pid: 9997958\n",
      "index: 465  |  pid: 9998057\n"
     ]
    }
   ],
   "source": [
    "dicom_to_png(files_path, destination_path, slice_number=2, out_shape=(128, 128))"
   ],
   "metadata": {
    "collapsed": false,
    "ExecuteTime": {
     "end_time": "2024-01-16T09:23:08.948409900Z",
     "start_time": "2024-01-16T09:21:43.454923200Z"
    }
   },
   "id": "ef3849be6ce85e23"
  }
 ],
 "metadata": {
  "kernelspec": {
   "display_name": "Python 3",
   "language": "python",
   "name": "python3"
  },
  "language_info": {
   "codemirror_mode": {
    "name": "ipython",
    "version": 2
   },
   "file_extension": ".py",
   "mimetype": "text/x-python",
   "name": "python",
   "nbconvert_exporter": "python",
   "pygments_lexer": "ipython2",
   "version": "2.7.6"
  }
 },
 "nbformat": 4,
 "nbformat_minor": 5
}
