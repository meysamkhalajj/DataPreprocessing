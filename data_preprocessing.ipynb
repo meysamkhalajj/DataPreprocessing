{
 "cells": [
  {
   "cell_type": "code",
   "execution_count": 7,
   "id": "initial_id",
   "metadata": {
    "collapsed": true,
    "ExecuteTime": {
     "end_time": "2023-12-15T05:35:30.951741500Z",
     "start_time": "2023-12-15T05:35:30.919975Z"
    }
   },
   "outputs": [],
   "source": [
    "import os\n",
    "import shutil\n",
    "import pandas as pd\n",
    "import pyreadstat\n",
    "import numpy as np"
   ]
  },
  {
   "cell_type": "code",
   "execution_count": 8,
   "outputs": [],
   "source": [
    "data, meta = pyreadstat.read_sav('Dr.miratashi_3 copy.sav')"
   ],
   "metadata": {
    "collapsed": false,
    "ExecuteTime": {
     "end_time": "2023-12-15T05:35:31.511653800Z",
     "start_time": "2023-12-15T05:35:31.476665700Z"
    }
   },
   "id": "81a82c0a5d7bfb0a"
  },
  {
   "cell_type": "code",
   "execution_count": 9,
   "outputs": [],
   "source": [
    "def move_folders(folder_list, source_directory, destination_directory):\n",
    "    for folder_name in folder_list:\n",
    "        source_path = os.path.join(source_directory, folder_name)\n",
    "        destination_path = os.path.join(destination_directory, folder_name)\n",
    "        shutil.move(source_path, destination_path)\n",
    "        print(f\"Moved folder '{folder_name}' from '{source_directory}' to '{destination_directory}'\")"
   ],
   "metadata": {
    "collapsed": false,
    "ExecuteTime": {
     "end_time": "2023-12-15T05:35:31.883496900Z",
     "start_time": "2023-12-15T05:35:31.836057600Z"
    }
   },
   "id": "f1dfca7c2c9b73f3"
  },
  {
   "cell_type": "code",
   "execution_count": 10,
   "outputs": [],
   "source": [
    "def create_pid_folder(parent_directory, pid):\n",
    "    for folder_name in pid:\n",
    "        folder_path = os.path.join(parent_directory, str(folder_name))\n",
    "        os.makedirs(folder_path, exist_ok=True)\n",
    "\n",
    "        # Create the \"FGT\" and \"BPE\" sub folders within each folder\n",
    "        fgt_folder_path = os.path.join(folder_path, 'FGT')\n",
    "        bpe_folder_path = os.path.join(folder_path, 'BPE')\n",
    "        os.makedirs(fgt_folder_path, exist_ok=True)\n",
    "        os.makedirs(bpe_folder_path, exist_ok=True)"
   ],
   "metadata": {
    "collapsed": false,
    "ExecuteTime": {
     "end_time": "2023-12-15T05:35:32.444923800Z",
     "start_time": "2023-12-15T05:35:32.433369900Z"
    }
   },
   "id": "e0aaf0300051162c"
  },
  {
   "cell_type": "code",
   "execution_count": 11,
   "outputs": [],
   "source": [
    "def automated_copy(origin_directory, destination_directory, pid, fgt_idx, bpe_idx):\n",
    "    img_folder_names = []\n",
    "    for patient_id in pid:\n",
    "        dcm_directory = origin_directory + str(patient_id) + '/IMAGE/DCM/'\n",
    "        for i, (root, dirs, files) in enumerate(os.walk(dcm_directory)):\n",
    "            if i == 0:\n",
    "                img_folder_names.append(dcm_directory + str(dirs[i]))\n",
    "            \n",
    "    for i, patient_id in enumerate(pid):\n",
    "        start_fgt, end_fgt = fgt_idx[i]\n",
    "        start_bpe, end_bpe = bpe_idx[i]\n",
    "        destination_fgt_folder = destination_directory + str(patient_id) + '/FGT'\n",
    "        destination_bpe_folder = destination_directory + str(patient_id) + '/BPE'\n",
    "        for j in range(start_fgt, end_fgt+1):\n",
    "            if len(str(j)) == 4:\n",
    "                fgt_img_directory = img_folder_names[i] + '/I000' + str(j)\n",
    "            else:\n",
    "                fgt_img_directory = img_folder_names[i] + '/I0000' + str(j)\n",
    "            shutil.copy(fgt_img_directory, destination_fgt_folder)\n",
    "            \n",
    "        for j in range(start_bpe, end_bpe+1):\n",
    "            if len(str(j)) == 4:\n",
    "                bpe_img_directory = img_folder_names[i] + '/I000' + str(j)\n",
    "            else:\n",
    "                bpe_img_directory = img_folder_names[i] + '/I0000' + str(j)\n",
    "            shutil.copy(bpe_img_directory, destination_bpe_folder)"
   ],
   "metadata": {
    "collapsed": false,
    "ExecuteTime": {
     "end_time": "2023-12-15T05:35:34.060275800Z",
     "start_time": "2023-12-15T05:35:34.031143900Z"
    }
   },
   "id": "b3c92313820b328c"
  },
  {
   "cell_type": "code",
   "execution_count": 12,
   "outputs": [],
   "source": [
    "\n",
    "def get_folder_names(path, folders):\n",
    "    for entry in os.scandir(path):\n",
    "        if entry.is_dir():\n",
    "            folders.append(entry.name)\n",
    "    return folders\n",
    "\n"
   ],
   "metadata": {
    "collapsed": false,
    "ExecuteTime": {
     "end_time": "2023-12-15T05:35:34.622807800Z",
     "start_time": "2023-12-15T05:35:34.589904700Z"
    }
   },
   "id": "17b792ac5d4014e3"
  },
  {
   "cell_type": "markdown",
   "source": [
    "# Data Preprocessing\n",
    "## Step 1\n",
    "### At this step, we get the unique patient IDs and remove data with multiple diagnosis."
   ],
   "metadata": {
    "collapsed": false
   },
   "id": "bec405a5da641e0d"
  },
  {
   "cell_type": "code",
   "execution_count": 13,
   "outputs": [],
   "source": [
    "folder_names = []\n",
    "\n",
    "mpath = 'E:/Breast Data/Breast/'\n",
    "folder_names = get_folder_names(mpath, folder_names)\n",
    "\n",
    "mpath = 'E:/Breast Data/breast newNAC'\n",
    "folder_names = get_folder_names(mpath, folder_names)\n",
    "\n",
    "mpath = 'H:/Breast MRI/01/sps'\n",
    "folder_names = get_folder_names(mpath, folder_names)\n",
    "\n",
    "mpath = 'H:/Breast MRI/02/sps'\n",
    "folder_names = get_folder_names(mpath, folder_names)\n",
    "\n",
    "mpath = 'H:/Breast MRI/03/breast new'\n",
    "folder_names = get_folder_names(mpath, folder_names)\n",
    "\n",
    "mpath = 'H:/Breast MRI/03/breast new 2'\n",
    "folder_names = get_folder_names(mpath, folder_names)\n",
    "\n",
    "mpath = 'H:/Breast MRI/03/nac'\n",
    "folder_names = get_folder_names(mpath, folder_names)\n",
    "\n",
    "mpath = 'H:/Breast MRI/03/sps'\n",
    "folder_names = get_folder_names(mpath, folder_names)\n",
    "\n",
    "mpath = 'G:/Breast Data/nac'\n",
    "folder_names = get_folder_names(mpath, folder_names)\n",
    "\n",
    "mpath = 'G:/Breast Data/sps'\n",
    "folder_names = get_folder_names(mpath, folder_names)\n"
   ],
   "metadata": {
    "collapsed": false,
    "ExecuteTime": {
     "end_time": "2023-12-15T05:35:36.194288800Z",
     "start_time": "2023-12-15T05:35:35.538803300Z"
    }
   },
   "id": "a2bd7b3aa7b7f533"
  },
  {
   "cell_type": "code",
   "execution_count": 14,
   "outputs": [],
   "source": [
    "folder_names = np.array(folder_names)"
   ],
   "metadata": {
    "collapsed": false,
    "ExecuteTime": {
     "end_time": "2023-12-15T05:35:36.194288800Z",
     "start_time": "2023-12-15T05:35:36.171295Z"
    }
   },
   "id": "657c92de5f37174"
  },
  {
   "cell_type": "code",
   "execution_count": 15,
   "outputs": [],
   "source": [
    "folder_names_unique = np.unique(folder_names)"
   ],
   "metadata": {
    "collapsed": false,
    "ExecuteTime": {
     "end_time": "2023-12-15T05:35:36.194288800Z",
     "start_time": "2023-12-15T05:35:36.178205Z"
    }
   },
   "id": "1d93d1f3a3b3311b"
  },
  {
   "cell_type": "code",
   "execution_count": 16,
   "outputs": [],
   "source": [
    "data_codes = np.array(data.code)\n",
    "data_codes_unique = np.unique(data_codes)"
   ],
   "metadata": {
    "collapsed": false,
    "ExecuteTime": {
     "end_time": "2023-12-15T05:35:36.320038600Z",
     "start_time": "2023-12-15T05:35:36.304634300Z"
    }
   },
   "id": "5723b805ae0df294"
  },
  {
   "cell_type": "code",
   "execution_count": 17,
   "outputs": [],
   "source": [
    "same_codes_unique = []\n",
    "for i in folder_names_unique:\n",
    "    if i in data_codes_unique:\n",
    "        same_codes_unique.append(i)\n",
    "        \n",
    "same_codes_unique = np.array(same_codes_unique)"
   ],
   "metadata": {
    "collapsed": false,
    "ExecuteTime": {
     "end_time": "2023-12-15T05:35:36.540665200Z",
     "start_time": "2023-12-15T05:35:36.493382100Z"
    }
   },
   "id": "c0eb0a1434b60506"
  },
  {
   "cell_type": "code",
   "execution_count": 18,
   "outputs": [],
   "source": [
    "not_in_dataset = []\n",
    "for i in data_codes_unique:\n",
    "    if i not in same_codes_unique:\n",
    "        not_in_dataset.append(i)\n",
    "\n",
    "not_in_dataset_unique = np.unique(np.array(not_in_dataset))"
   ],
   "metadata": {
    "collapsed": false,
    "ExecuteTime": {
     "end_time": "2023-12-15T05:35:36.746159500Z",
     "start_time": "2023-12-15T05:35:36.717345600Z"
    }
   },
   "id": "2856d69c16837c23"
  },
  {
   "cell_type": "code",
   "execution_count": 19,
   "outputs": [],
   "source": [
    "same_codes_unique_mdd_removed = []\n",
    "for i in same_codes_unique:\n",
    "    if np.array(data[data.code == i].FG).shape[0] > 1:\n",
    "        fg_i = np.array(data[data.code == i].FG)\n",
    "        bpe_i = np.array(data[data.code == i].BPE)\n",
    "        if np.all(fg_i==fg_i[0]) and np.all(bpe_i==bpe_i[0]):\n",
    "            same_codes_unique_mdd_removed.append(i)\n",
    "    else:\n",
    "        same_codes_unique_mdd_removed.append(i)"
   ],
   "metadata": {
    "collapsed": false,
    "ExecuteTime": {
     "end_time": "2023-12-15T05:35:37.006062900Z",
     "start_time": "2023-12-15T05:35:36.895902300Z"
    }
   },
   "id": "caadb43a2071fb3d"
  },
  {
   "cell_type": "code",
   "execution_count": 20,
   "outputs": [],
   "source": [
    "not_in_dataset_unique_mdd_removed = []\n",
    "for i in not_in_dataset_unique:\n",
    "    if np.array(data[data.code == i].FG).shape[0] > 1:\n",
    "        fg_i = np.array(data[data.code == i].FG)\n",
    "        bpe_i = np.array(data[data.code == i].BPE)\n",
    "        if np.all(fg_i==fg_i[0]) and np.all(bpe_i==bpe_i[0]):\n",
    "            not_in_dataset_unique_mdd_removed.append(i)\n",
    "    else:\n",
    "        not_in_dataset_unique_mdd_removed.append(i)\n",
    "        "
   ],
   "metadata": {
    "collapsed": false,
    "ExecuteTime": {
     "end_time": "2023-12-15T05:35:37.931191900Z",
     "start_time": "2023-12-15T05:35:37.790903900Z"
    }
   },
   "id": "a3dd3c158469a49a"
  },
  {
   "cell_type": "code",
   "execution_count": 21,
   "outputs": [],
   "source": [
    "all_ok_data = same_codes_unique_mdd_removed + not_in_dataset_unique_mdd_removed"
   ],
   "metadata": {
    "collapsed": false,
    "ExecuteTime": {
     "end_time": "2023-12-15T05:35:38.032436300Z",
     "start_time": "2023-12-15T05:35:37.995924500Z"
    }
   },
   "id": "56186240dbf4c6dc"
  },
  {
   "cell_type": "code",
   "execution_count": 22,
   "outputs": [
    {
     "data": {
      "text/plain": "1146"
     },
     "execution_count": 22,
     "metadata": {},
     "output_type": "execute_result"
    }
   ],
   "source": [
    "len(all_ok_data)"
   ],
   "metadata": {
    "collapsed": false,
    "ExecuteTime": {
     "end_time": "2023-12-15T05:35:38.205446700Z",
     "start_time": "2023-12-15T05:35:38.142682100Z"
    }
   },
   "id": "29ec7ac755b2bcec"
  },
  {
   "cell_type": "markdown",
   "source": [
    "# Part 1"
   ],
   "metadata": {
    "collapsed": false
   },
   "id": "905b64073df0943d"
  },
  {
   "cell_type": "code",
   "execution_count": 23,
   "outputs": [],
   "source": [
    "mpath = 'H:/Breast MRI/01/sps'\n",
    "folder_names_part1 = []\n",
    "folder_names_part1 = get_folder_names(mpath, folder_names_part1)"
   ],
   "metadata": {
    "collapsed": false,
    "ExecuteTime": {
     "end_time": "2023-12-15T05:35:38.514273800Z",
     "start_time": "2023-12-15T05:35:38.482851600Z"
    }
   },
   "id": "4fb8a431cc68c4a1"
  },
  {
   "cell_type": "code",
   "execution_count": 24,
   "outputs": [],
   "source": [
    "for name in folder_names_part1:\n",
    "    if name not in all_ok_data:\n",
    "        print(name)"
   ],
   "metadata": {
    "collapsed": false,
    "ExecuteTime": {
     "end_time": "2023-12-15T05:35:38.656168500Z",
     "start_time": "2023-12-15T05:35:38.629447800Z"
    }
   },
   "id": "4fdc2837b03bf201"
  },
  {
   "cell_type": "code",
   "execution_count": 25,
   "outputs": [],
   "source": [
    "no_data_cases = ['9222704', '9999465', '8881092', '11258955', '11843612']"
   ],
   "metadata": {
    "collapsed": false,
    "ExecuteTime": {
     "end_time": "2023-12-15T05:35:38.877226500Z",
     "start_time": "2023-12-15T05:35:38.831052700Z"
    }
   },
   "id": "5da90887b38a1c7"
  },
  {
   "cell_type": "code",
   "execution_count": 26,
   "outputs": [
    {
     "data": {
      "text/plain": "1146"
     },
     "execution_count": 26,
     "metadata": {},
     "output_type": "execute_result"
    }
   ],
   "source": [
    "len(all_ok_data)"
   ],
   "metadata": {
    "collapsed": false,
    "ExecuteTime": {
     "end_time": "2023-12-15T05:35:39.081595100Z",
     "start_time": "2023-12-15T05:35:39.050036900Z"
    }
   },
   "id": "a814f78e85789e4f"
  },
  {
   "cell_type": "code",
   "execution_count": 27,
   "outputs": [],
   "source": [
    "for pid in no_data_cases:\n",
    "    if pid in all_ok_data:\n",
    "        all_ok_data.remove(pid)"
   ],
   "metadata": {
    "collapsed": false,
    "ExecuteTime": {
     "end_time": "2023-12-15T05:35:39.280617600Z",
     "start_time": "2023-12-15T05:35:39.242942900Z"
    }
   },
   "id": "251b549d430d09f6"
  },
  {
   "cell_type": "code",
   "execution_count": 28,
   "outputs": [
    {
     "data": {
      "text/plain": "1142"
     },
     "execution_count": 28,
     "metadata": {},
     "output_type": "execute_result"
    }
   ],
   "source": [
    "len(all_ok_data)"
   ],
   "metadata": {
    "collapsed": false,
    "ExecuteTime": {
     "end_time": "2023-12-15T05:35:39.408389200Z",
     "start_time": "2023-12-15T05:35:39.361329Z"
    }
   },
   "id": "8353b875528a5e60"
  },
  {
   "cell_type": "code",
   "execution_count": 29,
   "outputs": [],
   "source": [
    "# Origin and destination directory\n",
    "d_directory = 'E:/Selected Data/'\n",
    "o_directory = 'H:/Breast MRI/01/sps'"
   ],
   "metadata": {
    "collapsed": false,
    "ExecuteTime": {
     "end_time": "2023-12-15T05:35:39.915107900Z",
     "start_time": "2023-12-15T05:35:39.876423100Z"
    }
   },
   "id": "2be5b8c04f7e55d"
  },
  {
   "cell_type": "code",
   "execution_count": 30,
   "outputs": [],
   "source": [
    "patients_ids_1 = [8860408, 8861603, 8861971, 8866708, 8889836, 8915593, 8915632, 8926218, 8934757, 8935156, 8939476, 8977117,\n",
    "                  9008081, 9017845, 9108321, 9162757, 9170060, 9173422, 9174037, 9182263, 9221819, 9239385, 9246035, 9354593,\n",
    "                  9362401, 9363679, 9410575, 9459081, 9459302, 9459663, 9471658, 9471667, 9471756, 9471997, 9474758, 9484852,\n",
    "                  9484938, 9486031, 9486352, 9492065, 9512135, 9535197, 9535278, 9535434, 9559948, 9571865, 9577964, 9578077,\n",
    "                  9638156, 9638749, 9646672, 9647040]"
   ],
   "metadata": {
    "collapsed": false,
    "ExecuteTime": {
     "end_time": "2023-12-15T05:35:40.109432900Z",
     "start_time": "2023-12-15T05:35:40.061798100Z"
    }
   },
   "id": "7992eb96137a4a90"
  },
  {
   "cell_type": "code",
   "execution_count": 31,
   "outputs": [],
   "source": [
    "fgt_1 = [(300, 451), (373, 458), (558, 685), (396, 481), (536, 621), (379, 550), (434, 517), (335, 478), (582, 661), (587, 662),\n",
    "         (303, 454), (348, 523), (533, 618), (365, 440), (514, 599), (335, 510), (405, 548), (589, 674), (505, 590), (348, 499),\n",
    "         (521, 606), (387, 542), (407, 492), (554, 639), (365, 450), (365, 450), (432, 513), (490, 567), (371, 442), (464, 549),\n",
    "         (365, 524), (365, 528), (422, 573), (338, 485), (591, 676), (493, 668), (393, 560), (432, 587), (595, 758), (325, 448),\n",
    "         (365, 528), (365, 438), (302, 367), (365, 430), (365, 438), (501, 586), (569, 654), (529, 614), (277, 356), (277, 352),\n",
    "         (281, 366), (249, 314)]"
   ],
   "metadata": {
    "collapsed": false,
    "ExecuteTime": {
     "end_time": "2023-12-15T05:35:40.294732300Z",
     "start_time": "2023-12-15T05:35:40.266375800Z"
    }
   },
   "id": "438f0eb238a3205f"
  },
  {
   "cell_type": "code",
   "execution_count": 32,
   "outputs": [],
   "source": [
    "bpe_1 = [(1060, 1211), (920, 1005), (2589, 2716), (914, 999), (1162, 1247), (1615, 1786), (1042, 1125), (1235, 1378), (1054, 1133),\n",
    "         (1035, 1110), (1243, 1394), (1408, 1583), (1071, 1156)]"
   ],
   "metadata": {
    "collapsed": false,
    "ExecuteTime": {
     "end_time": "2023-12-15T05:35:40.462709600Z",
     "start_time": "2023-12-15T05:35:40.456093400Z"
    }
   },
   "id": "410c08141963bf9a"
  },
  {
   "cell_type": "code",
   "execution_count": 33,
   "outputs": [],
   "source": [
    "# create_pid_folder(d_directory, patients_ids_1)"
   ],
   "metadata": {
    "collapsed": false,
    "ExecuteTime": {
     "end_time": "2023-12-15T05:35:40.654492Z",
     "start_time": "2023-12-15T05:35:40.626180Z"
    }
   },
   "id": "33faacfbd79fb18"
  },
  {
   "cell_type": "code",
   "execution_count": 34,
   "outputs": [],
   "source": [
    "# automated_copy(o_directory, d_directory, patients_ids_1, fgt_1, bpe_1)"
   ],
   "metadata": {
    "collapsed": false,
    "ExecuteTime": {
     "end_time": "2023-12-15T05:35:40.842780Z",
     "start_time": "2023-12-15T05:35:40.810836600Z"
    }
   },
   "id": "3b2d41434d5d6b1c"
  },
  {
   "cell_type": "markdown",
   "source": [
    "# Part 2"
   ],
   "metadata": {
    "collapsed": false
   },
   "id": "a59f899f36f1a42c"
  },
  {
   "cell_type": "code",
   "execution_count": 35,
   "outputs": [],
   "source": [
    "mpath = 'H:/Breast MRI/02/sps'\n",
    "folder_names_part2 = []\n",
    "folder_names_part2 = get_folder_names(mpath, folder_names_part2)"
   ],
   "metadata": {
    "collapsed": false,
    "ExecuteTime": {
     "end_time": "2023-12-15T05:35:41.591124600Z",
     "start_time": "2023-12-15T05:35:41.511491600Z"
    }
   },
   "id": "fc6ee1c6aea660e9"
  },
  {
   "cell_type": "code",
   "execution_count": 36,
   "outputs": [],
   "source": [
    "for name in folder_names_part2:\n",
    "    if name not in all_ok_data:\n",
    "        print(name)"
   ],
   "metadata": {
    "collapsed": false,
    "ExecuteTime": {
     "end_time": "2023-12-15T05:35:41.701525900Z",
     "start_time": "2023-12-15T05:35:41.566502500Z"
    }
   },
   "id": "530079b08755575"
  },
  {
   "cell_type": "code",
   "execution_count": 37,
   "outputs": [],
   "source": [
    "no_data_cases = ['1191379', '8368349', '8832712', '8145891', '8302127', '8305735', '8414121', '8675439', '8675610', '8682515']"
   ],
   "metadata": {
    "collapsed": false,
    "ExecuteTime": {
     "end_time": "2023-12-15T05:35:41.813425800Z",
     "start_time": "2023-12-15T05:35:41.612745200Z"
    }
   },
   "id": "b221377d332609cf"
  },
  {
   "cell_type": "code",
   "execution_count": 38,
   "outputs": [
    {
     "data": {
      "text/plain": "1142"
     },
     "execution_count": 38,
     "metadata": {},
     "output_type": "execute_result"
    }
   ],
   "source": [
    "len(all_ok_data)"
   ],
   "metadata": {
    "collapsed": false,
    "ExecuteTime": {
     "end_time": "2023-12-15T05:35:41.892844300Z",
     "start_time": "2023-12-15T05:35:41.638409300Z"
    }
   },
   "id": "a7b279812a62e763"
  },
  {
   "cell_type": "code",
   "execution_count": 39,
   "outputs": [],
   "source": [
    "for pid in no_data_cases:\n",
    "    if pid in all_ok_data:\n",
    "        all_ok_data.remove(pid)"
   ],
   "metadata": {
    "collapsed": false,
    "ExecuteTime": {
     "end_time": "2023-12-15T05:35:42.097721700Z",
     "start_time": "2023-12-15T05:35:41.685758800Z"
    }
   },
   "id": "eb8ea3f9925d1a9f"
  },
  {
   "cell_type": "code",
   "execution_count": 40,
   "outputs": [
    {
     "data": {
      "text/plain": "1135"
     },
     "execution_count": 40,
     "metadata": {},
     "output_type": "execute_result"
    }
   ],
   "source": [
    "len(all_ok_data)"
   ],
   "metadata": {
    "collapsed": false,
    "ExecuteTime": {
     "end_time": "2023-12-15T05:35:42.192358900Z",
     "start_time": "2023-12-15T05:35:41.717304100Z"
    }
   },
   "id": "580b5d3df0435f0a"
  },
  {
   "cell_type": "code",
   "execution_count": 41,
   "outputs": [],
   "source": [
    "# Origin and destination directory\n",
    "d_directory = 'E:/Selected Data/'\n",
    "o_directory = 'H:/Breast MRI/02/sps'"
   ],
   "metadata": {
    "collapsed": false,
    "ExecuteTime": {
     "end_time": "2023-12-15T05:35:42.258310Z",
     "start_time": "2023-12-15T05:35:41.733433100Z"
    }
   },
   "id": "3bc74445e4743cde"
  },
  {
   "cell_type": "code",
   "execution_count": 42,
   "outputs": [],
   "source": [
    "patients_ids_2 = []"
   ],
   "metadata": {
    "collapsed": false,
    "ExecuteTime": {
     "end_time": "2023-12-15T05:35:42.321703400Z",
     "start_time": "2023-12-15T05:35:41.765588100Z"
    }
   },
   "id": "d3de6b666ebb84cd"
  },
  {
   "cell_type": "code",
   "execution_count": 43,
   "outputs": [],
   "source": [
    "fgt_2 = []"
   ],
   "metadata": {
    "collapsed": false,
    "ExecuteTime": {
     "end_time": "2023-12-15T05:35:42.385185700Z",
     "start_time": "2023-12-15T05:35:41.781726300Z"
    }
   },
   "id": "dcca052a79cd64e4"
  },
  {
   "cell_type": "code",
   "execution_count": 44,
   "outputs": [],
   "source": [
    "bpe_2 = []"
   ],
   "metadata": {
    "collapsed": false,
    "ExecuteTime": {
     "end_time": "2023-12-15T05:35:42.526522300Z",
     "start_time": "2023-12-15T05:35:41.829106900Z"
    }
   },
   "id": "9a4a66056f686717"
  },
  {
   "cell_type": "code",
   "execution_count": 45,
   "outputs": [],
   "source": [
    "# create_pid_folder(d_directory, patients_ids_2)"
   ],
   "metadata": {
    "collapsed": false,
    "ExecuteTime": {
     "end_time": "2023-12-15T05:35:42.557945400Z",
     "start_time": "2023-12-15T05:35:41.861039200Z"
    }
   },
   "id": "4d64c2d12b31cb5"
  },
  {
   "cell_type": "code",
   "execution_count": 46,
   "outputs": [],
   "source": [
    "# automated_copy(o_directory, d_directory, patients_ids_2, fgt_2, bpe_2)"
   ],
   "metadata": {
    "collapsed": false,
    "ExecuteTime": {
     "end_time": "2023-12-15T05:35:42.573700300Z",
     "start_time": "2023-12-15T05:35:41.880799400Z"
    }
   },
   "id": "3827b11d96af4cf9"
  },
  {
   "cell_type": "markdown",
   "source": [
    "# Part 3"
   ],
   "metadata": {
    "collapsed": false
   },
   "id": "c9899c9d18bc8eba"
  },
  {
   "cell_type": "code",
   "execution_count": 47,
   "outputs": [],
   "source": [
    "mpath = 'H:/Breast MRI/03/breast new'\n",
    "folder_names_part3 = []\n",
    "folder_names_part3 = get_folder_names(mpath, folder_names_part3)"
   ],
   "metadata": {
    "collapsed": false,
    "ExecuteTime": {
     "end_time": "2023-12-15T05:35:42.793556100Z",
     "start_time": "2023-12-15T05:35:42.018091800Z"
    }
   },
   "id": "b935210b20429ecd"
  },
  {
   "cell_type": "code",
   "execution_count": 48,
   "outputs": [],
   "source": [
    "for name in folder_names_part3:\n",
    "    if name not in all_ok_data:\n",
    "        print(name)"
   ],
   "metadata": {
    "collapsed": false,
    "ExecuteTime": {
     "end_time": "2023-12-15T05:35:42.793556100Z",
     "start_time": "2023-12-15T05:35:42.035071300Z"
    }
   },
   "id": "5523be3b9a34f0e5"
  },
  {
   "cell_type": "code",
   "execution_count": 49,
   "outputs": [],
   "source": [
    "no_data_cases = []"
   ],
   "metadata": {
    "collapsed": false,
    "ExecuteTime": {
     "end_time": "2023-12-15T05:35:42.840532900Z",
     "start_time": "2023-12-15T05:35:42.066360600Z"
    }
   },
   "id": "492ab73de4c93fd3"
  },
  {
   "cell_type": "code",
   "execution_count": 50,
   "outputs": [
    {
     "data": {
      "text/plain": "1135"
     },
     "execution_count": 50,
     "metadata": {},
     "output_type": "execute_result"
    }
   ],
   "source": [
    "len(all_ok_data)"
   ],
   "metadata": {
    "collapsed": false,
    "ExecuteTime": {
     "end_time": "2023-12-15T05:35:42.856206600Z",
     "start_time": "2023-12-15T05:35:42.071709100Z"
    }
   },
   "id": "32c67eead5c53698"
  },
  {
   "cell_type": "code",
   "execution_count": 51,
   "outputs": [],
   "source": [
    "for pid in no_data_cases:\n",
    "    if pid in all_ok_data:\n",
    "        all_ok_data.remove(pid)"
   ],
   "metadata": {
    "collapsed": false,
    "ExecuteTime": {
     "end_time": "2023-12-15T05:35:42.887601500Z",
     "start_time": "2023-12-15T05:35:42.122375Z"
    }
   },
   "id": "c57df039747f047"
  },
  {
   "cell_type": "code",
   "execution_count": 52,
   "outputs": [
    {
     "data": {
      "text/plain": "1135"
     },
     "execution_count": 52,
     "metadata": {},
     "output_type": "execute_result"
    }
   ],
   "source": [
    "len(all_ok_data)"
   ],
   "metadata": {
    "collapsed": false,
    "ExecuteTime": {
     "end_time": "2023-12-15T05:35:42.918848700Z",
     "start_time": "2023-12-15T05:35:42.152515600Z"
    }
   },
   "id": "7d82ee2c23359931"
  },
  {
   "cell_type": "code",
   "execution_count": 53,
   "outputs": [],
   "source": [
    "# Origin and destination directory\n",
    "d_directory = 'E:/Selected Data/'\n",
    "o_directory = 'H:/Breast MRI/02/sps'"
   ],
   "metadata": {
    "collapsed": false,
    "ExecuteTime": {
     "end_time": "2023-12-15T05:35:42.934469600Z",
     "start_time": "2023-12-15T05:35:42.182270900Z"
    }
   },
   "id": "d7888f235b484f49"
  },
  {
   "cell_type": "code",
   "execution_count": 54,
   "outputs": [],
   "source": [
    "patients_ids_3 = []"
   ],
   "metadata": {
    "collapsed": false,
    "ExecuteTime": {
     "end_time": "2023-12-15T05:35:42.965842500Z",
     "start_time": "2023-12-15T05:35:42.204280400Z"
    }
   },
   "id": "81d6c290da940c0d"
  },
  {
   "cell_type": "code",
   "execution_count": 55,
   "outputs": [],
   "source": [
    "fgt_3 = []"
   ],
   "metadata": {
    "collapsed": false,
    "ExecuteTime": {
     "end_time": "2023-12-15T05:35:42.981597800Z",
     "start_time": "2023-12-15T05:35:42.226413400Z"
    }
   },
   "id": "313403339b7b95c8"
  },
  {
   "cell_type": "code",
   "execution_count": 56,
   "outputs": [],
   "source": [
    "bpe_3 = []"
   ],
   "metadata": {
    "collapsed": false,
    "ExecuteTime": {
     "end_time": "2023-12-15T05:35:42.997225300Z",
     "start_time": "2023-12-15T05:35:42.242530600Z"
    }
   },
   "id": "c57b0df818283ea9"
  },
  {
   "cell_type": "code",
   "execution_count": 57,
   "outputs": [],
   "source": [
    "# create_pid_folder(d_directory, patients_ids_3)"
   ],
   "metadata": {
    "collapsed": false,
    "ExecuteTime": {
     "end_time": "2023-12-15T05:35:43.028481100Z",
     "start_time": "2023-12-15T05:35:42.283720100Z"
    }
   },
   "id": "224c14cb68849e20"
  },
  {
   "cell_type": "code",
   "execution_count": 58,
   "outputs": [],
   "source": [
    "# automated_copy(o_directory, d_directory, patients_ids_3, fgt_3, bpe_3)"
   ],
   "metadata": {
    "collapsed": false,
    "ExecuteTime": {
     "end_time": "2023-12-15T05:35:43.059890800Z",
     "start_time": "2023-12-15T05:35:42.329642700Z"
    }
   },
   "id": "917acbb17b833066"
  },
  {
   "cell_type": "markdown",
   "source": [
    "# Part 4"
   ],
   "metadata": {
    "collapsed": false
   },
   "id": "f267fccf43b1377a"
  },
  {
   "cell_type": "code",
   "execution_count": 59,
   "outputs": [],
   "source": [
    "mpath = 'H:/Breast MRI/03/breast new 2'\n",
    "folder_names_part4 = []\n",
    "folder_names_part4 = get_folder_names(mpath, folder_names_part4)"
   ],
   "metadata": {
    "collapsed": false,
    "ExecuteTime": {
     "end_time": "2023-12-15T05:35:43.138314500Z",
     "start_time": "2023-12-15T05:35:42.451399500Z"
    }
   },
   "id": "584f4d8950c41df8"
  },
  {
   "cell_type": "code",
   "execution_count": 60,
   "outputs": [],
   "source": [
    "folder_list = []\n",
    "for name in folder_names_part4:\n",
    "    if name not in all_ok_data:\n",
    "        print(name)\n",
    "        folder_list.append(name)"
   ],
   "metadata": {
    "collapsed": false,
    "ExecuteTime": {
     "end_time": "2023-12-15T05:35:43.169848Z",
     "start_time": "2023-12-15T05:35:42.479944100Z"
    }
   },
   "id": "de4d5ba727bf30c"
  },
  {
   "cell_type": "code",
   "execution_count": 61,
   "outputs": [
    {
     "data": {
      "text/plain": "0"
     },
     "execution_count": 61,
     "metadata": {},
     "output_type": "execute_result"
    }
   ],
   "source": [
    "len(folder_list)"
   ],
   "metadata": {
    "collapsed": false,
    "ExecuteTime": {
     "end_time": "2023-12-15T05:35:43.185459700Z",
     "start_time": "2023-12-15T05:35:42.516281700Z"
    }
   },
   "id": "52c2f7b244f42966"
  },
  {
   "cell_type": "code",
   "execution_count": 62,
   "outputs": [],
   "source": [
    "# source_directory = mpath\n",
    "# destination_directory = \"H:/Breast MRI/03/NotOkData/breast new 2\"  # Replace with the actual destination directory\n",
    "# move_folders(folder_list, source_directory, destination_directory)"
   ],
   "metadata": {
    "collapsed": false,
    "ExecuteTime": {
     "end_time": "2023-12-15T05:35:43.468174300Z",
     "start_time": "2023-12-15T05:35:43.112743200Z"
    }
   },
   "id": "5b3e343bf3d6b9ff"
  },
  {
   "cell_type": "code",
   "execution_count": 63,
   "outputs": [],
   "source": [
    "no_data_cases = ['10942269']"
   ],
   "metadata": {
    "collapsed": false,
    "ExecuteTime": {
     "end_time": "2023-12-15T05:35:43.515187900Z",
     "start_time": "2023-12-15T05:35:43.367876Z"
    }
   },
   "id": "fde00bec8c36368e"
  },
  {
   "cell_type": "code",
   "execution_count": 64,
   "outputs": [
    {
     "data": {
      "text/plain": "1135"
     },
     "execution_count": 64,
     "metadata": {},
     "output_type": "execute_result"
    }
   ],
   "source": [
    "len(all_ok_data)"
   ],
   "metadata": {
    "collapsed": false,
    "ExecuteTime": {
     "end_time": "2023-12-15T05:35:43.899093500Z",
     "start_time": "2023-12-15T05:35:43.855032900Z"
    }
   },
   "id": "8ffd544f5373a696"
  },
  {
   "cell_type": "code",
   "execution_count": 65,
   "outputs": [],
   "source": [
    "for pid in no_data_cases:\n",
    "    if pid in all_ok_data:\n",
    "        all_ok_data.remove(pid)"
   ],
   "metadata": {
    "collapsed": false,
    "ExecuteTime": {
     "end_time": "2023-12-15T05:35:43.993315700Z",
     "start_time": "2023-12-15T05:35:43.883414100Z"
    }
   },
   "id": "55b97091586d9539"
  },
  {
   "cell_type": "code",
   "execution_count": 66,
   "outputs": [
    {
     "data": {
      "text/plain": "1134"
     },
     "execution_count": 66,
     "metadata": {},
     "output_type": "execute_result"
    }
   ],
   "source": [
    "len(all_ok_data)"
   ],
   "metadata": {
    "collapsed": false,
    "ExecuteTime": {
     "end_time": "2023-12-15T05:35:44.136687400Z",
     "start_time": "2023-12-15T05:35:43.933443600Z"
    }
   },
   "id": "e23c8ec9a987fe9b"
  },
  {
   "cell_type": "code",
   "execution_count": 67,
   "outputs": [],
   "source": [
    "# Origin and destination directory\n",
    "d_directory = 'E:/Selected Data/'\n",
    "o_directory = 'H:/Breast MRI/02/sps'"
   ],
   "metadata": {
    "collapsed": false,
    "ExecuteTime": {
     "end_time": "2023-12-15T05:35:44.310372600Z",
     "start_time": "2023-12-15T05:35:43.962068800Z"
    }
   },
   "id": "609fa387ae7589fc"
  },
  {
   "cell_type": "code",
   "execution_count": 68,
   "outputs": [],
   "source": [
    "patients_ids_4 = []"
   ],
   "metadata": {
    "collapsed": false,
    "ExecuteTime": {
     "end_time": "2023-12-15T05:35:44.424796700Z",
     "start_time": "2023-12-15T05:35:44.005029400Z"
    }
   },
   "id": "7beec318e597fca0"
  },
  {
   "cell_type": "code",
   "execution_count": 69,
   "outputs": [],
   "source": [
    "fgt_4 = []"
   ],
   "metadata": {
    "collapsed": false,
    "ExecuteTime": {
     "end_time": "2023-12-15T05:35:44.488231400Z",
     "start_time": "2023-12-15T05:35:44.025021400Z"
    }
   },
   "id": "faf1e0277f571d25"
  },
  {
   "cell_type": "code",
   "execution_count": 70,
   "outputs": [],
   "source": [
    "bpe_4 = []"
   ],
   "metadata": {
    "collapsed": false,
    "ExecuteTime": {
     "end_time": "2023-12-15T05:35:44.574726800Z",
     "start_time": "2023-12-15T05:35:44.041069Z"
    }
   },
   "id": "e42816f59953630a"
  },
  {
   "cell_type": "code",
   "execution_count": 71,
   "outputs": [],
   "source": [
    "# create_pid_folder(d_directory, patients_ids_4)"
   ],
   "metadata": {
    "collapsed": false,
    "ExecuteTime": {
     "end_time": "2023-12-15T05:35:44.639904300Z",
     "start_time": "2023-12-15T05:35:44.081502700Z"
    }
   },
   "id": "d75a25387ed29a3f"
  },
  {
   "cell_type": "code",
   "execution_count": 72,
   "outputs": [],
   "source": [
    "# automated_copy(o_directory, d_directory, patients_ids_4, fgt_4, bpe_4)"
   ],
   "metadata": {
    "collapsed": false,
    "ExecuteTime": {
     "end_time": "2023-12-15T05:35:44.820095900Z",
     "start_time": "2023-12-15T05:35:44.120470200Z"
    }
   },
   "id": "a23f67f61d8917dd"
  },
  {
   "cell_type": "markdown",
   "source": [
    "# Part 5"
   ],
   "metadata": {
    "collapsed": false
   },
   "id": "2a31b961cec82ebf"
  },
  {
   "cell_type": "code",
   "execution_count": 73,
   "outputs": [],
   "source": [
    "mpath = 'H:/Breast MRI/03/nac'\n",
    "folder_names_part5 = []\n",
    "folder_names_part5 = get_folder_names(mpath, folder_names_part5)"
   ],
   "metadata": {
    "collapsed": false,
    "ExecuteTime": {
     "end_time": "2023-12-15T05:35:44.978375300Z",
     "start_time": "2023-12-15T05:35:44.230989600Z"
    }
   },
   "id": "876474e5d71de5c1"
  },
  {
   "cell_type": "code",
   "execution_count": 74,
   "outputs": [],
   "source": [
    "folder_list = []\n",
    "for name in folder_names_part5:\n",
    "    if name not in all_ok_data:\n",
    "        print(name)\n",
    "        folder_list.append(name)"
   ],
   "metadata": {
    "collapsed": false,
    "ExecuteTime": {
     "end_time": "2023-12-15T05:35:45.160760400Z",
     "start_time": "2023-12-15T05:35:44.264992500Z"
    }
   },
   "id": "a3e096189d89efa"
  },
  {
   "cell_type": "code",
   "execution_count": 75,
   "outputs": [
    {
     "data": {
      "text/plain": "0"
     },
     "execution_count": 75,
     "metadata": {},
     "output_type": "execute_result"
    }
   ],
   "source": [
    "len(folder_list)"
   ],
   "metadata": {
    "collapsed": false,
    "ExecuteTime": {
     "end_time": "2023-12-15T05:35:45.372715500Z",
     "start_time": "2023-12-15T05:35:44.267993400Z"
    }
   },
   "id": "121813f7c73c10e6"
  },
  {
   "cell_type": "code",
   "execution_count": 76,
   "outputs": [],
   "source": [
    "# source_directory = mpath\n",
    "# destination_directory = \"H:/Breast MRI/03/NotOkData/nac\"  # Replace with the actual destination directory\n",
    "# move_folders(folder_list, source_directory, destination_directory)"
   ],
   "metadata": {
    "collapsed": false,
    "ExecuteTime": {
     "end_time": "2023-12-15T05:35:45.504778400Z",
     "start_time": "2023-12-15T05:35:44.320366100Z"
    }
   },
   "id": "8962ea82ecd5f1e0"
  },
  {
   "cell_type": "code",
   "execution_count": 77,
   "outputs": [],
   "source": [
    "no_data_cases = []"
   ],
   "metadata": {
    "collapsed": false,
    "ExecuteTime": {
     "end_time": "2023-12-15T05:35:45.531235600Z",
     "start_time": "2023-12-15T05:35:44.346799Z"
    }
   },
   "id": "29b534e75e6f934f"
  },
  {
   "cell_type": "code",
   "execution_count": 78,
   "outputs": [
    {
     "data": {
      "text/plain": "1134"
     },
     "execution_count": 78,
     "metadata": {},
     "output_type": "execute_result"
    }
   ],
   "source": [
    "len(all_ok_data)"
   ],
   "metadata": {
    "collapsed": false,
    "ExecuteTime": {
     "end_time": "2023-12-15T05:35:45.546997Z",
     "start_time": "2023-12-15T05:35:44.357953Z"
    }
   },
   "id": "aa31a633635ddd5a"
  },
  {
   "cell_type": "code",
   "execution_count": 79,
   "outputs": [],
   "source": [
    "for pid in no_data_cases:\n",
    "    if pid in all_ok_data:\n",
    "        all_ok_data.remove(pid)"
   ],
   "metadata": {
    "collapsed": false,
    "ExecuteTime": {
     "end_time": "2023-12-15T05:35:45.562764700Z",
     "start_time": "2023-12-15T05:35:44.401506400Z"
    }
   },
   "id": "9d81a72f1d094a6"
  },
  {
   "cell_type": "code",
   "execution_count": 80,
   "outputs": [
    {
     "data": {
      "text/plain": "1134"
     },
     "execution_count": 80,
     "metadata": {},
     "output_type": "execute_result"
    }
   ],
   "source": [
    "len(all_ok_data)"
   ],
   "metadata": {
    "collapsed": false,
    "ExecuteTime": {
     "end_time": "2023-12-15T05:35:45.594144200Z",
     "start_time": "2023-12-15T05:35:44.443034400Z"
    }
   },
   "id": "19f49a3621494ff7"
  },
  {
   "cell_type": "code",
   "execution_count": 81,
   "outputs": [],
   "source": [
    "# Origin and destination directory\n",
    "d_directory = 'E:/Selected Data/'\n",
    "o_directory = 'H:/Breast MRI/02/sps'"
   ],
   "metadata": {
    "collapsed": false,
    "ExecuteTime": {
     "end_time": "2023-12-15T05:35:45.609774400Z",
     "start_time": "2023-12-15T05:35:44.456323500Z"
    }
   },
   "id": "6a74b2ee115e6258"
  },
  {
   "cell_type": "code",
   "execution_count": 82,
   "outputs": [],
   "source": [
    "patients_ids_5 = []"
   ],
   "metadata": {
    "collapsed": false,
    "ExecuteTime": {
     "end_time": "2023-12-15T05:35:45.641023300Z",
     "start_time": "2023-12-15T05:35:44.485652800Z"
    }
   },
   "id": "2095720be93558c9"
  },
  {
   "cell_type": "code",
   "execution_count": 83,
   "outputs": [],
   "source": [
    "fgt_5 = []"
   ],
   "metadata": {
    "collapsed": false,
    "ExecuteTime": {
     "end_time": "2023-12-15T05:35:45.659276200Z",
     "start_time": "2023-12-15T05:35:44.514383900Z"
    }
   },
   "id": "aab347673d05086e"
  },
  {
   "cell_type": "code",
   "execution_count": 84,
   "outputs": [],
   "source": [
    "bpe_5 = []"
   ],
   "metadata": {
    "collapsed": false,
    "ExecuteTime": {
     "end_time": "2023-12-15T05:35:45.688044100Z",
     "start_time": "2023-12-15T05:35:44.535757100Z"
    }
   },
   "id": "68e52fec4a3cc4d5"
  },
  {
   "cell_type": "code",
   "execution_count": 85,
   "outputs": [],
   "source": [
    "# create_pid_folder(d_directory, patients_ids_5)"
   ],
   "metadata": {
    "collapsed": false,
    "ExecuteTime": {
     "end_time": "2023-12-15T05:35:45.703734600Z",
     "start_time": "2023-12-15T05:35:44.567706Z"
    }
   },
   "id": "368c1a03ece72de8"
  },
  {
   "cell_type": "code",
   "execution_count": 86,
   "outputs": [],
   "source": [
    "# automated_copy(o_directory, d_directory, patients_ids_5, fgt_5, bpe_5)"
   ],
   "metadata": {
    "collapsed": false,
    "ExecuteTime": {
     "end_time": "2023-12-15T05:35:45.734922700Z",
     "start_time": "2023-12-15T05:35:44.599524800Z"
    }
   },
   "id": "991c0c7f42ffb696"
  },
  {
   "cell_type": "markdown",
   "source": [
    "# Part 6"
   ],
   "metadata": {
    "collapsed": false
   },
   "id": "eaef76535c476bdf"
  },
  {
   "cell_type": "code",
   "execution_count": 87,
   "outputs": [],
   "source": [
    "mpath = 'H:/Breast MRI/03/sps'\n",
    "folder_names_part6 = []\n",
    "folder_names_part6 = get_folder_names(mpath, folder_names_part6)"
   ],
   "metadata": {
    "collapsed": false,
    "ExecuteTime": {
     "end_time": "2023-12-15T05:35:45.859637100Z",
     "start_time": "2023-12-15T05:35:44.741749200Z"
    }
   },
   "id": "eee940ee23a09e1f"
  },
  {
   "cell_type": "code",
   "execution_count": 88,
   "outputs": [],
   "source": [
    "folder_list = []\n",
    "for name in folder_names_part6:\n",
    "    if name not in all_ok_data:\n",
    "        print(name)\n",
    "        folder_list.append(name)"
   ],
   "metadata": {
    "collapsed": false,
    "ExecuteTime": {
     "end_time": "2023-12-15T05:35:45.860780700Z",
     "start_time": "2023-12-15T05:35:44.768361600Z"
    }
   },
   "id": "c1984eeae2f7c24f"
  },
  {
   "cell_type": "code",
   "execution_count": 89,
   "outputs": [
    {
     "data": {
      "text/plain": "0"
     },
     "execution_count": 89,
     "metadata": {},
     "output_type": "execute_result"
    }
   ],
   "source": [
    "len(folder_list)"
   ],
   "metadata": {
    "collapsed": false,
    "ExecuteTime": {
     "end_time": "2023-12-15T05:35:45.876537300Z",
     "start_time": "2023-12-15T05:35:44.788509800Z"
    }
   },
   "id": "2f208c6a54a80c4f"
  },
  {
   "cell_type": "code",
   "execution_count": 90,
   "outputs": [],
   "source": [
    "# source_directory = mpath\n",
    "# destination_directory = \"H:/Breast MRI/03/NotOkData/sps\"  # Replace with the actual destination directory\n",
    "# move_folders(folder_list, source_directory, destination_directory)"
   ],
   "metadata": {
    "collapsed": false,
    "ExecuteTime": {
     "end_time": "2023-12-15T05:35:45.907786Z",
     "start_time": "2023-12-15T05:35:44.820095900Z"
    }
   },
   "id": "883862bbc988d7b7"
  },
  {
   "cell_type": "code",
   "execution_count": 91,
   "outputs": [],
   "source": [
    "no_data_cases = ['8390792', '8564813', '8613792', '8756913']"
   ],
   "metadata": {
    "collapsed": false,
    "ExecuteTime": {
     "end_time": "2023-12-15T05:35:45.923413700Z",
     "start_time": "2023-12-15T05:35:44.859638Z"
    }
   },
   "id": "cf699b752f1174c6"
  },
  {
   "cell_type": "code",
   "execution_count": 92,
   "outputs": [
    {
     "data": {
      "text/plain": "1134"
     },
     "execution_count": 92,
     "metadata": {},
     "output_type": "execute_result"
    }
   ],
   "source": [
    "len(all_ok_data)"
   ],
   "metadata": {
    "collapsed": false,
    "ExecuteTime": {
     "end_time": "2023-12-15T05:35:45.959801300Z",
     "start_time": "2023-12-15T05:35:44.885062Z"
    }
   },
   "id": "7a96eee7843a7144"
  },
  {
   "cell_type": "code",
   "execution_count": 93,
   "outputs": [],
   "source": [
    "for pid in no_data_cases:\n",
    "    if pid in all_ok_data:\n",
    "        all_ok_data.remove(pid)"
   ],
   "metadata": {
    "collapsed": false,
    "ExecuteTime": {
     "end_time": "2023-12-15T05:35:45.970424100Z",
     "start_time": "2023-12-15T05:35:44.925894200Z"
    }
   },
   "id": "7273d33c0f52ec65"
  },
  {
   "cell_type": "code",
   "execution_count": 94,
   "outputs": [
    {
     "data": {
      "text/plain": "1130"
     },
     "execution_count": 94,
     "metadata": {},
     "output_type": "execute_result"
    }
   ],
   "source": [
    "len(all_ok_data)"
   ],
   "metadata": {
    "collapsed": false,
    "ExecuteTime": {
     "end_time": "2023-12-15T05:35:46.001811800Z",
     "start_time": "2023-12-15T05:35:44.958032100Z"
    }
   },
   "id": "68d451e50a2ed953"
  },
  {
   "cell_type": "code",
   "execution_count": 95,
   "outputs": [],
   "source": [
    "# Origin and destination directory\n",
    "d_directory = 'E:/Selected Data/'\n",
    "o_directory = 'H:/Breast MRI/02/sps'"
   ],
   "metadata": {
    "collapsed": false,
    "ExecuteTime": {
     "end_time": "2023-12-15T05:35:46.017434400Z",
     "start_time": "2023-12-15T05:35:44.994031Z"
    }
   },
   "id": "88e97ec6e72b64e9"
  },
  {
   "cell_type": "code",
   "execution_count": 96,
   "outputs": [],
   "source": [
    "patients_ids_6 = []"
   ],
   "metadata": {
    "collapsed": false,
    "ExecuteTime": {
     "end_time": "2023-12-15T05:35:46.044509500Z",
     "start_time": "2023-12-15T05:35:45.010099300Z"
    }
   },
   "id": "b6682367aa848185"
  },
  {
   "cell_type": "code",
   "execution_count": 97,
   "outputs": [],
   "source": [
    "fgt_6 = []"
   ],
   "metadata": {
    "collapsed": false,
    "ExecuteTime": {
     "end_time": "2023-12-15T05:35:46.092005200Z",
     "start_time": "2023-12-15T05:35:45.048409700Z"
    }
   },
   "id": "e3972b871fc2315a"
  },
  {
   "cell_type": "code",
   "execution_count": 98,
   "outputs": [],
   "source": [
    "bpe_6 = []"
   ],
   "metadata": {
    "collapsed": false,
    "ExecuteTime": {
     "end_time": "2023-12-15T05:35:46.092005200Z",
     "start_time": "2023-12-15T05:35:45.151733700Z"
    }
   },
   "id": "d5bd67005bda5324"
  },
  {
   "cell_type": "code",
   "execution_count": 99,
   "outputs": [],
   "source": [
    "# create_pid_folder(d_directory, patients_ids_1)"
   ],
   "metadata": {
    "collapsed": false,
    "ExecuteTime": {
     "end_time": "2023-12-15T05:35:46.295632400Z",
     "start_time": "2023-12-15T05:35:45.186936800Z"
    }
   },
   "id": "9c7b59d466049d69"
  },
  {
   "cell_type": "code",
   "execution_count": 100,
   "outputs": [],
   "source": [
    "# automated_copy(o_directory, d_directory, patients_ids_6, fgt_6, bpe_6)"
   ],
   "metadata": {
    "collapsed": false,
    "ExecuteTime": {
     "end_time": "2023-12-15T05:35:46.359090800Z",
     "start_time": "2023-12-15T05:35:45.187481900Z"
    }
   },
   "id": "4444162b71cc57c5"
  },
  {
   "cell_type": "markdown",
   "source": [
    "# Part 7"
   ],
   "metadata": {
    "collapsed": false
   },
   "id": "fd0b8d3eb6f8889f"
  },
  {
   "cell_type": "code",
   "execution_count": 101,
   "outputs": [],
   "source": [
    "mpath = \"E:/Breast Data/Breast\"\n",
    "folder_names_part7 = []\n",
    "folder_names_part7 = get_folder_names(mpath, folder_names_part7)"
   ],
   "metadata": {
    "collapsed": false,
    "ExecuteTime": {
     "end_time": "2023-12-15T05:35:46.421890600Z",
     "start_time": "2023-12-15T05:35:45.316087900Z"
    }
   },
   "id": "2556e7fb7f35f07d"
  },
  {
   "cell_type": "code",
   "execution_count": 102,
   "outputs": [],
   "source": [
    "folder_list = []\n",
    "for name in folder_names_part7:\n",
    "    if name not in all_ok_data:\n",
    "        print(name)\n",
    "        folder_list.append(name)"
   ],
   "metadata": {
    "collapsed": false,
    "ExecuteTime": {
     "end_time": "2023-12-15T05:35:46.421890600Z",
     "start_time": "2023-12-15T05:35:45.344547300Z"
    }
   },
   "id": "6a1baa57bf75c3c0"
  },
  {
   "cell_type": "code",
   "execution_count": 103,
   "outputs": [
    {
     "data": {
      "text/plain": "0"
     },
     "execution_count": 103,
     "metadata": {},
     "output_type": "execute_result"
    }
   ],
   "source": [
    "len(folder_list)"
   ],
   "metadata": {
    "collapsed": false,
    "ExecuteTime": {
     "end_time": "2023-12-15T05:35:46.468906900Z",
     "start_time": "2023-12-15T05:35:45.356614Z"
    }
   },
   "id": "10597b12bc469c24"
  },
  {
   "cell_type": "code",
   "execution_count": 104,
   "outputs": [],
   "source": [
    "# source_directory = mpath\n",
    "# destination_directory = \"E:/Breast Data/NotOkData/Breast\"  # Replace with the actual destination directory\n",
    "# move_folders(folder_list, source_directory, destination_directory)"
   ],
   "metadata": {
    "collapsed": false,
    "ExecuteTime": {
     "end_time": "2023-12-15T05:35:46.501221200Z",
     "start_time": "2023-12-15T05:35:45.379319500Z"
    }
   },
   "id": "3d071f80862dbef9"
  },
  {
   "cell_type": "code",
   "execution_count": 105,
   "outputs": [],
   "source": [
    "no_data_cases = ['11821274']"
   ],
   "metadata": {
    "collapsed": false,
    "ExecuteTime": {
     "end_time": "2023-12-15T05:35:46.501221200Z",
     "start_time": "2023-12-15T05:35:45.407993400Z"
    }
   },
   "id": "d854140b4c3caa71"
  },
  {
   "cell_type": "code",
   "execution_count": 106,
   "outputs": [
    {
     "data": {
      "text/plain": "1130"
     },
     "execution_count": 106,
     "metadata": {},
     "output_type": "execute_result"
    }
   ],
   "source": [
    "len(all_ok_data)"
   ],
   "metadata": {
    "collapsed": false,
    "ExecuteTime": {
     "end_time": "2023-12-15T05:35:46.547742Z",
     "start_time": "2023-12-15T05:35:45.420660300Z"
    }
   },
   "id": "c23073f55e7c7c1"
  },
  {
   "cell_type": "code",
   "execution_count": 107,
   "outputs": [],
   "source": [
    "for pid in no_data_cases:\n",
    "    if pid in all_ok_data:\n",
    "        all_ok_data.remove(pid)"
   ],
   "metadata": {
    "collapsed": false,
    "ExecuteTime": {
     "end_time": "2023-12-15T05:35:46.563506500Z",
     "start_time": "2023-12-15T05:35:45.472152800Z"
    }
   },
   "id": "284401055707a565"
  },
  {
   "cell_type": "code",
   "execution_count": 108,
   "outputs": [
    {
     "data": {
      "text/plain": "1129"
     },
     "execution_count": 108,
     "metadata": {},
     "output_type": "execute_result"
    }
   ],
   "source": [
    "len(all_ok_data)"
   ],
   "metadata": {
    "collapsed": false,
    "ExecuteTime": {
     "end_time": "2023-12-15T05:35:46.579266800Z",
     "start_time": "2023-12-15T05:35:45.499650900Z"
    }
   },
   "id": "255087af0e84a6f"
  },
  {
   "cell_type": "code",
   "execution_count": 109,
   "outputs": [],
   "source": [
    "# Origin and destination directory\n",
    "d_directory = 'E:/Selected Data/'\n",
    "o_directory = 'H:/Breast MRI/02/sps'"
   ],
   "metadata": {
    "collapsed": false,
    "ExecuteTime": {
     "end_time": "2023-12-15T05:35:46.816188400Z",
     "start_time": "2023-12-15T05:35:46.067426300Z"
    }
   },
   "id": "7e491169c068dbcc"
  },
  {
   "cell_type": "code",
   "execution_count": 110,
   "outputs": [],
   "source": [
    "patients_ids_7 = []"
   ],
   "metadata": {
    "collapsed": false,
    "ExecuteTime": {
     "end_time": "2023-12-15T05:35:46.879218100Z",
     "start_time": "2023-12-15T05:35:46.311596500Z"
    }
   },
   "id": "d636c884c2f0d6ec"
  },
  {
   "cell_type": "code",
   "execution_count": 111,
   "outputs": [],
   "source": [
    "fgt_7 = []"
   ],
   "metadata": {
    "collapsed": false,
    "ExecuteTime": {
     "end_time": "2023-12-15T05:35:47.114894600Z",
     "start_time": "2023-12-15T05:35:46.626143300Z"
    }
   },
   "id": "7ab0f472850245e3"
  },
  {
   "cell_type": "code",
   "execution_count": 112,
   "outputs": [],
   "source": [
    "bpe_7 = []"
   ],
   "metadata": {
    "collapsed": false,
    "ExecuteTime": {
     "end_time": "2023-12-15T05:35:47.162427800Z",
     "start_time": "2023-12-15T05:35:47.009891500Z"
    }
   },
   "id": "581d56fc374159fa"
  },
  {
   "cell_type": "code",
   "execution_count": 113,
   "outputs": [],
   "source": [
    "# create_pid_folder(d_directory, patients_ids_7)"
   ],
   "metadata": {
    "collapsed": false,
    "ExecuteTime": {
     "end_time": "2023-12-15T05:35:47.256973300Z",
     "start_time": "2023-12-15T05:35:47.193753500Z"
    }
   },
   "id": "f0c7ea21983eca36"
  },
  {
   "cell_type": "code",
   "execution_count": 114,
   "outputs": [],
   "source": [
    "# automated_copy(o_directory, d_directory, patients_ids_7, fgt_7, bpe_7)"
   ],
   "metadata": {
    "collapsed": false,
    "ExecuteTime": {
     "end_time": "2023-12-15T05:35:47.403784700Z",
     "start_time": "2023-12-15T05:35:47.357072700Z"
    }
   },
   "id": "a59aea113bf3bdc1"
  },
  {
   "cell_type": "markdown",
   "source": [
    "# Part 8"
   ],
   "metadata": {
    "collapsed": false
   },
   "id": "50eabbd72536335c"
  },
  {
   "cell_type": "code",
   "execution_count": 115,
   "outputs": [],
   "source": [
    "mpath = \"E:/Breast Data/breast newNAC\"\n",
    "folder_names_part8 = []\n",
    "folder_names_part8 = get_folder_names(mpath, folder_names_part8)"
   ],
   "metadata": {
    "collapsed": false,
    "ExecuteTime": {
     "end_time": "2023-12-15T05:35:48.354739200Z",
     "start_time": "2023-12-15T05:35:48.312981100Z"
    }
   },
   "id": "e15b9015e49e50c6"
  },
  {
   "cell_type": "code",
   "execution_count": 116,
   "outputs": [],
   "source": [
    "folder_list = []\n",
    "for name in folder_names_part8:\n",
    "    if name not in all_ok_data:\n",
    "        print(name)\n",
    "        folder_list.append(name)"
   ],
   "metadata": {
    "collapsed": false,
    "ExecuteTime": {
     "end_time": "2023-12-15T05:35:48.831074400Z",
     "start_time": "2023-12-15T05:35:48.768080300Z"
    }
   },
   "id": "1c1f90a7dc2b6a99"
  },
  {
   "cell_type": "code",
   "execution_count": 117,
   "outputs": [
    {
     "data": {
      "text/plain": "0"
     },
     "execution_count": 117,
     "metadata": {},
     "output_type": "execute_result"
    }
   ],
   "source": [
    "len(folder_list)"
   ],
   "metadata": {
    "collapsed": false,
    "ExecuteTime": {
     "end_time": "2023-12-15T05:35:49.068586600Z",
     "start_time": "2023-12-15T05:35:49.036264400Z"
    }
   },
   "id": "fa5dd5900c5f2994"
  },
  {
   "cell_type": "code",
   "execution_count": 118,
   "outputs": [],
   "source": [
    "# source_directory = mpath\n",
    "# destination_directory = \"E:/Breast Data/NotOkData/breast newNAC\"  # Replace with the actual destination directory\n",
    "# move_folders(folder_list, source_directory, destination_directory)"
   ],
   "metadata": {
    "collapsed": false,
    "ExecuteTime": {
     "end_time": "2023-12-15T05:35:49.468416500Z",
     "start_time": "2023-12-15T05:35:49.436504200Z"
    }
   },
   "id": "d9dfb807f3fdfb67"
  },
  {
   "cell_type": "code",
   "execution_count": 119,
   "outputs": [],
   "source": [
    "no_data_cases = ['10905568', '10937977']"
   ],
   "metadata": {
    "collapsed": false,
    "ExecuteTime": {
     "end_time": "2023-12-15T05:35:50.542760600Z",
     "start_time": "2023-12-15T05:35:50.510792400Z"
    }
   },
   "id": "a197b50ef104149f"
  },
  {
   "cell_type": "code",
   "execution_count": 120,
   "outputs": [
    {
     "data": {
      "text/plain": "1129"
     },
     "execution_count": 120,
     "metadata": {},
     "output_type": "execute_result"
    }
   ],
   "source": [
    "len(all_ok_data)"
   ],
   "metadata": {
    "collapsed": false,
    "ExecuteTime": {
     "end_time": "2023-12-15T05:35:51.087880600Z",
     "start_time": "2023-12-15T05:35:51.056281900Z"
    }
   },
   "id": "c389aa2245d6a4d9"
  },
  {
   "cell_type": "code",
   "execution_count": 121,
   "outputs": [],
   "source": [
    "for pid in no_data_cases:\n",
    "    if pid in all_ok_data:\n",
    "        all_ok_data.remove(pid)"
   ],
   "metadata": {
    "collapsed": false,
    "ExecuteTime": {
     "end_time": "2023-12-15T05:35:51.726092800Z",
     "start_time": "2023-12-15T05:35:51.694146700Z"
    }
   },
   "id": "d50691da8bdfffba"
  },
  {
   "cell_type": "code",
   "execution_count": 122,
   "outputs": [
    {
     "data": {
      "text/plain": "1127"
     },
     "execution_count": 122,
     "metadata": {},
     "output_type": "execute_result"
    }
   ],
   "source": [
    "len(all_ok_data)"
   ],
   "metadata": {
    "collapsed": false,
    "ExecuteTime": {
     "end_time": "2023-12-15T05:35:51.948570600Z",
     "start_time": "2023-12-15T05:35:51.916635900Z"
    }
   },
   "id": "2adb448a15eccf97"
  },
  {
   "cell_type": "code",
   "execution_count": 123,
   "outputs": [],
   "source": [
    "# Origin and destination directory\n",
    "d_directory = 'E:/Selected Data/'\n",
    "o_directory = 'H:/Breast MRI/02/sps'"
   ],
   "metadata": {
    "collapsed": false,
    "ExecuteTime": {
     "end_time": "2023-12-15T05:35:52.123374900Z",
     "start_time": "2023-12-15T05:35:52.092144900Z"
    }
   },
   "id": "62c01aa9bea4a7b2"
  },
  {
   "cell_type": "code",
   "execution_count": 124,
   "outputs": [],
   "source": [
    "patients_ids_8 = []"
   ],
   "metadata": {
    "collapsed": false,
    "ExecuteTime": {
     "end_time": "2023-12-15T05:35:52.341711100Z",
     "start_time": "2023-12-15T05:35:52.299542Z"
    }
   },
   "id": "fc59402738b39ba5"
  },
  {
   "cell_type": "code",
   "execution_count": 125,
   "outputs": [],
   "source": [
    "fgt_8 = []"
   ],
   "metadata": {
    "collapsed": false,
    "ExecuteTime": {
     "end_time": "2023-12-15T05:35:52.866061400Z",
     "start_time": "2023-12-15T05:35:52.830602200Z"
    }
   },
   "id": "451fbbe2ec5240d6"
  },
  {
   "cell_type": "code",
   "execution_count": 126,
   "outputs": [],
   "source": [
    "bpe_8 = []"
   ],
   "metadata": {
    "collapsed": false,
    "ExecuteTime": {
     "end_time": "2023-12-15T05:35:53.070746700Z",
     "start_time": "2023-12-15T05:35:53.039056400Z"
    }
   },
   "id": "35cdfc3795390364"
  },
  {
   "cell_type": "code",
   "execution_count": 127,
   "outputs": [],
   "source": [
    "# create_pid_folder(d_directory, patients_ids_1)"
   ],
   "metadata": {
    "collapsed": false,
    "ExecuteTime": {
     "end_time": "2023-12-15T05:35:53.266182100Z",
     "start_time": "2023-12-15T05:35:53.218799800Z"
    }
   },
   "id": "85f76f3bf3dcd60c"
  },
  {
   "cell_type": "code",
   "execution_count": 128,
   "outputs": [],
   "source": [
    "# automated_copy(o_directory, d_directory, patients_ids_1, fgt_1, bpe_1)"
   ],
   "metadata": {
    "collapsed": false,
    "ExecuteTime": {
     "end_time": "2023-12-15T05:35:53.440085500Z",
     "start_time": "2023-12-15T05:35:53.408286100Z"
    }
   },
   "id": "35788571eacba94"
  },
  {
   "cell_type": "markdown",
   "source": [
    "# Part 9"
   ],
   "metadata": {
    "collapsed": false
   },
   "id": "3dba98c7477dd260"
  },
  {
   "cell_type": "code",
   "execution_count": 129,
   "outputs": [],
   "source": [
    "mpath = \"G:/Breast Data/nac\"\n",
    "folder_names_part9 = []\n",
    "folder_names_part9 = get_folder_names(mpath, folder_names_part9)"
   ],
   "metadata": {
    "collapsed": false,
    "ExecuteTime": {
     "end_time": "2023-12-15T05:35:54.873370200Z",
     "start_time": "2023-12-15T05:35:54.841904600Z"
    }
   },
   "id": "d81632e886141ca7"
  },
  {
   "cell_type": "code",
   "execution_count": 130,
   "outputs": [],
   "source": [
    "folder_list = []\n",
    "for name in folder_names_part9:\n",
    "    if name not in all_ok_data:\n",
    "        print(name)\n",
    "        folder_list.append(name)"
   ],
   "metadata": {
    "collapsed": false,
    "ExecuteTime": {
     "end_time": "2023-12-15T05:35:55.275685400Z",
     "start_time": "2023-12-15T05:35:55.243670200Z"
    }
   },
   "id": "505e9f9de1c460ac"
  },
  {
   "cell_type": "code",
   "execution_count": 131,
   "outputs": [
    {
     "data": {
      "text/plain": "0"
     },
     "execution_count": 131,
     "metadata": {},
     "output_type": "execute_result"
    }
   ],
   "source": [
    "len(folder_list)"
   ],
   "metadata": {
    "collapsed": false,
    "ExecuteTime": {
     "end_time": "2023-12-15T05:35:56.181774900Z",
     "start_time": "2023-12-15T05:35:56.151495600Z"
    }
   },
   "id": "8f5085f71ca7364f"
  },
  {
   "cell_type": "code",
   "execution_count": 132,
   "outputs": [],
   "source": [
    "# source_directory = mpath\n",
    "# destination_directory = \"G:/Breast Data/NotOkData/nac\"  # Replace with the actual destination directory\n",
    "# move_folders(folder_list, source_directory, destination_directory)"
   ],
   "metadata": {
    "collapsed": false,
    "ExecuteTime": {
     "end_time": "2023-12-15T05:39:01.373886500Z",
     "start_time": "2023-12-15T05:39:01.328000100Z"
    }
   },
   "id": "a05f446630b405d4"
  },
  {
   "cell_type": "code",
   "execution_count": 133,
   "outputs": [],
   "source": [
    "no_data_cases = []"
   ],
   "metadata": {
    "collapsed": false,
    "ExecuteTime": {
     "end_time": "2023-12-15T05:39:01.596764100Z",
     "start_time": "2023-12-15T05:39:01.562650300Z"
    }
   },
   "id": "4ab014abe6e38f40"
  },
  {
   "cell_type": "code",
   "execution_count": 134,
   "outputs": [
    {
     "data": {
      "text/plain": "1127"
     },
     "execution_count": 134,
     "metadata": {},
     "output_type": "execute_result"
    }
   ],
   "source": [
    "len(all_ok_data)"
   ],
   "metadata": {
    "collapsed": false,
    "ExecuteTime": {
     "end_time": "2023-12-15T05:39:01.796858500Z",
     "start_time": "2023-12-15T05:39:01.765744600Z"
    }
   },
   "id": "9f95fe134f3a8689"
  },
  {
   "cell_type": "code",
   "execution_count": 135,
   "outputs": [],
   "source": [
    "for pid in no_data_cases:\n",
    "    if pid in all_ok_data:\n",
    "        all_ok_data.remove(pid)"
   ],
   "metadata": {
    "collapsed": false,
    "ExecuteTime": {
     "end_time": "2023-12-15T05:39:02.211876Z",
     "start_time": "2023-12-15T05:39:02.202100800Z"
    }
   },
   "id": "95ba2d282bfd46b8"
  },
  {
   "cell_type": "code",
   "execution_count": 136,
   "outputs": [
    {
     "data": {
      "text/plain": "1127"
     },
     "execution_count": 136,
     "metadata": {},
     "output_type": "execute_result"
    }
   ],
   "source": [
    "len(all_ok_data)"
   ],
   "metadata": {
    "collapsed": false,
    "ExecuteTime": {
     "end_time": "2023-12-15T05:39:03.485961700Z",
     "start_time": "2023-12-15T05:39:03.454497900Z"
    }
   },
   "id": "a0cba876e57cca46"
  },
  {
   "cell_type": "code",
   "execution_count": 137,
   "outputs": [],
   "source": [
    "# Origin and destination directory\n",
    "d_directory = 'E:/Selected Data/'\n",
    "o_directory = 'H:/Breast MRI/02/sps'"
   ],
   "metadata": {
    "collapsed": false,
    "ExecuteTime": {
     "end_time": "2023-12-15T05:39:03.724324200Z",
     "start_time": "2023-12-15T05:39:03.698361100Z"
    }
   },
   "id": "ef97efd2780012a8"
  },
  {
   "cell_type": "code",
   "execution_count": 138,
   "outputs": [],
   "source": [
    "patients_ids_9 = []"
   ],
   "metadata": {
    "collapsed": false,
    "ExecuteTime": {
     "end_time": "2023-12-15T05:39:04.011946300Z",
     "start_time": "2023-12-15T05:39:03.980231900Z"
    }
   },
   "id": "62a350f60bd26df1"
  },
  {
   "cell_type": "code",
   "execution_count": 139,
   "outputs": [],
   "source": [
    "fgt_9 = []"
   ],
   "metadata": {
    "collapsed": false,
    "ExecuteTime": {
     "end_time": "2023-12-15T05:39:04.293339Z",
     "start_time": "2023-12-15T05:39:04.270583100Z"
    }
   },
   "id": "71fc01a71ab0afef"
  },
  {
   "cell_type": "code",
   "execution_count": 140,
   "outputs": [],
   "source": [
    "bpe_9 = []"
   ],
   "metadata": {
    "collapsed": false,
    "ExecuteTime": {
     "end_time": "2023-12-15T05:39:04.767635600Z",
     "start_time": "2023-12-15T05:39:04.751566200Z"
    }
   },
   "id": "21d4aa80c0b341f0"
  },
  {
   "cell_type": "code",
   "execution_count": 141,
   "outputs": [],
   "source": [
    "# create_pid_folder(d_directory, patients_ids_9)"
   ],
   "metadata": {
    "collapsed": false,
    "ExecuteTime": {
     "end_time": "2023-12-15T05:39:07.412871500Z",
     "start_time": "2023-12-15T05:39:07.380946Z"
    }
   },
   "id": "268f90c29fe23a1e"
  },
  {
   "cell_type": "code",
   "execution_count": 142,
   "outputs": [],
   "source": [
    "# automated_copy(o_directory, d_directory, patients_ids_9, fgt_9, bpe_9)"
   ],
   "metadata": {
    "collapsed": false,
    "ExecuteTime": {
     "end_time": "2023-12-15T05:39:07.664013400Z",
     "start_time": "2023-12-15T05:39:07.653568200Z"
    }
   },
   "id": "31f6d209eab9cf5f"
  },
  {
   "cell_type": "markdown",
   "source": [
    "# Part 10"
   ],
   "metadata": {
    "collapsed": false
   },
   "id": "9d8d3a300794893a"
  },
  {
   "cell_type": "code",
   "execution_count": 156,
   "outputs": [],
   "source": [
    "mpath = \"G:/Breast Data/sps\"\n",
    "folder_names_part10 = []\n",
    "folder_names_part10 = get_folder_names(mpath, folder_names_part10)"
   ],
   "metadata": {
    "collapsed": false,
    "ExecuteTime": {
     "end_time": "2023-12-15T06:57:14.954023700Z",
     "start_time": "2023-12-15T06:57:14.892005200Z"
    }
   },
   "id": "20993da662df4865"
  },
  {
   "cell_type": "code",
   "execution_count": 157,
   "outputs": [],
   "source": [
    "folder_list = []\n",
    "for name in folder_names_part10:\n",
    "    if name not in all_ok_data:\n",
    "        print(name)\n",
    "        folder_list.append(name)"
   ],
   "metadata": {
    "collapsed": false,
    "ExecuteTime": {
     "end_time": "2023-12-15T06:57:15.131803600Z",
     "start_time": "2023-12-15T06:57:15.100395Z"
    }
   },
   "id": "c7c5fbc5175114ef"
  },
  {
   "cell_type": "code",
   "execution_count": 158,
   "outputs": [
    {
     "data": {
      "text/plain": "0"
     },
     "execution_count": 158,
     "metadata": {},
     "output_type": "execute_result"
    }
   ],
   "source": [
    "len(folder_list)"
   ],
   "metadata": {
    "collapsed": false,
    "ExecuteTime": {
     "end_time": "2023-12-15T06:57:15.814667100Z",
     "start_time": "2023-12-15T06:57:15.755601700Z"
    }
   },
   "id": "e2a7a55130b8684"
  },
  {
   "cell_type": "code",
   "execution_count": 159,
   "outputs": [],
   "source": [
    "# source_directory = mpath\n",
    "# destination_directory = \"G:/Breast Data/NotOkData/sps\"  # Replace with the actual destination directory\n",
    "# move_folders(folder_list, source_directory, destination_directory)"
   ],
   "metadata": {
    "collapsed": false,
    "ExecuteTime": {
     "end_time": "2023-12-15T06:57:16.348315100Z",
     "start_time": "2023-12-15T06:57:16.285327500Z"
    }
   },
   "id": "4cea008715fb9dc0"
  },
  {
   "cell_type": "code",
   "execution_count": 160,
   "outputs": [],
   "source": [
    "no_data_cases = ['8867592']"
   ],
   "metadata": {
    "collapsed": false,
    "ExecuteTime": {
     "end_time": "2023-12-15T06:57:16.723169900Z",
     "start_time": "2023-12-15T06:57:16.676404300Z"
    }
   },
   "id": "2ce09b8173210fd0"
  },
  {
   "cell_type": "code",
   "execution_count": 161,
   "outputs": [
    {
     "data": {
      "text/plain": "1127"
     },
     "execution_count": 161,
     "metadata": {},
     "output_type": "execute_result"
    }
   ],
   "source": [
    "len(all_ok_data)"
   ],
   "metadata": {
    "collapsed": false,
    "ExecuteTime": {
     "end_time": "2023-12-15T06:57:17.849101200Z",
     "start_time": "2023-12-15T06:57:17.802131200Z"
    }
   },
   "id": "9e539290775357a3"
  },
  {
   "cell_type": "code",
   "execution_count": 162,
   "outputs": [],
   "source": [
    "for pid in no_data_cases:\n",
    "    if pid in all_ok_data:\n",
    "        all_ok_data.remove(pid)"
   ],
   "metadata": {
    "collapsed": false,
    "ExecuteTime": {
     "end_time": "2023-12-15T06:57:19.003724800Z",
     "start_time": "2023-12-15T06:57:18.970449900Z"
    }
   },
   "id": "e9e1d196252c5c50"
  },
  {
   "cell_type": "code",
   "execution_count": 163,
   "outputs": [
    {
     "data": {
      "text/plain": "1126"
     },
     "execution_count": 163,
     "metadata": {},
     "output_type": "execute_result"
    }
   ],
   "source": [
    "len(all_ok_data)"
   ],
   "metadata": {
    "collapsed": false,
    "ExecuteTime": {
     "end_time": "2023-12-15T06:57:19.332845700Z",
     "start_time": "2023-12-15T06:57:19.301330900Z"
    }
   },
   "id": "ff3f921539d857d8"
  },
  {
   "cell_type": "code",
   "execution_count": 137,
   "outputs": [],
   "source": [
    "# Origin and destination directory\n",
    "d_directory = 'E:/Selected Data/'\n",
    "o_directory = 'H:/Breast MRI/02/sps'"
   ],
   "metadata": {
    "collapsed": false
   },
   "id": "b9f840e50cc220b3"
  },
  {
   "cell_type": "code",
   "execution_count": 138,
   "outputs": [],
   "source": [
    "patients_ids_10 = []"
   ],
   "metadata": {
    "collapsed": false
   },
   "id": "903b6b4c5b648015"
  },
  {
   "cell_type": "code",
   "execution_count": 139,
   "outputs": [],
   "source": [
    "fgt_10 = []"
   ],
   "metadata": {
    "collapsed": false
   },
   "id": "63777c6f1ab67a1c"
  },
  {
   "cell_type": "code",
   "execution_count": 140,
   "outputs": [],
   "source": [
    "bpe_10 = []"
   ],
   "metadata": {
    "collapsed": false
   },
   "id": "3f445f12d238d8dc"
  },
  {
   "cell_type": "code",
   "execution_count": 141,
   "outputs": [],
   "source": [
    "# create_pid_folder(d_directory, patients_ids_10)"
   ],
   "metadata": {
    "collapsed": false
   },
   "id": "e403e398ad83717e"
  },
  {
   "cell_type": "code",
   "execution_count": 142,
   "outputs": [],
   "source": [
    "# automated_copy(o_directory, d_directory, patients_ids_10, fgt_10, bpe_10)"
   ],
   "metadata": {
    "collapsed": false
   },
   "id": "37ba20fc65095d6a"
  }
 ],
 "metadata": {
  "kernelspec": {
   "display_name": "Python 3",
   "language": "python",
   "name": "python3"
  },
  "language_info": {
   "codemirror_mode": {
    "name": "ipython",
    "version": 2
   },
   "file_extension": ".py",
   "mimetype": "text/x-python",
   "name": "python",
   "nbconvert_exporter": "python",
   "pygments_lexer": "ipython2",
   "version": "2.7.6"
  }
 },
 "nbformat": 4,
 "nbformat_minor": 5
}
