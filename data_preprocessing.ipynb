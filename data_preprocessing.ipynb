{
 "cells": [
  {
   "cell_type": "code",
   "execution_count": 21,
   "id": "initial_id",
   "metadata": {
    "collapsed": true,
    "ExecuteTime": {
     "end_time": "2023-12-31T16:52:59.618331800Z",
     "start_time": "2023-12-31T16:52:59.586578800Z"
    }
   },
   "outputs": [],
   "source": [
    "import os\n",
    "import shutil\n",
    "import pandas as pd\n",
    "import pyreadstat\n",
    "import numpy as np"
   ]
  },
  {
   "cell_type": "code",
   "execution_count": 22,
   "outputs": [],
   "source": [
    "data, meta = pyreadstat.read_sav('Dr.miratashi_3 copy.sav')"
   ],
   "metadata": {
    "collapsed": false,
    "ExecuteTime": {
     "end_time": "2023-12-31T16:53:00.162438Z",
     "start_time": "2023-12-31T16:53:00.131086600Z"
    }
   },
   "id": "81a82c0a5d7bfb0a"
  },
  {
   "cell_type": "code",
   "execution_count": 23,
   "outputs": [],
   "source": [
    "def move_folders(folder_list, source_directory, destination_directory):\n",
    "    for folder_name in folder_list:\n",
    "        source_path = os.path.join(source_directory, folder_name)\n",
    "        destination_path = os.path.join(destination_directory, folder_name)\n",
    "        shutil.move(source_path, destination_path)\n",
    "        print(f\"Moved folder '{folder_name}' from '{source_directory}' to '{destination_directory}'\")"
   ],
   "metadata": {
    "collapsed": false,
    "ExecuteTime": {
     "end_time": "2023-12-31T16:53:00.763962300Z",
     "start_time": "2023-12-31T16:53:00.732704900Z"
    }
   },
   "id": "f1dfca7c2c9b73f3"
  },
  {
   "cell_type": "code",
   "execution_count": 24,
   "outputs": [],
   "source": [
    "def create_pid_folder(parent_directory, pid):\n",
    "    for folder_name in pid:\n",
    "        folder_path = os.path.join(parent_directory, str(folder_name))\n",
    "        os.makedirs(folder_path, exist_ok=True)\n",
    "\n",
    "        # Create the \"FGT\" and \"BPE\" sub folders within each folder\n",
    "        fgt_folder_path = os.path.join(folder_path, 'FGT')\n",
    "        bpe_folder_path = os.path.join(folder_path, 'BPE')\n",
    "        os.makedirs(fgt_folder_path, exist_ok=True)\n",
    "        os.makedirs(bpe_folder_path, exist_ok=True)"
   ],
   "metadata": {
    "collapsed": false,
    "ExecuteTime": {
     "end_time": "2023-12-31T16:53:01.762486Z",
     "start_time": "2023-12-31T16:53:01.731748Z"
    }
   },
   "id": "e0aaf0300051162c"
  },
  {
   "cell_type": "code",
   "execution_count": 25,
   "outputs": [],
   "source": [
    "def automated_copy(origin_directory, destination_directory, pid, fgt_idx, bpe_idx):\n",
    "    img_folder_names = []\n",
    "    for patient_id in pid:\n",
    "        dcm_directory = origin_directory + str(patient_id) + '/IMAGE/DCM/'\n",
    "        for i, (root, dirs, files) in enumerate(os.walk(dcm_directory)):\n",
    "            if i == 0:\n",
    "                img_folder_names.append(dcm_directory + str(dirs[i]))\n",
    "            \n",
    "    for i, patient_id in enumerate(pid):\n",
    "        start_fgt, end_fgt = fgt_idx[i]\n",
    "        start_bpe, end_bpe = bpe_idx[i]\n",
    "        destination_fgt_folder = destination_directory + str(patient_id) + '/FGT'\n",
    "        destination_bpe_folder = destination_directory + str(patient_id) + '/BPE'\n",
    "        for j in range(start_fgt, end_fgt+1):\n",
    "            if len(str(j)) == 4:\n",
    "                fgt_img_directory = img_folder_names[i] + '/I000' + str(j)\n",
    "            else:\n",
    "                fgt_img_directory = img_folder_names[i] + '/I0000' + str(j)\n",
    "            shutil.copy(fgt_img_directory, destination_fgt_folder)\n",
    "            \n",
    "        for j in range(start_bpe, end_bpe+1):\n",
    "            if len(str(j)) == 4:\n",
    "                bpe_img_directory = img_folder_names[i] + '/I000' + str(j)\n",
    "            else:\n",
    "                bpe_img_directory = img_folder_names[i] + '/I0000' + str(j)\n",
    "            shutil.copy(bpe_img_directory, destination_bpe_folder)"
   ],
   "metadata": {
    "collapsed": false,
    "ExecuteTime": {
     "end_time": "2023-12-31T16:53:02.394478800Z",
     "start_time": "2023-12-31T16:53:02.347148600Z"
    }
   },
   "id": "b3c92313820b328c"
  },
  {
   "cell_type": "code",
   "execution_count": 26,
   "outputs": [],
   "source": [
    "\n",
    "def get_folder_names(path, folders):\n",
    "    for entry in os.scandir(path):\n",
    "        if entry.is_dir():\n",
    "            folders.append(entry.name)\n",
    "    return folders\n",
    "\n"
   ],
   "metadata": {
    "collapsed": false,
    "ExecuteTime": {
     "end_time": "2023-12-31T16:53:03.048137100Z",
     "start_time": "2023-12-31T16:53:02.985621200Z"
    }
   },
   "id": "17b792ac5d4014e3"
  },
  {
   "cell_type": "markdown",
   "source": [
    "# Data Preprocessing\n",
    "## Step 1\n",
    "### At this step, we get the unique patient IDs and remove data with multiple diagnosis."
   ],
   "metadata": {
    "collapsed": false
   },
   "id": "bec405a5da641e0d"
  },
  {
   "cell_type": "code",
   "execution_count": 27,
   "outputs": [],
   "source": [
    "folder_names = []\n",
    "\n",
    "mpath = 'E:/Breast Data/Breast/'\n",
    "folder_names = get_folder_names(mpath, folder_names)\n",
    "\n",
    "mpath = 'E:/Breast Data/breast newNAC'\n",
    "folder_names = get_folder_names(mpath, folder_names)\n",
    "\n",
    "mpath = 'H:/Breast MRI/01/sps'\n",
    "folder_names = get_folder_names(mpath, folder_names)\n",
    "\n",
    "mpath = 'H:/Breast MRI/02/sps'\n",
    "folder_names = get_folder_names(mpath, folder_names)\n",
    "\n",
    "mpath = 'H:/Breast MRI/03/breast new'\n",
    "folder_names = get_folder_names(mpath, folder_names)\n",
    "\n",
    "mpath = 'H:/Breast MRI/03/breast new 2'\n",
    "folder_names = get_folder_names(mpath, folder_names)\n",
    "\n",
    "mpath = 'H:/Breast MRI/03/nac'\n",
    "folder_names = get_folder_names(mpath, folder_names)\n",
    "\n",
    "mpath = 'H:/Breast MRI/03/sps'\n",
    "folder_names = get_folder_names(mpath, folder_names)\n",
    "\n",
    "mpath = 'G:/Breast Data/nac'\n",
    "folder_names = get_folder_names(mpath, folder_names)\n",
    "\n",
    "mpath = 'G:/Breast Data/sps'\n",
    "folder_names = get_folder_names(mpath, folder_names)\n"
   ],
   "metadata": {
    "collapsed": false,
    "ExecuteTime": {
     "end_time": "2023-12-31T16:53:05.293531200Z",
     "start_time": "2023-12-31T16:53:04.536368200Z"
    }
   },
   "id": "a2bd7b3aa7b7f533"
  },
  {
   "cell_type": "code",
   "execution_count": 28,
   "outputs": [],
   "source": [
    "folder_names = np.array(folder_names)"
   ],
   "metadata": {
    "collapsed": false,
    "ExecuteTime": {
     "end_time": "2023-12-31T16:53:05.843618700Z",
     "start_time": "2023-12-31T16:53:05.812378Z"
    }
   },
   "id": "657c92de5f37174"
  },
  {
   "cell_type": "code",
   "execution_count": 29,
   "outputs": [],
   "source": [
    "folder_names_unique = np.unique(folder_names)"
   ],
   "metadata": {
    "collapsed": false,
    "ExecuteTime": {
     "end_time": "2023-12-31T16:53:06.245071900Z",
     "start_time": "2023-12-31T16:53:06.213681800Z"
    }
   },
   "id": "1d93d1f3a3b3311b"
  },
  {
   "cell_type": "code",
   "execution_count": 30,
   "outputs": [],
   "source": [
    "data_codes = np.array(data.code)\n",
    "data_codes_unique = np.unique(data_codes)"
   ],
   "metadata": {
    "collapsed": false,
    "ExecuteTime": {
     "end_time": "2023-12-31T16:53:06.673952400Z",
     "start_time": "2023-12-31T16:53:06.642645200Z"
    }
   },
   "id": "5723b805ae0df294"
  },
  {
   "cell_type": "code",
   "execution_count": 31,
   "outputs": [],
   "source": [
    "same_codes_unique = []\n",
    "for i in folder_names_unique:\n",
    "    if i in data_codes_unique:\n",
    "        same_codes_unique.append(i)\n",
    "        \n",
    "same_codes_unique = np.array(same_codes_unique)"
   ],
   "metadata": {
    "collapsed": false,
    "ExecuteTime": {
     "end_time": "2023-12-31T16:53:07.171197700Z",
     "start_time": "2023-12-31T16:53:07.124312200Z"
    }
   },
   "id": "c0eb0a1434b60506"
  },
  {
   "cell_type": "code",
   "execution_count": 32,
   "outputs": [],
   "source": [
    "not_in_dataset = []\n",
    "for i in data_codes_unique:\n",
    "    if i not in same_codes_unique:\n",
    "        not_in_dataset.append(i)\n",
    "\n",
    "not_in_dataset_unique = np.unique(np.array(not_in_dataset))"
   ],
   "metadata": {
    "collapsed": false,
    "ExecuteTime": {
     "end_time": "2023-12-31T16:53:07.823149400Z",
     "start_time": "2023-12-31T16:53:07.794937500Z"
    }
   },
   "id": "2856d69c16837c23"
  },
  {
   "cell_type": "code",
   "execution_count": 33,
   "outputs": [],
   "source": [
    "same_codes_unique_mdd_removed = []\n",
    "for i in same_codes_unique:\n",
    "    if np.array(data[data.code == i].FG).shape[0] > 1:\n",
    "        fg_i = np.array(data[data.code == i].FG)\n",
    "        bpe_i = np.array(data[data.code == i].BPE)\n",
    "        if np.all(fg_i==fg_i[0]) and np.all(bpe_i==bpe_i[0]):\n",
    "            same_codes_unique_mdd_removed.append(i)\n",
    "    else:\n",
    "        same_codes_unique_mdd_removed.append(i)"
   ],
   "metadata": {
    "collapsed": false,
    "ExecuteTime": {
     "end_time": "2023-12-31T16:53:12.190723700Z",
     "start_time": "2023-12-31T16:53:12.049900Z"
    }
   },
   "id": "caadb43a2071fb3d"
  },
  {
   "cell_type": "code",
   "execution_count": 34,
   "outputs": [],
   "source": [
    "not_in_dataset_unique_mdd_removed = []\n",
    "for i in not_in_dataset_unique:\n",
    "    if np.array(data[data.code == i].FG).shape[0] > 1:\n",
    "        fg_i = np.array(data[data.code == i].FG)\n",
    "        bpe_i = np.array(data[data.code == i].BPE)\n",
    "        if np.all(fg_i==fg_i[0]) and np.all(bpe_i==bpe_i[0]):\n",
    "            not_in_dataset_unique_mdd_removed.append(i)\n",
    "    else:\n",
    "        not_in_dataset_unique_mdd_removed.append(i)\n",
    "        "
   ],
   "metadata": {
    "collapsed": false,
    "ExecuteTime": {
     "end_time": "2023-12-31T16:53:12.651524100Z",
     "start_time": "2023-12-31T16:53:12.462879200Z"
    }
   },
   "id": "a3dd3c158469a49a"
  },
  {
   "cell_type": "code",
   "execution_count": 35,
   "outputs": [],
   "source": [
    "all_ok_data = same_codes_unique_mdd_removed + not_in_dataset_unique_mdd_removed"
   ],
   "metadata": {
    "collapsed": false,
    "ExecuteTime": {
     "end_time": "2023-12-31T16:53:12.935175100Z",
     "start_time": "2023-12-31T16:53:12.903323800Z"
    }
   },
   "id": "56186240dbf4c6dc"
  },
  {
   "cell_type": "code",
   "execution_count": 36,
   "outputs": [
    {
     "data": {
      "text/plain": "1146"
     },
     "execution_count": 36,
     "metadata": {},
     "output_type": "execute_result"
    }
   ],
   "source": [
    "len(all_ok_data)"
   ],
   "metadata": {
    "collapsed": false,
    "ExecuteTime": {
     "end_time": "2023-12-31T16:53:13.344407Z",
     "start_time": "2023-12-31T16:53:13.281109Z"
    }
   },
   "id": "29ec7ac755b2bcec"
  },
  {
   "cell_type": "markdown",
   "source": [
    "# Part 1"
   ],
   "metadata": {
    "collapsed": false
   },
   "id": "905b64073df0943d"
  },
  {
   "cell_type": "code",
   "execution_count": 37,
   "outputs": [],
   "source": [
    "mpath = 'H:/Breast MRI/01/sps'\n",
    "folder_names_part1 = []\n",
    "folder_names_part1 = get_folder_names(mpath, folder_names_part1)"
   ],
   "metadata": {
    "collapsed": false,
    "ExecuteTime": {
     "end_time": "2023-12-31T16:53:14.504106800Z",
     "start_time": "2023-12-31T16:53:14.457233700Z"
    }
   },
   "id": "4fb8a431cc68c4a1"
  },
  {
   "cell_type": "code",
   "execution_count": 38,
   "outputs": [],
   "source": [
    "for name in folder_names_part1:\n",
    "    if name not in all_ok_data:\n",
    "        print(name)"
   ],
   "metadata": {
    "collapsed": false,
    "ExecuteTime": {
     "end_time": "2023-12-31T16:53:15.033560400Z",
     "start_time": "2023-12-31T16:53:15.017881800Z"
    }
   },
   "id": "4fdc2837b03bf201"
  },
  {
   "cell_type": "code",
   "execution_count": 39,
   "outputs": [],
   "source": [
    "no_data_cases = ['9222704', '9999465', '8881092', '11258955', '11843612']"
   ],
   "metadata": {
    "collapsed": false,
    "ExecuteTime": {
     "end_time": "2023-12-31T16:53:15.582594300Z",
     "start_time": "2023-12-31T16:53:15.539303500Z"
    }
   },
   "id": "5da90887b38a1c7"
  },
  {
   "cell_type": "code",
   "execution_count": 40,
   "outputs": [
    {
     "data": {
      "text/plain": "1146"
     },
     "execution_count": 40,
     "metadata": {},
     "output_type": "execute_result"
    }
   ],
   "source": [
    "len(all_ok_data)"
   ],
   "metadata": {
    "collapsed": false,
    "ExecuteTime": {
     "end_time": "2023-12-31T16:53:16.185630100Z",
     "start_time": "2023-12-31T16:53:16.154369900Z"
    }
   },
   "id": "a814f78e85789e4f"
  },
  {
   "cell_type": "code",
   "execution_count": 41,
   "outputs": [],
   "source": [
    "for pid in no_data_cases:\n",
    "    if pid in all_ok_data:\n",
    "        all_ok_data.remove(pid)"
   ],
   "metadata": {
    "collapsed": false,
    "ExecuteTime": {
     "end_time": "2023-12-31T16:53:16.758027300Z",
     "start_time": "2023-12-31T16:53:16.726231900Z"
    }
   },
   "id": "251b549d430d09f6"
  },
  {
   "cell_type": "code",
   "execution_count": 42,
   "outputs": [
    {
     "data": {
      "text/plain": "1142"
     },
     "execution_count": 42,
     "metadata": {},
     "output_type": "execute_result"
    }
   ],
   "source": [
    "len(all_ok_data)"
   ],
   "metadata": {
    "collapsed": false,
    "ExecuteTime": {
     "end_time": "2023-12-31T16:53:17.409997200Z",
     "start_time": "2023-12-31T16:53:17.365189800Z"
    }
   },
   "id": "8353b875528a5e60"
  },
  {
   "cell_type": "code",
   "execution_count": 43,
   "outputs": [],
   "source": [
    "# Origin and destination directory\n",
    "d_directory = 'E:/Selected Data/'\n",
    "o_directory = 'H:/Breast MRI/01/sps'"
   ],
   "metadata": {
    "collapsed": false,
    "ExecuteTime": {
     "end_time": "2023-12-31T16:53:17.999849200Z",
     "start_time": "2023-12-31T16:53:17.968596900Z"
    }
   },
   "id": "2be5b8c04f7e55d"
  },
  {
   "cell_type": "code",
   "execution_count": 44,
   "outputs": [],
   "source": [
    "patients_ids_1 = [8860408, 8861603, 8861971, 8866708, 8889836, 8915593, 8915632, 8926218, 8934757, 8935156, 8939476, 8977117,\n",
    "                  9008081, 9017845, 9108321, 9162757, 9170060, 9173422, 9174037, 9182263, 9221819, 9239385, 9246035, 9354593,\n",
    "                  9362401, 9363679, 9410575, 9459081, 9459302, 9459663, 9471658, 9471667, 9471756, 9471997, 9474758, 9484852,\n",
    "                  9484938, 9486031, 9486352, 9492065, 9512135, 9535197, 9535278, 9535434, 9559948, 9571865, 9577964, 9578077,\n",
    "                  9638156, 9638749, 9646672, 9647040, 9649691, 9658124, 9661700, 9670311, 9670327, 9673120, 9673179, 9673778,\n",
    "                  9674633, 9680775, 9680867, 9700791, 9701051, 9718836, 9726839, 9727663, 9739752, 9757971, 9773985, 9852342,\n",
    "                  9900364, 9906687, 9906752, 9910509, 9918129, 9918268, 9918324, 9920466, 9924862, 9926215, 9929361, 9929533,\n",
    "                  9930243, 9953872, 9953955, 9954110, 9966610, 9970531, 9971081, 9975377, 9975397, 9985427, 9991646, 9994490,\n",
    "                  9997801, 9997958, 9998057, 10006533, 10007023, 10007991, 10010860, 10018165, 10030277, 10032605, 10032779,\n",
    "                  10045260, 11201493, 11201533, 11205832, 11208303, 11211696, 11218656, 11224788, 11231020, 11237684, 11239822,\n",
    "                  11244816, 11247503, 11254075, 11256378, 11264398, 11272908, 11273475, 11286927, 11290544, 11299936, 11301332,\n",
    "                  11306141, 11331505, 11333648, 11333741, 11338126, 11338192, 11342837, 11344516, 11348359, 11348891, 11351690,\n",
    "                  11352729, 11355812, 11356851, 11358818, 11366628, 11366836, 11367575, 11369417, 11369686, 11371493, 11372703,\n",
    "                  11375497, 11377087, 11379700, 11384586, 11385160, 11387992, 11388246, 11389044, 11390408, 11391724, 11393372,\n",
    "                  11396654, 11572209, 11573971, 11582084, 11582317, 11585576, 11589250, 11840108, 11842798, 11842875, 11846812,\n",
    "                  11850448, 11851264, 11863836, 11879754, 11881596, 11884718, 11885867, 11887918, 11894552, 11899869, 11900471,\n",
    "                  11900937, 11903746, 11913796, 11913939, 11915334, 11917076, 11917317]"
   ],
   "metadata": {
    "collapsed": false,
    "ExecuteTime": {
     "end_time": "2023-12-31T16:53:18.560049200Z",
     "start_time": "2023-12-31T16:53:18.528690800Z"
    }
   },
   "id": "7992eb96137a4a90"
  },
  {
   "cell_type": "code",
   "execution_count": 45,
   "outputs": [],
   "source": [
    "fgt_1 = [(300, 451), (373, 458), (558, 685), (396, 481), (536, 621), (379, 550), (434, 517), (335, 478), (582, 661), (587, 662),\n",
    "         (303, 454), (348, 523), (533, 618), (365, 440), (514, 599), (335, 510), (405, 548), (589, 674), (505, 590), (348, 499),\n",
    "         (521, 606), (387, 542), (407, 492), (554, 639), (365, 450), (365, 450), (432, 513), (490, 567), (371, 442), (464, 549),\n",
    "         (365, 524), (365, 528), (422, 573), (338, 485), (591, 676), (493, 668), (393, 560), (432, 587), (595, 758), (325, 448),\n",
    "         (365, 528), (365, 438), (302, 367), (365, 430), (365, 438), (501, 586), (569, 654), (529, 614), (277, 356), (277, 352),\n",
    "         (281, 366), (249, 314), (490, 575), (420, 505), (277, 352), (536, 679), (277, 352), (421, 506), (474, 559), (439, 524), \n",
    "         (441, 526), (471, 560), (315, 406), (449, 536), (421, 510), (466, 551), (332, 499), (269, 354), (483, 518), (479, 650), \n",
    "         (461, 546), (435, 520), (552, 735), (431, 518), (443, 530), (423, 586), (402, 545), (485, 628), (380, 523), (430, 515), \n",
    "         (496, 671), (597, 800), (385, 464), (451, 540), (299, 384), (313, 404), (315, 402), (317, 404), (435, 520), (448, 639), \n",
    "         (612, 771), (439, 526), (517, 602), (500, 585), (405, 490), (555, 640), (426, 513), (297, 382), (277, 350), (506, 649), \n",
    "         (464, 549), (454, 539), (455, 598), (471, 556), (435, 598), (407, 554), (426, 577), (299, 384), (467, 662), (421, 612), \n",
    "         (376, 551), (258, 343), (275, 450), (429, 620), (337, 512), (500, 675), (350, 525), (396, 575), (406, 581), (405, 490), \n",
    "         (380, 555), (413, 604), (393, 568), (417, 592), (383, 558), (423, 508), (404, 579), (417, 640), (461, 604), (402, 577), \n",
    "         (286, 461), (359, 534), (587, 762), (399, 574), (385, 560), (420, 607), (370, 545), (417, 502), (405, 490), (395, 570), \n",
    "         (552, 727), (363, 538), (567, 718), (369, 544), (407, 582), (415, 602), (393, 568), (426, 601), (385, 560), (389, 564), \n",
    "         (344, 519), (355, 530), (428, 619), (561, 756), (397, 572), (670, 857), (402, 577), (356, 519), (412, 591), (366, 541),\n",
    "         (366, 541), (343, 518), (383, 554), (394, 585), (414, 593), (412, 587), (423, 618), (453, 628), (359, 534), (451, 626),\n",
    "         (390, 565), (439, 614), (385, 576), (312, 475), (497, 672), (434, 625), (410, 585), (946, 1145), (904, 1095), (868, 1059),\n",
    "         (347, 522), (314, 489), (387, 562), (395, 570), (348, 523), (396, 587), (380, 559), (588, 803), (301, 460), (593, 772),\n",
    "         (384, 559)]"
   ],
   "metadata": {
    "collapsed": false,
    "ExecuteTime": {
     "end_time": "2023-12-31T16:53:19.449229700Z",
     "start_time": "2023-12-31T16:53:19.417364200Z"
    }
   },
   "id": "438f0eb238a3205f"
  },
  {
   "cell_type": "code",
   "execution_count": 46,
   "outputs": [],
   "source": [
    "bpe_1 = [(1060, 1211), (920, 1005), (2589, 2716), (914, 999), (1162, 1247), (1615, 1786), (1042, 1125), (1235, 1378), (1054, 1133),\n",
    "         (1035, 1110), (1243, 1394), (1408, 1583), (1071, 1156), (813, 888), (1022, 1107), (1395, 1570), (1349, 1492), (1157, 1242),\n",
    "         (1061, 1146), (1288, 1439), (1047, 1132), (1323, 1478), (925, 1010), (1080, 1165), (886, 971), (915, 1000), (928, 1009),\n",
    "         (978, 1055), (820, 891), (980, 1065), (1233, 1392), (1253, 1416), (1252, 1403), (1146, 1293), (1141, 1226), (1441, 1616),\n",
    "         (1301, 1468), (1280, 1435), (1699, 1862), (1225, 1348), (1253, 1416), (803, 876), (700, 765), (763, 828), (803, 876),\n",
    "         (1007, 1092), (1107, 1192), (1063, 1148), (769, 848), (749, 824), (803, 888), (671, 736), (1032, 1117), (954, 1039),\n",
    "         (749, 824), (2267, 2410), (749, 824), (959, 1044), (1012, 1097), (977, 1062), (979, 1064), (1025, 1114), (889, 980), \n",
    "         (1002, 1089), (978, 1067), (1015, 1100), (1238, 1405), (783, 868), (1203, 1288), (2382, 2553), (1126, 1211), (969, 1054), \n",
    "         (1872, 2055), (984, 1071), (990, 1077), (1423, 1586), (1278, 1421), (1373, 1516), (1256, 1399), (1228, 1313), (1768, 1943), \n",
    "         (2001, 2204), (869, 948), (1011, 1100), (849, 934), (880, 971), (868, 955), (871, 958), (957, 1042), (1816, 2007), \n",
    "         (2760, 2919), (971, 1058), (1150, 1235), (1155, 1240), (927, 1012), (1227, 1312), (1065, 1152), (834, 919), (754, 827), \n",
    "         (1226, 1369), (1161, 1246), (1107, 1192), (1487, 1630), (1108, 1193), (1411, 1574), (1303, 1450), (1342, 1493), (845, 930), \n",
    "         (1859, 2054), (1813, 2004), (1648, 1823), (792, 877), (1511, 1686), (1833, 2024), (1579, 1754), (1736, 1911), (1610, 1785), \n",
    "         (1716, 1895), (1646, 1821), (936, 1021), (1616, 1791), (1793, 1984), (1635, 1810), (1725, 1900), (1643, 1818), (957, 1042), \n",
    "         (1820, 1995), (2723, 2946), (1337, 1480), (1746, 1921), (1522, 1697), (1667, 1842), (1859, 2034), (1671, 1846), (1657, 1832), \n",
    "         (1788, 1975), (1610, 1785), (948, 1033), (939, 1024), (1631, 1806), (1788, 1963), (1683, 1858), (1327, 1478), (1605, 1780), \n",
    "         (1651, 1826), (1731, 1918), (1635, 1810), (1914, 2089), (1657, 1832), (1673, 1848), (1580, 1755), (1651, 1826), (1820, 2011),\n",
    "         (1977, 2172), (1653, 1828), (2640, 2827), (1638, 1813), (1520, 1683), (1708, 1887), (1602, 1777), (1602, 1777), (1603, 1778),\n",
    "         (1595, 1766), (1762, 1953), (1746, 1925), (1684, 1859), (1803, 1998), (1689, 1864), (1667, 1842), (1687, 1862), (1630, 1805),\n",
    "         (1681, 1856), (1753, 1944), (1464, 1627), (1733, 1908), (1814, 2005), (1652, 1827), (2580, 2779), (2464, 2655), (2408, 2599),\n",
    "         (1583, 1758), (1370, 1545), (1631, 1806), (1639, 1814), (1590, 1765), (1752, 1943), (2290, 2469), (2842, 3057), (1441, 1600),\n",
    "         (1861, 2040), (1626, 1801)]"
   ],
   "metadata": {
    "collapsed": false,
    "ExecuteTime": {
     "end_time": "2023-12-31T16:53:19.990907500Z",
     "start_time": "2023-12-31T16:53:19.959608Z"
    }
   },
   "id": "410c08141963bf9a"
  },
  {
   "cell_type": "code",
   "execution_count": 47,
   "outputs": [],
   "source": [
    "# create_pid_folder(d_directory, patients_ids_1)"
   ],
   "metadata": {
    "collapsed": false,
    "ExecuteTime": {
     "end_time": "2023-12-31T16:53:20.305365200Z",
     "start_time": "2023-12-31T16:53:20.274029600Z"
    }
   },
   "id": "33faacfbd79fb18"
  },
  {
   "cell_type": "code",
   "execution_count": 48,
   "outputs": [],
   "source": [
    "# automated_copy(o_directory, d_directory, patients_ids_1, fgt_1, bpe_1)"
   ],
   "metadata": {
    "collapsed": false,
    "ExecuteTime": {
     "end_time": "2023-12-31T16:53:20.659151100Z",
     "start_time": "2023-12-31T16:53:20.627791300Z"
    }
   },
   "id": "3b2d41434d5d6b1c"
  },
  {
   "cell_type": "markdown",
   "source": [
    "# Part 2"
   ],
   "metadata": {
    "collapsed": false
   },
   "id": "a59f899f36f1a42c"
  },
  {
   "cell_type": "code",
   "execution_count": 49,
   "outputs": [],
   "source": [
    "mpath = 'H:/Breast MRI/02/sps'\n",
    "folder_names_part2 = []\n",
    "folder_names_part2 = get_folder_names(mpath, folder_names_part2)"
   ],
   "metadata": {
    "collapsed": false,
    "ExecuteTime": {
     "end_time": "2023-12-31T16:53:21.537688600Z",
     "start_time": "2023-12-31T16:53:21.476770400Z"
    }
   },
   "id": "fc6ee1c6aea660e9"
  },
  {
   "cell_type": "code",
   "execution_count": 50,
   "outputs": [],
   "source": [
    "for name in folder_names_part2:\n",
    "    if name not in all_ok_data:\n",
    "        print(name)"
   ],
   "metadata": {
    "collapsed": false,
    "ExecuteTime": {
     "end_time": "2023-12-31T16:53:21.709793800Z",
     "start_time": "2023-12-31T16:53:21.682553Z"
    }
   },
   "id": "530079b08755575"
  },
  {
   "cell_type": "code",
   "execution_count": 51,
   "outputs": [],
   "source": [
    "no_data_cases = ['1191379', '8368349', '8832712', '8145891', '8302127', '8305735', '8414121', '8675439', '8675610', '8682515']"
   ],
   "metadata": {
    "collapsed": false,
    "ExecuteTime": {
     "end_time": "2023-12-31T16:53:21.882923900Z",
     "start_time": "2023-12-31T16:53:21.851657400Z"
    }
   },
   "id": "b221377d332609cf"
  },
  {
   "cell_type": "code",
   "execution_count": 52,
   "outputs": [
    {
     "data": {
      "text/plain": "1142"
     },
     "execution_count": 52,
     "metadata": {},
     "output_type": "execute_result"
    }
   ],
   "source": [
    "len(all_ok_data)"
   ],
   "metadata": {
    "collapsed": false,
    "ExecuteTime": {
     "end_time": "2023-12-31T16:53:22.072554800Z",
     "start_time": "2023-12-31T16:53:22.040832800Z"
    }
   },
   "id": "a7b279812a62e763"
  },
  {
   "cell_type": "code",
   "execution_count": 53,
   "outputs": [],
   "source": [
    "for pid in no_data_cases:\n",
    "    if pid in all_ok_data:\n",
    "        all_ok_data.remove(pid)"
   ],
   "metadata": {
    "collapsed": false,
    "ExecuteTime": {
     "end_time": "2023-12-31T16:53:22.229759300Z",
     "start_time": "2023-12-31T16:53:22.198082100Z"
    }
   },
   "id": "eb8ea3f9925d1a9f"
  },
  {
   "cell_type": "code",
   "execution_count": 54,
   "outputs": [
    {
     "data": {
      "text/plain": "1135"
     },
     "execution_count": 54,
     "metadata": {},
     "output_type": "execute_result"
    }
   ],
   "source": [
    "len(all_ok_data)"
   ],
   "metadata": {
    "collapsed": false,
    "ExecuteTime": {
     "end_time": "2023-12-31T16:53:22.417865100Z",
     "start_time": "2023-12-31T16:53:22.386531500Z"
    }
   },
   "id": "580b5d3df0435f0a"
  },
  {
   "cell_type": "code",
   "execution_count": 55,
   "outputs": [],
   "source": [
    "# Origin and destination directory\n",
    "d_directory = 'E:/Selected Data/'\n",
    "o_directory = 'H:/Breast MRI/02/sps'"
   ],
   "metadata": {
    "collapsed": false,
    "ExecuteTime": {
     "end_time": "2023-12-31T16:53:22.591410800Z",
     "start_time": "2023-12-31T16:53:22.560147600Z"
    }
   },
   "id": "3bc74445e4743cde"
  },
  {
   "cell_type": "code",
   "execution_count": 56,
   "outputs": [],
   "source": [
    "patients_ids_2 = [969995, 1568016, 8647484, 8668594, 8668972, 8838792, 8844951, 8845106, 8859611]"
   ],
   "metadata": {
    "collapsed": false,
    "ExecuteTime": {
     "end_time": "2023-12-31T16:53:22.782610700Z",
     "start_time": "2023-12-31T16:53:22.751157700Z"
    }
   },
   "id": "d3de6b666ebb84cd"
  },
  {
   "cell_type": "code",
   "execution_count": 57,
   "outputs": [],
   "source": [
    "fgt_2 = [(413, 498), (405, 490), (315, 478), (374, 549), (348, 523), (382, 533), (385, 560), (303, 466), (481, 566)]"
   ],
   "metadata": {
    "collapsed": false,
    "ExecuteTime": {
     "end_time": "2023-12-31T16:53:22.964527900Z",
     "start_time": "2023-12-31T16:53:22.933260200Z"
    }
   },
   "id": "dcca052a79cd64e4"
  },
  {
   "cell_type": "code",
   "execution_count": 58,
   "outputs": [],
   "source": [
    "bpe_2 = [(953, 1038), (957, 1042), (1135, 1298), (1434, 1609), (1408, 1583), (1322, 1473), (1445, 1620), (1303, 1466), (1123, 1208)]"
   ],
   "metadata": {
    "collapsed": false,
    "ExecuteTime": {
     "end_time": "2023-12-31T16:53:23.176251500Z",
     "start_time": "2023-12-31T16:53:23.129269400Z"
    }
   },
   "id": "9a4a66056f686717"
  },
  {
   "cell_type": "code",
   "execution_count": 59,
   "outputs": [],
   "source": [
    "# create_pid_folder(d_directory, patients_ids_2)"
   ],
   "metadata": {
    "collapsed": false,
    "ExecuteTime": {
     "end_time": "2023-12-31T16:53:23.329741200Z",
     "start_time": "2023-12-31T16:53:23.299070700Z"
    }
   },
   "id": "4d64c2d12b31cb5"
  },
  {
   "cell_type": "code",
   "execution_count": 60,
   "outputs": [],
   "source": [
    "# automated_copy(o_directory, d_directory, patients_ids_2, fgt_2, bpe_2)"
   ],
   "metadata": {
    "collapsed": false,
    "ExecuteTime": {
     "end_time": "2023-12-31T16:53:23.549702600Z",
     "start_time": "2023-12-31T16:53:23.502313Z"
    }
   },
   "id": "3827b11d96af4cf9"
  },
  {
   "cell_type": "markdown",
   "source": [
    "# Part 3"
   ],
   "metadata": {
    "collapsed": false
   },
   "id": "c9899c9d18bc8eba"
  },
  {
   "cell_type": "code",
   "execution_count": 61,
   "outputs": [],
   "source": [
    "mpath = 'H:/Breast MRI/03/breast new'\n",
    "folder_names_part3 = []\n",
    "folder_names_part3 = get_folder_names(mpath, folder_names_part3)"
   ],
   "metadata": {
    "collapsed": false,
    "ExecuteTime": {
     "end_time": "2023-12-31T16:53:23.892264200Z",
     "start_time": "2023-12-31T16:53:23.860933700Z"
    }
   },
   "id": "b935210b20429ecd"
  },
  {
   "cell_type": "code",
   "execution_count": 62,
   "outputs": [],
   "source": [
    "for name in folder_names_part3:\n",
    "    if name not in all_ok_data:\n",
    "        print(name)"
   ],
   "metadata": {
    "collapsed": false,
    "ExecuteTime": {
     "end_time": "2023-12-31T16:53:24.098922Z",
     "start_time": "2023-12-31T16:53:24.067642Z"
    }
   },
   "id": "5523be3b9a34f0e5"
  },
  {
   "cell_type": "code",
   "execution_count": 63,
   "outputs": [],
   "source": [
    "no_data_cases = []"
   ],
   "metadata": {
    "collapsed": false,
    "ExecuteTime": {
     "end_time": "2023-12-31T16:53:24.288399900Z",
     "start_time": "2023-12-31T16:53:24.257070500Z"
    }
   },
   "id": "492ab73de4c93fd3"
  },
  {
   "cell_type": "code",
   "execution_count": 64,
   "outputs": [
    {
     "data": {
      "text/plain": "1135"
     },
     "execution_count": 64,
     "metadata": {},
     "output_type": "execute_result"
    }
   ],
   "source": [
    "len(all_ok_data)"
   ],
   "metadata": {
    "collapsed": false,
    "ExecuteTime": {
     "end_time": "2023-12-31T16:53:24.524149600Z",
     "start_time": "2023-12-31T16:53:24.477062300Z"
    }
   },
   "id": "32c67eead5c53698"
  },
  {
   "cell_type": "code",
   "execution_count": 65,
   "outputs": [],
   "source": [
    "for pid in no_data_cases:\n",
    "    if pid in all_ok_data:\n",
    "        all_ok_data.remove(pid)"
   ],
   "metadata": {
    "collapsed": false,
    "ExecuteTime": {
     "end_time": "2023-12-31T16:53:24.739449800Z",
     "start_time": "2023-12-31T16:53:24.692068700Z"
    }
   },
   "id": "c57df039747f047"
  },
  {
   "cell_type": "code",
   "execution_count": 66,
   "outputs": [
    {
     "data": {
      "text/plain": "1135"
     },
     "execution_count": 66,
     "metadata": {},
     "output_type": "execute_result"
    }
   ],
   "source": [
    "len(all_ok_data)"
   ],
   "metadata": {
    "collapsed": false,
    "ExecuteTime": {
     "end_time": "2023-12-31T16:53:24.897057100Z",
     "start_time": "2023-12-31T16:53:24.865793200Z"
    }
   },
   "id": "7d82ee2c23359931"
  },
  {
   "cell_type": "code",
   "execution_count": 67,
   "outputs": [],
   "source": [
    "# Origin and destination directory\n",
    "d_directory = 'E:/Selected Data/'\n",
    "o_directory = 'H:/Breast MRI/03/breast new'"
   ],
   "metadata": {
    "collapsed": false,
    "ExecuteTime": {
     "end_time": "2023-12-31T16:53:25.084556500Z",
     "start_time": "2023-12-31T16:53:25.037664100Z"
    }
   },
   "id": "d7888f235b484f49"
  },
  {
   "cell_type": "code",
   "execution_count": 178,
   "outputs": [],
   "source": [
    "patients_ids_3 = [9947622, 9971081, 10006533, 10500639, 10506817, 10507162, 10509355, 10520523, 10532430, 10540595,\n",
    "                  10553401, 10554186, 10561171, 10581017, 10591458, 10632327, 10716690, 10718503, 10723940, 10738155,\n",
    "                  10743894, 10756274, 10773065, 10791568, 10812027]"
   ],
   "metadata": {
    "collapsed": false,
    "ExecuteTime": {
     "end_time": "2023-12-31T17:54:15.642946700Z",
     "start_time": "2023-12-31T17:54:15.626908100Z"
    }
   },
   "id": "81d6c290da940c0d"
  },
  {
   "cell_type": "code",
   "execution_count": 179,
   "outputs": [],
   "source": [
    "fgt_3 = [(333, 500), (612, 771), (506, 649), (881, 1072), (982, 1173), (1287, 1478), (1017, 1208), (1190, 1389), (1033, 1224), (991, 1182), \n",
    "         (1052, 1243), (1160, 1351), (978, 1169), (879, 1038), (1027, 1218), (1224, 1415), (974, 1153), (1694, 1885), (498, 641), (1134, 1325), \n",
    "         (1155, 1346), (1174, 1365), (1174, 1365), (1250, 1441), (1181, 1372)]"
   ],
   "metadata": {
    "collapsed": false,
    "ExecuteTime": {
     "end_time": "2023-12-31T17:54:15.977836200Z",
     "start_time": "2023-12-31T17:54:15.946456100Z"
    }
   },
   "id": "313403339b7b95c8"
  },
  {
   "cell_type": "code",
   "execution_count": 180,
   "outputs": [],
   "source": [
    "bpe_3 = [(1999, 2166), (2760, 2919), (1226, 1369), (2225, 2416), (2356, 2547), (3133, 3324), (2391, 2582), (3269, 3468), (2577, 2768), \n",
    "         (2941, 3132), (2558, 2749), (2688, 2879), (2928, 3119), (2687, 2846), (2571, 2762), (2776, 2967), (2430, 2609), (3250, 3441), \n",
    "         (2396, 2539), (2688, 2879), (2567, 2758), (2718, 2909), (2729, 2920), (2824, 3015), (2785, 2976)]"
   ],
   "metadata": {
    "collapsed": false,
    "ExecuteTime": {
     "end_time": "2023-12-31T17:54:16.298158100Z",
     "start_time": "2023-12-31T17:54:16.282493700Z"
    }
   },
   "id": "c57b0df818283ea9"
  },
  {
   "cell_type": "code",
   "execution_count": 71,
   "outputs": [],
   "source": [
    "# create_pid_folder(d_directory, patients_ids_3)"
   ],
   "metadata": {
    "collapsed": false,
    "ExecuteTime": {
     "end_time": "2023-12-31T16:53:25.816098900Z",
     "start_time": "2023-12-31T16:53:25.784774700Z"
    }
   },
   "id": "224c14cb68849e20"
  },
  {
   "cell_type": "code",
   "execution_count": 72,
   "outputs": [],
   "source": [
    "# automated_copy(o_directory, d_directory, patients_ids_3, fgt_3, bpe_3)"
   ],
   "metadata": {
    "collapsed": false,
    "ExecuteTime": {
     "end_time": "2023-12-31T16:53:26.035780200Z",
     "start_time": "2023-12-31T16:53:25.973774500Z"
    }
   },
   "id": "917acbb17b833066"
  },
  {
   "cell_type": "markdown",
   "source": [
    "# Part 4"
   ],
   "metadata": {
    "collapsed": false
   },
   "id": "f267fccf43b1377a"
  },
  {
   "cell_type": "code",
   "execution_count": 73,
   "outputs": [],
   "source": [
    "mpath = 'H:/Breast MRI/03/breast new 2'\n",
    "folder_names_part4 = []\n",
    "folder_names_part4 = get_folder_names(mpath, folder_names_part4)"
   ],
   "metadata": {
    "collapsed": false,
    "ExecuteTime": {
     "end_time": "2023-12-31T16:53:26.377608800Z",
     "start_time": "2023-12-31T16:53:26.298424600Z"
    }
   },
   "id": "584f4d8950c41df8"
  },
  {
   "cell_type": "code",
   "execution_count": 74,
   "outputs": [],
   "source": [
    "folder_list = []\n",
    "for name in folder_names_part4:\n",
    "    if name not in all_ok_data:\n",
    "        print(name)\n",
    "        folder_list.append(name)"
   ],
   "metadata": {
    "collapsed": false,
    "ExecuteTime": {
     "end_time": "2023-12-31T16:53:26.536785500Z",
     "start_time": "2023-12-31T16:53:26.502998600Z"
    }
   },
   "id": "de4d5ba727bf30c"
  },
  {
   "cell_type": "code",
   "execution_count": 75,
   "outputs": [
    {
     "data": {
      "text/plain": "0"
     },
     "execution_count": 75,
     "metadata": {},
     "output_type": "execute_result"
    }
   ],
   "source": [
    "len(folder_list)"
   ],
   "metadata": {
    "collapsed": false,
    "ExecuteTime": {
     "end_time": "2023-12-31T16:53:26.691509300Z",
     "start_time": "2023-12-31T16:53:26.660239300Z"
    }
   },
   "id": "52c2f7b244f42966"
  },
  {
   "cell_type": "code",
   "execution_count": 76,
   "outputs": [],
   "source": [
    "# source_directory = mpath\n",
    "# destination_directory = \"H:/Breast MRI/03/NotOkData/breast new 2\"  # Replace with the actual destination directory\n",
    "# move_folders(folder_list, source_directory, destination_directory)"
   ],
   "metadata": {
    "collapsed": false,
    "ExecuteTime": {
     "end_time": "2023-12-31T16:53:26.880553900Z",
     "start_time": "2023-12-31T16:53:26.838270Z"
    }
   },
   "id": "5b3e343bf3d6b9ff"
  },
  {
   "cell_type": "code",
   "execution_count": 77,
   "outputs": [],
   "source": [
    "no_data_cases = ['10942269']"
   ],
   "metadata": {
    "collapsed": false,
    "ExecuteTime": {
     "end_time": "2023-12-31T16:53:27.053901200Z",
     "start_time": "2023-12-31T16:53:27.022122900Z"
    }
   },
   "id": "fde00bec8c36368e"
  },
  {
   "cell_type": "code",
   "execution_count": 78,
   "outputs": [
    {
     "data": {
      "text/plain": "1135"
     },
     "execution_count": 78,
     "metadata": {},
     "output_type": "execute_result"
    }
   ],
   "source": [
    "len(all_ok_data)"
   ],
   "metadata": {
    "collapsed": false,
    "ExecuteTime": {
     "end_time": "2023-12-31T16:53:27.210931800Z",
     "start_time": "2023-12-31T16:53:27.179566800Z"
    }
   },
   "id": "8ffd544f5373a696"
  },
  {
   "cell_type": "code",
   "execution_count": 79,
   "outputs": [],
   "source": [
    "for pid in no_data_cases:\n",
    "    if pid in all_ok_data:\n",
    "        all_ok_data.remove(pid)"
   ],
   "metadata": {
    "collapsed": false,
    "ExecuteTime": {
     "end_time": "2023-12-31T16:53:27.415711900Z",
     "start_time": "2023-12-31T16:53:27.384044200Z"
    }
   },
   "id": "55b97091586d9539"
  },
  {
   "cell_type": "code",
   "execution_count": 80,
   "outputs": [
    {
     "data": {
      "text/plain": "1134"
     },
     "execution_count": 80,
     "metadata": {},
     "output_type": "execute_result"
    }
   ],
   "source": [
    "len(all_ok_data)"
   ],
   "metadata": {
    "collapsed": false,
    "ExecuteTime": {
     "end_time": "2023-12-31T16:53:27.589697900Z",
     "start_time": "2023-12-31T16:53:27.558386Z"
    }
   },
   "id": "e23c8ec9a987fe9b"
  },
  {
   "cell_type": "code",
   "execution_count": 81,
   "outputs": [],
   "source": [
    "# Origin and destination directory\n",
    "d_directory = 'E:/Selected Data/'\n",
    "o_directory = 'H:/Breast MRI/02/sps'"
   ],
   "metadata": {
    "collapsed": false,
    "ExecuteTime": {
     "end_time": "2023-12-31T16:53:27.747437600Z",
     "start_time": "2023-12-31T16:53:27.715646Z"
    }
   },
   "id": "609fa387ae7589fc"
  },
  {
   "cell_type": "code",
   "execution_count": 82,
   "outputs": [],
   "source": [
    "patients_ids_4 = []"
   ],
   "metadata": {
    "collapsed": false,
    "ExecuteTime": {
     "end_time": "2023-12-31T16:53:27.921438300Z",
     "start_time": "2023-12-31T16:53:27.894283600Z"
    }
   },
   "id": "7beec318e597fca0"
  },
  {
   "cell_type": "code",
   "execution_count": 83,
   "outputs": [],
   "source": [
    "fgt_4 = []"
   ],
   "metadata": {
    "collapsed": false,
    "ExecuteTime": {
     "end_time": "2023-12-31T16:53:28.106670700Z",
     "start_time": "2023-12-31T16:53:28.082011300Z"
    }
   },
   "id": "faf1e0277f571d25"
  },
  {
   "cell_type": "code",
   "execution_count": 84,
   "outputs": [],
   "source": [
    "bpe_4 = []"
   ],
   "metadata": {
    "collapsed": false,
    "ExecuteTime": {
     "end_time": "2023-12-31T16:53:28.326557100Z",
     "start_time": "2023-12-31T16:53:28.295306Z"
    }
   },
   "id": "e42816f59953630a"
  },
  {
   "cell_type": "code",
   "execution_count": 85,
   "outputs": [],
   "source": [
    "# create_pid_folder(d_directory, patients_ids_4)"
   ],
   "metadata": {
    "collapsed": false,
    "ExecuteTime": {
     "end_time": "2023-12-31T16:53:28.420823500Z",
     "start_time": "2023-12-31T16:53:28.405108400Z"
    }
   },
   "id": "d75a25387ed29a3f"
  },
  {
   "cell_type": "code",
   "execution_count": 86,
   "outputs": [],
   "source": [
    "# automated_copy(o_directory, d_directory, patients_ids_4, fgt_4, bpe_4)"
   ],
   "metadata": {
    "collapsed": false,
    "ExecuteTime": {
     "end_time": "2023-12-31T16:53:28.642129100Z",
     "start_time": "2023-12-31T16:53:28.579032Z"
    }
   },
   "id": "a23f67f61d8917dd"
  },
  {
   "cell_type": "markdown",
   "source": [
    "# Part 5"
   ],
   "metadata": {
    "collapsed": false
   },
   "id": "2a31b961cec82ebf"
  },
  {
   "cell_type": "code",
   "execution_count": 87,
   "outputs": [],
   "source": [
    "mpath = 'H:/Breast MRI/03/nac'\n",
    "folder_names_part5 = []\n",
    "folder_names_part5 = get_folder_names(mpath, folder_names_part5)"
   ],
   "metadata": {
    "collapsed": false,
    "ExecuteTime": {
     "end_time": "2023-12-31T16:53:29.027364Z",
     "start_time": "2023-12-31T16:53:28.980627600Z"
    }
   },
   "id": "876474e5d71de5c1"
  },
  {
   "cell_type": "code",
   "execution_count": 88,
   "outputs": [],
   "source": [
    "folder_list = []\n",
    "for name in folder_names_part5:\n",
    "    if name not in all_ok_data:\n",
    "        print(name)\n",
    "        folder_list.append(name)"
   ],
   "metadata": {
    "collapsed": false,
    "ExecuteTime": {
     "end_time": "2023-12-31T16:53:29.137296300Z",
     "start_time": "2023-12-31T16:53:29.107023100Z"
    }
   },
   "id": "a3e096189d89efa"
  },
  {
   "cell_type": "code",
   "execution_count": 89,
   "outputs": [
    {
     "data": {
      "text/plain": "0"
     },
     "execution_count": 89,
     "metadata": {},
     "output_type": "execute_result"
    }
   ],
   "source": [
    "len(folder_list)"
   ],
   "metadata": {
    "collapsed": false,
    "ExecuteTime": {
     "end_time": "2023-12-31T16:53:29.310008200Z",
     "start_time": "2023-12-31T16:53:29.278608Z"
    }
   },
   "id": "121813f7c73c10e6"
  },
  {
   "cell_type": "code",
   "execution_count": 90,
   "outputs": [],
   "source": [
    "# source_directory = mpath\n",
    "# destination_directory = \"H:/Breast MRI/03/NotOkData/nac\"  # Replace with the actual destination directory\n",
    "# move_folders(folder_list, source_directory, destination_directory)"
   ],
   "metadata": {
    "collapsed": false,
    "ExecuteTime": {
     "end_time": "2023-12-31T16:53:29.494606900Z",
     "start_time": "2023-12-31T16:53:29.463352500Z"
    }
   },
   "id": "8962ea82ecd5f1e0"
  },
  {
   "cell_type": "code",
   "execution_count": 91,
   "outputs": [],
   "source": [
    "no_data_cases = []"
   ],
   "metadata": {
    "collapsed": false,
    "ExecuteTime": {
     "end_time": "2023-12-31T16:53:29.682894200Z",
     "start_time": "2023-12-31T16:53:29.651538400Z"
    }
   },
   "id": "29b534e75e6f934f"
  },
  {
   "cell_type": "code",
   "execution_count": 92,
   "outputs": [
    {
     "data": {
      "text/plain": "1134"
     },
     "execution_count": 92,
     "metadata": {},
     "output_type": "execute_result"
    }
   ],
   "source": [
    "len(all_ok_data)"
   ],
   "metadata": {
    "collapsed": false,
    "ExecuteTime": {
     "end_time": "2023-12-31T16:53:29.872502900Z",
     "start_time": "2023-12-31T16:53:29.842657600Z"
    }
   },
   "id": "aa31a633635ddd5a"
  },
  {
   "cell_type": "code",
   "execution_count": 93,
   "outputs": [],
   "source": [
    "for pid in no_data_cases:\n",
    "    if pid in all_ok_data:\n",
    "        all_ok_data.remove(pid)"
   ],
   "metadata": {
    "collapsed": false,
    "ExecuteTime": {
     "end_time": "2023-12-31T16:53:30.062159200Z",
     "start_time": "2023-12-31T16:53:30.030323600Z"
    }
   },
   "id": "9d81a72f1d094a6"
  },
  {
   "cell_type": "code",
   "execution_count": 94,
   "outputs": [
    {
     "data": {
      "text/plain": "1134"
     },
     "execution_count": 94,
     "metadata": {},
     "output_type": "execute_result"
    }
   ],
   "source": [
    "len(all_ok_data)"
   ],
   "metadata": {
    "collapsed": false,
    "ExecuteTime": {
     "end_time": "2023-12-31T16:53:30.266836700Z",
     "start_time": "2023-12-31T16:53:30.203814800Z"
    }
   },
   "id": "19f49a3621494ff7"
  },
  {
   "cell_type": "code",
   "execution_count": 95,
   "outputs": [],
   "source": [
    "# Origin and destination directory\n",
    "d_directory = 'E:/Selected Data/'\n",
    "o_directory = 'H:/Breast MRI/02/sps'"
   ],
   "metadata": {
    "collapsed": false,
    "ExecuteTime": {
     "end_time": "2023-12-31T16:53:30.423592800Z",
     "start_time": "2023-12-31T16:53:30.392287200Z"
    }
   },
   "id": "6a74b2ee115e6258"
  },
  {
   "cell_type": "code",
   "execution_count": 96,
   "outputs": [],
   "source": [
    "patients_ids_5 = []"
   ],
   "metadata": {
    "collapsed": false,
    "ExecuteTime": {
     "end_time": "2023-12-31T16:53:30.613790500Z",
     "start_time": "2023-12-31T16:53:30.582435900Z"
    }
   },
   "id": "2095720be93558c9"
  },
  {
   "cell_type": "code",
   "execution_count": 97,
   "outputs": [],
   "source": [
    "fgt_5 = []"
   ],
   "metadata": {
    "collapsed": false,
    "ExecuteTime": {
     "end_time": "2023-12-31T16:53:30.821826500Z",
     "start_time": "2023-12-31T16:53:30.790567700Z"
    }
   },
   "id": "aab347673d05086e"
  },
  {
   "cell_type": "code",
   "execution_count": 98,
   "outputs": [],
   "source": [
    "bpe_5 = []"
   ],
   "metadata": {
    "collapsed": false,
    "ExecuteTime": {
     "end_time": "2023-12-31T16:53:30.994677800Z",
     "start_time": "2023-12-31T16:53:30.963322100Z"
    }
   },
   "id": "68e52fec4a3cc4d5"
  },
  {
   "cell_type": "code",
   "execution_count": 99,
   "outputs": [],
   "source": [
    "# create_pid_folder(d_directory, patients_ids_5)"
   ],
   "metadata": {
    "collapsed": false,
    "ExecuteTime": {
     "end_time": "2023-12-31T16:53:31.201974Z",
     "start_time": "2023-12-31T16:53:31.158580300Z"
    }
   },
   "id": "368c1a03ece72de8"
  },
  {
   "cell_type": "code",
   "execution_count": 100,
   "outputs": [],
   "source": [
    "# automated_copy(o_directory, d_directory, patients_ids_5, fgt_5, bpe_5)"
   ],
   "metadata": {
    "collapsed": false,
    "ExecuteTime": {
     "end_time": "2023-12-31T16:53:31.390453300Z",
     "start_time": "2023-12-31T16:53:31.346538Z"
    }
   },
   "id": "991c0c7f42ffb696"
  },
  {
   "cell_type": "markdown",
   "source": [
    "# Part 6"
   ],
   "metadata": {
    "collapsed": false
   },
   "id": "eaef76535c476bdf"
  },
  {
   "cell_type": "code",
   "execution_count": 101,
   "outputs": [],
   "source": [
    "mpath = 'H:/Breast MRI/03/sps'\n",
    "folder_names_part6 = []\n",
    "folder_names_part6 = get_folder_names(mpath, folder_names_part6)"
   ],
   "metadata": {
    "collapsed": false,
    "ExecuteTime": {
     "end_time": "2023-12-31T16:53:31.739267100Z",
     "start_time": "2023-12-31T16:53:31.707908500Z"
    }
   },
   "id": "eee940ee23a09e1f"
  },
  {
   "cell_type": "code",
   "execution_count": 102,
   "outputs": [],
   "source": [
    "folder_list = []\n",
    "for name in folder_names_part6:\n",
    "    if name not in all_ok_data:\n",
    "        print(name)\n",
    "        folder_list.append(name)"
   ],
   "metadata": {
    "collapsed": false,
    "ExecuteTime": {
     "end_time": "2023-12-31T16:53:31.912212100Z",
     "start_time": "2023-12-31T16:53:31.865315100Z"
    }
   },
   "id": "c1984eeae2f7c24f"
  },
  {
   "cell_type": "code",
   "execution_count": 103,
   "outputs": [
    {
     "data": {
      "text/plain": "0"
     },
     "execution_count": 103,
     "metadata": {},
     "output_type": "execute_result"
    }
   ],
   "source": [
    "len(folder_list)"
   ],
   "metadata": {
    "collapsed": false,
    "ExecuteTime": {
     "end_time": "2023-12-31T16:53:32.133218900Z",
     "start_time": "2023-12-31T16:53:32.101906900Z"
    }
   },
   "id": "2f208c6a54a80c4f"
  },
  {
   "cell_type": "code",
   "execution_count": 104,
   "outputs": [],
   "source": [
    "# source_directory = mpath\n",
    "# destination_directory = \"H:/Breast MRI/03/NotOkData/sps\"  # Replace with the actual destination directory\n",
    "# move_folders(folder_list, source_directory, destination_directory)"
   ],
   "metadata": {
    "collapsed": false,
    "ExecuteTime": {
     "end_time": "2023-12-31T16:53:32.347889500Z",
     "start_time": "2023-12-31T16:53:32.330681200Z"
    }
   },
   "id": "883862bbc988d7b7"
  },
  {
   "cell_type": "code",
   "execution_count": 105,
   "outputs": [],
   "source": [
    "no_data_cases = ['8390792', '8564813', '8613792', '8756913']"
   ],
   "metadata": {
    "collapsed": false,
    "ExecuteTime": {
     "end_time": "2023-12-31T16:53:32.488320500Z",
     "start_time": "2023-12-31T16:53:32.472648700Z"
    }
   },
   "id": "cf699b752f1174c6"
  },
  {
   "cell_type": "code",
   "execution_count": 106,
   "outputs": [
    {
     "data": {
      "text/plain": "1134"
     },
     "execution_count": 106,
     "metadata": {},
     "output_type": "execute_result"
    }
   ],
   "source": [
    "len(all_ok_data)"
   ],
   "metadata": {
    "collapsed": false,
    "ExecuteTime": {
     "end_time": "2023-12-31T16:53:32.692930400Z",
     "start_time": "2023-12-31T16:53:32.661664400Z"
    }
   },
   "id": "7a96eee7843a7144"
  },
  {
   "cell_type": "code",
   "execution_count": 107,
   "outputs": [],
   "source": [
    "for pid in no_data_cases:\n",
    "    if pid in all_ok_data:\n",
    "        all_ok_data.remove(pid)"
   ],
   "metadata": {
    "collapsed": false,
    "ExecuteTime": {
     "end_time": "2023-12-31T16:53:32.873426500Z",
     "start_time": "2023-12-31T16:53:32.849020Z"
    }
   },
   "id": "7273d33c0f52ec65"
  },
  {
   "cell_type": "code",
   "execution_count": 108,
   "outputs": [
    {
     "data": {
      "text/plain": "1130"
     },
     "execution_count": 108,
     "metadata": {},
     "output_type": "execute_result"
    }
   ],
   "source": [
    "len(all_ok_data)"
   ],
   "metadata": {
    "collapsed": false,
    "ExecuteTime": {
     "end_time": "2023-12-31T16:53:33.058859200Z",
     "start_time": "2023-12-31T16:53:33.029239200Z"
    }
   },
   "id": "68d451e50a2ed953"
  },
  {
   "cell_type": "code",
   "execution_count": 109,
   "outputs": [],
   "source": [
    "# Origin and destination directory\n",
    "d_directory = 'E:/Selected Data/'\n",
    "o_directory = 'H:/Breast MRI/02/sps'"
   ],
   "metadata": {
    "collapsed": false,
    "ExecuteTime": {
     "end_time": "2023-12-31T16:53:33.249840800Z",
     "start_time": "2023-12-31T16:53:33.215875700Z"
    }
   },
   "id": "88e97ec6e72b64e9"
  },
  {
   "cell_type": "code",
   "execution_count": 110,
   "outputs": [],
   "source": [
    "patients_ids_6 = []"
   ],
   "metadata": {
    "collapsed": false,
    "ExecuteTime": {
     "end_time": "2023-12-31T16:53:33.431513900Z",
     "start_time": "2023-12-31T16:53:33.415879300Z"
    }
   },
   "id": "b6682367aa848185"
  },
  {
   "cell_type": "code",
   "execution_count": 111,
   "outputs": [],
   "source": [
    "fgt_6 = []"
   ],
   "metadata": {
    "collapsed": false,
    "ExecuteTime": {
     "end_time": "2023-12-31T16:53:33.652091600Z",
     "start_time": "2023-12-31T16:53:33.620202600Z"
    }
   },
   "id": "e3972b871fc2315a"
  },
  {
   "cell_type": "code",
   "execution_count": 112,
   "outputs": [],
   "source": [
    "bpe_6 = []"
   ],
   "metadata": {
    "collapsed": false,
    "ExecuteTime": {
     "end_time": "2023-12-31T16:53:33.851247Z",
     "start_time": "2023-12-31T16:53:33.809386500Z"
    }
   },
   "id": "d5bd67005bda5324"
  },
  {
   "cell_type": "code",
   "execution_count": 113,
   "outputs": [],
   "source": [
    "# create_pid_folder(d_directory, patients_ids_1)"
   ],
   "metadata": {
    "collapsed": false,
    "ExecuteTime": {
     "end_time": "2023-12-31T16:53:34.016293Z",
     "start_time": "2023-12-31T16:53:34.000324600Z"
    }
   },
   "id": "9c7b59d466049d69"
  },
  {
   "cell_type": "code",
   "execution_count": 114,
   "outputs": [],
   "source": [
    "# automated_copy(o_directory, d_directory, patients_ids_6, fgt_6, bpe_6)"
   ],
   "metadata": {
    "collapsed": false,
    "ExecuteTime": {
     "end_time": "2023-12-31T16:53:34.236645700Z",
     "start_time": "2023-12-31T16:53:34.191759200Z"
    }
   },
   "id": "4444162b71cc57c5"
  },
  {
   "cell_type": "markdown",
   "source": [
    "# Part 7"
   ],
   "metadata": {
    "collapsed": false
   },
   "id": "fd0b8d3eb6f8889f"
  },
  {
   "cell_type": "code",
   "execution_count": 115,
   "outputs": [],
   "source": [
    "mpath = \"E:/Breast Data/Breast\"\n",
    "folder_names_part7 = []\n",
    "folder_names_part7 = get_folder_names(mpath, folder_names_part7)"
   ],
   "metadata": {
    "collapsed": false,
    "ExecuteTime": {
     "end_time": "2023-12-31T16:53:34.599633900Z",
     "start_time": "2023-12-31T16:53:34.591960900Z"
    }
   },
   "id": "2556e7fb7f35f07d"
  },
  {
   "cell_type": "code",
   "execution_count": 116,
   "outputs": [],
   "source": [
    "folder_list = []\n",
    "for name in folder_names_part7:\n",
    "    if name not in all_ok_data:\n",
    "        print(name)\n",
    "        folder_list.append(name)"
   ],
   "metadata": {
    "collapsed": false,
    "ExecuteTime": {
     "end_time": "2023-12-31T16:53:34.808365600Z",
     "start_time": "2023-12-31T16:53:34.779123900Z"
    }
   },
   "id": "6a1baa57bf75c3c0"
  },
  {
   "cell_type": "code",
   "execution_count": 117,
   "outputs": [
    {
     "data": {
      "text/plain": "0"
     },
     "execution_count": 117,
     "metadata": {},
     "output_type": "execute_result"
    }
   ],
   "source": [
    "len(folder_list)"
   ],
   "metadata": {
    "collapsed": false,
    "ExecuteTime": {
     "end_time": "2023-12-31T16:53:35.013680200Z",
     "start_time": "2023-12-31T16:53:34.981483800Z"
    }
   },
   "id": "10597b12bc469c24"
  },
  {
   "cell_type": "code",
   "execution_count": 118,
   "outputs": [],
   "source": [
    "# source_directory = mpath\n",
    "# destination_directory = \"E:/Breast Data/NotOkData/Breast\"  # Replace with the actual destination directory\n",
    "# move_folders(folder_list, source_directory, destination_directory)"
   ],
   "metadata": {
    "collapsed": false,
    "ExecuteTime": {
     "end_time": "2023-12-31T16:53:35.218106700Z",
     "start_time": "2023-12-31T16:53:35.171060Z"
    }
   },
   "id": "3d071f80862dbef9"
  },
  {
   "cell_type": "code",
   "execution_count": 119,
   "outputs": [],
   "source": [
    "no_data_cases = ['11821274']"
   ],
   "metadata": {
    "collapsed": false,
    "ExecuteTime": {
     "end_time": "2023-12-31T16:53:35.408824200Z",
     "start_time": "2023-12-31T16:53:35.377557Z"
    }
   },
   "id": "d854140b4c3caa71"
  },
  {
   "cell_type": "code",
   "execution_count": 120,
   "outputs": [
    {
     "data": {
      "text/plain": "1130"
     },
     "execution_count": 120,
     "metadata": {},
     "output_type": "execute_result"
    }
   ],
   "source": [
    "len(all_ok_data)"
   ],
   "metadata": {
    "collapsed": false,
    "ExecuteTime": {
     "end_time": "2023-12-31T16:53:35.597501200Z",
     "start_time": "2023-12-31T16:53:35.566146600Z"
    }
   },
   "id": "c23073f55e7c7c1"
  },
  {
   "cell_type": "code",
   "execution_count": 121,
   "outputs": [],
   "source": [
    "for pid in no_data_cases:\n",
    "    if pid in all_ok_data:\n",
    "        all_ok_data.remove(pid)"
   ],
   "metadata": {
    "collapsed": false,
    "ExecuteTime": {
     "end_time": "2023-12-31T16:53:35.801367200Z",
     "start_time": "2023-12-31T16:53:35.770108300Z"
    }
   },
   "id": "284401055707a565"
  },
  {
   "cell_type": "code",
   "execution_count": 122,
   "outputs": [
    {
     "data": {
      "text/plain": "1129"
     },
     "execution_count": 122,
     "metadata": {},
     "output_type": "execute_result"
    }
   ],
   "source": [
    "len(all_ok_data)"
   ],
   "metadata": {
    "collapsed": false,
    "ExecuteTime": {
     "end_time": "2023-12-31T16:53:35.985215800Z",
     "start_time": "2023-12-31T16:53:35.956441400Z"
    }
   },
   "id": "255087af0e84a6f"
  },
  {
   "cell_type": "code",
   "execution_count": 123,
   "outputs": [],
   "source": [
    "# Origin and destination directory\n",
    "d_directory = 'E:/Selected Data/'\n",
    "o_directory = 'H:/Breast MRI/02/sps'"
   ],
   "metadata": {
    "collapsed": false,
    "ExecuteTime": {
     "end_time": "2023-12-31T16:53:36.183964200Z",
     "start_time": "2023-12-31T16:53:36.156694100Z"
    }
   },
   "id": "7e491169c068dbcc"
  },
  {
   "cell_type": "code",
   "execution_count": 124,
   "outputs": [],
   "source": [
    "patients_ids_7 = []"
   ],
   "metadata": {
    "collapsed": false,
    "ExecuteTime": {
     "end_time": "2023-12-31T16:53:36.404372200Z",
     "start_time": "2023-12-31T16:53:36.359461500Z"
    }
   },
   "id": "d636c884c2f0d6ec"
  },
  {
   "cell_type": "code",
   "execution_count": 125,
   "outputs": [],
   "source": [
    "fgt_7 = []"
   ],
   "metadata": {
    "collapsed": false,
    "ExecuteTime": {
     "end_time": "2023-12-31T16:53:36.580127600Z",
     "start_time": "2023-12-31T16:53:36.548295400Z"
    }
   },
   "id": "7ab0f472850245e3"
  },
  {
   "cell_type": "code",
   "execution_count": 126,
   "outputs": [],
   "source": [
    "bpe_7 = []"
   ],
   "metadata": {
    "collapsed": false,
    "ExecuteTime": {
     "end_time": "2023-12-31T16:53:36.795193200Z",
     "start_time": "2023-12-31T16:53:36.763914900Z"
    }
   },
   "id": "581d56fc374159fa"
  },
  {
   "cell_type": "code",
   "execution_count": 127,
   "outputs": [],
   "source": [
    "# create_pid_folder(d_directory, patients_ids_7)"
   ],
   "metadata": {
    "collapsed": false,
    "ExecuteTime": {
     "end_time": "2023-12-31T16:53:36.987749Z",
     "start_time": "2023-12-31T16:53:36.955866100Z"
    }
   },
   "id": "f0c7ea21983eca36"
  },
  {
   "cell_type": "code",
   "execution_count": 128,
   "outputs": [],
   "source": [
    "# automated_copy(o_directory, d_directory, patients_ids_7, fgt_7, bpe_7)"
   ],
   "metadata": {
    "collapsed": false,
    "ExecuteTime": {
     "end_time": "2023-12-31T16:53:37.213127600Z",
     "start_time": "2023-12-31T16:53:37.150189100Z"
    }
   },
   "id": "a59aea113bf3bdc1"
  },
  {
   "cell_type": "markdown",
   "source": [
    "# Part 8"
   ],
   "metadata": {
    "collapsed": false
   },
   "id": "50eabbd72536335c"
  },
  {
   "cell_type": "code",
   "execution_count": 129,
   "outputs": [],
   "source": [
    "mpath = \"E:/Breast Data/breast newNAC\"\n",
    "folder_names_part8 = []\n",
    "folder_names_part8 = get_folder_names(mpath, folder_names_part8)"
   ],
   "metadata": {
    "collapsed": false,
    "ExecuteTime": {
     "end_time": "2023-12-31T16:53:37.593997500Z",
     "start_time": "2023-12-31T16:53:37.578284300Z"
    }
   },
   "id": "e15b9015e49e50c6"
  },
  {
   "cell_type": "code",
   "execution_count": 130,
   "outputs": [],
   "source": [
    "folder_list = []\n",
    "for name in folder_names_part8:\n",
    "    if name not in all_ok_data:\n",
    "        print(name)\n",
    "        folder_list.append(name)"
   ],
   "metadata": {
    "collapsed": false,
    "ExecuteTime": {
     "end_time": "2023-12-31T16:53:37.829350100Z",
     "start_time": "2023-12-31T16:53:37.797997100Z"
    }
   },
   "id": "1c1f90a7dc2b6a99"
  },
  {
   "cell_type": "code",
   "execution_count": 131,
   "outputs": [
    {
     "data": {
      "text/plain": "0"
     },
     "execution_count": 131,
     "metadata": {},
     "output_type": "execute_result"
    }
   ],
   "source": [
    "len(folder_list)"
   ],
   "metadata": {
    "collapsed": false,
    "ExecuteTime": {
     "end_time": "2023-12-31T16:53:38.191899500Z",
     "start_time": "2023-12-31T16:53:38.161055600Z"
    }
   },
   "id": "fa5dd5900c5f2994"
  },
  {
   "cell_type": "code",
   "execution_count": 132,
   "outputs": [],
   "source": [
    "# source_directory = mpath\n",
    "# destination_directory = \"E:/Breast Data/NotOkData/breast newNAC\"  # Replace with the actual destination directory\n",
    "# move_folders(folder_list, source_directory, destination_directory)"
   ],
   "metadata": {
    "collapsed": false,
    "ExecuteTime": {
     "end_time": "2023-12-31T16:53:38.380153300Z",
     "start_time": "2023-12-31T16:53:38.361408Z"
    }
   },
   "id": "d9dfb807f3fdfb67"
  },
  {
   "cell_type": "code",
   "execution_count": 133,
   "outputs": [],
   "source": [
    "no_data_cases = ['10905568', '10937977']"
   ],
   "metadata": {
    "collapsed": false,
    "ExecuteTime": {
     "end_time": "2023-12-31T16:53:38.744850Z",
     "start_time": "2023-12-31T16:53:38.713589900Z"
    }
   },
   "id": "a197b50ef104149f"
  },
  {
   "cell_type": "code",
   "execution_count": 134,
   "outputs": [
    {
     "data": {
      "text/plain": "1129"
     },
     "execution_count": 134,
     "metadata": {},
     "output_type": "execute_result"
    }
   ],
   "source": [
    "len(all_ok_data)"
   ],
   "metadata": {
    "collapsed": false,
    "ExecuteTime": {
     "end_time": "2023-12-31T16:53:39.019880300Z",
     "start_time": "2023-12-31T16:53:38.988514900Z"
    }
   },
   "id": "c389aa2245d6a4d9"
  },
  {
   "cell_type": "code",
   "execution_count": 135,
   "outputs": [],
   "source": [
    "for pid in no_data_cases:\n",
    "    if pid in all_ok_data:\n",
    "        all_ok_data.remove(pid)"
   ],
   "metadata": {
    "collapsed": false,
    "ExecuteTime": {
     "end_time": "2023-12-31T16:53:39.214857200Z",
     "start_time": "2023-12-31T16:53:39.183498400Z"
    }
   },
   "id": "d50691da8bdfffba"
  },
  {
   "cell_type": "code",
   "execution_count": 136,
   "outputs": [
    {
     "data": {
      "text/plain": "1127"
     },
     "execution_count": 136,
     "metadata": {},
     "output_type": "execute_result"
    }
   ],
   "source": [
    "len(all_ok_data)"
   ],
   "metadata": {
    "collapsed": false,
    "ExecuteTime": {
     "end_time": "2023-12-31T16:53:39.450132800Z",
     "start_time": "2023-12-31T16:53:39.404323400Z"
    }
   },
   "id": "2adb448a15eccf97"
  },
  {
   "cell_type": "code",
   "execution_count": 137,
   "outputs": [],
   "source": [
    "# Origin and destination directory\n",
    "d_directory = 'E:/Selected Data/'\n",
    "o_directory = 'H:/Breast MRI/02/sps'"
   ],
   "metadata": {
    "collapsed": false,
    "ExecuteTime": {
     "end_time": "2023-12-31T16:53:39.843822900Z",
     "start_time": "2023-12-31T16:53:39.796746500Z"
    }
   },
   "id": "62c01aa9bea4a7b2"
  },
  {
   "cell_type": "code",
   "execution_count": 138,
   "outputs": [],
   "source": [
    "patients_ids_8 = []"
   ],
   "metadata": {
    "collapsed": false,
    "ExecuteTime": {
     "end_time": "2023-12-31T16:53:40.151261Z",
     "start_time": "2023-12-31T16:53:40.120007800Z"
    }
   },
   "id": "fc59402738b39ba5"
  },
  {
   "cell_type": "code",
   "execution_count": 139,
   "outputs": [],
   "source": [
    "fgt_8 = []"
   ],
   "metadata": {
    "collapsed": false,
    "ExecuteTime": {
     "end_time": "2023-12-31T16:53:40.367515100Z",
     "start_time": "2023-12-31T16:53:40.332727800Z"
    }
   },
   "id": "451fbbe2ec5240d6"
  },
  {
   "cell_type": "code",
   "execution_count": 140,
   "outputs": [],
   "source": [
    "bpe_8 = []"
   ],
   "metadata": {
    "collapsed": false,
    "ExecuteTime": {
     "end_time": "2023-12-31T16:53:40.643115700Z",
     "start_time": "2023-12-31T16:53:40.611755800Z"
    }
   },
   "id": "35cdfc3795390364"
  },
  {
   "cell_type": "code",
   "execution_count": 141,
   "outputs": [],
   "source": [
    "# create_pid_folder(d_directory, patients_ids_1)"
   ],
   "metadata": {
    "collapsed": false,
    "ExecuteTime": {
     "end_time": "2023-12-31T16:53:40.944317500Z",
     "start_time": "2023-12-31T16:53:40.912690900Z"
    }
   },
   "id": "85f76f3bf3dcd60c"
  },
  {
   "cell_type": "code",
   "execution_count": 142,
   "outputs": [],
   "source": [
    "# automated_copy(o_directory, d_directory, patients_ids_1, fgt_1, bpe_1)"
   ],
   "metadata": {
    "collapsed": false,
    "ExecuteTime": {
     "end_time": "2023-12-31T16:53:41.626021Z",
     "start_time": "2023-12-31T16:53:41.579002500Z"
    }
   },
   "id": "35788571eacba94"
  },
  {
   "cell_type": "markdown",
   "source": [
    "# Part 9"
   ],
   "metadata": {
    "collapsed": false
   },
   "id": "3dba98c7477dd260"
  },
  {
   "cell_type": "code",
   "execution_count": 143,
   "outputs": [],
   "source": [
    "mpath = \"G:/Breast Data/nac\"\n",
    "folder_names_part9 = []\n",
    "folder_names_part9 = get_folder_names(mpath, folder_names_part9)"
   ],
   "metadata": {
    "collapsed": false,
    "ExecuteTime": {
     "end_time": "2023-12-31T16:53:42.396818300Z",
     "start_time": "2023-12-31T16:53:42.388271700Z"
    }
   },
   "id": "d81632e886141ca7"
  },
  {
   "cell_type": "code",
   "execution_count": 144,
   "outputs": [],
   "source": [
    "folder_list = []\n",
    "for name in folder_names_part9:\n",
    "    if name not in all_ok_data:\n",
    "        print(name)\n",
    "        folder_list.append(name)"
   ],
   "metadata": {
    "collapsed": false,
    "ExecuteTime": {
     "end_time": "2023-12-31T16:53:42.883680600Z",
     "start_time": "2023-12-31T16:53:42.836256600Z"
    }
   },
   "id": "505e9f9de1c460ac"
  },
  {
   "cell_type": "code",
   "execution_count": 145,
   "outputs": [
    {
     "data": {
      "text/plain": "0"
     },
     "execution_count": 145,
     "metadata": {},
     "output_type": "execute_result"
    }
   ],
   "source": [
    "len(folder_list)"
   ],
   "metadata": {
    "collapsed": false,
    "ExecuteTime": {
     "end_time": "2023-12-31T16:53:43.565603200Z",
     "start_time": "2023-12-31T16:53:43.475458200Z"
    }
   },
   "id": "8f5085f71ca7364f"
  },
  {
   "cell_type": "code",
   "execution_count": 146,
   "outputs": [],
   "source": [
    "# source_directory = mpath\n",
    "# destination_directory = \"G:/Breast Data/NotOkData/nac\"  # Replace with the actual destination directory\n",
    "# move_folders(folder_list, source_directory, destination_directory)"
   ],
   "metadata": {
    "collapsed": false,
    "ExecuteTime": {
     "end_time": "2023-12-31T16:53:43.834066100Z",
     "start_time": "2023-12-31T16:53:43.775555100Z"
    }
   },
   "id": "a05f446630b405d4"
  },
  {
   "cell_type": "code",
   "execution_count": 147,
   "outputs": [],
   "source": [
    "no_data_cases = []"
   ],
   "metadata": {
    "collapsed": false,
    "ExecuteTime": {
     "end_time": "2023-12-31T16:53:44.203609600Z",
     "start_time": "2023-12-31T16:53:44.155939200Z"
    }
   },
   "id": "4ab014abe6e38f40"
  },
  {
   "cell_type": "code",
   "execution_count": 148,
   "outputs": [
    {
     "data": {
      "text/plain": "1127"
     },
     "execution_count": 148,
     "metadata": {},
     "output_type": "execute_result"
    }
   ],
   "source": [
    "len(all_ok_data)"
   ],
   "metadata": {
    "collapsed": false,
    "ExecuteTime": {
     "end_time": "2023-12-31T16:53:44.567915100Z",
     "start_time": "2023-12-31T16:53:44.505378400Z"
    }
   },
   "id": "9f95fe134f3a8689"
  },
  {
   "cell_type": "code",
   "execution_count": 149,
   "outputs": [],
   "source": [
    "for pid in no_data_cases:\n",
    "    if pid in all_ok_data:\n",
    "        all_ok_data.remove(pid)"
   ],
   "metadata": {
    "collapsed": false,
    "ExecuteTime": {
     "end_time": "2023-12-31T16:53:44.915224600Z",
     "start_time": "2023-12-31T16:53:44.883870400Z"
    }
   },
   "id": "95ba2d282bfd46b8"
  },
  {
   "cell_type": "code",
   "execution_count": 150,
   "outputs": [
    {
     "data": {
      "text/plain": "1127"
     },
     "execution_count": 150,
     "metadata": {},
     "output_type": "execute_result"
    }
   ],
   "source": [
    "len(all_ok_data)"
   ],
   "metadata": {
    "collapsed": false,
    "ExecuteTime": {
     "end_time": "2023-12-31T16:53:45.479212500Z",
     "start_time": "2023-12-31T16:53:45.463706800Z"
    }
   },
   "id": "a0cba876e57cca46"
  },
  {
   "cell_type": "code",
   "execution_count": 151,
   "outputs": [],
   "source": [
    "# Origin and destination directory\n",
    "d_directory = 'E:/Selected Data/'\n",
    "o_directory = 'H:/Breast MRI/02/sps'"
   ],
   "metadata": {
    "collapsed": false,
    "ExecuteTime": {
     "end_time": "2023-12-31T16:53:45.762729800Z",
     "start_time": "2023-12-31T16:53:45.715662800Z"
    }
   },
   "id": "ef97efd2780012a8"
  },
  {
   "cell_type": "code",
   "execution_count": 152,
   "outputs": [],
   "source": [
    "patients_ids_9 = []"
   ],
   "metadata": {
    "collapsed": false,
    "ExecuteTime": {
     "end_time": "2023-12-31T16:53:46.080038900Z",
     "start_time": "2023-12-31T16:53:46.022875Z"
    }
   },
   "id": "62a350f60bd26df1"
  },
  {
   "cell_type": "code",
   "execution_count": 153,
   "outputs": [],
   "source": [
    "fgt_9 = []"
   ],
   "metadata": {
    "collapsed": false,
    "ExecuteTime": {
     "end_time": "2023-12-31T16:53:46.494319400Z",
     "start_time": "2023-12-31T16:53:46.439186100Z"
    }
   },
   "id": "71fc01a71ab0afef"
  },
  {
   "cell_type": "code",
   "execution_count": 154,
   "outputs": [],
   "source": [
    "bpe_9 = []"
   ],
   "metadata": {
    "collapsed": false,
    "ExecuteTime": {
     "end_time": "2023-12-31T16:53:46.756400100Z",
     "start_time": "2023-12-31T16:53:46.725045200Z"
    }
   },
   "id": "21d4aa80c0b341f0"
  },
  {
   "cell_type": "code",
   "execution_count": 155,
   "outputs": [],
   "source": [
    "# create_pid_folder(d_directory, patients_ids_9)"
   ],
   "metadata": {
    "collapsed": false,
    "ExecuteTime": {
     "end_time": "2023-12-31T16:53:47.045375400Z",
     "start_time": "2023-12-31T16:53:47.014118600Z"
    }
   },
   "id": "268f90c29fe23a1e"
  },
  {
   "cell_type": "code",
   "execution_count": 156,
   "outputs": [],
   "source": [
    "# automated_copy(o_directory, d_directory, patients_ids_9, fgt_9, bpe_9)"
   ],
   "metadata": {
    "collapsed": false,
    "ExecuteTime": {
     "end_time": "2023-12-31T16:53:47.355877200Z",
     "start_time": "2023-12-31T16:53:47.308994100Z"
    }
   },
   "id": "31f6d209eab9cf5f"
  },
  {
   "cell_type": "markdown",
   "source": [
    "# Part 10"
   ],
   "metadata": {
    "collapsed": false
   },
   "id": "9d8d3a300794893a"
  },
  {
   "cell_type": "code",
   "execution_count": 157,
   "outputs": [],
   "source": [
    "mpath = \"G:/Breast Data/sps\"\n",
    "folder_names_part10 = []\n",
    "folder_names_part10 = get_folder_names(mpath, folder_names_part10)"
   ],
   "metadata": {
    "collapsed": false,
    "ExecuteTime": {
     "end_time": "2023-12-31T16:53:48.114936300Z",
     "start_time": "2023-12-31T16:53:48.084738500Z"
    }
   },
   "id": "20993da662df4865"
  },
  {
   "cell_type": "code",
   "execution_count": 158,
   "outputs": [],
   "source": [
    "folder_list = []\n",
    "for name in folder_names_part10:\n",
    "    if name not in all_ok_data:\n",
    "        print(name)\n",
    "        folder_list.append(name)"
   ],
   "metadata": {
    "collapsed": false,
    "ExecuteTime": {
     "end_time": "2023-12-31T16:53:48.528710600Z",
     "start_time": "2023-12-31T16:53:48.497343300Z"
    }
   },
   "id": "c7c5fbc5175114ef"
  },
  {
   "cell_type": "code",
   "execution_count": 159,
   "outputs": [
    {
     "data": {
      "text/plain": "0"
     },
     "execution_count": 159,
     "metadata": {},
     "output_type": "execute_result"
    }
   ],
   "source": [
    "len(folder_list)"
   ],
   "metadata": {
    "collapsed": false,
    "ExecuteTime": {
     "end_time": "2023-12-31T16:53:48.787864100Z",
     "start_time": "2023-12-31T16:53:48.756196300Z"
    }
   },
   "id": "e2a7a55130b8684"
  },
  {
   "cell_type": "code",
   "execution_count": 160,
   "outputs": [],
   "source": [
    "# source_directory = mpath\n",
    "# destination_directory = \"G:/Breast Data/NotOkData/sps\"  # Replace with the actual destination directory\n",
    "# move_folders(folder_list, source_directory, destination_directory)"
   ],
   "metadata": {
    "collapsed": false,
    "ExecuteTime": {
     "end_time": "2023-12-31T16:53:49.097208Z",
     "start_time": "2023-12-31T16:53:49.065166200Z"
    }
   },
   "id": "4cea008715fb9dc0"
  },
  {
   "cell_type": "code",
   "execution_count": 161,
   "outputs": [],
   "source": [
    "no_data_cases = ['8867592']"
   ],
   "metadata": {
    "collapsed": false,
    "ExecuteTime": {
     "end_time": "2023-12-31T16:53:49.492086800Z",
     "start_time": "2023-12-31T16:53:49.476067Z"
    }
   },
   "id": "2ce09b8173210fd0"
  },
  {
   "cell_type": "code",
   "execution_count": 162,
   "outputs": [
    {
     "data": {
      "text/plain": "1127"
     },
     "execution_count": 162,
     "metadata": {},
     "output_type": "execute_result"
    }
   ],
   "source": [
    "len(all_ok_data)"
   ],
   "metadata": {
    "collapsed": false,
    "ExecuteTime": {
     "end_time": "2023-12-31T16:53:49.812151200Z",
     "start_time": "2023-12-31T16:53:49.767394100Z"
    }
   },
   "id": "9e539290775357a3"
  },
  {
   "cell_type": "code",
   "execution_count": 163,
   "outputs": [],
   "source": [
    "for pid in no_data_cases:\n",
    "    if pid in all_ok_data:\n",
    "        all_ok_data.remove(pid)"
   ],
   "metadata": {
    "collapsed": false,
    "ExecuteTime": {
     "end_time": "2023-12-31T16:53:50.065512900Z",
     "start_time": "2023-12-31T16:53:50.035873500Z"
    }
   },
   "id": "e9e1d196252c5c50"
  },
  {
   "cell_type": "code",
   "execution_count": 164,
   "outputs": [
    {
     "data": {
      "text/plain": "1126"
     },
     "execution_count": 164,
     "metadata": {},
     "output_type": "execute_result"
    }
   ],
   "source": [
    "len(all_ok_data)"
   ],
   "metadata": {
    "collapsed": false,
    "ExecuteTime": {
     "end_time": "2023-12-31T16:53:50.420539Z",
     "start_time": "2023-12-31T16:53:50.389280Z"
    }
   },
   "id": "ff3f921539d857d8"
  },
  {
   "cell_type": "code",
   "execution_count": 165,
   "outputs": [],
   "source": [
    "# Origin and destination directory\n",
    "d_directory = 'E:/Selected Data/'\n",
    "o_directory = 'H:/Breast MRI/02/sps'"
   ],
   "metadata": {
    "collapsed": false,
    "ExecuteTime": {
     "end_time": "2023-12-31T16:53:50.808921300Z",
     "start_time": "2023-12-31T16:53:50.777664500Z"
    }
   },
   "id": "b9f840e50cc220b3"
  },
  {
   "cell_type": "code",
   "execution_count": 166,
   "outputs": [],
   "source": [
    "patients_ids_10 = []"
   ],
   "metadata": {
    "collapsed": false,
    "ExecuteTime": {
     "end_time": "2023-12-31T16:53:51.077272900Z",
     "start_time": "2023-12-31T16:53:51.046004900Z"
    }
   },
   "id": "903b6b4c5b648015"
  },
  {
   "cell_type": "code",
   "execution_count": 167,
   "outputs": [],
   "source": [
    "fgt_10 = []"
   ],
   "metadata": {
    "collapsed": false,
    "ExecuteTime": {
     "end_time": "2023-12-31T16:53:51.386472200Z",
     "start_time": "2023-12-31T16:53:51.355126700Z"
    }
   },
   "id": "63777c6f1ab67a1c"
  },
  {
   "cell_type": "code",
   "execution_count": 168,
   "outputs": [],
   "source": [
    "bpe_10 = []"
   ],
   "metadata": {
    "collapsed": false,
    "ExecuteTime": {
     "end_time": "2023-12-31T16:53:51.686412700Z",
     "start_time": "2023-12-31T16:53:51.654001400Z"
    }
   },
   "id": "3f445f12d238d8dc"
  },
  {
   "cell_type": "code",
   "execution_count": 169,
   "outputs": [],
   "source": [
    "# create_pid_folder(d_directory, patients_ids_10)"
   ],
   "metadata": {
    "collapsed": false,
    "ExecuteTime": {
     "end_time": "2023-12-31T16:53:51.980125200Z",
     "start_time": "2023-12-31T16:53:51.948891700Z"
    }
   },
   "id": "e403e398ad83717e"
  },
  {
   "cell_type": "code",
   "execution_count": 170,
   "outputs": [],
   "source": [
    "# automated_copy(o_directory, d_directory, patients_ids_10, fgt_10, bpe_10)"
   ],
   "metadata": {
    "collapsed": false,
    "ExecuteTime": {
     "end_time": "2023-12-31T16:53:52.527261300Z",
     "start_time": "2023-12-31T16:53:52.417746600Z"
    }
   },
   "id": "37ba20fc65095d6a"
  }
 ],
 "metadata": {
  "kernelspec": {
   "display_name": "Python 3",
   "language": "python",
   "name": "python3"
  },
  "language_info": {
   "codemirror_mode": {
    "name": "ipython",
    "version": 2
   },
   "file_extension": ".py",
   "mimetype": "text/x-python",
   "name": "python",
   "nbconvert_exporter": "python",
   "pygments_lexer": "ipython2",
   "version": "2.7.6"
  }
 },
 "nbformat": 4,
 "nbformat_minor": 5
}
